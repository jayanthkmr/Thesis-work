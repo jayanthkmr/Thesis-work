{
 "cells": [
  {
   "cell_type": "code",
   "execution_count": 1,
   "metadata": {},
   "outputs": [],
   "source": [
    "#!/usr/bin/env python3\n",
    "\n",
    "from nltk.tokenize import TweetTokenizer\n",
    "from sklearn.feature_extraction.text import TfidfVectorizer\n",
    "from sklearn.model_selection import cross_val_score, cross_val_predict\n",
    "from sklearn.linear_model import LogisticRegression\n",
    "from sklearn.svm import LinearSVC\n",
    "from sklearn.datasets import dump_svmlight_file\n",
    "from sklearn import metrics\n",
    "from sklearn.metrics import accuracy_score\n",
    "import numpy as np\n",
    "import logging\n",
    "import codecs\n",
    "import re\n",
    "import os\n",
    "from nltk.corpus import sentiwordnet as swn\n",
    "\n",
    "\n",
    "def parse_dataset(fp):\n",
    "    '''\n",
    "    Loads the dataset .txt file with label-tweet on each line and parses the dataset.\n",
    "    :param fp: filepath of dataset\n",
    "    :return:\n",
    "        corpus: list of tweet strings of each tweet.\n",
    "        y: list of labels\n",
    "    '''\n",
    "    y = []\n",
    "    corpus = []\n",
    "    with open(fp, 'rt') as data_in:\n",
    "        for line in data_in:\n",
    "            if not line.lower().startswith(\"tweet index\"):  # discard first line if it contains metadata\n",
    "                line = line.rstrip()  # remove trailing whitespace\n",
    "                label = int(line.split(\"\\t\")[1])\n",
    "                tweet = line.split(\"\\t\")[2]\n",
    "                y.append(label)\n",
    "                corpus.append(tweet)\n",
    "\n",
    "    return corpus, y\n",
    "\n",
    "\n",
    "def featurize(corpus):\n",
    "    '''\n",
    "    Tokenizes and creates TF-IDF BoW vectors.\n",
    "    :param corpus: A list of strings each string representing document.\n",
    "    :return: X: A sparse csr matrix of TFIDF-weigted ngram counts.\n",
    "    '''\n",
    "\n",
    "    tokenizer = TweetTokenizer(preserve_case=False, reduce_len=True, strip_handles=True).tokenize\n",
    "    vectorizer = TfidfVectorizer(strip_accents=\"unicode\", analyzer=\"word\", tokenizer=tokenizer, stop_words=\"english\")\n",
    "    X = vectorizer.fit_transform(corpus)\n",
    "    # print(vectorizer.get_feature_names()) # to manually check if the tokens are reasonable\n",
    "    return X\n"
   ]
  },
  {
   "cell_type": "code",
   "execution_count": 2,
   "metadata": {},
   "outputs": [],
   "source": [
    "# Dataset: SemEval2018-T4-train-taskA.txt or SemEval2018-T4-train-taskB.txt\n",
    "DATASET_FP1 = \"./SemEval2018-Task3/datasets/train/SemEval2018-T4-train-taskA.txt\"\n",
    "TASK1 = \"A\"  # Define, A or B\n",
    "DATASET_FP2 = \"./SemEval2018-Task3/datasets/train/SemEval2018-T4-train-taskB.txt\"\n",
    "TASK2 = \"B\"  # Define, A or B\n",
    "\n",
    "FNAME = './predictions-task' + TASK1 + '.txt'\n",
    "PREDICTIONSFILE = open(FNAME, \"w\")"
   ]
  },
  {
   "cell_type": "code",
   "execution_count": 3,
   "metadata": {},
   "outputs": [],
   "source": [
    "corpus, inp_y1 = parse_dataset(DATASET_FP1)\n",
    "corpus_copy, inp_y2 = parse_dataset(DATASET_FP2)\n",
    "tokenizer = TweetTokenizer(preserve_case=False, reduce_len=True, strip_handles=True).tokenize"
   ]
  },
  {
   "cell_type": "code",
   "execution_count": 4,
   "metadata": {},
   "outputs": [],
   "source": [
    "import pandas as pd\n",
    "raw_data = {'corpus' : [line for line in corpus], 'coarse_label': [line for line in inp_y1], 'fine_type': [line for line in inp_y2]}\n",
    "df = pd.DataFrame(raw_data, columns=[\"corpus\", \"coarse_label\", \"fine_type\"])"
   ]
  },
  {
   "cell_type": "code",
   "execution_count": 5,
   "metadata": {},
   "outputs": [],
   "source": [
    "from sklearn.model_selection import train_test_split\n",
    "# create train and validation set \n",
    "train, val = train_test_split(df, test_size=0.1)\n",
    "train.to_csv(\"train.csv\",index=False)\n",
    "val.to_csv(\"val.csv\",index=False)"
   ]
  },
  {
   "cell_type": "code",
   "execution_count": 6,
   "metadata": {},
   "outputs": [],
   "source": [
    "import torch\n",
    "from torchtext.data import Field\n",
    "from pymagnitude import Magnitude\n",
    "\n",
    "class PyMagnitudeField(Field):\n",
    "\n",
    "    def __init__(self, magnitude_vector_filepath, sequential=True, \n",
    "                 lower=True, tokenize=(lambda s: s.split()), \n",
    "                 include_lengths=True, batch_first=True, **kwargs):\n",
    "        \n",
    "        if kwargs.get('use_vocab'):\n",
    "            kwargs['use_vocab'] = False\n",
    "        self.vectors = Magnitude(magnitude_vector_filepath)\n",
    "        super(PyMagnitudeField, self).__init__(sequential=sequential,\n",
    "                                             lower=lower, \n",
    "                                             tokenize=tokenize, \n",
    "                                             include_lengths=include_lengths, \n",
    "                                             batch_first=batch_first, \n",
    "                                             **kwargs)\n",
    "    \n",
    "    def build_vocab(self, *args, **kwargs):\n",
    "        pass\n",
    "        \n",
    "    def process(self, batch, device):\n",
    "        if self.include_lengths:\n",
    "            batch = (batch, [len(x) for x in batch])\n",
    "        return self.numericalize(batch, device=torch.device('cpu'), train=True)\n",
    "    \n",
    "    def numericalize(self, arr, device=torch.device('cpu'), train=True):\n",
    "        \n",
    "        if self.include_lengths and not isinstance(arr, tuple):\n",
    "            raise ValueError('Field has include_lengths set to True, but '\n",
    "                             'input data is not a tuple of '\n",
    "                             '(data batch, batch lengths).')\n",
    "        \n",
    "        if isinstance(arr, tuple):\n",
    "            arr, lengths = arr\n",
    "            lengths = torch.LongTensor(lengths)\n",
    "        \n",
    "        arr = torch.from_numpy(self.vectors.query(arr))\n",
    "        if self.sequential and not self.batch_first:\n",
    "            arr.t_()\n",
    "           \n",
    "        if device.type == 'cpu':\n",
    "            if self.sequential:\n",
    "                arr = arr.contiguous()\n",
    "        else:\n",
    "            arr = arr.cuda(device)\n",
    "            if self.include_lengths:\n",
    "                lengths = lengths.cuda(device)\n",
    "        \n",
    "        arr.requires_grad = False\n",
    "        if self.include_lengths:\n",
    "            return arr, lengths\n",
    "        return arr"
   ]
  },
  {
   "cell_type": "code",
   "execution_count": 7,
   "metadata": {},
   "outputs": [],
   "source": [
    "import torchtext\n",
    "import spacy\n",
    "import csv\n",
    "from torchtext import data\n",
    "\n",
    "# tokenizer function using spacy\n",
    "nlp = spacy.load('en',disable=['parser', 'tagger', 'ner'])\n",
    "def tokenizer(s): \n",
    "    return [w.text.lower() for w in nlp(tweet_clean(s))]\n",
    "\n",
    "def tweet_clean(text):\n",
    "    text = re.sub(r'[^A-Za-z0-9]+', ' ', text) # remove non alphanumeric character\n",
    "    text = re.sub(r'https?:/\\/\\S+', ' ', text) # remove links\n",
    "    return text.strip()\n",
    "\n",
    "# define the columns that we want to process and how to process\n",
    "txt_field = data.Field(sequential=True, \n",
    "                       tokenize=tokenizer, \n",
    "                       include_lengths=True, \n",
    "                       use_vocab=True)\n",
    "labelc_field = data.Field(sequential=False, \n",
    "                         use_vocab=False, \n",
    "                         pad_token=None, \n",
    "                         unk_token=None)\n",
    "labelf_field = data.Field(sequential=False, \n",
    "                         use_vocab=False, \n",
    "                         pad_token=None, \n",
    "                         unk_token=None)\n",
    "\n",
    "train_val_fields = [\n",
    "    ('corpus', txt_field), # process it as text\n",
    "    ('coarse_label', labelc_field), # process it as label\n",
    "    ('fine_type', labelf_field) # we dont need this, so no processing\n",
    "]\n",
    "\n",
    "trainds, valds = data.TabularDataset.splits(path='./', \n",
    "                                            format='csv', \n",
    "                                            train='train.csv', \n",
    "                                            validation='val.csv', \n",
    "                                            fields=train_val_fields, \n",
    "                                            skip_header=True)"
   ]
  },
  {
   "cell_type": "code",
   "execution_count": 8,
   "metadata": {},
   "outputs": [
    {
     "data": {
      "text/plain": [
       "(3450, 384)"
      ]
     },
     "execution_count": 8,
     "metadata": {},
     "output_type": "execute_result"
    }
   ],
   "source": [
    "type(trainds)\n",
    "len(trainds), len(valds)"
   ]
  },
  {
   "cell_type": "code",
   "execution_count": 9,
   "metadata": {},
   "outputs": [
    {
     "data": {
      "text/plain": [
       "[('corpus', <torchtext.data.field.Field at 0x10e8171d0>),\n",
       " ('coarse_label', <torchtext.data.field.Field at 0x113cfcb10>),\n",
       " ('fine_type', <torchtext.data.field.Field at 0x10e817a50>)]"
      ]
     },
     "execution_count": 9,
     "metadata": {},
     "output_type": "execute_result"
    }
   ],
   "source": [
    "trainds.fields.items()"
   ]
  },
  {
   "cell_type": "code",
   "execution_count": 10,
   "metadata": {},
   "outputs": [
    {
     "data": {
      "text/plain": [
       "[u'something',\n",
       " u'to',\n",
       " u'remember',\n",
       " u'as',\n",
       " u'i',\n",
       " u'head',\n",
       " u'to',\n",
       " u'annexbar',\n",
       " u'tonight',\n",
       " u'goodboy',\n",
       " u'http',\n",
       " u't',\n",
       " u'co',\n",
       " u'bf5eviebwu']"
      ]
     },
     "execution_count": 10,
     "metadata": {},
     "output_type": "execute_result"
    }
   ],
   "source": [
    "ex = trainds[2]\n",
    "type(ex)\n",
    "ex.corpus"
   ]
  },
  {
   "cell_type": "code",
   "execution_count": 11,
   "metadata": {},
   "outputs": [],
   "source": [
    "from pymagnitude import *\n",
    "vectors = Magnitude(\"glove.twitter.27B.25d.magnitude\")"
   ]
  },
  {
   "cell_type": "code",
   "execution_count": 12,
   "metadata": {},
   "outputs": [
    {
     "data": {
      "text/plain": [
       "array([-1.489600e-03,  2.958700e-03,  3.146130e-02,  2.533110e-02,\n",
       "       -6.396720e-02, -2.151870e-02,  2.700136e-01, -2.308060e-02,\n",
       "        2.664680e-02, -4.656560e-02,  1.002020e-02,  7.585990e-02,\n",
       "       -9.284841e-01,  7.042420e-02,  2.018550e-02, -7.115970e-02,\n",
       "        5.714110e-02, -2.858000e-04, -1.497100e-02,  3.115210e-02,\n",
       "       -1.262173e-01,  2.529300e-02,  2.752000e-02, -1.234394e-01,\n",
       "       -4.572460e-02], dtype=float32)"
      ]
     },
     "execution_count": 12,
     "metadata": {},
     "output_type": "execute_result"
    }
   ],
   "source": [
    "vectors.query('the')"
   ]
  },
  {
   "cell_type": "code",
   "execution_count": 13,
   "metadata": {},
   "outputs": [],
   "source": [
    "from torchtext import vocab\n",
    "vec = vocab.Vectors('glove.twitter.27B.100d.txt', './vector_cache/glove.twitter.27B')\n",
    "#os.path.isdir('./vector_cache/glove.twitter.27B')"
   ]
  },
  {
   "cell_type": "code",
   "execution_count": 14,
   "metadata": {},
   "outputs": [],
   "source": [
    "txt_field.build_vocab(trainds, valds, vectors=vec)\n",
    "#txt_field.build_vocab(trainds, valds)\n",
    "# build vocab for labels\n",
    "labelc_field.build_vocab(trainds)\n",
    "labelf_field.build_vocab(trainds)"
   ]
  },
  {
   "cell_type": "code",
   "execution_count": 15,
   "metadata": {},
   "outputs": [
    {
     "name": "stdout",
     "output_type": "stream",
     "text": [
      "6\n"
     ]
    }
   ],
   "source": [
    "print(txt_field.vocab.stoi['a'])"
   ]
  },
  {
   "cell_type": "code",
   "execution_count": 16,
   "metadata": {},
   "outputs": [],
   "source": [
    "traindl, valdl = data.BucketIterator.splits(datasets=(trainds, valds), \n",
    "                                            batch_sizes=(3,3), \n",
    "                                            sort_key=lambda x: len(x.corpus), \n",
    "                                            device=None, \n",
    "                                            sort_within_batch=True, \n",
    "                                            repeat=False)"
   ]
  },
  {
   "cell_type": "code",
   "execution_count": 17,
   "metadata": {},
   "outputs": [
    {
     "data": {
      "text/plain": [
       "(1150, 128)"
      ]
     },
     "execution_count": 17,
     "metadata": {},
     "output_type": "execute_result"
    }
   ],
   "source": [
    "len(traindl), len(valdl)"
   ]
  },
  {
   "cell_type": "code",
   "execution_count": 18,
   "metadata": {},
   "outputs": [
    {
     "data": {
      "text/plain": [
       "tensor([1, 2, 1])"
      ]
     },
     "execution_count": 18,
     "metadata": {},
     "output_type": "execute_result"
    }
   ],
   "source": [
    "batch = next(iter(traindl))\n",
    "type(batch)\n",
    "batch.fine_type"
   ]
  },
  {
   "cell_type": "code",
   "execution_count": 19,
   "metadata": {},
   "outputs": [
    {
     "data": {
      "text/plain": [
       "(tensor([[ 131, 2323,  395],\n",
       "         [  80,  127, 1689],\n",
       "         [ 464,   39,    5],\n",
       "         [   9, 1047,    2],\n",
       "         [  42,    5, 7085],\n",
       "         [   3,    2,   33],\n",
       "         [ 110,  336, 7391],\n",
       "         [ 208,  960,  389],\n",
       "         [  55,   11, 1113],\n",
       "         [1462,  146,  525],\n",
       "         [  69,    1,    1]]), tensor([11, 10, 10]))"
      ]
     },
     "execution_count": 19,
     "metadata": {},
     "output_type": "execute_result"
    }
   ],
   "source": [
    "batch.corpus"
   ]
  },
  {
   "cell_type": "code",
   "execution_count": 20,
   "metadata": {},
   "outputs": [
    {
     "data": {
      "text/plain": [
       "{'coarse_label': <torchtext.data.field.Field at 0x113cfcb10>,\n",
       " 'corpus': <torchtext.data.field.Field at 0x10e8171d0>,\n",
       " 'fine_type': <torchtext.data.field.Field at 0x10e817a50>}"
      ]
     },
     "execution_count": 20,
     "metadata": {},
     "output_type": "execute_result"
    }
   ],
   "source": [
    "batch.dataset.fields"
   ]
  },
  {
   "cell_type": "code",
   "execution_count": 21,
   "metadata": {},
   "outputs": [
    {
     "data": {
      "text/plain": [
       "'<unk>'"
      ]
     },
     "execution_count": 21,
     "metadata": {},
     "output_type": "execute_result"
    }
   ],
   "source": [
    "txt_field.vocab.itos[0]"
   ]
  },
  {
   "cell_type": "code",
   "execution_count": 22,
   "metadata": {},
   "outputs": [
    {
     "data": {
      "text/plain": [
       "'<pad>'"
      ]
     },
     "execution_count": 22,
     "metadata": {},
     "output_type": "execute_result"
    }
   ],
   "source": [
    "txt_field.vocab.itos[1]"
   ]
  },
  {
   "cell_type": "code",
   "execution_count": 23,
   "metadata": {},
   "outputs": [],
   "source": [
    "def idxtosent(batch, idx):\n",
    "    return ' '.join([txt_field.vocab.itos[i] for i in batch.corpus[0][:,idx].cpu().data.numpy()])"
   ]
  },
  {
   "cell_type": "code",
   "execution_count": 24,
   "metadata": {},
   "outputs": [
    {
     "data": {
      "text/plain": [
       "u'finally taken to the gir love heartbroken 12 19 14 <pad>'"
      ]
     },
     "execution_count": 24,
     "metadata": {},
     "output_type": "execute_result"
    }
   ],
   "source": [
    "idxtosent(batch,2)"
   ]
  },
  {
   "cell_type": "code",
   "execution_count": 25,
   "metadata": {},
   "outputs": [
    {
     "data": {
      "text/plain": [
       "{'batch_size': 3,\n",
       " 'coarse_label': tensor([1, 1, 1]),\n",
       " 'corpus': (tensor([[ 131, 2323,  395],\n",
       "          [  80,  127, 1689],\n",
       "          [ 464,   39,    5],\n",
       "          [   9, 1047,    2],\n",
       "          [  42,    5, 7085],\n",
       "          [   3,    2,   33],\n",
       "          [ 110,  336, 7391],\n",
       "          [ 208,  960,  389],\n",
       "          [  55,   11, 1113],\n",
       "          [1462,  146,  525],\n",
       "          [  69,    1,    1]]), tensor([11, 10, 10])),\n",
       " 'dataset': <torchtext.data.dataset.TabularDataset at 0x10e85ba50>,\n",
       " 'fields': ['corpus', 'coarse_label', 'fine_type'],\n",
       " 'fine_type': tensor([1, 2, 1]),\n",
       " 'input_fields': ['corpus', 'coarse_label', 'fine_type'],\n",
       " 'target_fields': []}"
      ]
     },
     "execution_count": 25,
     "metadata": {},
     "output_type": "execute_result"
    }
   ],
   "source": [
    "batch.__dict__"
   ]
  },
  {
   "cell_type": "code",
   "execution_count": 26,
   "metadata": {},
   "outputs": [
    {
     "data": {
      "text/plain": [
       "{'batch_size': 3,\n",
       " 'coarse_label': tensor([1, 1, 1]),\n",
       " 'corpus': (tensor([[11614,  5013,  4312],\n",
       "          [ 9535,  2260,  1308],\n",
       "          [  690,     1,     1],\n",
       "          [10997,     1,     1]]), tensor([4, 2, 2])),\n",
       " 'dataset': <torchtext.data.dataset.TabularDataset at 0x10e85bad0>,\n",
       " 'fields': ['corpus', 'coarse_label', 'fine_type'],\n",
       " 'fine_type': tensor([1, 1, 1]),\n",
       " 'input_fields': ['corpus', 'coarse_label', 'fine_type'],\n",
       " 'target_fields': []}"
      ]
     },
     "execution_count": 26,
     "metadata": {},
     "output_type": "execute_result"
    }
   ],
   "source": [
    "val_batch = next(iter(valdl))\n",
    "val_batch.__dict__"
   ]
  },
  {
   "cell_type": "code",
   "execution_count": 27,
   "metadata": {},
   "outputs": [
    {
     "name": "stdout",
     "output_type": "stream",
     "text": [
      "((tensor([[    3,     3,  4972],\n",
      "        [   26,  1365,  5611],\n",
      "        [ 8604,     6,    58],\n",
      "        [   40,   458,   843],\n",
      "        [   15,     5,   910],\n",
      "        [  288,     6,    13],\n",
      "        [  331,   462,   373],\n",
      "        [  262,  9872,     8],\n",
      "        [   25,     8,     4],\n",
      "        [ 3728,     4,     7],\n",
      "        [ 6052,     7, 10718],\n",
      "        [   10, 10106,   402],\n",
      "        [  134,  3265,  3536],\n",
      "        [ 5072,   972,     8],\n",
      "        [ 3276,  1149,     4],\n",
      "        [   87,  1293,     7],\n",
      "        [11241,  1973,   806]]), tensor([17, 17, 17])), tensor([1, 0, 0]), tensor([1, 0, 0]))\n"
     ]
    }
   ],
   "source": [
    "class BatchGenerator:\n",
    "    def __init__(self, dl, x_field, yc_field, yf_field):\n",
    "        self.dl, self.x_field, self.yc_field, self.yf_field = dl, x_field, yc_field, yf_field\n",
    "        \n",
    "    def __len__(self):\n",
    "        return len(self.dl)\n",
    "    \n",
    "    def __iter__(self):\n",
    "        for batch in self.dl:\n",
    "            X = getattr(batch, self.x_field)\n",
    "            yc = getattr(batch, self.yc_field)\n",
    "            yf = getattr(batch, self.yf_field)\n",
    "            yield (X,yc,yf)\n",
    "            \n",
    "train_batch_it = BatchGenerator(traindl, 'corpus', 'coarse_label', 'fine_type')\n",
    "print(next(iter(train_batch_it)))"
   ]
  },
  {
   "cell_type": "code",
   "execution_count": 28,
   "metadata": {},
   "outputs": [],
   "source": [
    "embedding_dim = 100\n",
    "n_hidden = 64\n",
    "n_out_yc = max(inp_y1)+1\n",
    "n_out_yf = max(inp_y2)+1\n",
    "vocab_size = len(txt_field.vocab)\n",
    "device=torch.device('cpu')"
   ]
  },
  {
   "cell_type": "code",
   "execution_count": 29,
   "metadata": {},
   "outputs": [
    {
     "data": {
      "text/plain": [
       "12675"
      ]
     },
     "execution_count": 29,
     "metadata": {},
     "output_type": "execute_result"
    }
   ],
   "source": [
    "vocab_size"
   ]
  },
  {
   "cell_type": "code",
   "execution_count": 30,
   "metadata": {},
   "outputs": [
    {
     "name": "stdout",
     "output_type": "stream",
     "text": [
      "0.4.1\n"
     ]
    }
   ],
   "source": [
    "import torch\n",
    "import torch.nn as nn\n",
    "import torch.optim as optim\n",
    "from torch.autograd import Variable\n",
    "from torchsummary import summary\n",
    "import torch.nn.functional as F\n",
    "from torch.nn.utils.rnn import pack_padded_sequence, pad_packed_sequence\n",
    "import torch.utils.data\n",
    "import gc\n",
    "import resource\n",
    "from tqdm import tqdm, tqdm_notebook, tnrange\n",
    "tqdm.pandas(desc='Progress')\n",
    "print(torch.__version__)"
   ]
  },
  {
   "cell_type": "code",
   "execution_count": 31,
   "metadata": {},
   "outputs": [],
   "source": [
    "class SimpleGRU(nn.Module):\n",
    "    def __init__(self, vocab_size, embedding_dim, n_hidden, n_out_yc, n_out_yf, pretrained_vec, bidirectional=True):\n",
    "        super(SimpleGRU,self).__init__()\n",
    "        self.vocab_size,self.embedding_dim,self.n_hidden,self.n_out_yc,self.n_out_yf,self.bidirectional = vocab_size, embedding_dim, n_hidden, n_out_yc, n_out_yf, bidirectional\n",
    "        self.emb = nn.Embedding(self.vocab_size, self.embedding_dim)\n",
    "        self.emb.weight.data.copy_(pretrained_vec)\n",
    "        self.emb.weight.requires_grad = False\n",
    "        self.gru = nn.GRU(self.embedding_dim, self.n_hidden, bidirectional=bidirectional)\n",
    "        self.outc = nn.Linear(self.n_hidden, self.n_out_yc)\n",
    "        self.outf = nn.Linear(self.n_hidden, self.n_out_yf)\n",
    "        \n",
    "    def forward(self, seq, lengths):\n",
    "        bs = seq.size(1) # batch size\n",
    "        seq = seq.transpose(0,1)\n",
    "        self.h = self.init_hidden(bs) # initialize hidden state of GRU\n",
    "        embs = self.emb(seq)\n",
    "        embs = embs.transpose(0,1)\n",
    "        embs = pack_padded_sequence(embs, lengths) # unpad\n",
    "        gru_out, self.h = self.gru(embs, self.h) # gru returns hidden state of all timesteps as well as hidden state at last timestep\n",
    "        gru_out, lengths = pad_packed_sequence(gru_out) # pad the sequence to the max length in the batch\n",
    "        # since it is as classification problem, we will grab the last hidden state\n",
    "        outpc = self.outc(self.h[-1]) # self.h[-1] contains hidden state of last timestep\n",
    "        outpf = self.outf(self.h[-1]) # self.h[-1] contains hidden state of last timestep\n",
    "#         return F.log_softmax(outp, dim=-1)\n",
    "        return F.log_softmax(outpc), F.log_softmax(outpf)\n",
    "    \n",
    "    def init_hidden(self, batch_size): \n",
    "        if self.bidirectional:\n",
    "            return torch.zeros((2,batch_size,self.n_hidden)).to(device)\n",
    "        else:\n",
    "            return torch.zeros((1,batch_size,self.n_hidden)).to(device)"
   ]
  },
  {
   "cell_type": "code",
   "execution_count": 32,
   "metadata": {},
   "outputs": [],
   "source": [
    "class ConcatPoolingGRUAdaptive(nn.Module):\n",
    "    def __init__(self, vocab_size, embedding_dim, n_hidden, n_out_yc, n_out_yf, pretrained_vec, bidirectional=True):\n",
    "        super(ConcatPoolingGRUAdaptive,self).__init__()\n",
    "        self.vocab_size = vocab_size\n",
    "        self.embedding_dim = embedding_dim\n",
    "        self.n_hidden = n_hidden\n",
    "        self.n_out_yc = n_out_yc\n",
    "        self.n_out_yf = n_out_yf\n",
    "        self.bidirectional = bidirectional\n",
    "        \n",
    "        self.emb = nn.Embedding(self.vocab_size, self.embedding_dim)\n",
    "        self.emb.weight.data.copy_(pretrained_vec)\n",
    "        self.emb.weight.requires_grad = False\n",
    "        self.gru = nn.GRU(self.embedding_dim, self.n_hidden, bidirectional=bidirectional)\n",
    "        if bidirectional:\n",
    "            self.out_yc = nn.Linear(self.n_hidden*2*2, self.n_out_yc)\n",
    "            self.out_yf = nn.Linear(self.n_hidden*2*2, self.n_out_yf)\n",
    "        else:\n",
    "            self.out_yc = nn.Linear(self.n_hidden*2, self.n_out_yc)\n",
    "            self.out_yf = nn.Linear(self.n_hidden*2, self.n_out_yf)\n",
    "        \n",
    "    def forward(self, seq, lengths):\n",
    "        bs = seq.size(1)\n",
    "        self.h = self.init_hidden(bs)\n",
    "        seq = seq.transpose(0,1)\n",
    "        embs = self.emb(seq)\n",
    "        embs = embs.transpose(0,1)\n",
    "        embs = pack_padded_sequence(embs, lengths)\n",
    "        gru_out, self.h = self.gru(embs, self.h)\n",
    "        gru_out, lengths = pad_packed_sequence(gru_out)        \n",
    "        \n",
    "        avg_pool = F.adaptive_avg_pool1d(gru_out.permute(1,2,0),1).view(bs,-1)\n",
    "        max_pool = F.adaptive_max_pool1d(gru_out.permute(1,2,0),1).view(bs,-1)        \n",
    "        outpyc = self.out_yc(torch.cat([avg_pool,max_pool],dim=1))\n",
    "        outpyf = self.out_yf(torch.cat([avg_pool,max_pool],dim=1))\n",
    "        return F.log_softmax(outpyc), F.log_softmax(outpyf)\n",
    "    \n",
    "    def init_hidden(self, batch_size): \n",
    "        if self.bidirectional:\n",
    "            return torch.zeros((2,batch_size,self.n_hidden)).to(device)\n",
    "        else:\n",
    "            return torch.zeros((1,batch_size,self.n_hidden)).cuda().to(device)"
   ]
  },
  {
   "cell_type": "code",
   "execution_count": 33,
   "metadata": {},
   "outputs": [
    {
     "data": {
      "application/vnd.jupyter.widget-view+json": {
       "model_id": "",
       "version_major": 2,
       "version_minor": 0
      },
      "text/plain": [
       "HBox(children=(IntProgress(value=0, max=1150), HTML(value=u'')))"
      ]
     },
     "metadata": {},
     "output_type": "display_data"
    }
   ],
   "source": [
    "t = tqdm_notebook(iter(train_batch_it), leave=False, total=len(train_batch_it))"
   ]
  },
  {
   "cell_type": "code",
   "execution_count": 34,
   "metadata": {},
   "outputs": [
    {
     "name": "stdout",
     "output_type": "stream",
     "text": [
      "tensor([23, 22, 22])\n",
      "tensor([13, 13, 13])\n",
      "tensor([7, 7, 7])\n",
      "tensor([14, 14, 14])\n",
      "tensor([20, 19, 19])\n",
      "tensor([11, 11, 11])\n",
      "tensor([11, 10, 10])\n",
      "tensor([14, 14, 14])\n",
      "tensor([16, 16, 16])\n",
      "tensor([8, 8, 8])\n",
      "tensor([6, 6, 6])\n",
      "tensor([22, 21, 21])\n",
      "tensor([18, 18, 18])\n",
      "tensor([17, 17, 17])\n",
      "tensor([20, 20, 20])\n",
      "tensor([19, 19, 19])\n",
      "tensor([15, 15, 15])\n",
      "tensor([24, 24, 24])\n",
      "tensor([18, 18, 17])\n",
      "tensor([14, 14, 14])\n",
      "tensor([6, 6, 6])\n",
      "tensor([9, 9, 9])\n",
      "tensor([8, 8, 8])\n",
      "tensor([14, 14, 14])\n",
      "tensor([26, 26, 26])\n",
      "tensor([9, 9, 9])\n",
      "tensor([22, 22, 22])\n",
      "tensor([9, 9, 8])\n",
      "tensor([8, 8, 8])\n",
      "tensor([7, 7, 7])\n",
      "tensor([12, 12, 12])\n",
      "tensor([11, 11, 11])\n",
      "tensor([25, 25, 25])\n",
      "tensor([8, 8, 8])\n",
      "tensor([23, 23, 23])\n",
      "tensor([24, 24, 23])\n",
      "tensor([20, 20, 20])\n",
      "tensor([18, 18, 18])\n",
      "tensor([25, 25, 24])\n",
      "tensor([18, 18, 18])\n",
      "tensor([11, 11, 11])\n",
      "tensor([5, 4, 4])\n",
      "tensor([17, 17, 17])\n",
      "tensor([23, 23, 23])\n",
      "tensor([22, 22, 22])\n",
      "tensor([22, 22, 22])\n",
      "tensor([18, 18, 18])\n",
      "tensor([6, 6, 6])\n",
      "tensor([12, 12, 12])\n",
      "tensor([2, 2, 1])\n",
      "tensor([16, 16, 16])\n",
      "tensor([25, 25, 25])\n",
      "tensor([10, 10, 10])\n",
      "tensor([23, 23, 23])\n",
      "tensor([7, 7, 7])\n",
      "tensor([14, 14, 14])\n",
      "tensor([33, 28, 28])\n",
      "tensor([5, 5, 5])\n",
      "tensor([15, 15, 15])\n",
      "tensor([13, 13, 13])\n",
      "tensor([16, 16, 16])\n",
      "tensor([23, 23, 23])\n",
      "tensor([17, 17, 17])\n",
      "tensor([13, 13, 13])\n",
      "tensor([23, 23, 23])\n",
      "tensor([16, 16, 16])\n",
      "tensor([8, 8, 8])\n",
      "tensor([19, 19, 19])\n",
      "tensor([15, 15, 15])\n",
      "tensor([13, 13, 13])\n",
      "tensor([19, 18, 18])\n",
      "tensor([21, 21, 21])\n",
      "tensor([6, 6, 6])\n",
      "tensor([10,  9,  9])\n",
      "tensor([21, 21, 21])\n",
      "tensor([20, 20, 20])\n",
      "tensor([15, 15, 15])\n",
      "tensor([16, 16, 15])\n",
      "tensor([11, 11, 11])\n",
      "tensor([12, 12, 11])\n",
      "tensor([14, 14, 13])\n",
      "tensor([23, 23, 23])\n",
      "tensor([24, 24, 24])\n",
      "tensor([13, 13, 13])\n",
      "tensor([3, 3, 3])\n",
      "tensor([21, 21, 20])\n",
      "tensor([19, 19, 19])\n",
      "tensor([27, 26, 26])\n",
      "tensor([26, 26, 26])\n",
      "tensor([7, 7, 7])\n",
      "tensor([10, 10, 10])\n",
      "tensor([8, 8, 8])\n",
      "tensor([13, 12, 12])\n",
      "tensor([14, 14, 14])\n",
      "tensor([15, 15, 15])\n",
      "tensor([20, 20, 20])\n",
      "tensor([15, 15, 15])\n",
      "tensor([21, 21, 21])\n",
      "tensor([17, 17, 17])\n",
      "tensor([19, 19, 19])\n",
      "tensor([26, 26, 26])\n",
      "tensor([22, 22, 22])\n",
      "tensor([23, 22, 22])\n",
      "tensor([17, 17, 17])\n",
      "tensor([11, 11, 11])\n",
      "tensor([6, 6, 6])\n",
      "tensor([25, 25, 25])\n",
      "tensor([24, 24, 24])\n",
      "tensor([20, 20, 20])\n",
      "tensor([27, 27, 27])\n",
      "tensor([25, 24, 24])\n",
      "tensor([21, 21, 21])\n",
      "tensor([14, 14, 14])\n",
      "tensor([8, 8, 8])\n",
      "tensor([18, 18, 18])\n",
      "tensor([3, 3, 1])\n",
      "tensor([20, 20, 20])\n",
      "tensor([9, 9, 9])\n",
      "tensor([22, 21, 21])\n",
      "tensor([10, 10,  9])\n",
      "tensor([18, 18, 17])\n",
      "tensor([5, 5, 5])\n",
      "tensor([18, 18, 18])\n",
      "tensor([7, 7, 7])\n",
      "tensor([29, 28, 28])\n",
      "tensor([17, 17, 17])\n",
      "tensor([15, 15, 15])\n",
      "tensor([20, 19, 19])\n",
      "tensor([17, 17, 17])\n",
      "tensor([19, 19, 19])\n",
      "tensor([16, 16, 16])\n",
      "tensor([17, 17, 17])\n",
      "tensor([17, 17, 17])\n",
      "tensor([4, 4, 4])\n",
      "tensor([19, 19, 19])\n",
      "tensor([9, 9, 9])\n",
      "tensor([14, 14, 14])\n",
      "tensor([21, 20, 20])\n",
      "tensor([18, 18, 18])\n",
      "tensor([13, 13, 13])\n",
      "tensor([12, 12, 12])\n",
      "tensor([22, 22, 22])\n",
      "tensor([14, 14, 14])\n",
      "tensor([11, 11, 11])\n",
      "tensor([25, 25, 25])\n",
      "tensor([14, 14, 14])\n",
      "tensor([23, 23, 23])\n",
      "tensor([19, 19, 18])\n",
      "tensor([22, 22, 22])\n",
      "tensor([24, 24, 24])\n",
      "tensor([13, 13, 13])\n",
      "tensor([12, 12, 11])\n",
      "tensor([20, 20, 20])\n",
      "tensor([15, 15, 15])\n",
      "tensor([16, 15, 15])\n",
      "tensor([9, 9, 9])\n",
      "tensor([27, 27, 27])\n",
      "tensor([10, 10, 10])\n",
      "tensor([18, 18, 18])\n",
      "tensor([20, 20, 20])\n",
      "tensor([22, 22, 22])\n",
      "tensor([11, 11, 11])\n",
      "tensor([14, 13, 13])\n",
      "tensor([12, 12, 12])\n",
      "tensor([18, 18, 18])\n",
      "tensor([11, 11, 11])\n",
      "tensor([21, 21, 21])\n",
      "tensor([8, 8, 8])\n",
      "tensor([19, 19, 19])\n",
      "tensor([12, 12, 12])\n",
      "tensor([16, 16, 16])\n",
      "tensor([15, 15, 15])\n",
      "tensor([6, 6, 6])\n",
      "tensor([11, 10, 10])\n",
      "tensor([9, 9, 9])\n",
      "tensor([23, 23, 23])\n",
      "tensor([7, 6, 6])\n",
      "tensor([24, 23, 23])\n",
      "tensor([17, 17, 17])\n",
      "tensor([16, 16, 16])\n",
      "tensor([7, 7, 7])\n",
      "tensor([9, 9, 9])\n",
      "tensor([10, 10, 10])\n",
      "tensor([6, 5, 5])\n",
      "tensor([16, 16, 16])\n",
      "tensor([15, 15, 15])\n",
      "tensor([8, 8, 8])\n",
      "tensor([26, 25, 25])\n",
      "tensor([17, 17, 17])\n",
      "tensor([10, 10, 10])\n",
      "tensor([19, 19, 19])\n",
      "tensor([31, 31, 30])\n",
      "tensor([13, 13, 12])\n",
      "tensor([20, 20, 20])\n",
      "tensor([14, 14, 14])\n",
      "tensor([30, 29, 29])\n",
      "tensor([9, 9, 9])\n",
      "tensor([13, 13, 13])\n",
      "tensor([20, 20, 20])\n",
      "tensor([8, 7, 7])\n",
      "tensor([10, 10, 10])\n",
      "tensor([16, 16, 16])\n",
      "tensor([9, 9, 8])\n",
      "tensor([18, 18, 18])\n",
      "tensor([22, 22, 22])\n",
      "tensor([6, 6, 6])\n",
      "tensor([23, 22, 22])\n",
      "tensor([21, 21, 21])\n",
      "tensor([20, 20, 20])\n",
      "tensor([12, 12, 12])\n",
      "tensor([11, 10, 10])\n",
      "tensor([16, 16, 16])\n",
      "tensor([11, 11, 11])\n",
      "tensor([16, 16, 16])\n",
      "tensor([15, 15, 15])\n",
      "tensor([19, 19, 19])\n",
      "tensor([17, 17, 17])\n",
      "tensor([16, 16, 16])\n",
      "tensor([9, 9, 9])\n",
      "tensor([20, 20, 20])\n",
      "tensor([11, 11, 11])\n",
      "tensor([12, 12, 12])\n",
      "tensor([13, 13, 13])\n",
      "tensor([28, 28, 28])\n",
      "tensor([20, 20, 20])\n",
      "tensor([19, 19, 19])\n",
      "tensor([7, 7, 7])\n",
      "tensor([23, 23, 23])\n",
      "tensor([23, 23, 23])\n",
      "tensor([16, 16, 16])\n",
      "tensor([22, 22, 22])\n",
      "tensor([21, 21, 21])\n",
      "tensor([6, 6, 6])\n",
      "tensor([17, 17, 17])\n",
      "tensor([24, 24, 24])\n",
      "tensor([7, 7, 7])\n",
      "tensor([18, 18, 18])\n",
      "tensor([10, 10, 10])\n",
      "tensor([20, 20, 20])\n",
      "tensor([18, 17, 17])\n",
      "tensor([19, 19, 19])\n",
      "tensor([14, 13, 13])\n",
      "tensor([25, 24, 24])\n",
      "tensor([19, 19, 19])\n",
      "tensor([14, 14, 14])\n",
      "tensor([16, 16, 16])\n",
      "tensor([15, 15, 15])\n",
      "tensor([19, 19, 18])\n",
      "tensor([28, 27, 27])\n",
      "tensor([16, 16, 16])\n",
      "tensor([17, 17, 17])\n",
      "tensor([12, 12, 12])\n",
      "tensor([30, 30, 30])\n",
      "tensor([12, 12, 12])\n",
      "tensor([10, 10, 10])\n",
      "tensor([8, 7, 7])\n",
      "tensor([24, 24, 24])\n",
      "tensor([9, 9, 9])\n",
      "tensor([14, 14, 14])\n",
      "tensor([14, 14, 14])\n",
      "tensor([21, 21, 20])\n",
      "tensor([13, 13, 13])\n",
      "tensor([53, 40, 40])\n",
      "tensor([13, 13, 13])\n",
      "tensor([13, 13, 13])\n",
      "tensor([9, 9, 9])\n",
      "tensor([5, 5, 5])\n",
      "tensor([15, 15, 15])\n",
      "tensor([5, 3, 3])\n",
      "tensor([19, 19, 19])\n",
      "tensor([25, 25, 25])\n",
      "tensor([22, 22, 22])\n",
      "tensor([12, 12, 11])\n",
      "tensor([28, 28, 28])\n",
      "tensor([15, 15, 15])\n",
      "tensor([10, 10,  9])\n",
      "tensor([20, 20, 20])\n",
      "tensor([24, 24, 24])\n",
      "tensor([16, 15, 15])\n",
      "tensor([18, 18, 18])\n",
      "tensor([26, 26, 26])\n",
      "tensor([19, 19, 19])\n",
      "tensor([23, 23, 23])\n",
      "tensor([11, 11, 11])\n",
      "tensor([11, 11, 11])\n",
      "tensor([21, 21, 21])\n",
      "tensor([18, 18, 18])\n",
      "tensor([6, 5, 5])\n",
      "tensor([20, 20, 20])\n",
      "tensor([10, 10, 10])\n",
      "tensor([7, 7, 7])\n",
      "tensor([20, 20, 20])\n",
      "tensor([7, 6, 6])\n",
      "tensor([8, 8, 8])\n",
      "tensor([8, 8, 8])\n",
      "tensor([27, 27, 26])\n",
      "tensor([7, 7, 7])\n",
      "tensor([26, 26, 26])\n",
      "tensor([25, 25, 25])\n",
      "tensor([5, 5, 5])\n",
      "tensor([17, 17, 17])\n",
      "tensor([13, 13, 13])\n",
      "tensor([18, 18, 18])\n",
      "tensor([6, 6, 6])\n",
      "tensor([14, 14, 14])\n",
      "tensor([22, 22, 22])\n",
      "tensor([22, 22, 22])\n",
      "tensor([10, 10, 10])\n",
      "tensor([6, 6, 6])\n",
      "tensor([11, 11, 11])\n",
      "tensor([16, 16, 16])\n",
      "tensor([14, 14, 14])\n",
      "tensor([8, 8, 8])\n",
      "tensor([7, 7, 7])\n",
      "tensor([28, 27, 27])\n",
      "tensor([12, 12, 12])\n",
      "tensor([18, 18, 18])\n",
      "tensor([10, 10, 10])\n",
      "tensor([23, 23, 23])\n",
      "tensor([6, 6, 5])\n",
      "tensor([18, 18, 18])\n",
      "tensor([26, 26, 26])\n",
      "tensor([17, 17, 17])\n",
      "tensor([14, 14, 14])\n",
      "tensor([20, 20, 20])\n",
      "tensor([16, 16, 16])\n",
      "tensor([9, 9, 9])\n",
      "tensor([9, 9, 9])\n",
      "tensor([10, 10, 10])\n",
      "tensor([8, 8, 8])\n",
      "tensor([23, 23, 23])\n",
      "tensor([18, 18, 18])\n",
      "tensor([18, 18, 18])\n",
      "tensor([26, 26, 25])\n",
      "tensor([20, 20, 20])\n",
      "tensor([9, 8, 8])\n",
      "tensor([12, 12, 12])\n",
      "tensor([25, 25, 25])\n",
      "tensor([24, 24, 24])\n",
      "tensor([13, 13, 13])\n",
      "tensor([9, 9, 9])\n",
      "tensor([18, 18, 18])\n",
      "tensor([13, 13, 12])\n",
      "tensor([20, 20, 20])\n",
      "tensor([6, 6, 6])\n",
      "tensor([24, 24, 24])\n",
      "tensor([23, 23, 23])\n",
      "tensor([21, 21, 21])\n",
      "tensor([10, 10,  9])\n",
      "tensor([22, 22, 22])\n",
      "tensor([12, 12, 12])\n",
      "tensor([11, 11, 10])\n",
      "tensor([7, 6, 6])\n",
      "tensor([11, 11, 11])\n",
      "tensor([8, 8, 8])\n",
      "tensor([21, 21, 20])\n",
      "tensor([13, 13, 13])\n",
      "tensor([24, 23, 23])\n",
      "tensor([6, 6, 6])\n",
      "tensor([9, 9, 9])\n",
      "tensor([17, 17, 17])\n",
      "tensor([16, 15, 15])\n",
      "tensor([23, 23, 23])\n",
      "tensor([19, 19, 19])\n",
      "tensor([11, 11, 11])\n",
      "tensor([26, 26, 26])\n",
      "tensor([14, 14, 14])\n",
      "tensor([17, 17, 17])\n",
      "tensor([14, 13, 13])\n",
      "tensor([12, 12, 12])\n",
      "tensor([20, 20, 20])\n",
      "tensor([15, 15, 15])\n",
      "tensor([8, 8, 8])\n",
      "tensor([12, 12, 12])\n",
      "tensor([26, 26, 26])\n",
      "tensor([20, 20, 20])\n",
      "tensor([11, 11, 11])\n",
      "tensor([21, 21, 21])\n",
      "tensor([24, 24, 24])\n",
      "tensor([19, 19, 19])\n",
      "tensor([10, 10, 10])\n",
      "tensor([10, 10, 10])\n",
      "tensor([15, 15, 15])\n",
      "tensor([20, 20, 19])\n",
      "tensor([9, 9, 9])\n",
      "tensor([21, 21, 21])\n",
      "tensor([16, 16, 16])\n",
      "tensor([20, 20, 20])\n",
      "tensor([17, 17, 17])\n",
      "tensor([19, 19, 19])\n",
      "tensor([8, 8, 7])\n",
      "tensor([10, 10, 10])\n",
      "tensor([7, 7, 7])\n",
      "tensor([15, 15, 14])\n",
      "tensor([15, 15, 15])\n",
      "tensor([22, 22, 22])\n",
      "tensor([25, 25, 24])\n",
      "tensor([13, 13, 13])\n",
      "tensor([17, 17, 17])\n",
      "tensor([14, 14, 14])\n",
      "tensor([23, 23, 23])\n",
      "tensor([17, 17, 17])\n",
      "tensor([16, 16, 16])\n",
      "tensor([17, 17, 17])\n",
      "tensor([19, 19, 19])\n",
      "tensor([13, 13, 13])\n",
      "tensor([21, 21, 21])\n",
      "tensor([12, 12, 12])\n",
      "tensor([16, 16, 16])\n",
      "tensor([14, 14, 14])\n",
      "tensor([11, 11, 10])\n",
      "tensor([10, 10, 10])\n",
      "tensor([8, 8, 8])\n",
      "tensor([20, 20, 20])\n",
      "tensor([23, 22, 22])\n",
      "tensor([15, 15, 15])\n",
      "tensor([4, 4, 4])\n",
      "tensor([25, 25, 24])\n",
      "tensor([16, 16, 15])\n",
      "tensor([7, 7, 7])\n",
      "tensor([26, 26, 26])\n",
      "tensor([14, 14, 14])\n",
      "tensor([17, 17, 17])\n",
      "tensor([15, 15, 14])\n",
      "tensor([18, 18, 18])\n",
      "tensor([22, 22, 22])\n",
      "tensor([8, 8, 8])\n",
      "tensor([20, 20, 20])\n",
      "tensor([17, 17, 17])\n",
      "tensor([19, 19, 19])\n",
      "tensor([13, 13, 13])\n",
      "tensor([7, 7, 7])\n",
      "tensor([15, 15, 15])\n",
      "tensor([13, 13, 13])\n",
      "tensor([12, 12, 12])\n",
      "tensor([18, 17, 17])\n",
      "tensor([11, 11, 11])\n",
      "tensor([16, 16, 16])\n",
      "tensor([20, 20, 20])\n",
      "tensor([120,  33,  30])\n",
      "tensor([30, 29, 28])\n",
      "tensor([15, 15, 15])\n",
      "tensor([9, 9, 8])\n",
      "tensor([16, 16, 16])\n",
      "tensor([15, 15, 15])\n",
      "tensor([22, 22, 22])\n",
      "tensor([22, 22, 22])\n",
      "tensor([12, 12, 12])\n",
      "tensor([24, 24, 24])\n",
      "tensor([14, 14, 14])\n",
      "tensor([25, 25, 25])\n",
      "tensor([19, 19, 18])\n"
     ]
    },
    {
     "name": "stdout",
     "output_type": "stream",
     "text": [
      "tensor([18, 18, 18])\n",
      "tensor([9, 9, 9])\n",
      "tensor([14, 14, 14])\n",
      "tensor([13, 13, 13])\n",
      "tensor([21, 21, 21])\n",
      "tensor([19, 19, 19])\n",
      "tensor([26, 26, 26])\n",
      "tensor([24, 24, 24])\n",
      "tensor([27, 27, 26])\n",
      "tensor([7, 7, 7])\n",
      "tensor([16, 16, 16])\n",
      "tensor([21, 21, 21])\n",
      "tensor([16, 16, 16])\n",
      "tensor([9, 9, 9])\n",
      "tensor([10, 10, 10])\n",
      "tensor([9, 9, 9])\n",
      "tensor([10, 10, 10])\n",
      "tensor([7, 7, 7])\n",
      "tensor([3, 3, 3])\n",
      "tensor([15, 15, 15])\n",
      "tensor([10, 10, 10])\n",
      "tensor([20, 20, 20])\n",
      "tensor([6, 6, 5])\n",
      "tensor([7, 7, 7])\n",
      "tensor([14, 13, 13])\n",
      "tensor([5, 5, 5])\n",
      "tensor([12, 12, 11])\n",
      "tensor([10, 10, 10])\n",
      "tensor([7, 7, 7])\n",
      "tensor([17, 17, 17])\n",
      "tensor([8, 8, 8])\n",
      "tensor([6, 6, 6])\n",
      "tensor([10, 10, 10])\n",
      "tensor([12, 12, 12])\n",
      "tensor([12, 12, 12])\n",
      "tensor([21, 21, 21])\n",
      "tensor([4, 4, 3])\n",
      "tensor([12, 12, 12])\n",
      "tensor([14, 14, 14])\n",
      "tensor([10, 10, 10])\n",
      "tensor([6, 6, 6])\n",
      "tensor([16, 16, 16])\n",
      "tensor([21, 21, 21])\n",
      "tensor([9, 9, 9])\n",
      "tensor([11, 11, 11])\n",
      "tensor([20, 20, 20])\n",
      "tensor([9, 9, 9])\n",
      "tensor([11, 11, 11])\n",
      "tensor([17, 17, 17])\n",
      "tensor([20, 20, 20])\n",
      "tensor([25, 24, 24])\n",
      "tensor([19, 19, 19])\n",
      "tensor([15, 15, 15])\n",
      "tensor([22, 22, 22])\n",
      "tensor([6, 6, 6])\n",
      "tensor([22, 22, 22])\n",
      "tensor([8, 8, 8])\n",
      "tensor([20, 20, 20])\n",
      "tensor([19, 19, 19])\n",
      "tensor([12, 12, 12])\n",
      "tensor([21, 21, 21])\n",
      "tensor([4, 3, 3])\n",
      "tensor([12, 11, 11])\n",
      "tensor([22, 21, 21])\n",
      "tensor([12, 12, 12])\n",
      "tensor([20, 20, 20])\n",
      "tensor([20, 20, 20])\n",
      "tensor([19, 19, 19])\n",
      "tensor([15, 15, 15])\n",
      "tensor([18, 18, 18])\n",
      "tensor([18, 18, 18])\n",
      "tensor([8, 8, 8])\n",
      "tensor([22, 22, 22])\n",
      "tensor([5, 5, 5])\n",
      "tensor([13, 13, 13])\n",
      "tensor([9, 9, 9])\n",
      "tensor([17, 17, 17])\n",
      "tensor([15, 15, 15])\n",
      "tensor([21, 21, 20])\n",
      "tensor([14, 14, 14])\n",
      "tensor([7, 7, 7])\n",
      "tensor([9, 9, 9])\n",
      "tensor([20, 19, 19])\n",
      "tensor([10, 10, 10])\n",
      "tensor([21, 21, 21])\n",
      "tensor([21, 21, 21])\n",
      "tensor([11, 11, 11])\n",
      "tensor([12, 12, 12])\n",
      "tensor([32, 28, 27])\n",
      "tensor([21, 21, 21])\n",
      "tensor([6, 6, 5])\n",
      "tensor([14, 14, 13])\n",
      "tensor([16, 16, 16])\n",
      "tensor([22, 22, 22])\n",
      "tensor([14, 14, 14])\n",
      "tensor([17, 16, 16])\n",
      "tensor([8, 7, 7])\n",
      "tensor([26, 25, 25])\n",
      "tensor([11, 11, 11])\n",
      "tensor([27, 26, 26])\n",
      "tensor([10, 10,  9])\n",
      "tensor([13, 13, 13])\n",
      "tensor([10, 10, 10])\n",
      "tensor([13, 13, 13])\n",
      "tensor([15, 14, 14])\n",
      "tensor([15, 15, 15])\n",
      "tensor([12, 12, 12])\n",
      "tensor([18, 18, 18])\n",
      "tensor([23, 23, 23])\n",
      "tensor([23, 23, 23])\n",
      "tensor([12, 12, 12])\n",
      "tensor([17, 17, 17])\n",
      "tensor([5, 5, 4])\n",
      "tensor([15, 15, 15])\n",
      "tensor([23, 23, 22])\n",
      "tensor([27, 27, 27])\n",
      "tensor([12, 12, 12])\n",
      "tensor([13, 13, 13])\n",
      "tensor([25, 25, 25])\n",
      "tensor([7, 6, 6])\n",
      "tensor([9, 9, 9])\n",
      "tensor([18, 17, 17])\n",
      "tensor([18, 18, 18])\n",
      "tensor([18, 18, 18])\n",
      "tensor([26, 26, 26])\n",
      "tensor([20, 20, 20])\n",
      "tensor([6, 6, 6])\n",
      "tensor([15, 15, 15])\n",
      "tensor([9, 9, 9])\n",
      "tensor([7, 7, 7])\n",
      "tensor([24, 23, 23])\n",
      "tensor([13, 13, 13])\n",
      "tensor([37, 33, 33])\n",
      "tensor([10, 10, 10])\n",
      "tensor([18, 18, 18])\n",
      "tensor([7, 7, 7])\n",
      "tensor([10, 10, 10])\n",
      "tensor([9, 9, 9])\n",
      "tensor([10, 10, 10])\n",
      "tensor([20, 20, 20])\n",
      "tensor([17, 17, 17])\n",
      "tensor([10, 10, 10])\n",
      "tensor([16, 16, 16])\n",
      "tensor([15, 15, 15])\n",
      "tensor([8, 8, 8])\n",
      "tensor([8, 8, 8])\n",
      "tensor([17, 17, 17])\n",
      "tensor([14, 14, 14])\n",
      "tensor([13, 13, 13])\n",
      "tensor([23, 23, 22])\n",
      "tensor([21, 21, 21])\n",
      "tensor([14, 14, 14])\n",
      "tensor([23, 23, 23])\n",
      "tensor([15, 15, 15])\n",
      "tensor([10, 10, 10])\n",
      "tensor([4, 3, 2])\n",
      "tensor([5, 4, 4])\n",
      "tensor([9, 9, 9])\n",
      "tensor([12, 12, 11])\n",
      "tensor([8, 8, 8])\n",
      "tensor([20, 20, 20])\n",
      "tensor([28, 27, 27])\n",
      "tensor([8, 8, 8])\n",
      "tensor([21, 21, 21])\n",
      "tensor([6, 6, 5])\n",
      "tensor([13, 13, 12])\n",
      "tensor([5, 5, 5])\n",
      "tensor([23, 23, 23])\n",
      "tensor([8, 7, 7])\n",
      "tensor([11, 11, 11])\n",
      "tensor([14, 14, 14])\n",
      "tensor([16, 16, 16])\n",
      "tensor([22, 22, 22])\n",
      "tensor([11, 11, 11])\n",
      "tensor([8, 8, 8])\n",
      "tensor([15, 15, 15])\n",
      "tensor([22, 22, 21])\n",
      "tensor([6, 6, 6])\n",
      "tensor([25, 24, 24])\n",
      "tensor([16, 16, 16])\n",
      "tensor([15, 15, 15])\n",
      "tensor([20, 20, 20])\n",
      "tensor([23, 23, 23])\n",
      "tensor([12, 12, 12])\n",
      "tensor([16, 16, 15])\n",
      "tensor([12, 12, 12])\n",
      "tensor([13, 13, 13])\n",
      "tensor([15, 15, 15])\n",
      "tensor([20, 20, 20])\n",
      "tensor([19, 19, 19])\n",
      "tensor([22, 22, 22])\n",
      "tensor([18, 18, 18])\n",
      "tensor([26, 26, 26])\n",
      "tensor([20, 20, 20])\n",
      "tensor([24, 24, 24])\n",
      "tensor([20, 20, 20])\n",
      "tensor([21, 21, 21])\n",
      "tensor([18, 18, 18])\n",
      "tensor([18, 18, 18])\n",
      "tensor([17, 17, 17])\n",
      "tensor([13, 13, 13])\n",
      "tensor([26, 26, 26])\n",
      "tensor([9, 9, 9])\n",
      "tensor([17, 17, 17])\n",
      "tensor([11, 11, 11])\n",
      "tensor([10, 10, 10])\n",
      "tensor([10, 10, 10])\n",
      "tensor([17, 17, 17])\n",
      "tensor([19, 19, 18])\n",
      "tensor([6, 6, 6])\n",
      "tensor([26, 26, 25])\n",
      "tensor([15, 15, 15])\n",
      "tensor([22, 22, 22])\n",
      "tensor([12, 12, 12])\n",
      "tensor([15, 15, 15])\n",
      "tensor([10, 10, 10])\n",
      "tensor([11, 11, 10])\n",
      "tensor([23, 23, 23])\n",
      "tensor([18, 18, 18])\n",
      "tensor([13, 13, 13])\n",
      "tensor([8, 8, 8])\n",
      "tensor([14, 14, 13])\n",
      "tensor([9, 9, 9])\n",
      "tensor([19, 19, 19])\n",
      "tensor([16, 16, 16])\n",
      "tensor([9, 9, 9])\n",
      "tensor([7, 6, 6])\n",
      "tensor([24, 24, 23])\n",
      "tensor([18, 17, 17])\n",
      "tensor([23, 23, 23])\n",
      "tensor([19, 19, 19])\n",
      "tensor([9, 9, 9])\n",
      "tensor([11, 11, 11])\n",
      "tensor([37, 31, 31])\n",
      "tensor([17, 17, 17])\n",
      "tensor([22, 22, 22])\n",
      "tensor([18, 18, 18])\n",
      "tensor([7, 7, 7])\n",
      "tensor([18, 18, 18])\n",
      "tensor([19, 19, 19])\n",
      "tensor([31, 30, 30])\n",
      "tensor([9, 9, 9])\n",
      "tensor([13, 13, 13])\n",
      "tensor([25, 25, 25])\n",
      "tensor([19, 19, 19])\n",
      "tensor([18, 18, 18])\n",
      "tensor([14, 14, 14])\n",
      "tensor([21, 21, 21])\n",
      "tensor([16, 16, 16])\n",
      "tensor([12, 12, 12])\n",
      "tensor([13, 13, 13])\n",
      "tensor([22, 22, 22])\n",
      "tensor([9, 9, 9])\n",
      "tensor([12, 11, 11])\n",
      "tensor([22, 22, 22])\n",
      "tensor([17, 17, 17])\n",
      "tensor([18, 18, 17])\n",
      "tensor([11, 11, 11])\n",
      "tensor([5, 5, 5])\n",
      "tensor([4, 4, 2])\n",
      "tensor([18, 18, 18])\n",
      "tensor([20, 20, 20])\n",
      "tensor([21, 21, 21])\n",
      "tensor([9, 9, 9])\n",
      "tensor([24, 24, 23])\n",
      "tensor([11, 11, 11])\n",
      "tensor([14, 14, 14])\n",
      "tensor([16, 15, 15])\n",
      "tensor([20, 20, 20])\n",
      "tensor([17, 17, 17])\n",
      "tensor([43, 41, 37])\n",
      "tensor([14, 14, 14])\n",
      "tensor([7, 7, 7])\n",
      "tensor([8, 8, 8])\n",
      "tensor([19, 19, 19])\n",
      "tensor([8, 8, 8])\n",
      "tensor([19, 19, 19])\n",
      "tensor([27, 27, 26])\n",
      "tensor([22, 22, 22])\n",
      "tensor([12, 12, 12])\n",
      "tensor([12, 12, 12])\n",
      "tensor([10, 10, 10])\n",
      "tensor([7, 6, 6])\n",
      "tensor([14, 14, 13])\n",
      "tensor([20, 20, 20])\n",
      "tensor([15, 15, 15])\n",
      "tensor([17, 17, 17])\n",
      "tensor([18, 18, 18])\n",
      "tensor([9, 9, 9])\n",
      "tensor([9, 8, 8])\n",
      "tensor([6, 6, 6])\n",
      "tensor([20, 20, 19])\n",
      "tensor([16, 16, 16])\n",
      "tensor([24, 24, 24])\n",
      "tensor([17, 17, 17])\n",
      "tensor([21, 21, 21])\n",
      "tensor([12, 12, 12])\n",
      "tensor([10, 10, 10])\n",
      "tensor([9, 9, 9])\n",
      "tensor([17, 17, 17])\n",
      "tensor([19, 19, 19])\n",
      "tensor([24, 24, 24])\n",
      "tensor([7, 7, 7])\n",
      "tensor([7, 7, 7])\n",
      "tensor([18, 18, 18])\n",
      "tensor([11, 11, 11])\n",
      "tensor([28, 28, 28])\n",
      "tensor([22, 22, 22])\n",
      "tensor([32, 31, 29])\n",
      "tensor([25, 25, 25])\n",
      "tensor([7, 7, 7])\n",
      "tensor([21, 21, 21])\n",
      "tensor([24, 24, 24])\n",
      "tensor([24, 24, 24])\n",
      "tensor([16, 16, 16])\n",
      "tensor([14, 14, 14])\n",
      "tensor([23, 22, 22])\n",
      "tensor([7, 7, 7])\n",
      "tensor([6, 6, 6])\n",
      "tensor([5, 5, 4])\n",
      "tensor([21, 21, 21])\n",
      "tensor([15, 15, 15])\n",
      "tensor([22, 22, 22])\n",
      "tensor([9, 9, 9])\n",
      "tensor([14, 14, 14])\n",
      "tensor([17, 17, 16])\n",
      "tensor([13, 13, 12])\n",
      "tensor([26, 26, 25])\n",
      "tensor([13, 13, 13])\n",
      "tensor([15, 15, 15])\n",
      "tensor([10, 10, 10])\n",
      "tensor([23, 23, 23])\n",
      "tensor([21, 21, 21])\n",
      "tensor([13, 13, 13])\n",
      "tensor([18, 18, 18])\n",
      "tensor([11, 11, 11])\n",
      "tensor([9, 9, 9])\n",
      "tensor([14, 14, 14])\n",
      "tensor([18, 18, 18])\n",
      "tensor([23, 23, 23])\n",
      "tensor([10, 10, 10])\n",
      "tensor([10, 10, 10])\n",
      "tensor([22, 22, 22])\n",
      "tensor([16, 16, 16])\n",
      "tensor([19, 19, 19])\n",
      "tensor([15, 15, 15])\n",
      "tensor([13, 13, 13])\n",
      "tensor([11, 11, 11])\n",
      "tensor([5, 5, 5])\n",
      "tensor([17, 17, 17])\n",
      "tensor([16, 16, 16])\n",
      "tensor([5, 4, 4])\n",
      "tensor([20, 20, 20])\n",
      "tensor([18, 18, 18])\n",
      "tensor([12, 12, 12])\n",
      "tensor([19, 19, 19])\n",
      "tensor([17, 17, 17])\n",
      "tensor([19, 19, 19])\n",
      "tensor([8, 8, 8])\n",
      "tensor([19, 19, 19])\n",
      "tensor([11, 11, 11])\n",
      "tensor([16, 16, 16])\n",
      "tensor([2, 2, 1])\n",
      "tensor([11, 11, 11])\n",
      "tensor([7, 7, 7])\n",
      "tensor([22, 22, 22])\n",
      "tensor([4, 4, 4])\n",
      "tensor([15, 15, 15])\n",
      "tensor([11, 11, 11])\n",
      "tensor([12, 12, 12])\n",
      "tensor([4, 4, 3])\n",
      "tensor([9, 9, 9])\n",
      "tensor([18, 18, 18])\n",
      "tensor([15, 15, 15])\n",
      "tensor([5, 5, 5])\n",
      "tensor([22, 22, 22])\n",
      "tensor([18, 18, 18])\n",
      "tensor([12, 12, 12])\n",
      "tensor([14, 14, 14])\n",
      "tensor([8, 8, 8])\n",
      "tensor([24, 24, 24])\n",
      "tensor([19, 19, 19])\n",
      "tensor([6, 6, 6])\n",
      "tensor([21, 21, 21])\n",
      "tensor([23, 23, 23])\n",
      "tensor([28, 27, 27])\n",
      "tensor([9, 9, 9])\n",
      "tensor([24, 24, 23])\n",
      "tensor([19, 19, 18])\n",
      "tensor([14, 14, 14])\n",
      "tensor([15, 15, 15])\n",
      "tensor([20, 20, 20])\n",
      "tensor([17, 17, 17])\n",
      "tensor([16, 16, 16])\n",
      "tensor([6, 6, 6])\n",
      "tensor([16, 16, 16])\n",
      "tensor([18, 18, 17])\n",
      "tensor([13, 13, 13])\n",
      "tensor([25, 25, 24])\n",
      "tensor([18, 18, 18])\n",
      "tensor([32, 30, 28])\n",
      "tensor([17, 17, 17])\n",
      "tensor([26, 25, 25])\n",
      "tensor([17, 17, 17])\n",
      "tensor([17, 17, 17])\n",
      "tensor([10, 10, 10])\n",
      "tensor([22, 22, 22])\n",
      "tensor([13, 12, 12])\n",
      "tensor([22, 22, 21])\n",
      "tensor([18, 18, 18])\n",
      "tensor([12, 12, 12])\n",
      "tensor([8, 8, 7])\n",
      "tensor([14, 14, 14])\n",
      "tensor([16, 16, 16])\n",
      "tensor([12, 12, 11])\n",
      "tensor([27, 27, 27])\n",
      "tensor([17, 17, 17])\n",
      "tensor([11, 11, 11])\n",
      "tensor([11, 11, 11])\n",
      "tensor([12, 12, 12])\n",
      "tensor([6, 6, 6])\n",
      "tensor([9, 9, 9])\n",
      "tensor([24, 24, 24])\n",
      "tensor([14, 14, 14])\n"
     ]
    },
    {
     "name": "stdout",
     "output_type": "stream",
     "text": [
      "tensor([19, 19, 19])\n",
      "tensor([13, 13, 13])\n",
      "tensor([21, 21, 21])\n",
      "tensor([6, 6, 6])\n",
      "tensor([10, 10, 10])\n",
      "tensor([26, 26, 26])\n",
      "tensor([15, 15, 15])\n",
      "tensor([7, 7, 7])\n",
      "tensor([7, 7, 6])\n",
      "tensor([9, 9, 9])\n",
      "tensor([20, 20, 20])\n",
      "tensor([13, 13, 13])\n",
      "tensor([10, 10, 10])\n",
      "tensor([14, 14, 14])\n",
      "tensor([15, 15, 15])\n",
      "tensor([6, 6, 6])\n",
      "tensor([14, 14, 14])\n",
      "tensor([13, 13, 13])\n",
      "tensor([21, 21, 21])\n",
      "tensor([27, 26, 26])\n",
      "tensor([17, 17, 17])\n",
      "tensor([20, 20, 20])\n",
      "tensor([22, 22, 22])\n",
      "tensor([20, 20, 20])\n",
      "tensor([17, 17, 17])\n",
      "tensor([10, 10, 10])\n",
      "tensor([41, 37, 30])\n",
      "tensor([6, 5, 5])\n",
      "tensor([16, 16, 16])\n",
      "tensor([9, 9, 9])\n",
      "tensor([23, 23, 23])\n",
      "tensor([18, 18, 18])\n",
      "tensor([12, 12, 12])\n",
      "tensor([15, 14, 14])\n",
      "tensor([55, 54, 43])\n",
      "tensor([11, 11, 10])\n",
      "tensor([12, 12, 12])\n",
      "tensor([8, 8, 8])\n",
      "tensor([24, 24, 24])\n",
      "tensor([23, 23, 23])\n",
      "tensor([14, 13, 13])\n",
      "tensor([14, 14, 14])\n",
      "tensor([13, 13, 13])\n",
      "tensor([20, 20, 20])\n",
      "tensor([16, 16, 16])\n",
      "tensor([26, 26, 26])\n",
      "tensor([6, 6, 6])\n",
      "tensor([10, 10, 10])\n",
      "tensor([25, 24, 24])\n",
      "tensor([10, 10, 10])\n",
      "tensor([18, 18, 18])\n",
      "tensor([14, 14, 14])\n",
      "tensor([12, 12, 12])\n",
      "tensor([9, 9, 9])\n",
      "tensor([21, 20, 20])\n",
      "tensor([6, 6, 6])\n",
      "tensor([29, 28, 28])\n",
      "tensor([22, 22, 22])\n",
      "tensor([22, 22, 22])\n",
      "tensor([8, 8, 8])\n",
      "tensor([18, 18, 18])\n",
      "tensor([13, 13, 13])\n",
      "tensor([14, 14, 14])\n",
      "tensor([20, 20, 20])\n",
      "tensor([16, 16, 16])\n",
      "tensor([25, 25, 25])\n",
      "tensor([8, 8, 8])\n",
      "tensor([12, 12, 12])\n",
      "tensor([5, 5, 5])\n",
      "tensor([17, 17, 17])\n",
      "tensor([28, 27, 27])\n",
      "tensor([14, 14, 14])\n",
      "tensor([15, 15, 15])\n",
      "tensor([14, 14, 14])\n",
      "tensor([13, 13, 13])\n",
      "tensor([22, 22, 22])\n",
      "tensor([9, 9, 9])\n",
      "tensor([26, 25, 25])\n",
      "tensor([15, 15, 15])\n",
      "tensor([16, 16, 16])\n",
      "tensor([19, 19, 19])\n",
      "tensor([8, 8, 7])\n",
      "tensor([15, 15, 15])\n",
      "tensor([19, 19, 19])\n",
      "tensor([21, 21, 21])\n",
      "tensor([10, 10, 10])\n",
      "tensor([20, 20, 20])\n",
      "tensor([20, 20, 20])\n",
      "tensor([21, 21, 21])\n",
      "tensor([7, 7, 7])\n",
      "tensor([19, 19, 19])\n",
      "tensor([14, 14, 14])\n",
      "tensor([9, 9, 8])\n",
      "tensor([11, 11, 11])\n",
      "tensor([14, 14, 14])\n",
      "tensor([22, 22, 22])\n",
      "tensor([10,  9,  9])\n",
      "tensor([15, 15, 15])\n",
      "tensor([13, 13, 13])\n",
      "tensor([14, 14, 14])\n",
      "tensor([9, 9, 9])\n",
      "tensor([8, 8, 8])\n",
      "tensor([11, 11, 11])\n",
      "tensor([7, 7, 7])\n",
      "tensor([23, 22, 22])\n",
      "tensor([21, 21, 21])\n",
      "tensor([12, 11, 11])\n",
      "tensor([23, 23, 23])\n",
      "tensor([3, 3, 3])\n",
      "tensor([20, 20, 20])\n",
      "tensor([20, 20, 19])\n",
      "tensor([7, 6, 6])\n",
      "tensor([25, 25, 25])\n",
      "tensor([26, 26, 26])\n",
      "tensor([13, 13, 13])\n",
      "tensor([4, 4, 4])\n",
      "tensor([5, 5, 4])\n",
      "tensor([17, 17, 17])\n",
      "tensor([12, 12, 12])\n",
      "tensor([11, 11, 11])\n",
      "tensor([19, 18, 18])\n",
      "tensor([22, 22, 22])\n",
      "tensor([17, 17, 17])\n",
      "tensor([17, 17, 17])\n",
      "tensor([19, 19, 18])\n",
      "tensor([24, 24, 24])\n",
      "tensor([9, 9, 9])\n",
      "tensor([24, 23, 23])\n",
      "tensor([15, 15, 15])\n",
      "tensor([23, 22, 22])\n",
      "tensor([6, 6, 6])\n",
      "tensor([12, 12, 12])\n",
      "tensor([12, 12, 12])\n",
      "tensor([23, 23, 23])\n",
      "tensor([11, 11, 11])\n",
      "tensor([11, 11, 11])\n",
      "tensor([13, 13, 13])\n",
      "tensor([18, 18, 18])\n",
      "tensor([4, 4, 4])\n",
      "tensor([8, 8, 8])\n",
      "tensor([12, 12, 12])\n",
      "tensor([28, 28, 28])\n",
      "tensor([19, 19, 19])\n",
      "tensor([7, 7, 7])\n",
      "tensor([24, 24, 24])\n",
      "tensor([22, 22, 22])\n",
      "tensor([4, 4, 4])\n",
      "tensor([14, 14, 14])\n",
      "tensor([12, 12, 12])\n",
      "tensor([16, 16, 16])\n",
      "tensor([7, 7, 6])\n",
      "tensor([12, 12, 12])\n",
      "tensor([18, 18, 17])\n",
      "tensor([10,  9,  9])\n",
      "tensor([17, 16, 16])\n",
      "tensor([21, 21, 21])\n",
      "tensor([13, 13, 13])\n",
      "tensor([15, 15, 15])\n",
      "tensor([14, 14, 14])\n",
      "tensor([28, 27, 27])\n",
      "tensor([13, 13, 13])\n",
      "tensor([9, 9, 9])\n",
      "tensor([6, 5, 4])\n",
      "tensor([22, 22, 22])\n",
      "tensor([11, 10, 10])\n",
      "tensor([10, 10, 10])\n",
      "tensor([7, 7, 7])\n",
      "tensor([17, 17, 17])\n",
      "tensor([11, 11, 11])\n",
      "tensor([20, 20, 20])\n",
      "tensor([4, 3, 3])\n",
      "tensor([9, 9, 9])\n",
      "tensor([8, 8, 8])\n",
      "tensor([26, 26, 26])\n",
      "tensor([20, 20, 20])\n",
      "tensor([20, 20, 20])\n",
      "tensor([8, 8, 8])\n",
      "tensor([23, 23, 23])\n",
      "tensor([30, 29, 29])\n",
      "tensor([20, 20, 20])\n",
      "tensor([15, 15, 15])\n",
      "tensor([8, 8, 8])\n",
      "tensor([25, 25, 25])\n",
      "tensor([18, 18, 18])\n",
      "tensor([19, 19, 19])\n",
      "tensor([19, 19, 19])\n",
      "tensor([22, 21, 21])\n",
      "tensor([39, 34, 34])\n",
      "tensor([16, 16, 16])\n",
      "tensor([17, 17, 17])\n",
      "tensor([15, 15, 15])\n",
      "tensor([13, 13, 13])\n",
      "tensor([16, 16, 16])\n",
      "tensor([13, 13, 13])\n",
      "tensor([27, 27, 27])\n",
      "tensor([20, 20, 20])\n",
      "tensor([10, 10, 10])\n",
      "tensor([24, 24, 24])\n",
      "tensor([11, 11, 11])\n",
      "tensor([8, 8, 8])\n",
      "tensor([15, 15, 15])\n",
      "tensor([19, 19, 19])\n",
      "tensor([16, 16, 16])\n",
      "tensor([26, 26, 26])\n",
      "tensor([13, 13, 13])\n",
      "tensor([11, 11, 11])\n",
      "tensor([14, 14, 14])\n",
      "tensor([12, 12, 11])\n",
      "tensor([25, 25, 25])\n",
      "tensor([32, 31, 30])\n",
      "tensor([16, 16, 15])\n",
      "tensor([21, 21, 21])\n",
      "tensor([7, 7, 7])\n",
      "tensor([21, 21, 21])\n",
      "tensor([8, 8, 8])\n",
      "tensor([17, 17, 17])\n",
      "tensor([14, 14, 13])\n",
      "tensor([14, 14, 14])\n",
      "tensor([15, 14, 14])\n",
      "tensor([12, 12, 12])\n",
      "tensor([25, 25, 25])\n",
      "tensor([21, 20, 20])\n",
      "tensor([3, 3, 2])\n",
      "tensor([20, 20, 20])\n",
      "tensor([8, 8, 7])\n",
      "tensor([28, 28, 28])\n",
      "tensor([31, 29, 29])\n",
      "tensor([27, 26, 26])\n",
      "tensor([14, 14, 14])\n",
      "tensor([17, 17, 17])\n",
      "tensor([12, 12, 12])\n",
      "tensor([26, 25, 25])\n",
      "tensor([21, 20, 20])\n",
      "tensor([16, 16, 16])\n",
      "tensor([15, 14, 14])\n",
      "tensor([19, 19, 19])\n",
      "tensor([6, 5, 5])\n",
      "tensor([8, 8, 8])\n",
      "tensor([15, 15, 15])\n",
      "tensor([11, 11, 10])\n",
      "tensor([21, 21, 21])\n",
      "tensor([19, 19, 19])\n",
      "tensor([20, 20, 20])\n",
      "tensor([22, 22, 22])\n",
      "tensor([23, 23, 22])\n",
      "tensor([15, 15, 15])\n",
      "tensor([19, 18, 18])\n",
      "tensor([9, 9, 9])\n",
      "tensor([18, 18, 17])\n",
      "tensor([13, 13, 13])\n",
      "tensor([9, 9, 8])\n",
      "tensor([19, 19, 19])\n",
      "tensor([7, 7, 7])\n",
      "tensor([20, 20, 20])\n",
      "tensor([6, 6, 6])\n",
      "tensor([13, 13, 13])\n",
      "tensor([5, 4, 4])\n",
      "tensor([19, 19, 19])\n",
      "tensor([14, 14, 14])\n",
      "tensor([23, 23, 23])\n",
      "tensor([10, 10,  9])\n",
      "tensor([20, 20, 20])\n",
      "tensor([21, 21, 21])\n",
      "tensor([16, 16, 16])\n",
      "tensor([17, 17, 17])\n",
      "tensor([16, 16, 16])\n",
      "tensor([15, 15, 15])\n",
      "tensor([36, 34, 31])\n",
      "tensor([12, 12, 12])\n",
      "tensor([15, 15, 15])\n",
      "tensor([12, 12, 12])\n",
      "tensor([18, 18, 18])\n",
      "tensor([11, 11, 11])\n",
      "tensor([24, 24, 24])\n",
      "\r"
     ]
    }
   ],
   "source": [
    "for (X,lengths),y1, y2 in t:\n",
    "    print(lengths)"
   ]
  },
  {
   "cell_type": "code",
   "execution_count": 35,
   "metadata": {},
   "outputs": [],
   "source": [
    "def fit(model, train_dl, val_dl, loss_fn, opt, epochs=3):\n",
    "    num_batch = len(train_dl)\n",
    "    train_loss_list = list()\n",
    "    train_acc_list = list()\n",
    "    val_loss_list = list()\n",
    "    val_acc_list = list()\n",
    "    for epoch in tnrange(epochs):      \n",
    "        y_true_train = list()\n",
    "        y_pred_train = list()\n",
    "        z_true_train = list()\n",
    "        z_pred_train = list()\n",
    "        total_lossy_train = 0\n",
    "        total_lossz_train = 0\n",
    "        total_loss_train = 0          \n",
    "        \n",
    "        t = tqdm_notebook(iter(train_dl), leave=False, total=num_batch)\n",
    "        for (X,lengths),y,z in t:\n",
    "            t.set_description('Epoch %d' % epoch)\n",
    "            lengths = lengths.cpu().numpy()\n",
    "            \n",
    "            opt.zero_grad()\n",
    "            predy,predz = model(X, lengths)\n",
    "            lossy = loss_fn(predy, y)\n",
    "            \n",
    "            lossz = loss_fn(predz, z)\n",
    "            \n",
    "            loss = lossy + lossz\n",
    "            loss.backward()\n",
    "            opt.step()\n",
    "            \n",
    "            t.set_postfix(loss=loss.item())\n",
    "            pred_idxy = torch.max(predy, dim=1)[1]\n",
    "            \n",
    "            y_true_train += list(y.cpu().data.numpy())\n",
    "            y_pred_train += list(pred_idxy.cpu().data.numpy())\n",
    "            total_lossy_train += lossy.item()\n",
    "            \n",
    "            pred_idxz = torch.max(predz, dim=1)[1]\n",
    "            \n",
    "            z_true_train += list(z.cpu().data.numpy())\n",
    "            z_pred_train += list(pred_idxz.cpu().data.numpy())\n",
    "            total_lossz_train += lossz.item()\n",
    "            \n",
    "            total_loss_train += loss.item()\n",
    "            \n",
    "        train_accy = accuracy_score(y_true_train, y_pred_train)\n",
    "        train_lossy = total_lossy_train/len(train_dl)\n",
    "        \n",
    "        train_accz = accuracy_score(z_true_train, z_pred_train)\n",
    "        train_lossz = total_lossz_train/len(train_dl)\n",
    "        \n",
    "        train_acc = (train_accy+train_accz)/2.0\n",
    "        train_loss = total_loss_train/len(train_dl)\n",
    "        \n",
    "        train_acc_list.append(train_acc)\n",
    "        train_loss_list.append(train_loss)\n",
    "        \n",
    "        if val_dl:\n",
    "            y_true_val = list()\n",
    "            y_pred_val = list()\n",
    "            total_lossy_val = 0\n",
    "            \n",
    "            z_true_val = list()\n",
    "            z_pred_val = list()\n",
    "            total_lossz_val = 0\n",
    "            \n",
    "            total_loss_val = 0\n",
    "            for (X,lengths),y,z in tqdm_notebook(val_dl, leave=False):\n",
    "                predy, predz = model(X, lengths.cpu().numpy())\n",
    "                \n",
    "                lossy = loss_fn(predy, y)\n",
    "                lossz = loss_fn(predz, z)\n",
    "                loss = lossy+lossz\n",
    "                \n",
    "                pred_idxy = torch.max(predy, 1)[1]\n",
    "                y_true_val += list(y.cpu().data.numpy())\n",
    "                y_pred_val += list(pred_idxy.cpu().data.numpy())\n",
    "                total_lossy_val += lossy.item()\n",
    "                \n",
    "                pred_idxz = torch.max(predz, 1)[1]\n",
    "                z_true_val += list(z.cpu().data.numpy())\n",
    "                z_pred_val += list(pred_idxz.cpu().data.numpy())\n",
    "                total_lossz_val += lossz.item()\n",
    "                \n",
    "                total_loss_val += loss.item()\n",
    "            \n",
    "            valaccy = accuracy_score(y_true_val, y_pred_val)\n",
    "            vallossy = total_lossy_val/len(valdl)\n",
    "            \n",
    "            valaccz = accuracy_score(z_true_val, z_pred_val)\n",
    "            vallossz = total_lossz_val/len(valdl)\n",
    "            \n",
    "            valacc = (valaccy+valaccz)/2.0\n",
    "            valloss = total_loss_val/len(valdl)\n",
    "            \n",
    "            val_acc_list.append(valacc)\n",
    "            val_loss_list.append(valloss)\n",
    "            \n",
    "            print ('Epoch [%d/%d] train_loss: %.4f, train_acc: %.4f, val_loss: %.4f, val_acc: %.4f ' \n",
    "                   %(epoch+1, epochs, train_loss, train_acc, valloss, valacc))\n",
    "        else:\n",
    "            print ('Epoch [%d/%d] train_loss: %.4f, train_acc: %.4f ' \n",
    "                   %(epoch+1, epochs, train_loss, train_acc))\n",
    "    return train_acc_list, train_loss_list, val_acc_list, val_loss_list"
   ]
  },
  {
   "cell_type": "code",
   "execution_count": 36,
   "metadata": {},
   "outputs": [],
   "source": [
    "train_batch_it = BatchGenerator(traindl, 'corpus', 'coarse_label', 'fine_type')\n",
    "val_batch_it = BatchGenerator(valdl, 'corpus', 'coarse_label', 'fine_type')"
   ]
  },
  {
   "cell_type": "code",
   "execution_count": 37,
   "metadata": {},
   "outputs": [
    {
     "name": "stdout",
     "output_type": "stream",
     "text": [
      "torch.Size([12675, 100])\n",
      "torch.Size([192, 100])\n",
      "torch.Size([192, 64])\n",
      "torch.Size([192])\n",
      "torch.Size([192])\n",
      "torch.Size([192, 100])\n",
      "torch.Size([192, 64])\n",
      "torch.Size([192])\n",
      "torch.Size([192])\n",
      "torch.Size([2, 64])\n",
      "torch.Size([2])\n",
      "torch.Size([4, 64])\n",
      "torch.Size([4])\n"
     ]
    }
   ],
   "source": [
    "m = SimpleGRU(vocab_size, embedding_dim, n_hidden, n_out_yc, n_out_yf, trainds.fields['corpus'].vocab.vectors).to(device)\n",
    "for i in m.parameters():\n",
    "    print(i.shape)"
   ]
  },
  {
   "cell_type": "code",
   "execution_count": 38,
   "metadata": {},
   "outputs": [
    {
     "data": {
      "application/vnd.jupyter.widget-view+json": {
       "model_id": "a660301de1c94bb88c6c9914cc9fb12a",
       "version_major": 2,
       "version_minor": 0
      },
      "text/plain": [
       "HBox(children=(IntProgress(value=0, max=50), HTML(value=u'')))"
      ]
     },
     "metadata": {},
     "output_type": "display_data"
    },
    {
     "data": {
      "application/vnd.jupyter.widget-view+json": {
       "model_id": "",
       "version_major": 2,
       "version_minor": 0
      },
      "text/plain": [
       "HBox(children=(IntProgress(value=0, max=1150), HTML(value=u'')))"
      ]
     },
     "metadata": {},
     "output_type": "display_data"
    },
    {
     "name": "stderr",
     "output_type": "stream",
     "text": [
      "/Users/jayanth/Library/Python/2.7/lib/python/site-packages/ipykernel_launcher.py:25: UserWarning: Implicit dimension choice for log_softmax has been deprecated. Change the call to include dim=X as an argument.\n"
     ]
    },
    {
     "data": {
      "application/vnd.jupyter.widget-view+json": {
       "model_id": "",
       "version_major": 2,
       "version_minor": 0
      },
      "text/plain": [
       "HBox(children=(IntProgress(value=0, max=128), HTML(value=u'')))"
      ]
     },
     "metadata": {},
     "output_type": "display_data"
    },
    {
     "name": "stdout",
     "output_type": "stream",
     "text": [
      "Epoch [1/50] train_loss: 1.6763, train_acc: 0.5788, val_loss: 1.5835, val_acc: 0.6172 \n"
     ]
    },
    {
     "data": {
      "application/vnd.jupyter.widget-view+json": {
       "model_id": "",
       "version_major": 2,
       "version_minor": 0
      },
      "text/plain": [
       "HBox(children=(IntProgress(value=0, max=1150), HTML(value=u'')))"
      ]
     },
     "metadata": {},
     "output_type": "display_data"
    },
    {
     "data": {
      "application/vnd.jupyter.widget-view+json": {
       "model_id": "",
       "version_major": 2,
       "version_minor": 0
      },
      "text/plain": [
       "HBox(children=(IntProgress(value=0, max=128), HTML(value=u'')))"
      ]
     },
     "metadata": {},
     "output_type": "display_data"
    },
    {
     "name": "stdout",
     "output_type": "stream",
     "text": [
      "Epoch [2/50] train_loss: 1.5114, train_acc: 0.6458, val_loss: 1.5956, val_acc: 0.6393 \n"
     ]
    },
    {
     "data": {
      "application/vnd.jupyter.widget-view+json": {
       "model_id": "",
       "version_major": 2,
       "version_minor": 0
      },
      "text/plain": [
       "HBox(children=(IntProgress(value=0, max=1150), HTML(value=u'')))"
      ]
     },
     "metadata": {},
     "output_type": "display_data"
    },
    {
     "data": {
      "application/vnd.jupyter.widget-view+json": {
       "model_id": "",
       "version_major": 2,
       "version_minor": 0
      },
      "text/plain": [
       "HBox(children=(IntProgress(value=0, max=128), HTML(value=u'')))"
      ]
     },
     "metadata": {},
     "output_type": "display_data"
    },
    {
     "name": "stdout",
     "output_type": "stream",
     "text": [
      "Epoch [3/50] train_loss: 1.4063, train_acc: 0.6764, val_loss: 1.5178, val_acc: 0.6458 \n"
     ]
    },
    {
     "data": {
      "application/vnd.jupyter.widget-view+json": {
       "model_id": "",
       "version_major": 2,
       "version_minor": 0
      },
      "text/plain": [
       "HBox(children=(IntProgress(value=0, max=1150), HTML(value=u'')))"
      ]
     },
     "metadata": {},
     "output_type": "display_data"
    },
    {
     "data": {
      "application/vnd.jupyter.widget-view+json": {
       "model_id": "",
       "version_major": 2,
       "version_minor": 0
      },
      "text/plain": [
       "HBox(children=(IntProgress(value=0, max=128), HTML(value=u'')))"
      ]
     },
     "metadata": {},
     "output_type": "display_data"
    },
    {
     "name": "stdout",
     "output_type": "stream",
     "text": [
      "Epoch [4/50] train_loss: 1.2904, train_acc: 0.7162, val_loss: 1.5504, val_acc: 0.6562 \n"
     ]
    },
    {
     "data": {
      "application/vnd.jupyter.widget-view+json": {
       "model_id": "",
       "version_major": 2,
       "version_minor": 0
      },
      "text/plain": [
       "HBox(children=(IntProgress(value=0, max=1150), HTML(value=u'')))"
      ]
     },
     "metadata": {},
     "output_type": "display_data"
    },
    {
     "data": {
      "application/vnd.jupyter.widget-view+json": {
       "model_id": "",
       "version_major": 2,
       "version_minor": 0
      },
      "text/plain": [
       "HBox(children=(IntProgress(value=0, max=128), HTML(value=u'')))"
      ]
     },
     "metadata": {},
     "output_type": "display_data"
    },
    {
     "name": "stdout",
     "output_type": "stream",
     "text": [
      "Epoch [5/50] train_loss: 1.1385, train_acc: 0.7580, val_loss: 1.6418, val_acc: 0.6211 \n"
     ]
    },
    {
     "data": {
      "application/vnd.jupyter.widget-view+json": {
       "model_id": "",
       "version_major": 2,
       "version_minor": 0
      },
      "text/plain": [
       "HBox(children=(IntProgress(value=0, max=1150), HTML(value=u'')))"
      ]
     },
     "metadata": {},
     "output_type": "display_data"
    },
    {
     "data": {
      "application/vnd.jupyter.widget-view+json": {
       "model_id": "",
       "version_major": 2,
       "version_minor": 0
      },
      "text/plain": [
       "HBox(children=(IntProgress(value=0, max=128), HTML(value=u'')))"
      ]
     },
     "metadata": {},
     "output_type": "display_data"
    },
    {
     "name": "stdout",
     "output_type": "stream",
     "text": [
      "Epoch [6/50] train_loss: 0.9495, train_acc: 0.8065, val_loss: 1.8357, val_acc: 0.6263 \n"
     ]
    },
    {
     "data": {
      "application/vnd.jupyter.widget-view+json": {
       "model_id": "",
       "version_major": 2,
       "version_minor": 0
      },
      "text/plain": [
       "HBox(children=(IntProgress(value=0, max=1150), HTML(value=u'')))"
      ]
     },
     "metadata": {},
     "output_type": "display_data"
    },
    {
     "data": {
      "application/vnd.jupyter.widget-view+json": {
       "model_id": "",
       "version_major": 2,
       "version_minor": 0
      },
      "text/plain": [
       "HBox(children=(IntProgress(value=0, max=128), HTML(value=u'')))"
      ]
     },
     "metadata": {},
     "output_type": "display_data"
    },
    {
     "name": "stdout",
     "output_type": "stream",
     "text": [
      "Epoch [7/50] train_loss: 0.7370, train_acc: 0.8590, val_loss: 2.0082, val_acc: 0.5964 \n"
     ]
    },
    {
     "data": {
      "application/vnd.jupyter.widget-view+json": {
       "model_id": "",
       "version_major": 2,
       "version_minor": 0
      },
      "text/plain": [
       "HBox(children=(IntProgress(value=0, max=1150), HTML(value=u'')))"
      ]
     },
     "metadata": {},
     "output_type": "display_data"
    },
    {
     "data": {
      "application/vnd.jupyter.widget-view+json": {
       "model_id": "",
       "version_major": 2,
       "version_minor": 0
      },
      "text/plain": [
       "HBox(children=(IntProgress(value=0, max=128), HTML(value=u'')))"
      ]
     },
     "metadata": {},
     "output_type": "display_data"
    },
    {
     "name": "stdout",
     "output_type": "stream",
     "text": [
      "Epoch [8/50] train_loss: 0.5248, train_acc: 0.9036, val_loss: 2.5005, val_acc: 0.5872 \n"
     ]
    },
    {
     "data": {
      "application/vnd.jupyter.widget-view+json": {
       "model_id": "",
       "version_major": 2,
       "version_minor": 0
      },
      "text/plain": [
       "HBox(children=(IntProgress(value=0, max=1150), HTML(value=u'')))"
      ]
     },
     "metadata": {},
     "output_type": "display_data"
    },
    {
     "data": {
      "application/vnd.jupyter.widget-view+json": {
       "model_id": "",
       "version_major": 2,
       "version_minor": 0
      },
      "text/plain": [
       "HBox(children=(IntProgress(value=0, max=128), HTML(value=u'')))"
      ]
     },
     "metadata": {},
     "output_type": "display_data"
    },
    {
     "name": "stdout",
     "output_type": "stream",
     "text": [
      "Epoch [9/50] train_loss: 0.3483, train_acc: 0.9429, val_loss: 2.7738, val_acc: 0.5924 \n"
     ]
    },
    {
     "data": {
      "application/vnd.jupyter.widget-view+json": {
       "model_id": "",
       "version_major": 2,
       "version_minor": 0
      },
      "text/plain": [
       "HBox(children=(IntProgress(value=0, max=1150), HTML(value=u'')))"
      ]
     },
     "metadata": {},
     "output_type": "display_data"
    },
    {
     "data": {
      "application/vnd.jupyter.widget-view+json": {
       "model_id": "",
       "version_major": 2,
       "version_minor": 0
      },
      "text/plain": [
       "HBox(children=(IntProgress(value=0, max=128), HTML(value=u'')))"
      ]
     },
     "metadata": {},
     "output_type": "display_data"
    },
    {
     "name": "stdout",
     "output_type": "stream",
     "text": [
      "Epoch [10/50] train_loss: 0.2458, train_acc: 0.9625, val_loss: 3.2339, val_acc: 0.5794 \n"
     ]
    },
    {
     "data": {
      "application/vnd.jupyter.widget-view+json": {
       "model_id": "",
       "version_major": 2,
       "version_minor": 0
      },
      "text/plain": [
       "HBox(children=(IntProgress(value=0, max=1150), HTML(value=u'')))"
      ]
     },
     "metadata": {},
     "output_type": "display_data"
    },
    {
     "data": {
      "application/vnd.jupyter.widget-view+json": {
       "model_id": "",
       "version_major": 2,
       "version_minor": 0
      },
      "text/plain": [
       "HBox(children=(IntProgress(value=0, max=128), HTML(value=u'')))"
      ]
     },
     "metadata": {},
     "output_type": "display_data"
    },
    {
     "name": "stdout",
     "output_type": "stream",
     "text": [
      "Epoch [11/50] train_loss: 0.1669, train_acc: 0.9788, val_loss: 4.0740, val_acc: 0.5924 \n"
     ]
    },
    {
     "data": {
      "application/vnd.jupyter.widget-view+json": {
       "model_id": "",
       "version_major": 2,
       "version_minor": 0
      },
      "text/plain": [
       "HBox(children=(IntProgress(value=0, max=1150), HTML(value=u'')))"
      ]
     },
     "metadata": {},
     "output_type": "display_data"
    },
    {
     "data": {
      "application/vnd.jupyter.widget-view+json": {
       "model_id": "",
       "version_major": 2,
       "version_minor": 0
      },
      "text/plain": [
       "HBox(children=(IntProgress(value=0, max=128), HTML(value=u'')))"
      ]
     },
     "metadata": {},
     "output_type": "display_data"
    },
    {
     "name": "stdout",
     "output_type": "stream",
     "text": [
      "Epoch [12/50] train_loss: 0.1206, train_acc: 0.9848, val_loss: 4.4786, val_acc: 0.5833 \n"
     ]
    },
    {
     "data": {
      "application/vnd.jupyter.widget-view+json": {
       "model_id": "",
       "version_major": 2,
       "version_minor": 0
      },
      "text/plain": [
       "HBox(children=(IntProgress(value=0, max=1150), HTML(value=u'')))"
      ]
     },
     "metadata": {},
     "output_type": "display_data"
    },
    {
     "data": {
      "application/vnd.jupyter.widget-view+json": {
       "model_id": "",
       "version_major": 2,
       "version_minor": 0
      },
      "text/plain": [
       "HBox(children=(IntProgress(value=0, max=128), HTML(value=u'')))"
      ]
     },
     "metadata": {},
     "output_type": "display_data"
    },
    {
     "name": "stdout",
     "output_type": "stream",
     "text": [
      "Epoch [13/50] train_loss: 0.1043, train_acc: 0.9848, val_loss: 4.2605, val_acc: 0.5872 \n"
     ]
    },
    {
     "data": {
      "application/vnd.jupyter.widget-view+json": {
       "model_id": "",
       "version_major": 2,
       "version_minor": 0
      },
      "text/plain": [
       "HBox(children=(IntProgress(value=0, max=1150), HTML(value=u'')))"
      ]
     },
     "metadata": {},
     "output_type": "display_data"
    },
    {
     "data": {
      "application/vnd.jupyter.widget-view+json": {
       "model_id": "",
       "version_major": 2,
       "version_minor": 0
      },
      "text/plain": [
       "HBox(children=(IntProgress(value=0, max=128), HTML(value=u'')))"
      ]
     },
     "metadata": {},
     "output_type": "display_data"
    },
    {
     "name": "stdout",
     "output_type": "stream",
     "text": [
      "Epoch [14/50] train_loss: 0.0846, train_acc: 0.9894, val_loss: 4.2447, val_acc: 0.6003 \n"
     ]
    },
    {
     "data": {
      "application/vnd.jupyter.widget-view+json": {
       "model_id": "",
       "version_major": 2,
       "version_minor": 0
      },
      "text/plain": [
       "HBox(children=(IntProgress(value=0, max=1150), HTML(value=u'')))"
      ]
     },
     "metadata": {},
     "output_type": "display_data"
    },
    {
     "data": {
      "application/vnd.jupyter.widget-view+json": {
       "model_id": "",
       "version_major": 2,
       "version_minor": 0
      },
      "text/plain": [
       "HBox(children=(IntProgress(value=0, max=128), HTML(value=u'')))"
      ]
     },
     "metadata": {},
     "output_type": "display_data"
    },
    {
     "name": "stdout",
     "output_type": "stream",
     "text": [
      "Epoch [15/50] train_loss: 0.0478, train_acc: 0.9946, val_loss: 4.7568, val_acc: 0.5990 \n"
     ]
    },
    {
     "data": {
      "application/vnd.jupyter.widget-view+json": {
       "model_id": "",
       "version_major": 2,
       "version_minor": 0
      },
      "text/plain": [
       "HBox(children=(IntProgress(value=0, max=1150), HTML(value=u'')))"
      ]
     },
     "metadata": {},
     "output_type": "display_data"
    },
    {
     "data": {
      "application/vnd.jupyter.widget-view+json": {
       "model_id": "",
       "version_major": 2,
       "version_minor": 0
      },
      "text/plain": [
       "HBox(children=(IntProgress(value=0, max=128), HTML(value=u'')))"
      ]
     },
     "metadata": {},
     "output_type": "display_data"
    },
    {
     "name": "stdout",
     "output_type": "stream",
     "text": [
      "Epoch [16/50] train_loss: 0.1239, train_acc: 0.9816, val_loss: 4.7264, val_acc: 0.5807 \n"
     ]
    },
    {
     "data": {
      "application/vnd.jupyter.widget-view+json": {
       "model_id": "",
       "version_major": 2,
       "version_minor": 0
      },
      "text/plain": [
       "HBox(children=(IntProgress(value=0, max=1150), HTML(value=u'')))"
      ]
     },
     "metadata": {},
     "output_type": "display_data"
    },
    {
     "data": {
      "application/vnd.jupyter.widget-view+json": {
       "model_id": "",
       "version_major": 2,
       "version_minor": 0
      },
      "text/plain": [
       "HBox(children=(IntProgress(value=0, max=128), HTML(value=u'')))"
      ]
     },
     "metadata": {},
     "output_type": "display_data"
    },
    {
     "name": "stdout",
     "output_type": "stream",
     "text": [
      "Epoch [17/50] train_loss: 0.0600, train_acc: 0.9922, val_loss: 4.7539, val_acc: 0.5938 \n"
     ]
    },
    {
     "data": {
      "application/vnd.jupyter.widget-view+json": {
       "model_id": "",
       "version_major": 2,
       "version_minor": 0
      },
      "text/plain": [
       "HBox(children=(IntProgress(value=0, max=1150), HTML(value=u'')))"
      ]
     },
     "metadata": {},
     "output_type": "display_data"
    },
    {
     "data": {
      "application/vnd.jupyter.widget-view+json": {
       "model_id": "",
       "version_major": 2,
       "version_minor": 0
      },
      "text/plain": [
       "HBox(children=(IntProgress(value=0, max=128), HTML(value=u'')))"
      ]
     },
     "metadata": {},
     "output_type": "display_data"
    },
    {
     "name": "stdout",
     "output_type": "stream",
     "text": [
      "Epoch [18/50] train_loss: 0.0460, train_acc: 0.9946, val_loss: 4.9862, val_acc: 0.5716 \n"
     ]
    },
    {
     "data": {
      "application/vnd.jupyter.widget-view+json": {
       "model_id": "",
       "version_major": 2,
       "version_minor": 0
      },
      "text/plain": [
       "HBox(children=(IntProgress(value=0, max=1150), HTML(value=u'')))"
      ]
     },
     "metadata": {},
     "output_type": "display_data"
    },
    {
     "data": {
      "application/vnd.jupyter.widget-view+json": {
       "model_id": "",
       "version_major": 2,
       "version_minor": 0
      },
      "text/plain": [
       "HBox(children=(IntProgress(value=0, max=128), HTML(value=u'')))"
      ]
     },
     "metadata": {},
     "output_type": "display_data"
    },
    {
     "name": "stdout",
     "output_type": "stream",
     "text": [
      "Epoch [19/50] train_loss: 0.0406, train_acc: 0.9957, val_loss: 4.7117, val_acc: 0.5911 \n"
     ]
    },
    {
     "data": {
      "application/vnd.jupyter.widget-view+json": {
       "model_id": "",
       "version_major": 2,
       "version_minor": 0
      },
      "text/plain": [
       "HBox(children=(IntProgress(value=0, max=1150), HTML(value=u'')))"
      ]
     },
     "metadata": {},
     "output_type": "display_data"
    },
    {
     "data": {
      "application/vnd.jupyter.widget-view+json": {
       "model_id": "",
       "version_major": 2,
       "version_minor": 0
      },
      "text/plain": [
       "HBox(children=(IntProgress(value=0, max=128), HTML(value=u'')))"
      ]
     },
     "metadata": {},
     "output_type": "display_data"
    },
    {
     "name": "stdout",
     "output_type": "stream",
     "text": [
      "Epoch [20/50] train_loss: 0.0285, train_acc: 0.9975, val_loss: 5.1285, val_acc: 0.5885 \n"
     ]
    },
    {
     "data": {
      "application/vnd.jupyter.widget-view+json": {
       "model_id": "",
       "version_major": 2,
       "version_minor": 0
      },
      "text/plain": [
       "HBox(children=(IntProgress(value=0, max=1150), HTML(value=u'')))"
      ]
     },
     "metadata": {},
     "output_type": "display_data"
    },
    {
     "data": {
      "application/vnd.jupyter.widget-view+json": {
       "model_id": "",
       "version_major": 2,
       "version_minor": 0
      },
      "text/plain": [
       "HBox(children=(IntProgress(value=0, max=128), HTML(value=u'')))"
      ]
     },
     "metadata": {},
     "output_type": "display_data"
    },
    {
     "name": "stdout",
     "output_type": "stream",
     "text": [
      "Epoch [21/50] train_loss: 0.0190, train_acc: 0.9988, val_loss: 5.1702, val_acc: 0.5938 \n"
     ]
    },
    {
     "data": {
      "application/vnd.jupyter.widget-view+json": {
       "model_id": "",
       "version_major": 2,
       "version_minor": 0
      },
      "text/plain": [
       "HBox(children=(IntProgress(value=0, max=1150), HTML(value=u'')))"
      ]
     },
     "metadata": {},
     "output_type": "display_data"
    },
    {
     "data": {
      "application/vnd.jupyter.widget-view+json": {
       "model_id": "",
       "version_major": 2,
       "version_minor": 0
      },
      "text/plain": [
       "HBox(children=(IntProgress(value=0, max=128), HTML(value=u'')))"
      ]
     },
     "metadata": {},
     "output_type": "display_data"
    },
    {
     "name": "stdout",
     "output_type": "stream",
     "text": [
      "Epoch [22/50] train_loss: 0.1182, train_acc: 0.9791, val_loss: 4.9019, val_acc: 0.5977 \n"
     ]
    },
    {
     "data": {
      "application/vnd.jupyter.widget-view+json": {
       "model_id": "",
       "version_major": 2,
       "version_minor": 0
      },
      "text/plain": [
       "HBox(children=(IntProgress(value=0, max=1150), HTML(value=u'')))"
      ]
     },
     "metadata": {},
     "output_type": "display_data"
    },
    {
     "data": {
      "application/vnd.jupyter.widget-view+json": {
       "model_id": "",
       "version_major": 2,
       "version_minor": 0
      },
      "text/plain": [
       "HBox(children=(IntProgress(value=0, max=128), HTML(value=u'')))"
      ]
     },
     "metadata": {},
     "output_type": "display_data"
    },
    {
     "name": "stdout",
     "output_type": "stream",
     "text": [
      "Epoch [23/50] train_loss: 0.0440, train_acc: 0.9939, val_loss: 5.2029, val_acc: 0.5807 \n"
     ]
    },
    {
     "data": {
      "application/vnd.jupyter.widget-view+json": {
       "model_id": "",
       "version_major": 2,
       "version_minor": 0
      },
      "text/plain": [
       "HBox(children=(IntProgress(value=0, max=1150), HTML(value=u'')))"
      ]
     },
     "metadata": {},
     "output_type": "display_data"
    },
    {
     "data": {
      "application/vnd.jupyter.widget-view+json": {
       "model_id": "",
       "version_major": 2,
       "version_minor": 0
      },
      "text/plain": [
       "HBox(children=(IntProgress(value=0, max=128), HTML(value=u'')))"
      ]
     },
     "metadata": {},
     "output_type": "display_data"
    },
    {
     "name": "stdout",
     "output_type": "stream",
     "text": [
      "Epoch [24/50] train_loss: 0.0110, train_acc: 0.9991, val_loss: 5.5647, val_acc: 0.5833 \n"
     ]
    },
    {
     "data": {
      "application/vnd.jupyter.widget-view+json": {
       "model_id": "",
       "version_major": 2,
       "version_minor": 0
      },
      "text/plain": [
       "HBox(children=(IntProgress(value=0, max=1150), HTML(value=u'')))"
      ]
     },
     "metadata": {},
     "output_type": "display_data"
    },
    {
     "data": {
      "application/vnd.jupyter.widget-view+json": {
       "model_id": "",
       "version_major": 2,
       "version_minor": 0
      },
      "text/plain": [
       "HBox(children=(IntProgress(value=0, max=128), HTML(value=u'')))"
      ]
     },
     "metadata": {},
     "output_type": "display_data"
    },
    {
     "name": "stdout",
     "output_type": "stream",
     "text": [
      "Epoch [25/50] train_loss: 0.0044, train_acc: 0.9999, val_loss: 5.8156, val_acc: 0.5794 \n"
     ]
    },
    {
     "data": {
      "application/vnd.jupyter.widget-view+json": {
       "model_id": "",
       "version_major": 2,
       "version_minor": 0
      },
      "text/plain": [
       "HBox(children=(IntProgress(value=0, max=1150), HTML(value=u'')))"
      ]
     },
     "metadata": {},
     "output_type": "display_data"
    },
    {
     "data": {
      "application/vnd.jupyter.widget-view+json": {
       "model_id": "",
       "version_major": 2,
       "version_minor": 0
      },
      "text/plain": [
       "HBox(children=(IntProgress(value=0, max=128), HTML(value=u'')))"
      ]
     },
     "metadata": {},
     "output_type": "display_data"
    },
    {
     "name": "stdout",
     "output_type": "stream",
     "text": [
      "Epoch [26/50] train_loss: 0.0025, train_acc: 0.9999, val_loss: 6.1100, val_acc: 0.5833 \n"
     ]
    },
    {
     "data": {
      "application/vnd.jupyter.widget-view+json": {
       "model_id": "",
       "version_major": 2,
       "version_minor": 0
      },
      "text/plain": [
       "HBox(children=(IntProgress(value=0, max=1150), HTML(value=u'')))"
      ]
     },
     "metadata": {},
     "output_type": "display_data"
    },
    {
     "data": {
      "application/vnd.jupyter.widget-view+json": {
       "model_id": "",
       "version_major": 2,
       "version_minor": 0
      },
      "text/plain": [
       "HBox(children=(IntProgress(value=0, max=128), HTML(value=u'')))"
      ]
     },
     "metadata": {},
     "output_type": "display_data"
    },
    {
     "name": "stdout",
     "output_type": "stream",
     "text": [
      "Epoch [27/50] train_loss: 0.0016, train_acc: 1.0000, val_loss: 6.3728, val_acc: 0.5820 \n"
     ]
    },
    {
     "data": {
      "application/vnd.jupyter.widget-view+json": {
       "model_id": "",
       "version_major": 2,
       "version_minor": 0
      },
      "text/plain": [
       "HBox(children=(IntProgress(value=0, max=1150), HTML(value=u'')))"
      ]
     },
     "metadata": {},
     "output_type": "display_data"
    },
    {
     "data": {
      "application/vnd.jupyter.widget-view+json": {
       "model_id": "",
       "version_major": 2,
       "version_minor": 0
      },
      "text/plain": [
       "HBox(children=(IntProgress(value=0, max=128), HTML(value=u'')))"
      ]
     },
     "metadata": {},
     "output_type": "display_data"
    },
    {
     "name": "stdout",
     "output_type": "stream",
     "text": [
      "Epoch [28/50] train_loss: 0.0009, train_acc: 1.0000, val_loss: 6.7639, val_acc: 0.5859 \n"
     ]
    },
    {
     "data": {
      "application/vnd.jupyter.widget-view+json": {
       "model_id": "",
       "version_major": 2,
       "version_minor": 0
      },
      "text/plain": [
       "HBox(children=(IntProgress(value=0, max=1150), HTML(value=u'')))"
      ]
     },
     "metadata": {},
     "output_type": "display_data"
    },
    {
     "data": {
      "application/vnd.jupyter.widget-view+json": {
       "model_id": "",
       "version_major": 2,
       "version_minor": 0
      },
      "text/plain": [
       "HBox(children=(IntProgress(value=0, max=128), HTML(value=u'')))"
      ]
     },
     "metadata": {},
     "output_type": "display_data"
    },
    {
     "name": "stdout",
     "output_type": "stream",
     "text": [
      "Epoch [29/50] train_loss: 0.0005, train_acc: 1.0000, val_loss: 7.1123, val_acc: 0.5807 \n"
     ]
    },
    {
     "data": {
      "application/vnd.jupyter.widget-view+json": {
       "model_id": "",
       "version_major": 2,
       "version_minor": 0
      },
      "text/plain": [
       "HBox(children=(IntProgress(value=0, max=1150), HTML(value=u'')))"
      ]
     },
     "metadata": {},
     "output_type": "display_data"
    },
    {
     "data": {
      "application/vnd.jupyter.widget-view+json": {
       "model_id": "",
       "version_major": 2,
       "version_minor": 0
      },
      "text/plain": [
       "HBox(children=(IntProgress(value=0, max=128), HTML(value=u'')))"
      ]
     },
     "metadata": {},
     "output_type": "display_data"
    },
    {
     "name": "stdout",
     "output_type": "stream",
     "text": [
      "Epoch [30/50] train_loss: 0.0003, train_acc: 1.0000, val_loss: 7.5072, val_acc: 0.5742 \n"
     ]
    },
    {
     "data": {
      "application/vnd.jupyter.widget-view+json": {
       "model_id": "",
       "version_major": 2,
       "version_minor": 0
      },
      "text/plain": [
       "HBox(children=(IntProgress(value=0, max=1150), HTML(value=u'')))"
      ]
     },
     "metadata": {},
     "output_type": "display_data"
    },
    {
     "data": {
      "application/vnd.jupyter.widget-view+json": {
       "model_id": "",
       "version_major": 2,
       "version_minor": 0
      },
      "text/plain": [
       "HBox(children=(IntProgress(value=0, max=128), HTML(value=u'')))"
      ]
     },
     "metadata": {},
     "output_type": "display_data"
    },
    {
     "name": "stdout",
     "output_type": "stream",
     "text": [
      "Epoch [31/50] train_loss: 0.0002, train_acc: 1.0000, val_loss: 7.9493, val_acc: 0.5690 \n"
     ]
    },
    {
     "data": {
      "application/vnd.jupyter.widget-view+json": {
       "model_id": "",
       "version_major": 2,
       "version_minor": 0
      },
      "text/plain": [
       "HBox(children=(IntProgress(value=0, max=1150), HTML(value=u'')))"
      ]
     },
     "metadata": {},
     "output_type": "display_data"
    },
    {
     "data": {
      "application/vnd.jupyter.widget-view+json": {
       "model_id": "",
       "version_major": 2,
       "version_minor": 0
      },
      "text/plain": [
       "HBox(children=(IntProgress(value=0, max=128), HTML(value=u'')))"
      ]
     },
     "metadata": {},
     "output_type": "display_data"
    },
    {
     "name": "stdout",
     "output_type": "stream",
     "text": [
      "Epoch [32/50] train_loss: 0.2265, train_acc: 0.9680, val_loss: 6.0968, val_acc: 0.5885 \n"
     ]
    },
    {
     "data": {
      "application/vnd.jupyter.widget-view+json": {
       "model_id": "",
       "version_major": 2,
       "version_minor": 0
      },
      "text/plain": [
       "HBox(children=(IntProgress(value=0, max=1150), HTML(value=u'')))"
      ]
     },
     "metadata": {},
     "output_type": "display_data"
    },
    {
     "data": {
      "application/vnd.jupyter.widget-view+json": {
       "model_id": "",
       "version_major": 2,
       "version_minor": 0
      },
      "text/plain": [
       "HBox(children=(IntProgress(value=0, max=128), HTML(value=u'')))"
      ]
     },
     "metadata": {},
     "output_type": "display_data"
    },
    {
     "name": "stdout",
     "output_type": "stream",
     "text": [
      "Epoch [33/50] train_loss: 0.0721, train_acc: 0.9868, val_loss: 5.7560, val_acc: 0.5716 \n"
     ]
    },
    {
     "data": {
      "application/vnd.jupyter.widget-view+json": {
       "model_id": "",
       "version_major": 2,
       "version_minor": 0
      },
      "text/plain": [
       "HBox(children=(IntProgress(value=0, max=1150), HTML(value=u'')))"
      ]
     },
     "metadata": {},
     "output_type": "display_data"
    },
    {
     "data": {
      "application/vnd.jupyter.widget-view+json": {
       "model_id": "",
       "version_major": 2,
       "version_minor": 0
      },
      "text/plain": [
       "HBox(children=(IntProgress(value=0, max=128), HTML(value=u'')))"
      ]
     },
     "metadata": {},
     "output_type": "display_data"
    },
    {
     "name": "stdout",
     "output_type": "stream",
     "text": [
      "Epoch [34/50] train_loss: 0.0117, train_acc: 0.9988, val_loss: 6.0146, val_acc: 0.5651 \n"
     ]
    },
    {
     "data": {
      "application/vnd.jupyter.widget-view+json": {
       "model_id": "",
       "version_major": 2,
       "version_minor": 0
      },
      "text/plain": [
       "HBox(children=(IntProgress(value=0, max=1150), HTML(value=u'')))"
      ]
     },
     "metadata": {},
     "output_type": "display_data"
    },
    {
     "data": {
      "application/vnd.jupyter.widget-view+json": {
       "model_id": "",
       "version_major": 2,
       "version_minor": 0
      },
      "text/plain": [
       "HBox(children=(IntProgress(value=0, max=128), HTML(value=u'')))"
      ]
     },
     "metadata": {},
     "output_type": "display_data"
    },
    {
     "name": "stdout",
     "output_type": "stream",
     "text": [
      "Epoch [35/50] train_loss: 0.0029, train_acc: 1.0000, val_loss: 6.1968, val_acc: 0.5599 \n"
     ]
    },
    {
     "data": {
      "application/vnd.jupyter.widget-view+json": {
       "model_id": "",
       "version_major": 2,
       "version_minor": 0
      },
      "text/plain": [
       "HBox(children=(IntProgress(value=0, max=1150), HTML(value=u'')))"
      ]
     },
     "metadata": {},
     "output_type": "display_data"
    },
    {
     "data": {
      "application/vnd.jupyter.widget-view+json": {
       "model_id": "",
       "version_major": 2,
       "version_minor": 0
      },
      "text/plain": [
       "HBox(children=(IntProgress(value=0, max=128), HTML(value=u'')))"
      ]
     },
     "metadata": {},
     "output_type": "display_data"
    },
    {
     "name": "stdout",
     "output_type": "stream",
     "text": [
      "Epoch [36/50] train_loss: 0.0015, train_acc: 1.0000, val_loss: 6.3793, val_acc: 0.5664 \n"
     ]
    },
    {
     "data": {
      "application/vnd.jupyter.widget-view+json": {
       "model_id": "",
       "version_major": 2,
       "version_minor": 0
      },
      "text/plain": [
       "HBox(children=(IntProgress(value=0, max=1150), HTML(value=u'')))"
      ]
     },
     "metadata": {},
     "output_type": "display_data"
    },
    {
     "data": {
      "application/vnd.jupyter.widget-view+json": {
       "model_id": "",
       "version_major": 2,
       "version_minor": 0
      },
      "text/plain": [
       "HBox(children=(IntProgress(value=0, max=128), HTML(value=u'')))"
      ]
     },
     "metadata": {},
     "output_type": "display_data"
    },
    {
     "name": "stdout",
     "output_type": "stream",
     "text": [
      "Epoch [37/50] train_loss: 0.0009, train_acc: 1.0000, val_loss: 6.5735, val_acc: 0.5638 \n"
     ]
    },
    {
     "data": {
      "application/vnd.jupyter.widget-view+json": {
       "model_id": "",
       "version_major": 2,
       "version_minor": 0
      },
      "text/plain": [
       "HBox(children=(IntProgress(value=0, max=1150), HTML(value=u'')))"
      ]
     },
     "metadata": {},
     "output_type": "display_data"
    },
    {
     "data": {
      "application/vnd.jupyter.widget-view+json": {
       "model_id": "",
       "version_major": 2,
       "version_minor": 0
      },
      "text/plain": [
       "HBox(children=(IntProgress(value=0, max=128), HTML(value=u'')))"
      ]
     },
     "metadata": {},
     "output_type": "display_data"
    },
    {
     "name": "stdout",
     "output_type": "stream",
     "text": [
      "Epoch [38/50] train_loss: 0.0006, train_acc: 1.0000, val_loss: 6.8209, val_acc: 0.5586 \n"
     ]
    },
    {
     "data": {
      "application/vnd.jupyter.widget-view+json": {
       "model_id": "",
       "version_major": 2,
       "version_minor": 0
      },
      "text/plain": [
       "HBox(children=(IntProgress(value=0, max=1150), HTML(value=u'')))"
      ]
     },
     "metadata": {},
     "output_type": "display_data"
    },
    {
     "data": {
      "application/vnd.jupyter.widget-view+json": {
       "model_id": "",
       "version_major": 2,
       "version_minor": 0
      },
      "text/plain": [
       "HBox(children=(IntProgress(value=0, max=128), HTML(value=u'')))"
      ]
     },
     "metadata": {},
     "output_type": "display_data"
    },
    {
     "name": "stdout",
     "output_type": "stream",
     "text": [
      "Epoch [39/50] train_loss: 0.0004, train_acc: 1.0000, val_loss: 7.0816, val_acc: 0.5547 \n"
     ]
    },
    {
     "data": {
      "application/vnd.jupyter.widget-view+json": {
       "model_id": "",
       "version_major": 2,
       "version_minor": 0
      },
      "text/plain": [
       "HBox(children=(IntProgress(value=0, max=1150), HTML(value=u'')))"
      ]
     },
     "metadata": {},
     "output_type": "display_data"
    },
    {
     "data": {
      "application/vnd.jupyter.widget-view+json": {
       "model_id": "",
       "version_major": 2,
       "version_minor": 0
      },
      "text/plain": [
       "HBox(children=(IntProgress(value=0, max=128), HTML(value=u'')))"
      ]
     },
     "metadata": {},
     "output_type": "display_data"
    },
    {
     "name": "stdout",
     "output_type": "stream",
     "text": [
      "Epoch [40/50] train_loss: 0.0002, train_acc: 1.0000, val_loss: 7.3976, val_acc: 0.5651 \n"
     ]
    },
    {
     "data": {
      "application/vnd.jupyter.widget-view+json": {
       "model_id": "",
       "version_major": 2,
       "version_minor": 0
      },
      "text/plain": [
       "HBox(children=(IntProgress(value=0, max=1150), HTML(value=u'')))"
      ]
     },
     "metadata": {},
     "output_type": "display_data"
    },
    {
     "data": {
      "application/vnd.jupyter.widget-view+json": {
       "model_id": "",
       "version_major": 2,
       "version_minor": 0
      },
      "text/plain": [
       "HBox(children=(IntProgress(value=0, max=128), HTML(value=u'')))"
      ]
     },
     "metadata": {},
     "output_type": "display_data"
    },
    {
     "name": "stdout",
     "output_type": "stream",
     "text": [
      "Epoch [41/50] train_loss: 0.0001, train_acc: 1.0000, val_loss: 7.7657, val_acc: 0.5638 \n"
     ]
    },
    {
     "data": {
      "application/vnd.jupyter.widget-view+json": {
       "model_id": "",
       "version_major": 2,
       "version_minor": 0
      },
      "text/plain": [
       "HBox(children=(IntProgress(value=0, max=1150), HTML(value=u'')))"
      ]
     },
     "metadata": {},
     "output_type": "display_data"
    },
    {
     "data": {
      "application/vnd.jupyter.widget-view+json": {
       "model_id": "",
       "version_major": 2,
       "version_minor": 0
      },
      "text/plain": [
       "HBox(children=(IntProgress(value=0, max=128), HTML(value=u'')))"
      ]
     },
     "metadata": {},
     "output_type": "display_data"
    },
    {
     "name": "stdout",
     "output_type": "stream",
     "text": [
      "Epoch [42/50] train_loss: 0.0001, train_acc: 1.0000, val_loss: 8.0809, val_acc: 0.5638 \n"
     ]
    },
    {
     "data": {
      "application/vnd.jupyter.widget-view+json": {
       "model_id": "",
       "version_major": 2,
       "version_minor": 0
      },
      "text/plain": [
       "HBox(children=(IntProgress(value=0, max=1150), HTML(value=u'')))"
      ]
     },
     "metadata": {},
     "output_type": "display_data"
    },
    {
     "data": {
      "application/vnd.jupyter.widget-view+json": {
       "model_id": "",
       "version_major": 2,
       "version_minor": 0
      },
      "text/plain": [
       "HBox(children=(IntProgress(value=0, max=128), HTML(value=u'')))"
      ]
     },
     "metadata": {},
     "output_type": "display_data"
    },
    {
     "name": "stdout",
     "output_type": "stream",
     "text": [
      "Epoch [43/50] train_loss: 0.0000, train_acc: 1.0000, val_loss: 8.4436, val_acc: 0.5638 \n"
     ]
    },
    {
     "data": {
      "application/vnd.jupyter.widget-view+json": {
       "model_id": "",
       "version_major": 2,
       "version_minor": 0
      },
      "text/plain": [
       "HBox(children=(IntProgress(value=0, max=1150), HTML(value=u'')))"
      ]
     },
     "metadata": {},
     "output_type": "display_data"
    },
    {
     "data": {
      "application/vnd.jupyter.widget-view+json": {
       "model_id": "",
       "version_major": 2,
       "version_minor": 0
      },
      "text/plain": [
       "HBox(children=(IntProgress(value=0, max=128), HTML(value=u'')))"
      ]
     },
     "metadata": {},
     "output_type": "display_data"
    },
    {
     "name": "stdout",
     "output_type": "stream",
     "text": [
      "Epoch [44/50] train_loss: 0.0000, train_acc: 1.0000, val_loss: 8.8781, val_acc: 0.5651 \n"
     ]
    },
    {
     "data": {
      "application/vnd.jupyter.widget-view+json": {
       "model_id": "",
       "version_major": 2,
       "version_minor": 0
      },
      "text/plain": [
       "HBox(children=(IntProgress(value=0, max=1150), HTML(value=u'')))"
      ]
     },
     "metadata": {},
     "output_type": "display_data"
    },
    {
     "data": {
      "application/vnd.jupyter.widget-view+json": {
       "model_id": "",
       "version_major": 2,
       "version_minor": 0
      },
      "text/plain": [
       "HBox(children=(IntProgress(value=0, max=128), HTML(value=u'')))"
      ]
     },
     "metadata": {},
     "output_type": "display_data"
    },
    {
     "name": "stdout",
     "output_type": "stream",
     "text": [
      "Epoch [45/50] train_loss: 0.0000, train_acc: 1.0000, val_loss: 9.2601, val_acc: 0.5638 \n"
     ]
    },
    {
     "data": {
      "application/vnd.jupyter.widget-view+json": {
       "model_id": "",
       "version_major": 2,
       "version_minor": 0
      },
      "text/plain": [
       "HBox(children=(IntProgress(value=0, max=1150), HTML(value=u'')))"
      ]
     },
     "metadata": {},
     "output_type": "display_data"
    },
    {
     "data": {
      "application/vnd.jupyter.widget-view+json": {
       "model_id": "",
       "version_major": 2,
       "version_minor": 0
      },
      "text/plain": [
       "HBox(children=(IntProgress(value=0, max=128), HTML(value=u'')))"
      ]
     },
     "metadata": {},
     "output_type": "display_data"
    },
    {
     "name": "stdout",
     "output_type": "stream",
     "text": [
      "Epoch [46/50] train_loss: 0.0000, train_acc: 1.0000, val_loss: 9.6819, val_acc: 0.5677 \n"
     ]
    },
    {
     "data": {
      "application/vnd.jupyter.widget-view+json": {
       "model_id": "",
       "version_major": 2,
       "version_minor": 0
      },
      "text/plain": [
       "HBox(children=(IntProgress(value=0, max=1150), HTML(value=u'')))"
      ]
     },
     "metadata": {},
     "output_type": "display_data"
    },
    {
     "data": {
      "application/vnd.jupyter.widget-view+json": {
       "model_id": "",
       "version_major": 2,
       "version_minor": 0
      },
      "text/plain": [
       "HBox(children=(IntProgress(value=0, max=128), HTML(value=u'')))"
      ]
     },
     "metadata": {},
     "output_type": "display_data"
    },
    {
     "name": "stdout",
     "output_type": "stream",
     "text": [
      "Epoch [47/50] train_loss: 0.0000, train_acc: 1.0000, val_loss: 10.0125, val_acc: 0.5599 \n"
     ]
    },
    {
     "data": {
      "application/vnd.jupyter.widget-view+json": {
       "model_id": "",
       "version_major": 2,
       "version_minor": 0
      },
      "text/plain": [
       "HBox(children=(IntProgress(value=0, max=1150), HTML(value=u'')))"
      ]
     },
     "metadata": {},
     "output_type": "display_data"
    },
    {
     "data": {
      "application/vnd.jupyter.widget-view+json": {
       "model_id": "",
       "version_major": 2,
       "version_minor": 0
      },
      "text/plain": [
       "HBox(children=(IntProgress(value=0, max=128), HTML(value=u'')))"
      ]
     },
     "metadata": {},
     "output_type": "display_data"
    },
    {
     "name": "stdout",
     "output_type": "stream",
     "text": [
      "Epoch [48/50] train_loss: 0.0000, train_acc: 1.0000, val_loss: 10.4498, val_acc: 0.5664 \n"
     ]
    },
    {
     "data": {
      "application/vnd.jupyter.widget-view+json": {
       "model_id": "",
       "version_major": 2,
       "version_minor": 0
      },
      "text/plain": [
       "HBox(children=(IntProgress(value=0, max=1150), HTML(value=u'')))"
      ]
     },
     "metadata": {},
     "output_type": "display_data"
    },
    {
     "data": {
      "application/vnd.jupyter.widget-view+json": {
       "model_id": "",
       "version_major": 2,
       "version_minor": 0
      },
      "text/plain": [
       "HBox(children=(IntProgress(value=0, max=128), HTML(value=u'')))"
      ]
     },
     "metadata": {},
     "output_type": "display_data"
    },
    {
     "name": "stdout",
     "output_type": "stream",
     "text": [
      "Epoch [49/50] train_loss: 0.3228, train_acc: 0.9629, val_loss: 7.5208, val_acc: 0.5977 \n"
     ]
    },
    {
     "data": {
      "application/vnd.jupyter.widget-view+json": {
       "model_id": "",
       "version_major": 2,
       "version_minor": 0
      },
      "text/plain": [
       "HBox(children=(IntProgress(value=0, max=1150), HTML(value=u'')))"
      ]
     },
     "metadata": {},
     "output_type": "display_data"
    },
    {
     "data": {
      "application/vnd.jupyter.widget-view+json": {
       "model_id": "",
       "version_major": 2,
       "version_minor": 0
      },
      "text/plain": [
       "HBox(children=(IntProgress(value=0, max=128), HTML(value=u'')))"
      ]
     },
     "metadata": {},
     "output_type": "display_data"
    },
    {
     "name": "stdout",
     "output_type": "stream",
     "text": [
      "Epoch [50/50] train_loss: 0.0573, train_acc: 0.9897, val_loss: 7.0544, val_acc: 0.5794 \n",
      "\n"
     ]
    }
   ],
   "source": [
    "opt = optim.Adam(filter(lambda p: p.requires_grad, m.parameters()), 1e-3)\n",
    "\n",
    "train_acc_list, train_loss_list, val_acc_list, val_loss_list = fit(model=m, train_dl=train_batch_it, val_dl=val_batch_it, loss_fn=F.nll_loss, opt=opt, epochs=50)"
   ]
  },
  {
   "cell_type": "code",
   "execution_count": 39,
   "metadata": {},
   "outputs": [],
   "source": [
    "import matplotlib.pyplot as plt"
   ]
  },
  {
   "cell_type": "code",
   "execution_count": 40,
   "metadata": {},
   "outputs": [
    {
     "data": {
      "image/png": "[encoded data removed]",
      "text/plain": [
       "<Figure size 432x288 with 1 Axes>"
      ]
     },
     "metadata": {
      "needs_background": "light"
     },
     "output_type": "display_data"
    }
   ],
   "source": [
    "#plot train/val accuracies\n",
    "plt.title(\"Train/Test Acc\")\n",
    "plt.xlabel(\"epoch\")\n",
    "plt.ylabel('acc')\n",
    "line1 = plt.plot(train_acc_list, color='red')\n",
    "line2 = plt.plot(val_acc_list, color='blue')\n",
    "plt.legend(['Train', 'Test'], loc='upper left')\n",
    "plt.savefig('nlpgruacc.png')   # save the figure to file\n",
    "plt.show()\n",
    "plt.close()"
   ]
  },
  {
   "cell_type": "code",
   "execution_count": 41,
   "metadata": {},
   "outputs": [
    {
     "data": {
      "image/png": "[encoded data removed]",
      "text/plain": [
       "<Figure size 432x288 with 1 Axes>"
      ]
     },
     "metadata": {
      "needs_background": "light"
     },
     "output_type": "display_data"
    }
   ],
   "source": [
    "#plot train/val accuracies\n",
    "plt.title(\"Train/Test Loss\")\n",
    "plt.xlabel(\"epoch\")\n",
    "plt.ylabel('loss')\n",
    "line1 = plt.plot(train_loss_list, color='red')\n",
    "line2 = plt.plot(val_loss_list, color='blue')\n",
    "plt.legend(['Train', 'Test'], loc='upper left')\n",
    "plt.savefig('nlpgruloss.png')   # save the figure to file\n",
    "plt.show()\n",
    "plt.close()"
   ]
  },
  {
   "cell_type": "code",
   "execution_count": 42,
   "metadata": {},
   "outputs": [
    {
     "name": "stdout",
     "output_type": "stream",
     "text": [
      "torch.Size([12675, 100])\n",
      "torch.Size([192, 100])\n",
      "torch.Size([192, 64])\n",
      "torch.Size([192])\n",
      "torch.Size([192])\n",
      "torch.Size([192, 100])\n",
      "torch.Size([192, 64])\n",
      "torch.Size([192])\n",
      "torch.Size([192])\n",
      "torch.Size([2, 256])\n",
      "torch.Size([2])\n",
      "torch.Size([4, 256])\n",
      "torch.Size([4])\n"
     ]
    }
   ],
   "source": [
    "m = ConcatPoolingGRUAdaptive(vocab_size, embedding_dim, n_hidden, n_out_yc, n_out_yf, trainds.fields['corpus'].vocab.vectors).to(device)\n",
    "for i in m.parameters():\n",
    "    print(i.shape)"
   ]
  },
  {
   "cell_type": "code",
   "execution_count": 43,
   "metadata": {},
   "outputs": [
    {
     "data": {
      "application/vnd.jupyter.widget-view+json": {
       "model_id": "dacd77f7850d4f7cbdba28d6bf133726",
       "version_major": 2,
       "version_minor": 0
      },
      "text/plain": [
       "HBox(children=(IntProgress(value=0, max=50), HTML(value=u'')))"
      ]
     },
     "metadata": {},
     "output_type": "display_data"
    },
    {
     "data": {
      "application/vnd.jupyter.widget-view+json": {
       "model_id": "",
       "version_major": 2,
       "version_minor": 0
      },
      "text/plain": [
       "HBox(children=(IntProgress(value=0, max=1150), HTML(value=u'')))"
      ]
     },
     "metadata": {},
     "output_type": "display_data"
    },
    {
     "name": "stderr",
     "output_type": "stream",
     "text": [
      "/Users/jayanth/Library/Python/2.7/lib/python/site-packages/ipykernel_launcher.py:36: UserWarning: Implicit dimension choice for log_softmax has been deprecated. Change the call to include dim=X as an argument.\n"
     ]
    },
    {
     "data": {
      "application/vnd.jupyter.widget-view+json": {
       "model_id": "",
       "version_major": 2,
       "version_minor": 0
      },
      "text/plain": [
       "HBox(children=(IntProgress(value=0, max=128), HTML(value=u'')))"
      ]
     },
     "metadata": {},
     "output_type": "display_data"
    },
    {
     "name": "stdout",
     "output_type": "stream",
     "text": [
      "Epoch [1/50] train_loss: 1.6291, train_acc: 0.6030, val_loss: 1.5477, val_acc: 0.6159 \n"
     ]
    },
    {
     "data": {
      "application/vnd.jupyter.widget-view+json": {
       "model_id": "",
       "version_major": 2,
       "version_minor": 0
      },
      "text/plain": [
       "HBox(children=(IntProgress(value=0, max=1150), HTML(value=u'')))"
      ]
     },
     "metadata": {},
     "output_type": "display_data"
    },
    {
     "data": {
      "application/vnd.jupyter.widget-view+json": {
       "model_id": "",
       "version_major": 2,
       "version_minor": 0
      },
      "text/plain": [
       "HBox(children=(IntProgress(value=0, max=128), HTML(value=u'')))"
      ]
     },
     "metadata": {},
     "output_type": "display_data"
    },
    {
     "name": "stdout",
     "output_type": "stream",
     "text": [
      "Epoch [2/50] train_loss: 1.4485, train_acc: 0.6693, val_loss: 1.5366, val_acc: 0.6458 \n"
     ]
    },
    {
     "data": {
      "application/vnd.jupyter.widget-view+json": {
       "model_id": "",
       "version_major": 2,
       "version_minor": 0
      },
      "text/plain": [
       "HBox(children=(IntProgress(value=0, max=1150), HTML(value=u'')))"
      ]
     },
     "metadata": {},
     "output_type": "display_data"
    },
    {
     "data": {
      "application/vnd.jupyter.widget-view+json": {
       "model_id": "",
       "version_major": 2,
       "version_minor": 0
      },
      "text/plain": [
       "HBox(children=(IntProgress(value=0, max=128), HTML(value=u'')))"
      ]
     },
     "metadata": {},
     "output_type": "display_data"
    },
    {
     "name": "stdout",
     "output_type": "stream",
     "text": [
      "Epoch [3/50] train_loss: 1.3003, train_acc: 0.7183, val_loss: 1.6037, val_acc: 0.6289 \n"
     ]
    },
    {
     "data": {
      "application/vnd.jupyter.widget-view+json": {
       "model_id": "",
       "version_major": 2,
       "version_minor": 0
      },
      "text/plain": [
       "HBox(children=(IntProgress(value=0, max=1150), HTML(value=u'')))"
      ]
     },
     "metadata": {},
     "output_type": "display_data"
    },
    {
     "data": {
      "application/vnd.jupyter.widget-view+json": {
       "model_id": "",
       "version_major": 2,
       "version_minor": 0
      },
      "text/plain": [
       "HBox(children=(IntProgress(value=0, max=128), HTML(value=u'')))"
      ]
     },
     "metadata": {},
     "output_type": "display_data"
    },
    {
     "name": "stdout",
     "output_type": "stream",
     "text": [
      "Epoch [4/50] train_loss: 1.1009, train_acc: 0.7691, val_loss: 1.5630, val_acc: 0.6328 \n"
     ]
    },
    {
     "data": {
      "application/vnd.jupyter.widget-view+json": {
       "model_id": "",
       "version_major": 2,
       "version_minor": 0
      },
      "text/plain": [
       "HBox(children=(IntProgress(value=0, max=1150), HTML(value=u'')))"
      ]
     },
     "metadata": {},
     "output_type": "display_data"
    },
    {
     "data": {
      "application/vnd.jupyter.widget-view+json": {
       "model_id": "",
       "version_major": 2,
       "version_minor": 0
      },
      "text/plain": [
       "HBox(children=(IntProgress(value=0, max=128), HTML(value=u'')))"
      ]
     },
     "metadata": {},
     "output_type": "display_data"
    },
    {
     "name": "stdout",
     "output_type": "stream",
     "text": [
      "Epoch [5/50] train_loss: 0.8772, train_acc: 0.8346, val_loss: 1.7750, val_acc: 0.6237 \n"
     ]
    },
    {
     "data": {
      "application/vnd.jupyter.widget-view+json": {
       "model_id": "",
       "version_major": 2,
       "version_minor": 0
      },
      "text/plain": [
       "HBox(children=(IntProgress(value=0, max=1150), HTML(value=u'')))"
      ]
     },
     "metadata": {},
     "output_type": "display_data"
    },
    {
     "data": {
      "application/vnd.jupyter.widget-view+json": {
       "model_id": "",
       "version_major": 2,
       "version_minor": 0
      },
      "text/plain": [
       "HBox(children=(IntProgress(value=0, max=128), HTML(value=u'')))"
      ]
     },
     "metadata": {},
     "output_type": "display_data"
    },
    {
     "name": "stdout",
     "output_type": "stream",
     "text": [
      "Epoch [6/50] train_loss: 0.6626, train_acc: 0.8857, val_loss: 1.7341, val_acc: 0.6289 \n"
     ]
    },
    {
     "data": {
      "application/vnd.jupyter.widget-view+json": {
       "model_id": "",
       "version_major": 2,
       "version_minor": 0
      },
      "text/plain": [
       "HBox(children=(IntProgress(value=0, max=1150), HTML(value=u'')))"
      ]
     },
     "metadata": {},
     "output_type": "display_data"
    },
    {
     "data": {
      "application/vnd.jupyter.widget-view+json": {
       "model_id": "",
       "version_major": 2,
       "version_minor": 0
      },
      "text/plain": [
       "HBox(children=(IntProgress(value=0, max=128), HTML(value=u'')))"
      ]
     },
     "metadata": {},
     "output_type": "display_data"
    },
    {
     "name": "stdout",
     "output_type": "stream",
     "text": [
      "Epoch [7/50] train_loss: 0.4540, train_acc: 0.9358, val_loss: 1.9752, val_acc: 0.6081 \n"
     ]
    },
    {
     "data": {
      "application/vnd.jupyter.widget-view+json": {
       "model_id": "",
       "version_major": 2,
       "version_minor": 0
      },
      "text/plain": [
       "HBox(children=(IntProgress(value=0, max=1150), HTML(value=u'')))"
      ]
     },
     "metadata": {},
     "output_type": "display_data"
    },
    {
     "data": {
      "application/vnd.jupyter.widget-view+json": {
       "model_id": "",
       "version_major": 2,
       "version_minor": 0
      },
      "text/plain": [
       "HBox(children=(IntProgress(value=0, max=128), HTML(value=u'')))"
      ]
     },
     "metadata": {},
     "output_type": "display_data"
    },
    {
     "name": "stdout",
     "output_type": "stream",
     "text": [
      "Epoch [8/50] train_loss: 0.3079, train_acc: 0.9626, val_loss: 2.0919, val_acc: 0.6354 \n"
     ]
    },
    {
     "data": {
      "application/vnd.jupyter.widget-view+json": {
       "model_id": "",
       "version_major": 2,
       "version_minor": 0
      },
      "text/plain": [
       "HBox(children=(IntProgress(value=0, max=1150), HTML(value=u'')))"
      ]
     },
     "metadata": {},
     "output_type": "display_data"
    },
    {
     "data": {
      "application/vnd.jupyter.widget-view+json": {
       "model_id": "",
       "version_major": 2,
       "version_minor": 0
      },
      "text/plain": [
       "HBox(children=(IntProgress(value=0, max=128), HTML(value=u'')))"
      ]
     },
     "metadata": {},
     "output_type": "display_data"
    },
    {
     "name": "stdout",
     "output_type": "stream",
     "text": [
      "Epoch [9/50] train_loss: 0.1952, train_acc: 0.9796, val_loss: 2.2878, val_acc: 0.6146 \n"
     ]
    },
    {
     "data": {
      "application/vnd.jupyter.widget-view+json": {
       "model_id": "",
       "version_major": 2,
       "version_minor": 0
      },
      "text/plain": [
       "HBox(children=(IntProgress(value=0, max=1150), HTML(value=u'')))"
      ]
     },
     "metadata": {},
     "output_type": "display_data"
    },
    {
     "data": {
      "application/vnd.jupyter.widget-view+json": {
       "model_id": "",
       "version_major": 2,
       "version_minor": 0
      },
      "text/plain": [
       "HBox(children=(IntProgress(value=0, max=128), HTML(value=u'')))"
      ]
     },
     "metadata": {},
     "output_type": "display_data"
    },
    {
     "name": "stdout",
     "output_type": "stream",
     "text": [
      "Epoch [10/50] train_loss: 0.1200, train_acc: 0.9912, val_loss: 2.7658, val_acc: 0.6159 \n"
     ]
    },
    {
     "data": {
      "application/vnd.jupyter.widget-view+json": {
       "model_id": "",
       "version_major": 2,
       "version_minor": 0
      },
      "text/plain": [
       "HBox(children=(IntProgress(value=0, max=1150), HTML(value=u'')))"
      ]
     },
     "metadata": {},
     "output_type": "display_data"
    },
    {
     "data": {
      "application/vnd.jupyter.widget-view+json": {
       "model_id": "",
       "version_major": 2,
       "version_minor": 0
      },
      "text/plain": [
       "HBox(children=(IntProgress(value=0, max=128), HTML(value=u'')))"
      ]
     },
     "metadata": {},
     "output_type": "display_data"
    },
    {
     "name": "stdout",
     "output_type": "stream",
     "text": [
      "Epoch [11/50] train_loss: 0.0772, train_acc: 0.9954, val_loss: 2.9254, val_acc: 0.5977 \n"
     ]
    },
    {
     "data": {
      "application/vnd.jupyter.widget-view+json": {
       "model_id": "",
       "version_major": 2,
       "version_minor": 0
      },
      "text/plain": [
       "HBox(children=(IntProgress(value=0, max=1150), HTML(value=u'')))"
      ]
     },
     "metadata": {},
     "output_type": "display_data"
    },
    {
     "data": {
      "application/vnd.jupyter.widget-view+json": {
       "model_id": "",
       "version_major": 2,
       "version_minor": 0
      },
      "text/plain": [
       "HBox(children=(IntProgress(value=0, max=128), HTML(value=u'')))"
      ]
     },
     "metadata": {},
     "output_type": "display_data"
    },
    {
     "name": "stdout",
     "output_type": "stream",
     "text": [
      "Epoch [12/50] train_loss: 0.0702, train_acc: 0.9928, val_loss: 3.1522, val_acc: 0.6003 \n"
     ]
    },
    {
     "data": {
      "application/vnd.jupyter.widget-view+json": {
       "model_id": "",
       "version_major": 2,
       "version_minor": 0
      },
      "text/plain": [
       "HBox(children=(IntProgress(value=0, max=1150), HTML(value=u'')))"
      ]
     },
     "metadata": {},
     "output_type": "display_data"
    },
    {
     "data": {
      "application/vnd.jupyter.widget-view+json": {
       "model_id": "",
       "version_major": 2,
       "version_minor": 0
      },
      "text/plain": [
       "HBox(children=(IntProgress(value=0, max=128), HTML(value=u'')))"
      ]
     },
     "metadata": {},
     "output_type": "display_data"
    },
    {
     "name": "stdout",
     "output_type": "stream",
     "text": [
      "Epoch [13/50] train_loss: 0.0641, train_acc: 0.9955, val_loss: 3.2998, val_acc: 0.6042 \n"
     ]
    },
    {
     "data": {
      "application/vnd.jupyter.widget-view+json": {
       "model_id": "",
       "version_major": 2,
       "version_minor": 0
      },
      "text/plain": [
       "HBox(children=(IntProgress(value=0, max=1150), HTML(value=u'')))"
      ]
     },
     "metadata": {},
     "output_type": "display_data"
    },
    {
     "data": {
      "application/vnd.jupyter.widget-view+json": {
       "model_id": "",
       "version_major": 2,
       "version_minor": 0
      },
      "text/plain": [
       "HBox(children=(IntProgress(value=0, max=128), HTML(value=u'')))"
      ]
     },
     "metadata": {},
     "output_type": "display_data"
    },
    {
     "name": "stdout",
     "output_type": "stream",
     "text": [
      "Epoch [14/50] train_loss: 0.0210, train_acc: 0.9991, val_loss: 3.4728, val_acc: 0.6055 \n"
     ]
    },
    {
     "data": {
      "application/vnd.jupyter.widget-view+json": {
       "model_id": "",
       "version_major": 2,
       "version_minor": 0
      },
      "text/plain": [
       "HBox(children=(IntProgress(value=0, max=1150), HTML(value=u'')))"
      ]
     },
     "metadata": {},
     "output_type": "display_data"
    },
    {
     "data": {
      "application/vnd.jupyter.widget-view+json": {
       "model_id": "",
       "version_major": 2,
       "version_minor": 0
      },
      "text/plain": [
       "HBox(children=(IntProgress(value=0, max=128), HTML(value=u'')))"
      ]
     },
     "metadata": {},
     "output_type": "display_data"
    },
    {
     "name": "stdout",
     "output_type": "stream",
     "text": [
      "Epoch [15/50] train_loss: 0.0116, train_acc: 0.9997, val_loss: 3.5785, val_acc: 0.5964 \n"
     ]
    },
    {
     "data": {
      "application/vnd.jupyter.widget-view+json": {
       "model_id": "",
       "version_major": 2,
       "version_minor": 0
      },
      "text/plain": [
       "HBox(children=(IntProgress(value=0, max=1150), HTML(value=u'')))"
      ]
     },
     "metadata": {},
     "output_type": "display_data"
    },
    {
     "data": {
      "application/vnd.jupyter.widget-view+json": {
       "model_id": "",
       "version_major": 2,
       "version_minor": 0
      },
      "text/plain": [
       "HBox(children=(IntProgress(value=0, max=128), HTML(value=u'')))"
      ]
     },
     "metadata": {},
     "output_type": "display_data"
    },
    {
     "name": "stdout",
     "output_type": "stream",
     "text": [
      "Epoch [16/50] train_loss: 0.0838, train_acc: 0.9868, val_loss: 3.7470, val_acc: 0.5716 \n"
     ]
    },
    {
     "data": {
      "application/vnd.jupyter.widget-view+json": {
       "model_id": "",
       "version_major": 2,
       "version_minor": 0
      },
      "text/plain": [
       "HBox(children=(IntProgress(value=0, max=1150), HTML(value=u'')))"
      ]
     },
     "metadata": {},
     "output_type": "display_data"
    },
    {
     "data": {
      "application/vnd.jupyter.widget-view+json": {
       "model_id": "",
       "version_major": 2,
       "version_minor": 0
      },
      "text/plain": [
       "HBox(children=(IntProgress(value=0, max=128), HTML(value=u'')))"
      ]
     },
     "metadata": {},
     "output_type": "display_data"
    },
    {
     "name": "stdout",
     "output_type": "stream",
     "text": [
      "Epoch [17/50] train_loss: 0.0521, train_acc: 0.9942, val_loss: 3.6241, val_acc: 0.6029 \n"
     ]
    },
    {
     "data": {
      "application/vnd.jupyter.widget-view+json": {
       "model_id": "",
       "version_major": 2,
       "version_minor": 0
      },
      "text/plain": [
       "HBox(children=(IntProgress(value=0, max=1150), HTML(value=u'')))"
      ]
     },
     "metadata": {},
     "output_type": "display_data"
    },
    {
     "data": {
      "application/vnd.jupyter.widget-view+json": {
       "model_id": "",
       "version_major": 2,
       "version_minor": 0
      },
      "text/plain": [
       "HBox(children=(IntProgress(value=0, max=128), HTML(value=u'')))"
      ]
     },
     "metadata": {},
     "output_type": "display_data"
    },
    {
     "name": "stdout",
     "output_type": "stream",
     "text": [
      "Epoch [18/50] train_loss: 0.0113, train_acc: 1.0000, val_loss: 3.7261, val_acc: 0.5924 \n"
     ]
    },
    {
     "data": {
      "application/vnd.jupyter.widget-view+json": {
       "model_id": "",
       "version_major": 2,
       "version_minor": 0
      },
      "text/plain": [
       "HBox(children=(IntProgress(value=0, max=1150), HTML(value=u'')))"
      ]
     },
     "metadata": {},
     "output_type": "display_data"
    },
    {
     "data": {
      "application/vnd.jupyter.widget-view+json": {
       "model_id": "",
       "version_major": 2,
       "version_minor": 0
      },
      "text/plain": [
       "HBox(children=(IntProgress(value=0, max=128), HTML(value=u'')))"
      ]
     },
     "metadata": {},
     "output_type": "display_data"
    },
    {
     "name": "stdout",
     "output_type": "stream",
     "text": [
      "Epoch [19/50] train_loss: 0.0050, train_acc: 1.0000, val_loss: 3.8689, val_acc: 0.5964 \n"
     ]
    },
    {
     "data": {
      "application/vnd.jupyter.widget-view+json": {
       "model_id": "",
       "version_major": 2,
       "version_minor": 0
      },
      "text/plain": [
       "HBox(children=(IntProgress(value=0, max=1150), HTML(value=u'')))"
      ]
     },
     "metadata": {},
     "output_type": "display_data"
    },
    {
     "data": {
      "application/vnd.jupyter.widget-view+json": {
       "model_id": "",
       "version_major": 2,
       "version_minor": 0
      },
      "text/plain": [
       "HBox(children=(IntProgress(value=0, max=128), HTML(value=u'')))"
      ]
     },
     "metadata": {},
     "output_type": "display_data"
    },
    {
     "name": "stdout",
     "output_type": "stream",
     "text": [
      "Epoch [20/50] train_loss: 0.0032, train_acc: 1.0000, val_loss: 4.0415, val_acc: 0.5859 \n"
     ]
    },
    {
     "data": {
      "application/vnd.jupyter.widget-view+json": {
       "model_id": "",
       "version_major": 2,
       "version_minor": 0
      },
      "text/plain": [
       "HBox(children=(IntProgress(value=0, max=1150), HTML(value=u'')))"
      ]
     },
     "metadata": {},
     "output_type": "display_data"
    },
    {
     "data": {
      "application/vnd.jupyter.widget-view+json": {
       "model_id": "",
       "version_major": 2,
       "version_minor": 0
      },
      "text/plain": [
       "HBox(children=(IntProgress(value=0, max=128), HTML(value=u'')))"
      ]
     },
     "metadata": {},
     "output_type": "display_data"
    },
    {
     "name": "stdout",
     "output_type": "stream",
     "text": [
      "Epoch [21/50] train_loss: 0.0069, train_acc: 0.9990, val_loss: 4.6746, val_acc: 0.5977 \n"
     ]
    },
    {
     "data": {
      "application/vnd.jupyter.widget-view+json": {
       "model_id": "",
       "version_major": 2,
       "version_minor": 0
      },
      "text/plain": [
       "HBox(children=(IntProgress(value=0, max=1150), HTML(value=u'')))"
      ]
     },
     "metadata": {},
     "output_type": "display_data"
    },
    {
     "data": {
      "application/vnd.jupyter.widget-view+json": {
       "model_id": "",
       "version_major": 2,
       "version_minor": 0
      },
      "text/plain": [
       "HBox(children=(IntProgress(value=0, max=128), HTML(value=u'')))"
      ]
     },
     "metadata": {},
     "output_type": "display_data"
    },
    {
     "name": "stdout",
     "output_type": "stream",
     "text": [
      "Epoch [22/50] train_loss: 0.1436, train_acc: 0.9742, val_loss: 3.8881, val_acc: 0.5807 \n"
     ]
    },
    {
     "data": {
      "application/vnd.jupyter.widget-view+json": {
       "model_id": "",
       "version_major": 2,
       "version_minor": 0
      },
      "text/plain": [
       "HBox(children=(IntProgress(value=0, max=1150), HTML(value=u'')))"
      ]
     },
     "metadata": {},
     "output_type": "display_data"
    },
    {
     "data": {
      "application/vnd.jupyter.widget-view+json": {
       "model_id": "",
       "version_major": 2,
       "version_minor": 0
      },
      "text/plain": [
       "HBox(children=(IntProgress(value=0, max=128), HTML(value=u'')))"
      ]
     },
     "metadata": {},
     "output_type": "display_data"
    },
    {
     "name": "stdout",
     "output_type": "stream",
     "text": [
      "Epoch [23/50] train_loss: 0.0204, train_acc: 0.9988, val_loss: 3.8565, val_acc: 0.5859 \n"
     ]
    },
    {
     "data": {
      "application/vnd.jupyter.widget-view+json": {
       "model_id": "",
       "version_major": 2,
       "version_minor": 0
      },
      "text/plain": [
       "HBox(children=(IntProgress(value=0, max=1150), HTML(value=u'')))"
      ]
     },
     "metadata": {},
     "output_type": "display_data"
    },
    {
     "data": {
      "application/vnd.jupyter.widget-view+json": {
       "model_id": "",
       "version_major": 2,
       "version_minor": 0
      },
      "text/plain": [
       "HBox(children=(IntProgress(value=0, max=128), HTML(value=u'')))"
      ]
     },
     "metadata": {},
     "output_type": "display_data"
    },
    {
     "name": "stdout",
     "output_type": "stream",
     "text": [
      "Epoch [24/50] train_loss: 0.0057, train_acc: 1.0000, val_loss: 3.9395, val_acc: 0.5768 \n"
     ]
    },
    {
     "data": {
      "application/vnd.jupyter.widget-view+json": {
       "model_id": "",
       "version_major": 2,
       "version_minor": 0
      },
      "text/plain": [
       "HBox(children=(IntProgress(value=0, max=1150), HTML(value=u'')))"
      ]
     },
     "metadata": {},
     "output_type": "display_data"
    },
    {
     "data": {
      "application/vnd.jupyter.widget-view+json": {
       "model_id": "",
       "version_major": 2,
       "version_minor": 0
      },
      "text/plain": [
       "HBox(children=(IntProgress(value=0, max=128), HTML(value=u'')))"
      ]
     },
     "metadata": {},
     "output_type": "display_data"
    },
    {
     "name": "stdout",
     "output_type": "stream",
     "text": [
      "Epoch [25/50] train_loss: 0.0034, train_acc: 1.0000, val_loss: 4.0980, val_acc: 0.5755 \n"
     ]
    },
    {
     "data": {
      "application/vnd.jupyter.widget-view+json": {
       "model_id": "",
       "version_major": 2,
       "version_minor": 0
      },
      "text/plain": [
       "HBox(children=(IntProgress(value=0, max=1150), HTML(value=u'')))"
      ]
     },
     "metadata": {},
     "output_type": "display_data"
    },
    {
     "data": {
      "application/vnd.jupyter.widget-view+json": {
       "model_id": "",
       "version_major": 2,
       "version_minor": 0
      },
      "text/plain": [
       "HBox(children=(IntProgress(value=0, max=128), HTML(value=u'')))"
      ]
     },
     "metadata": {},
     "output_type": "display_data"
    },
    {
     "name": "stdout",
     "output_type": "stream",
     "text": [
      "Epoch [26/50] train_loss: 0.0393, train_acc: 0.9926, val_loss: 4.6667, val_acc: 0.5703 \n"
     ]
    },
    {
     "data": {
      "application/vnd.jupyter.widget-view+json": {
       "model_id": "",
       "version_major": 2,
       "version_minor": 0
      },
      "text/plain": [
       "HBox(children=(IntProgress(value=0, max=1150), HTML(value=u'')))"
      ]
     },
     "metadata": {},
     "output_type": "display_data"
    },
    {
     "data": {
      "application/vnd.jupyter.widget-view+json": {
       "model_id": "",
       "version_major": 2,
       "version_minor": 0
      },
      "text/plain": [
       "HBox(children=(IntProgress(value=0, max=128), HTML(value=u'')))"
      ]
     },
     "metadata": {},
     "output_type": "display_data"
    },
    {
     "name": "stdout",
     "output_type": "stream",
     "text": [
      "Epoch [27/50] train_loss: 0.0821, train_acc: 0.9852, val_loss: 4.2548, val_acc: 0.5885 \n"
     ]
    },
    {
     "data": {
      "application/vnd.jupyter.widget-view+json": {
       "model_id": "",
       "version_major": 2,
       "version_minor": 0
      },
      "text/plain": [
       "HBox(children=(IntProgress(value=0, max=1150), HTML(value=u'')))"
      ]
     },
     "metadata": {},
     "output_type": "display_data"
    },
    {
     "data": {
      "application/vnd.jupyter.widget-view+json": {
       "model_id": "",
       "version_major": 2,
       "version_minor": 0
      },
      "text/plain": [
       "HBox(children=(IntProgress(value=0, max=128), HTML(value=u'')))"
      ]
     },
     "metadata": {},
     "output_type": "display_data"
    },
    {
     "name": "stdout",
     "output_type": "stream",
     "text": [
      "Epoch [28/50] train_loss: 0.0106, train_acc: 0.9991, val_loss: 4.2378, val_acc: 0.5977 \n"
     ]
    },
    {
     "data": {
      "application/vnd.jupyter.widget-view+json": {
       "model_id": "",
       "version_major": 2,
       "version_minor": 0
      },
      "text/plain": [
       "HBox(children=(IntProgress(value=0, max=1150), HTML(value=u'')))"
      ]
     },
     "metadata": {},
     "output_type": "display_data"
    },
    {
     "data": {
      "application/vnd.jupyter.widget-view+json": {
       "model_id": "",
       "version_major": 2,
       "version_minor": 0
      },
      "text/plain": [
       "HBox(children=(IntProgress(value=0, max=128), HTML(value=u'')))"
      ]
     },
     "metadata": {},
     "output_type": "display_data"
    },
    {
     "name": "stdout",
     "output_type": "stream",
     "text": [
      "Epoch [29/50] train_loss: 0.0034, train_acc: 1.0000, val_loss: 4.3428, val_acc: 0.5951 \n"
     ]
    },
    {
     "data": {
      "application/vnd.jupyter.widget-view+json": {
       "model_id": "",
       "version_major": 2,
       "version_minor": 0
      },
      "text/plain": [
       "HBox(children=(IntProgress(value=0, max=1150), HTML(value=u'')))"
      ]
     },
     "metadata": {},
     "output_type": "display_data"
    },
    {
     "data": {
      "application/vnd.jupyter.widget-view+json": {
       "model_id": "",
       "version_major": 2,
       "version_minor": 0
      },
      "text/plain": [
       "HBox(children=(IntProgress(value=0, max=128), HTML(value=u'')))"
      ]
     },
     "metadata": {},
     "output_type": "display_data"
    },
    {
     "name": "stdout",
     "output_type": "stream",
     "text": [
      "Epoch [30/50] train_loss: 0.0022, train_acc: 1.0000, val_loss: 4.4694, val_acc: 0.5898 \n"
     ]
    },
    {
     "data": {
      "application/vnd.jupyter.widget-view+json": {
       "model_id": "",
       "version_major": 2,
       "version_minor": 0
      },
      "text/plain": [
       "HBox(children=(IntProgress(value=0, max=1150), HTML(value=u'')))"
      ]
     },
     "metadata": {},
     "output_type": "display_data"
    },
    {
     "data": {
      "application/vnd.jupyter.widget-view+json": {
       "model_id": "",
       "version_major": 2,
       "version_minor": 0
      },
      "text/plain": [
       "HBox(children=(IntProgress(value=0, max=128), HTML(value=u'')))"
      ]
     },
     "metadata": {},
     "output_type": "display_data"
    },
    {
     "name": "stdout",
     "output_type": "stream",
     "text": [
      "Epoch [31/50] train_loss: 0.0022, train_acc: 0.9999, val_loss: 4.6414, val_acc: 0.5859 \n"
     ]
    },
    {
     "data": {
      "application/vnd.jupyter.widget-view+json": {
       "model_id": "",
       "version_major": 2,
       "version_minor": 0
      },
      "text/plain": [
       "HBox(children=(IntProgress(value=0, max=1150), HTML(value=u'')))"
      ]
     },
     "metadata": {},
     "output_type": "display_data"
    },
    {
     "data": {
      "application/vnd.jupyter.widget-view+json": {
       "model_id": "",
       "version_major": 2,
       "version_minor": 0
      },
      "text/plain": [
       "HBox(children=(IntProgress(value=0, max=128), HTML(value=u'')))"
      ]
     },
     "metadata": {},
     "output_type": "display_data"
    },
    {
     "name": "stdout",
     "output_type": "stream",
     "text": [
      "Epoch [32/50] train_loss: 0.0023, train_acc: 1.0000, val_loss: 4.7550, val_acc: 0.6042 \n"
     ]
    },
    {
     "data": {
      "application/vnd.jupyter.widget-view+json": {
       "model_id": "",
       "version_major": 2,
       "version_minor": 0
      },
      "text/plain": [
       "HBox(children=(IntProgress(value=0, max=1150), HTML(value=u'')))"
      ]
     },
     "metadata": {},
     "output_type": "display_data"
    },
    {
     "data": {
      "application/vnd.jupyter.widget-view+json": {
       "model_id": "",
       "version_major": 2,
       "version_minor": 0
      },
      "text/plain": [
       "HBox(children=(IntProgress(value=0, max=128), HTML(value=u'')))"
      ]
     },
     "metadata": {},
     "output_type": "display_data"
    },
    {
     "name": "stdout",
     "output_type": "stream",
     "text": [
      "Epoch [33/50] train_loss: 0.0983, train_acc: 0.9858, val_loss: 4.3985, val_acc: 0.6146 \n"
     ]
    },
    {
     "data": {
      "application/vnd.jupyter.widget-view+json": {
       "model_id": "",
       "version_major": 2,
       "version_minor": 0
      },
      "text/plain": [
       "HBox(children=(IntProgress(value=0, max=1150), HTML(value=u'')))"
      ]
     },
     "metadata": {},
     "output_type": "display_data"
    },
    {
     "data": {
      "application/vnd.jupyter.widget-view+json": {
       "model_id": "",
       "version_major": 2,
       "version_minor": 0
      },
      "text/plain": [
       "HBox(children=(IntProgress(value=0, max=128), HTML(value=u'')))"
      ]
     },
     "metadata": {},
     "output_type": "display_data"
    },
    {
     "name": "stdout",
     "output_type": "stream",
     "text": [
      "Epoch [34/50] train_loss: 0.0137, train_acc: 0.9983, val_loss: 4.5117, val_acc: 0.6146 \n"
     ]
    },
    {
     "data": {
      "application/vnd.jupyter.widget-view+json": {
       "model_id": "",
       "version_major": 2,
       "version_minor": 0
      },
      "text/plain": [
       "HBox(children=(IntProgress(value=0, max=1150), HTML(value=u'')))"
      ]
     },
     "metadata": {},
     "output_type": "display_data"
    },
    {
     "data": {
      "application/vnd.jupyter.widget-view+json": {
       "model_id": "",
       "version_major": 2,
       "version_minor": 0
      },
      "text/plain": [
       "HBox(children=(IntProgress(value=0, max=128), HTML(value=u'')))"
      ]
     },
     "metadata": {},
     "output_type": "display_data"
    },
    {
     "name": "stdout",
     "output_type": "stream",
     "text": [
      "Epoch [35/50] train_loss: 0.0034, train_acc: 1.0000, val_loss: 4.5796, val_acc: 0.6029 \n"
     ]
    },
    {
     "data": {
      "application/vnd.jupyter.widget-view+json": {
       "model_id": "",
       "version_major": 2,
       "version_minor": 0
      },
      "text/plain": [
       "HBox(children=(IntProgress(value=0, max=1150), HTML(value=u'')))"
      ]
     },
     "metadata": {},
     "output_type": "display_data"
    },
    {
     "data": {
      "application/vnd.jupyter.widget-view+json": {
       "model_id": "",
       "version_major": 2,
       "version_minor": 0
      },
      "text/plain": [
       "HBox(children=(IntProgress(value=0, max=128), HTML(value=u'')))"
      ]
     },
     "metadata": {},
     "output_type": "display_data"
    },
    {
     "name": "stdout",
     "output_type": "stream",
     "text": [
      "Epoch [36/50] train_loss: 0.0017, train_acc: 1.0000, val_loss: 4.7213, val_acc: 0.6042 \n"
     ]
    },
    {
     "data": {
      "application/vnd.jupyter.widget-view+json": {
       "model_id": "",
       "version_major": 2,
       "version_minor": 0
      },
      "text/plain": [
       "HBox(children=(IntProgress(value=0, max=1150), HTML(value=u'')))"
      ]
     },
     "metadata": {},
     "output_type": "display_data"
    },
    {
     "data": {
      "application/vnd.jupyter.widget-view+json": {
       "model_id": "",
       "version_major": 2,
       "version_minor": 0
      },
      "text/plain": [
       "HBox(children=(IntProgress(value=0, max=128), HTML(value=u'')))"
      ]
     },
     "metadata": {},
     "output_type": "display_data"
    },
    {
     "name": "stdout",
     "output_type": "stream",
     "text": [
      "Epoch [37/50] train_loss: 0.0009, train_acc: 1.0000, val_loss: 4.8590, val_acc: 0.5977 \n"
     ]
    },
    {
     "data": {
      "application/vnd.jupyter.widget-view+json": {
       "model_id": "",
       "version_major": 2,
       "version_minor": 0
      },
      "text/plain": [
       "HBox(children=(IntProgress(value=0, max=1150), HTML(value=u'')))"
      ]
     },
     "metadata": {},
     "output_type": "display_data"
    },
    {
     "data": {
      "application/vnd.jupyter.widget-view+json": {
       "model_id": "",
       "version_major": 2,
       "version_minor": 0
      },
      "text/plain": [
       "HBox(children=(IntProgress(value=0, max=128), HTML(value=u'')))"
      ]
     },
     "metadata": {},
     "output_type": "display_data"
    },
    {
     "name": "stdout",
     "output_type": "stream",
     "text": [
      "Epoch [38/50] train_loss: 0.0007, train_acc: 1.0000, val_loss: 5.0170, val_acc: 0.5898 \n"
     ]
    },
    {
     "data": {
      "application/vnd.jupyter.widget-view+json": {
       "model_id": "",
       "version_major": 2,
       "version_minor": 0
      },
      "text/plain": [
       "HBox(children=(IntProgress(value=0, max=1150), HTML(value=u'')))"
      ]
     },
     "metadata": {},
     "output_type": "display_data"
    },
    {
     "data": {
      "application/vnd.jupyter.widget-view+json": {
       "model_id": "",
       "version_major": 2,
       "version_minor": 0
      },
      "text/plain": [
       "HBox(children=(IntProgress(value=0, max=128), HTML(value=u'')))"
      ]
     },
     "metadata": {},
     "output_type": "display_data"
    },
    {
     "name": "stdout",
     "output_type": "stream",
     "text": [
      "Epoch [39/50] train_loss: 0.0004, train_acc: 1.0000, val_loss: 5.1866, val_acc: 0.5872 \n"
     ]
    },
    {
     "data": {
      "application/vnd.jupyter.widget-view+json": {
       "model_id": "",
       "version_major": 2,
       "version_minor": 0
      },
      "text/plain": [
       "HBox(children=(IntProgress(value=0, max=1150), HTML(value=u'')))"
      ]
     },
     "metadata": {},
     "output_type": "display_data"
    },
    {
     "data": {
      "application/vnd.jupyter.widget-view+json": {
       "model_id": "",
       "version_major": 2,
       "version_minor": 0
      },
      "text/plain": [
       "HBox(children=(IntProgress(value=0, max=128), HTML(value=u'')))"
      ]
     },
     "metadata": {},
     "output_type": "display_data"
    },
    {
     "name": "stdout",
     "output_type": "stream",
     "text": [
      "Epoch [40/50] train_loss: 0.0003, train_acc: 1.0000, val_loss: 5.3106, val_acc: 0.5872 \n"
     ]
    },
    {
     "data": {
      "application/vnd.jupyter.widget-view+json": {
       "model_id": "",
       "version_major": 2,
       "version_minor": 0
      },
      "text/plain": [
       "HBox(children=(IntProgress(value=0, max=1150), HTML(value=u'')))"
      ]
     },
     "metadata": {},
     "output_type": "display_data"
    },
    {
     "data": {
      "application/vnd.jupyter.widget-view+json": {
       "model_id": "",
       "version_major": 2,
       "version_minor": 0
      },
      "text/plain": [
       "HBox(children=(IntProgress(value=0, max=128), HTML(value=u'')))"
      ]
     },
     "metadata": {},
     "output_type": "display_data"
    },
    {
     "name": "stdout",
     "output_type": "stream",
     "text": [
      "Epoch [41/50] train_loss: 0.0744, train_acc: 0.9878, val_loss: 5.3903, val_acc: 0.5924 \n"
     ]
    },
    {
     "data": {
      "application/vnd.jupyter.widget-view+json": {
       "model_id": "",
       "version_major": 2,
       "version_minor": 0
      },
      "text/plain": [
       "HBox(children=(IntProgress(value=0, max=1150), HTML(value=u'')))"
      ]
     },
     "metadata": {},
     "output_type": "display_data"
    },
    {
     "data": {
      "application/vnd.jupyter.widget-view+json": {
       "model_id": "",
       "version_major": 2,
       "version_minor": 0
      },
      "text/plain": [
       "HBox(children=(IntProgress(value=0, max=128), HTML(value=u'')))"
      ]
     },
     "metadata": {},
     "output_type": "display_data"
    },
    {
     "name": "stdout",
     "output_type": "stream",
     "text": [
      "Epoch [42/50] train_loss: 0.0462, train_acc: 0.9936, val_loss: 5.3383, val_acc: 0.5885 \n"
     ]
    },
    {
     "data": {
      "application/vnd.jupyter.widget-view+json": {
       "model_id": "",
       "version_major": 2,
       "version_minor": 0
      },
      "text/plain": [
       "HBox(children=(IntProgress(value=0, max=1150), HTML(value=u'')))"
      ]
     },
     "metadata": {},
     "output_type": "display_data"
    },
    {
     "data": {
      "application/vnd.jupyter.widget-view+json": {
       "model_id": "",
       "version_major": 2,
       "version_minor": 0
      },
      "text/plain": [
       "HBox(children=(IntProgress(value=0, max=128), HTML(value=u'')))"
      ]
     },
     "metadata": {},
     "output_type": "display_data"
    },
    {
     "name": "stdout",
     "output_type": "stream",
     "text": [
      "Epoch [43/50] train_loss: 0.0090, train_acc: 0.9991, val_loss: 5.4172, val_acc: 0.5859 \n"
     ]
    },
    {
     "data": {
      "application/vnd.jupyter.widget-view+json": {
       "model_id": "",
       "version_major": 2,
       "version_minor": 0
      },
      "text/plain": [
       "HBox(children=(IntProgress(value=0, max=1150), HTML(value=u'')))"
      ]
     },
     "metadata": {},
     "output_type": "display_data"
    },
    {
     "data": {
      "application/vnd.jupyter.widget-view+json": {
       "model_id": "",
       "version_major": 2,
       "version_minor": 0
      },
      "text/plain": [
       "HBox(children=(IntProgress(value=0, max=128), HTML(value=u'')))"
      ]
     },
     "metadata": {},
     "output_type": "display_data"
    },
    {
     "name": "stdout",
     "output_type": "stream",
     "text": [
      "Epoch [44/50] train_loss: 0.0020, train_acc: 1.0000, val_loss: 5.4203, val_acc: 0.6016 \n"
     ]
    },
    {
     "data": {
      "application/vnd.jupyter.widget-view+json": {
       "model_id": "",
       "version_major": 2,
       "version_minor": 0
      },
      "text/plain": [
       "HBox(children=(IntProgress(value=0, max=1150), HTML(value=u'')))"
      ]
     },
     "metadata": {},
     "output_type": "display_data"
    },
    {
     "data": {
      "application/vnd.jupyter.widget-view+json": {
       "model_id": "",
       "version_major": 2,
       "version_minor": 0
      },
      "text/plain": [
       "HBox(children=(IntProgress(value=0, max=128), HTML(value=u'')))"
      ]
     },
     "metadata": {},
     "output_type": "display_data"
    },
    {
     "name": "stdout",
     "output_type": "stream",
     "text": [
      "Epoch [45/50] train_loss: 0.0012, train_acc: 1.0000, val_loss: 5.4226, val_acc: 0.5938 \n"
     ]
    },
    {
     "data": {
      "application/vnd.jupyter.widget-view+json": {
       "model_id": "",
       "version_major": 2,
       "version_minor": 0
      },
      "text/plain": [
       "HBox(children=(IntProgress(value=0, max=1150), HTML(value=u'')))"
      ]
     },
     "metadata": {},
     "output_type": "display_data"
    },
    {
     "data": {
      "application/vnd.jupyter.widget-view+json": {
       "model_id": "",
       "version_major": 2,
       "version_minor": 0
      },
      "text/plain": [
       "HBox(children=(IntProgress(value=0, max=128), HTML(value=u'')))"
      ]
     },
     "metadata": {},
     "output_type": "display_data"
    },
    {
     "name": "stdout",
     "output_type": "stream",
     "text": [
      "Epoch [46/50] train_loss: 0.0007, train_acc: 1.0000, val_loss: 5.4942, val_acc: 0.5911 \n"
     ]
    },
    {
     "data": {
      "application/vnd.jupyter.widget-view+json": {
       "model_id": "",
       "version_major": 2,
       "version_minor": 0
      },
      "text/plain": [
       "HBox(children=(IntProgress(value=0, max=1150), HTML(value=u'')))"
      ]
     },
     "metadata": {},
     "output_type": "display_data"
    },
    {
     "data": {
      "application/vnd.jupyter.widget-view+json": {
       "model_id": "",
       "version_major": 2,
       "version_minor": 0
      },
      "text/plain": [
       "HBox(children=(IntProgress(value=0, max=128), HTML(value=u'')))"
      ]
     },
     "metadata": {},
     "output_type": "display_data"
    },
    {
     "name": "stdout",
     "output_type": "stream",
     "text": [
      "Epoch [47/50] train_loss: 0.0004, train_acc: 1.0000, val_loss: 5.6667, val_acc: 0.5924 \n"
     ]
    },
    {
     "data": {
      "application/vnd.jupyter.widget-view+json": {
       "model_id": "",
       "version_major": 2,
       "version_minor": 0
      },
      "text/plain": [
       "HBox(children=(IntProgress(value=0, max=1150), HTML(value=u'')))"
      ]
     },
     "metadata": {},
     "output_type": "display_data"
    },
    {
     "data": {
      "application/vnd.jupyter.widget-view+json": {
       "model_id": "",
       "version_major": 2,
       "version_minor": 0
      },
      "text/plain": [
       "HBox(children=(IntProgress(value=0, max=128), HTML(value=u'')))"
      ]
     },
     "metadata": {},
     "output_type": "display_data"
    },
    {
     "name": "stdout",
     "output_type": "stream",
     "text": [
      "Epoch [48/50] train_loss: 0.0433, train_acc: 0.9932, val_loss: 5.8096, val_acc: 0.5794 \n"
     ]
    },
    {
     "data": {
      "application/vnd.jupyter.widget-view+json": {
       "model_id": "",
       "version_major": 2,
       "version_minor": 0
      },
      "text/plain": [
       "HBox(children=(IntProgress(value=0, max=1150), HTML(value=u'')))"
      ]
     },
     "metadata": {},
     "output_type": "display_data"
    },
    {
     "data": {
      "application/vnd.jupyter.widget-view+json": {
       "model_id": "",
       "version_major": 2,
       "version_minor": 0
      },
      "text/plain": [
       "HBox(children=(IntProgress(value=0, max=128), HTML(value=u'')))"
      ]
     },
     "metadata": {},
     "output_type": "display_data"
    },
    {
     "name": "stdout",
     "output_type": "stream",
     "text": [
      "Epoch [49/50] train_loss: 0.0666, train_acc: 0.9887, val_loss: 5.2410, val_acc: 0.5885 \n"
     ]
    },
    {
     "data": {
      "application/vnd.jupyter.widget-view+json": {
       "model_id": "",
       "version_major": 2,
       "version_minor": 0
      },
      "text/plain": [
       "HBox(children=(IntProgress(value=0, max=1150), HTML(value=u'')))"
      ]
     },
     "metadata": {},
     "output_type": "display_data"
    },
    {
     "data": {
      "application/vnd.jupyter.widget-view+json": {
       "model_id": "",
       "version_major": 2,
       "version_minor": 0
      },
      "text/plain": [
       "HBox(children=(IntProgress(value=0, max=128), HTML(value=u'')))"
      ]
     },
     "metadata": {},
     "output_type": "display_data"
    },
    {
     "name": "stdout",
     "output_type": "stream",
     "text": [
      "Epoch [50/50] train_loss: 0.0174, train_acc: 0.9978, val_loss: 5.8194, val_acc: 0.5898 \n",
      "\n"
     ]
    }
   ],
   "source": [
    "opt = optim.Adam(filter(lambda p: p.requires_grad, m.parameters()), 1e-3)\n",
    "\n",
    "train_acc_list, train_loss_list, val_acc_list, val_loss_list = fit(model=m, train_dl=train_batch_it, val_dl=val_batch_it, loss_fn=F.nll_loss, opt=opt, epochs=50)"
   ]
  },
  {
   "cell_type": "code",
   "execution_count": 44,
   "metadata": {},
   "outputs": [
    {
     "data": {
      "image/png": "[encoded data removed]",
      "text/plain": [
       "<Figure size 432x288 with 1 Axes>"
      ]
     },
     "metadata": {
      "needs_background": "light"
     },
     "output_type": "display_data"
    }
   ],
   "source": [
    "#plot train/val accuracies\n",
    "plt.title(\"Train/Test Acc\")\n",
    "plt.xlabel(\"epoch\")\n",
    "plt.ylabel('acc')\n",
    "line1 = plt.plot(train_acc_list, color='red')\n",
    "line2 = plt.plot(val_acc_list, color='blue')\n",
    "plt.legend(['Train', 'Test'], loc='upper left')\n",
    "plt.savefig('nlpcpgruacc.png')   # save the figure to file\n",
    "plt.show()\n",
    "plt.close()"
   ]
  },
  {
   "cell_type": "code",
   "execution_count": 45,
   "metadata": {},
   "outputs": [
    {
     "data": {
      "image/png": "[encoded data removed]",
      "text/plain": [
       "<Figure size 432x288 with 1 Axes>"
      ]
     },
     "metadata": {
      "needs_background": "light"
     },
     "output_type": "display_data"
    }
   ],
   "source": [
    "#plot train/val accuracies\n",
    "plt.title(\"Train/Test Loss\")\n",
    "plt.xlabel(\"epoch\")\n",
    "plt.ylabel('loss')\n",
    "line1 = plt.plot(train_loss_list, color='red')\n",
    "line2 = plt.plot(val_loss_list, color='blue')\n",
    "plt.legend(['Train', 'Test'], loc='upper left')\n",
    "plt.savefig('nlpcpgruloss.png')   # save the figure to file\n",
    "plt.show()\n",
    "plt.close()"
   ]
  },
  {
   "cell_type": "code",
   "execution_count": 46,
   "metadata": {},
   "outputs": [],
   "source": [
    "import math\n",
    "import torch\n",
    "from torch.optim import Optimizer\n",
    "\n",
    "\n",
    "class Adam(Optimizer):\n",
    "    \"\"\"Implements Adam algorithm.\n",
    "\n",
    "    It has been proposed in `Adam: A Method for Stochastic Optimization`_.\n",
    "\n",
    "    Arguments:\n",
    "        params (iterable): iterable of parameters to optimize or dicts defining\n",
    "            parameter groups\n",
    "        lr (float, optional): learning rate (default: 1e-3)\n",
    "        betas (Tuple[float, float], optional): coefficients used for computing\n",
    "            running averages of gradient and its square (default: (0.9, 0.999))\n",
    "        eps (float, optional): term added to the denominator to improve\n",
    "            numerical stability (default: 1e-8)\n",
    "        weight_decay (float, optional): weight decay (L2 penalty) (default: 0)\n",
    "        amsgrad (boolean, optional): whether to use the AMSGrad variant of this\n",
    "            algorithm from the paper `On the Convergence of Adam and Beyond`_\n",
    "\n",
    "    .. _Adam\\: A Method for Stochastic Optimization:\n",
    "        https://arxiv.org/abs/1412.6980\n",
    "    .. _On the Convergence of Adam and Beyond:\n",
    "        https://openreview.net/forum?id=ryQu7f-RZ\n",
    "    \"\"\"\n",
    "\n",
    "    def __init__(self, params, lr=1e-3, betas=(0.9, 0.999), eps=1e-8,\n",
    "                 weight_decay=0, amsgrad=False):\n",
    "        if not 0.0 <= lr:\n",
    "            raise ValueError(\"Invalid learning rate: {}\".format(lr))\n",
    "        if not 0.0 <= eps:\n",
    "            raise ValueError(\"Invalid epsilon value: {}\".format(eps))\n",
    "        if not 0.0 <= betas[0] < 1.0:\n",
    "            raise ValueError(\"Invalid beta parameter at index 0: {}\".format(betas[0]))\n",
    "        if not 0.0 <= betas[1] < 1.0:\n",
    "            raise ValueError(\"Invalid beta parameter at index 1: {}\".format(betas[1]))\n",
    "        defaults = dict(lr=lr, betas=betas, eps=eps,\n",
    "                        weight_decay=weight_decay, amsgrad=amsgrad)\n",
    "        super(Adam, self).__init__(params, defaults)\n",
    "\n",
    "    def __setstate__(self, state):\n",
    "        super(Adam, self).__setstate__(state)\n",
    "        for group in self.param_groups:\n",
    "            group.setdefault('amsgrad', False)\n",
    "    \n",
    "    def step(self, alpha, closure=None):\n",
    "        \"\"\"Performs a single optimization step.\n",
    "\n",
    "        Arguments:\n",
    "            closure (callable, optional): A closure that reevaluates the model\n",
    "                and returns the loss.\n",
    "        \"\"\"\n",
    "        loss = None\n",
    "        if closure is not None:\n",
    "            loss = closure()\n",
    "\n",
    "        for group in self.param_groups:\n",
    "            for p in group['params']:\n",
    "                if p.grad is None:\n",
    "                    continue\n",
    "                grad = p.grad.data\n",
    "                if grad.is_sparse:\n",
    "                    raise RuntimeError('Adam does not support sparse gradients, please consider SparseAdam instead')\n",
    "                amsgrad = group['amsgrad']\n",
    "\n",
    "                state = self.state[p]\n",
    "\n",
    "                # State initialization\n",
    "                if len(state) == 0:\n",
    "                    state['step'] = 0\n",
    "                    # Exponential moving average of gradient values\n",
    "                    state['exp_avg'] = torch.zeros_like(p.data)\n",
    "                    # Exponential moving average of squared gradient values\n",
    "                    state['exp_avg_sq'] = torch.zeros_like(p.data)\n",
    "                    if amsgrad:\n",
    "                        # Maintains max of all exp. moving avg. of sq. grad. values\n",
    "                        state['max_exp_avg_sq'] = torch.zeros_like(p.data)\n",
    "\n",
    "                exp_avg, exp_avg_sq = state['exp_avg'], state['exp_avg_sq']\n",
    "                if amsgrad:\n",
    "                    max_exp_avg_sq = state['max_exp_avg_sq']\n",
    "                beta1, beta2 = group['betas']\n",
    "\n",
    "                state['step'] += 1\n",
    "\n",
    "                if group['weight_decay'] != 0:\n",
    "                    grad = grad.add(group['weight_decay'], p.data)\n",
    "\n",
    "                # Decay the first and second moment running average coefficient\n",
    "                exp_avg.mul_(beta1).add_(1 - beta1, grad)\n",
    "                exp_avg_sq.mul_(beta2).addcmul_(1 - beta2, grad, grad)\n",
    "                if amsgrad:\n",
    "                    # Maintains the maximum of all 2nd moment running avg. till now\n",
    "                    torch.max(max_exp_avg_sq, exp_avg_sq, out=max_exp_avg_sq)\n",
    "                    # Use the max. for normalizing running avg. of gradient\n",
    "                    denom = max_exp_avg_sq.sqrt().add_(group['eps'])\n",
    "                else:\n",
    "                    denom = exp_avg_sq.sqrt().add_(group['eps'])\n",
    "\n",
    "                bias_correction1 = 1 - beta1 ** state['step']\n",
    "                bias_correction2 = 1 - beta2 ** state['step']\n",
    "                step_size = alpha * group['lr'] * math.sqrt(bias_correction2) / bias_correction1\n",
    "\n",
    "                p.data.addcdiv_(-step_size, exp_avg, denom)\n",
    "\n",
    "        return loss"
   ]
  },
  {
   "cell_type": "code",
   "execution_count": 47,
   "metadata": {},
   "outputs": [],
   "source": [
    "def fit_l1(model, train_dl, val_dl, loss_fn, opt_y, opt_z, epochs=3):\n",
    "    num_batch = len(train_dl)\n",
    "    train_loss_list = list()\n",
    "    train_acc_list = list()\n",
    "    val_loss_list = list()\n",
    "    val_acc_list = list()\n",
    "    for epoch in tnrange(epochs):      \n",
    "        y_true_train = list()\n",
    "        y_pred_train = list()\n",
    "        z_true_train = list()\n",
    "        z_pred_train = list()\n",
    "        total_lossy_train = 0\n",
    "        total_lossz_train = 0\n",
    "        total_loss_train = 0          \n",
    "        \n",
    "        t = tqdm_notebook(iter(train_dl), leave=False, total=num_batch)\n",
    "        for (X,lengths),y,z in t:\n",
    "            t.set_description('Epoch %d' % epoch)\n",
    "            lengths = lengths.cpu().numpy()\n",
    "            \n",
    "            opt_y.zero_grad()\n",
    "            opt_z.zero_grad()\n",
    "            \n",
    "            predy,predz = model(X, lengths)\n",
    "            \n",
    "            lossy = loss_fn(predy, y)\n",
    "            lossz = loss_fn(predz, z)\n",
    "            loss = lossy + lossz\n",
    "            \n",
    "            alpha_ = lossz/(lossy+lossz)\n",
    "            loss.backward()\n",
    "            \n",
    "            opt_y.step(alpha=alpha_.data)\n",
    "            opt_z.step(alpha=(1-alpha_.data))\n",
    "            \n",
    "            t.set_postfix(loss=loss.item())\n",
    "            pred_idxy = torch.max(predy, dim=1)[1]\n",
    "            \n",
    "            y_true_train += list(y.cpu().data.numpy())\n",
    "            y_pred_train += list(pred_idxy.cpu().data.numpy())\n",
    "            total_lossy_train += lossy.item()\n",
    "            \n",
    "            pred_idxz = torch.max(predz, dim=1)[1]\n",
    "            \n",
    "            z_true_train += list(z.cpu().data.numpy())\n",
    "            z_pred_train += list(pred_idxz.cpu().data.numpy())\n",
    "            total_lossz_train += lossz.item()\n",
    "            \n",
    "            total_loss_train += loss.item()\n",
    "            \n",
    "        train_accy = accuracy_score(y_true_train, y_pred_train)\n",
    "        train_lossy = total_lossy_train/len(train_dl)\n",
    "        \n",
    "        train_accz = accuracy_score(z_true_train, z_pred_train)\n",
    "        train_lossz = total_lossz_train/len(train_dl)\n",
    "        \n",
    "        train_acc = (train_accy+train_accz)/2.0\n",
    "        train_loss = total_loss_train/len(train_dl)\n",
    "        \n",
    "        train_acc_list.append(train_acc)\n",
    "        train_loss_list.append(train_loss)\n",
    "        \n",
    "        if val_dl:\n",
    "            y_true_val = list()\n",
    "            y_pred_val = list()\n",
    "            total_lossy_val = 0\n",
    "            \n",
    "            z_true_val = list()\n",
    "            z_pred_val = list()\n",
    "            total_lossz_val = 0\n",
    "            \n",
    "            total_loss_val = 0\n",
    "            for (X,lengths),y,z in tqdm_notebook(val_dl, leave=False):\n",
    "                predy, predz = model(X, lengths.cpu().numpy())\n",
    "                \n",
    "                lossy = loss_fn(predy, y)\n",
    "                lossz = loss_fn(predz, z)\n",
    "                loss = lossy+lossz\n",
    "                \n",
    "                pred_idxy = torch.max(predy, 1)[1]\n",
    "                y_true_val += list(y.cpu().data.numpy())\n",
    "                y_pred_val += list(pred_idxy.cpu().data.numpy())\n",
    "                total_lossy_val += lossy.item()\n",
    "                \n",
    "                pred_idxz = torch.max(predz, 1)[1]\n",
    "                z_true_val += list(z.cpu().data.numpy())\n",
    "                z_pred_val += list(pred_idxz.cpu().data.numpy())\n",
    "                total_lossz_val += lossz.item()\n",
    "                \n",
    "                total_loss_val += loss.item()\n",
    "            \n",
    "            valaccy = accuracy_score(y_true_val, y_pred_val)\n",
    "            vallossy = total_lossy_val/len(valdl)\n",
    "            \n",
    "            valaccz = accuracy_score(z_true_val, z_pred_val)\n",
    "            vallossz = total_lossz_val/len(valdl)\n",
    "            \n",
    "            valacc = (valaccy+valaccz)/2.0\n",
    "            valloss = total_loss_val/len(valdl)\n",
    "            \n",
    "            val_acc_list.append(valacc)\n",
    "            val_loss_list.append(valloss)\n",
    "            \n",
    "            print ('Epoch [%d/%d] train_loss: %.4f, train_acc: %.4f, val_loss: %.4f, val_acc: %.4f ' \n",
    "                   %(epoch+1, epochs, train_loss, train_acc, valloss, valacc))\n",
    "        else:\n",
    "            print ('Epoch [%d/%d] train_loss: %.4f, train_acc: %.4f ' \n",
    "                   %(epoch+1, epochs, train_loss, train_acc))\n",
    "    return train_acc_list, train_loss_list, val_acc_list, val_loss_list"
   ]
  },
  {
   "cell_type": "code",
   "execution_count": 48,
   "metadata": {},
   "outputs": [
    {
     "data": {
      "application/vnd.jupyter.widget-view+json": {
       "model_id": "d01d562c7ab142929d31a10e91636da3",
       "version_major": 2,
       "version_minor": 0
      },
      "text/plain": [
       "HBox(children=(IntProgress(value=0, max=50), HTML(value=u'')))"
      ]
     },
     "metadata": {},
     "output_type": "display_data"
    },
    {
     "data": {
      "application/vnd.jupyter.widget-view+json": {
       "model_id": "",
       "version_major": 2,
       "version_minor": 0
      },
      "text/plain": [
       "HBox(children=(IntProgress(value=0, max=1150), HTML(value=u'')))"
      ]
     },
     "metadata": {},
     "output_type": "display_data"
    },
    {
     "name": "stderr",
     "output_type": "stream",
     "text": [
      "/Users/jayanth/Library/Python/2.7/lib/python/site-packages/ipykernel_launcher.py:25: UserWarning: Implicit dimension choice for log_softmax has been deprecated. Change the call to include dim=X as an argument.\n"
     ]
    },
    {
     "data": {
      "application/vnd.jupyter.widget-view+json": {
       "model_id": "",
       "version_major": 2,
       "version_minor": 0
      },
      "text/plain": [
       "HBox(children=(IntProgress(value=0, max=128), HTML(value=u'')))"
      ]
     },
     "metadata": {},
     "output_type": "display_data"
    },
    {
     "name": "stdout",
     "output_type": "stream",
     "text": [
      "Epoch [1/50] train_loss: 1.6739, train_acc: 0.5787, val_loss: 1.5905, val_acc: 0.6224 \n"
     ]
    },
    {
     "data": {
      "application/vnd.jupyter.widget-view+json": {
       "model_id": "",
       "version_major": 2,
       "version_minor": 0
      },
      "text/plain": [
       "HBox(children=(IntProgress(value=0, max=1150), HTML(value=u'')))"
      ]
     },
     "metadata": {},
     "output_type": "display_data"
    },
    {
     "data": {
      "application/vnd.jupyter.widget-view+json": {
       "model_id": "",
       "version_major": 2,
       "version_minor": 0
      },
      "text/plain": [
       "HBox(children=(IntProgress(value=0, max=128), HTML(value=u'')))"
      ]
     },
     "metadata": {},
     "output_type": "display_data"
    },
    {
     "name": "stdout",
     "output_type": "stream",
     "text": [
      "Epoch [2/50] train_loss: 1.5121, train_acc: 0.6488, val_loss: 1.5187, val_acc: 0.6628 \n"
     ]
    },
    {
     "data": {
      "application/vnd.jupyter.widget-view+json": {
       "model_id": "",
       "version_major": 2,
       "version_minor": 0
      },
      "text/plain": [
       "HBox(children=(IntProgress(value=0, max=1150), HTML(value=u'')))"
      ]
     },
     "metadata": {},
     "output_type": "display_data"
    },
    {
     "data": {
      "application/vnd.jupyter.widget-view+json": {
       "model_id": "",
       "version_major": 2,
       "version_minor": 0
      },
      "text/plain": [
       "HBox(children=(IntProgress(value=0, max=128), HTML(value=u'')))"
      ]
     },
     "metadata": {},
     "output_type": "display_data"
    },
    {
     "name": "stdout",
     "output_type": "stream",
     "text": [
      "Epoch [3/50] train_loss: 1.4073, train_acc: 0.6787, val_loss: 1.5081, val_acc: 0.6445 \n"
     ]
    },
    {
     "data": {
      "application/vnd.jupyter.widget-view+json": {
       "model_id": "",
       "version_major": 2,
       "version_minor": 0
      },
      "text/plain": [
       "HBox(children=(IntProgress(value=0, max=1150), HTML(value=u'')))"
      ]
     },
     "metadata": {},
     "output_type": "display_data"
    },
    {
     "data": {
      "application/vnd.jupyter.widget-view+json": {
       "model_id": "",
       "version_major": 2,
       "version_minor": 0
      },
      "text/plain": [
       "HBox(children=(IntProgress(value=0, max=128), HTML(value=u'')))"
      ]
     },
     "metadata": {},
     "output_type": "display_data"
    },
    {
     "name": "stdout",
     "output_type": "stream",
     "text": [
      "Epoch [4/50] train_loss: 1.2933, train_acc: 0.7172, val_loss: 1.5460, val_acc: 0.6510 \n"
     ]
    },
    {
     "data": {
      "application/vnd.jupyter.widget-view+json": {
       "model_id": "",
       "version_major": 2,
       "version_minor": 0
      },
      "text/plain": [
       "HBox(children=(IntProgress(value=0, max=1150), HTML(value=u'')))"
      ]
     },
     "metadata": {},
     "output_type": "display_data"
    },
    {
     "data": {
      "application/vnd.jupyter.widget-view+json": {
       "model_id": "",
       "version_major": 2,
       "version_minor": 0
      },
      "text/plain": [
       "HBox(children=(IntProgress(value=0, max=128), HTML(value=u'')))"
      ]
     },
     "metadata": {},
     "output_type": "display_data"
    },
    {
     "name": "stdout",
     "output_type": "stream",
     "text": [
      "Epoch [5/50] train_loss: 1.1636, train_acc: 0.7568, val_loss: 1.5337, val_acc: 0.6641 \n"
     ]
    },
    {
     "data": {
      "application/vnd.jupyter.widget-view+json": {
       "model_id": "",
       "version_major": 2,
       "version_minor": 0
      },
      "text/plain": [
       "HBox(children=(IntProgress(value=0, max=1150), HTML(value=u'')))"
      ]
     },
     "metadata": {},
     "output_type": "display_data"
    },
    {
     "data": {
      "application/vnd.jupyter.widget-view+json": {
       "model_id": "",
       "version_major": 2,
       "version_minor": 0
      },
      "text/plain": [
       "HBox(children=(IntProgress(value=0, max=128), HTML(value=u'')))"
      ]
     },
     "metadata": {},
     "output_type": "display_data"
    },
    {
     "name": "stdout",
     "output_type": "stream",
     "text": [
      "Epoch [6/50] train_loss: 1.0035, train_acc: 0.7967, val_loss: 1.7303, val_acc: 0.6549 \n"
     ]
    },
    {
     "data": {
      "application/vnd.jupyter.widget-view+json": {
       "model_id": "",
       "version_major": 2,
       "version_minor": 0
      },
      "text/plain": [
       "HBox(children=(IntProgress(value=0, max=1150), HTML(value=u'')))"
      ]
     },
     "metadata": {},
     "output_type": "display_data"
    },
    {
     "data": {
      "application/vnd.jupyter.widget-view+json": {
       "model_id": "",
       "version_major": 2,
       "version_minor": 0
      },
      "text/plain": [
       "HBox(children=(IntProgress(value=0, max=128), HTML(value=u'')))"
      ]
     },
     "metadata": {},
     "output_type": "display_data"
    },
    {
     "name": "stdout",
     "output_type": "stream",
     "text": [
      "Epoch [7/50] train_loss: 0.8271, train_acc: 0.8387, val_loss: 1.7969, val_acc: 0.6445 \n"
     ]
    },
    {
     "data": {
      "application/vnd.jupyter.widget-view+json": {
       "model_id": "",
       "version_major": 2,
       "version_minor": 0
      },
      "text/plain": [
       "HBox(children=(IntProgress(value=0, max=1150), HTML(value=u'')))"
      ]
     },
     "metadata": {},
     "output_type": "display_data"
    },
    {
     "data": {
      "application/vnd.jupyter.widget-view+json": {
       "model_id": "",
       "version_major": 2,
       "version_minor": 0
      },
      "text/plain": [
       "HBox(children=(IntProgress(value=0, max=128), HTML(value=u'')))"
      ]
     },
     "metadata": {},
     "output_type": "display_data"
    },
    {
     "name": "stdout",
     "output_type": "stream",
     "text": [
      "Epoch [8/50] train_loss: 0.6385, train_acc: 0.8830, val_loss: 1.9663, val_acc: 0.6523 \n"
     ]
    },
    {
     "data": {
      "application/vnd.jupyter.widget-view+json": {
       "model_id": "",
       "version_major": 2,
       "version_minor": 0
      },
      "text/plain": [
       "HBox(children=(IntProgress(value=0, max=1150), HTML(value=u'')))"
      ]
     },
     "metadata": {},
     "output_type": "display_data"
    },
    {
     "data": {
      "application/vnd.jupyter.widget-view+json": {
       "model_id": "",
       "version_major": 2,
       "version_minor": 0
      },
      "text/plain": [
       "HBox(children=(IntProgress(value=0, max=128), HTML(value=u'')))"
      ]
     },
     "metadata": {},
     "output_type": "display_data"
    },
    {
     "name": "stdout",
     "output_type": "stream",
     "text": [
      "Epoch [9/50] train_loss: 0.4837, train_acc: 0.9136, val_loss: 2.4258, val_acc: 0.6120 \n"
     ]
    },
    {
     "data": {
      "application/vnd.jupyter.widget-view+json": {
       "model_id": "",
       "version_major": 2,
       "version_minor": 0
      },
      "text/plain": [
       "HBox(children=(IntProgress(value=0, max=1150), HTML(value=u'')))"
      ]
     },
     "metadata": {},
     "output_type": "display_data"
    },
    {
     "data": {
      "application/vnd.jupyter.widget-view+json": {
       "model_id": "",
       "version_major": 2,
       "version_minor": 0
      },
      "text/plain": [
       "HBox(children=(IntProgress(value=0, max=128), HTML(value=u'')))"
      ]
     },
     "metadata": {},
     "output_type": "display_data"
    },
    {
     "name": "stdout",
     "output_type": "stream",
     "text": [
      "Epoch [10/50] train_loss: 0.3474, train_acc: 0.9435, val_loss: 2.4502, val_acc: 0.6133 \n"
     ]
    },
    {
     "data": {
      "application/vnd.jupyter.widget-view+json": {
       "model_id": "",
       "version_major": 2,
       "version_minor": 0
      },
      "text/plain": [
       "HBox(children=(IntProgress(value=0, max=1150), HTML(value=u'')))"
      ]
     },
     "metadata": {},
     "output_type": "display_data"
    },
    {
     "data": {
      "application/vnd.jupyter.widget-view+json": {
       "model_id": "",
       "version_major": 2,
       "version_minor": 0
      },
      "text/plain": [
       "HBox(children=(IntProgress(value=0, max=128), HTML(value=u'')))"
      ]
     },
     "metadata": {},
     "output_type": "display_data"
    },
    {
     "name": "stdout",
     "output_type": "stream",
     "text": [
      "Epoch [11/50] train_loss: 0.2645, train_acc: 0.9583, val_loss: 3.1877, val_acc: 0.6042 \n"
     ]
    },
    {
     "data": {
      "application/vnd.jupyter.widget-view+json": {
       "model_id": "",
       "version_major": 2,
       "version_minor": 0
      },
      "text/plain": [
       "HBox(children=(IntProgress(value=0, max=1150), HTML(value=u'')))"
      ]
     },
     "metadata": {},
     "output_type": "display_data"
    },
    {
     "data": {
      "application/vnd.jupyter.widget-view+json": {
       "model_id": "",
       "version_major": 2,
       "version_minor": 0
      },
      "text/plain": [
       "HBox(children=(IntProgress(value=0, max=128), HTML(value=u'')))"
      ]
     },
     "metadata": {},
     "output_type": "display_data"
    },
    {
     "name": "stdout",
     "output_type": "stream",
     "text": [
      "Epoch [12/50] train_loss: 0.2159, train_acc: 0.9671, val_loss: 2.9894, val_acc: 0.6185 \n"
     ]
    },
    {
     "data": {
      "application/vnd.jupyter.widget-view+json": {
       "model_id": "",
       "version_major": 2,
       "version_minor": 0
      },
      "text/plain": [
       "HBox(children=(IntProgress(value=0, max=1150), HTML(value=u'')))"
      ]
     },
     "metadata": {},
     "output_type": "display_data"
    },
    {
     "data": {
      "application/vnd.jupyter.widget-view+json": {
       "model_id": "",
       "version_major": 2,
       "version_minor": 0
      },
      "text/plain": [
       "HBox(children=(IntProgress(value=0, max=128), HTML(value=u'')))"
      ]
     },
     "metadata": {},
     "output_type": "display_data"
    },
    {
     "name": "stdout",
     "output_type": "stream",
     "text": [
      "Epoch [13/50] train_loss: 0.1663, train_acc: 0.9783, val_loss: 3.1037, val_acc: 0.5924 \n"
     ]
    },
    {
     "data": {
      "application/vnd.jupyter.widget-view+json": {
       "model_id": "",
       "version_major": 2,
       "version_minor": 0
      },
      "text/plain": [
       "HBox(children=(IntProgress(value=0, max=1150), HTML(value=u'')))"
      ]
     },
     "metadata": {},
     "output_type": "display_data"
    },
    {
     "data": {
      "application/vnd.jupyter.widget-view+json": {
       "model_id": "",
       "version_major": 2,
       "version_minor": 0
      },
      "text/plain": [
       "HBox(children=(IntProgress(value=0, max=128), HTML(value=u'')))"
      ]
     },
     "metadata": {},
     "output_type": "display_data"
    },
    {
     "name": "stdout",
     "output_type": "stream",
     "text": [
      "Epoch [14/50] train_loss: 0.1965, train_acc: 0.9728, val_loss: 3.4430, val_acc: 0.6016 \n"
     ]
    },
    {
     "data": {
      "application/vnd.jupyter.widget-view+json": {
       "model_id": "",
       "version_major": 2,
       "version_minor": 0
      },
      "text/plain": [
       "HBox(children=(IntProgress(value=0, max=1150), HTML(value=u'')))"
      ]
     },
     "metadata": {},
     "output_type": "display_data"
    },
    {
     "data": {
      "application/vnd.jupyter.widget-view+json": {
       "model_id": "",
       "version_major": 2,
       "version_minor": 0
      },
      "text/plain": [
       "HBox(children=(IntProgress(value=0, max=128), HTML(value=u'')))"
      ]
     },
     "metadata": {},
     "output_type": "display_data"
    },
    {
     "name": "stdout",
     "output_type": "stream",
     "text": [
      "Epoch [15/50] train_loss: 0.1073, train_acc: 0.9868, val_loss: 3.6341, val_acc: 0.6068 \n"
     ]
    },
    {
     "data": {
      "application/vnd.jupyter.widget-view+json": {
       "model_id": "",
       "version_major": 2,
       "version_minor": 0
      },
      "text/plain": [
       "HBox(children=(IntProgress(value=0, max=1150), HTML(value=u'')))"
      ]
     },
     "metadata": {},
     "output_type": "display_data"
    },
    {
     "data": {
      "application/vnd.jupyter.widget-view+json": {
       "model_id": "",
       "version_major": 2,
       "version_minor": 0
      },
      "text/plain": [
       "HBox(children=(IntProgress(value=0, max=128), HTML(value=u'')))"
      ]
     },
     "metadata": {},
     "output_type": "display_data"
    },
    {
     "name": "stdout",
     "output_type": "stream",
     "text": [
      "Epoch [16/50] train_loss: 0.1112, train_acc: 0.9865, val_loss: 3.9060, val_acc: 0.5951 \n"
     ]
    },
    {
     "data": {
      "application/vnd.jupyter.widget-view+json": {
       "model_id": "",
       "version_major": 2,
       "version_minor": 0
      },
      "text/plain": [
       "HBox(children=(IntProgress(value=0, max=1150), HTML(value=u'')))"
      ]
     },
     "metadata": {},
     "output_type": "display_data"
    },
    {
     "data": {
      "application/vnd.jupyter.widget-view+json": {
       "model_id": "",
       "version_major": 2,
       "version_minor": 0
      },
      "text/plain": [
       "HBox(children=(IntProgress(value=0, max=128), HTML(value=u'')))"
      ]
     },
     "metadata": {},
     "output_type": "display_data"
    },
    {
     "name": "stdout",
     "output_type": "stream",
     "text": [
      "Epoch [17/50] train_loss: 0.1010, train_acc: 0.9872, val_loss: 4.3802, val_acc: 0.5938 \n"
     ]
    },
    {
     "data": {
      "application/vnd.jupyter.widget-view+json": {
       "model_id": "",
       "version_major": 2,
       "version_minor": 0
      },
      "text/plain": [
       "HBox(children=(IntProgress(value=0, max=1150), HTML(value=u'')))"
      ]
     },
     "metadata": {},
     "output_type": "display_data"
    },
    {
     "data": {
      "application/vnd.jupyter.widget-view+json": {
       "model_id": "",
       "version_major": 2,
       "version_minor": 0
      },
      "text/plain": [
       "HBox(children=(IntProgress(value=0, max=128), HTML(value=u'')))"
      ]
     },
     "metadata": {},
     "output_type": "display_data"
    },
    {
     "name": "stdout",
     "output_type": "stream",
     "text": [
      "Epoch [18/50] train_loss: 0.0725, train_acc: 0.9932, val_loss: 4.4542, val_acc: 0.5742 \n"
     ]
    },
    {
     "data": {
      "application/vnd.jupyter.widget-view+json": {
       "model_id": "",
       "version_major": 2,
       "version_minor": 0
      },
      "text/plain": [
       "HBox(children=(IntProgress(value=0, max=1150), HTML(value=u'')))"
      ]
     },
     "metadata": {},
     "output_type": "display_data"
    },
    {
     "data": {
      "application/vnd.jupyter.widget-view+json": {
       "model_id": "",
       "version_major": 2,
       "version_minor": 0
      },
      "text/plain": [
       "HBox(children=(IntProgress(value=0, max=128), HTML(value=u'')))"
      ]
     },
     "metadata": {},
     "output_type": "display_data"
    },
    {
     "name": "stdout",
     "output_type": "stream",
     "text": [
      "Epoch [19/50] train_loss: 0.0944, train_acc: 0.9888, val_loss: 4.5404, val_acc: 0.5768 \n"
     ]
    },
    {
     "data": {
      "application/vnd.jupyter.widget-view+json": {
       "model_id": "",
       "version_major": 2,
       "version_minor": 0
      },
      "text/plain": [
       "HBox(children=(IntProgress(value=0, max=1150), HTML(value=u'')))"
      ]
     },
     "metadata": {},
     "output_type": "display_data"
    },
    {
     "data": {
      "application/vnd.jupyter.widget-view+json": {
       "model_id": "",
       "version_major": 2,
       "version_minor": 0
      },
      "text/plain": [
       "HBox(children=(IntProgress(value=0, max=128), HTML(value=u'')))"
      ]
     },
     "metadata": {},
     "output_type": "display_data"
    },
    {
     "name": "stdout",
     "output_type": "stream",
     "text": [
      "Epoch [20/50] train_loss: 0.1072, train_acc: 0.9868, val_loss: 4.1175, val_acc: 0.6133 \n"
     ]
    },
    {
     "data": {
      "application/vnd.jupyter.widget-view+json": {
       "model_id": "",
       "version_major": 2,
       "version_minor": 0
      },
      "text/plain": [
       "HBox(children=(IntProgress(value=0, max=1150), HTML(value=u'')))"
      ]
     },
     "metadata": {},
     "output_type": "display_data"
    },
    {
     "data": {
      "application/vnd.jupyter.widget-view+json": {
       "model_id": "",
       "version_major": 2,
       "version_minor": 0
      },
      "text/plain": [
       "HBox(children=(IntProgress(value=0, max=128), HTML(value=u'')))"
      ]
     },
     "metadata": {},
     "output_type": "display_data"
    },
    {
     "name": "stdout",
     "output_type": "stream",
     "text": [
      "Epoch [21/50] train_loss: 0.0621, train_acc: 0.9946, val_loss: 4.3776, val_acc: 0.6016 \n"
     ]
    },
    {
     "data": {
      "application/vnd.jupyter.widget-view+json": {
       "model_id": "",
       "version_major": 2,
       "version_minor": 0
      },
      "text/plain": [
       "HBox(children=(IntProgress(value=0, max=1150), HTML(value=u'')))"
      ]
     },
     "metadata": {},
     "output_type": "display_data"
    },
    {
     "data": {
      "application/vnd.jupyter.widget-view+json": {
       "model_id": "",
       "version_major": 2,
       "version_minor": 0
      },
      "text/plain": [
       "HBox(children=(IntProgress(value=0, max=128), HTML(value=u'')))"
      ]
     },
     "metadata": {},
     "output_type": "display_data"
    },
    {
     "name": "stdout",
     "output_type": "stream",
     "text": [
      "Epoch [22/50] train_loss: 0.0240, train_acc: 0.9987, val_loss: 4.9000, val_acc: 0.5938 \n"
     ]
    },
    {
     "data": {
      "application/vnd.jupyter.widget-view+json": {
       "model_id": "",
       "version_major": 2,
       "version_minor": 0
      },
      "text/plain": [
       "HBox(children=(IntProgress(value=0, max=1150), HTML(value=u'')))"
      ]
     },
     "metadata": {},
     "output_type": "display_data"
    },
    {
     "data": {
      "application/vnd.jupyter.widget-view+json": {
       "model_id": "",
       "version_major": 2,
       "version_minor": 0
      },
      "text/plain": [
       "HBox(children=(IntProgress(value=0, max=128), HTML(value=u'')))"
      ]
     },
     "metadata": {},
     "output_type": "display_data"
    },
    {
     "name": "stdout",
     "output_type": "stream",
     "text": [
      "Epoch [23/50] train_loss: 0.0159, train_acc: 0.9994, val_loss: 5.0616, val_acc: 0.6016 \n"
     ]
    },
    {
     "data": {
      "application/vnd.jupyter.widget-view+json": {
       "model_id": "",
       "version_major": 2,
       "version_minor": 0
      },
      "text/plain": [
       "HBox(children=(IntProgress(value=0, max=1150), HTML(value=u'')))"
      ]
     },
     "metadata": {},
     "output_type": "display_data"
    },
    {
     "data": {
      "application/vnd.jupyter.widget-view+json": {
       "model_id": "",
       "version_major": 2,
       "version_minor": 0
      },
      "text/plain": [
       "HBox(children=(IntProgress(value=0, max=128), HTML(value=u'')))"
      ]
     },
     "metadata": {},
     "output_type": "display_data"
    },
    {
     "name": "stdout",
     "output_type": "stream",
     "text": [
      "Epoch [24/50] train_loss: 0.0124, train_acc: 0.9996, val_loss: 5.4531, val_acc: 0.5938 \n"
     ]
    },
    {
     "data": {
      "application/vnd.jupyter.widget-view+json": {
       "model_id": "",
       "version_major": 2,
       "version_minor": 0
      },
      "text/plain": [
       "HBox(children=(IntProgress(value=0, max=1150), HTML(value=u'')))"
      ]
     },
     "metadata": {},
     "output_type": "display_data"
    },
    {
     "data": {
      "application/vnd.jupyter.widget-view+json": {
       "model_id": "",
       "version_major": 2,
       "version_minor": 0
      },
      "text/plain": [
       "HBox(children=(IntProgress(value=0, max=128), HTML(value=u'')))"
      ]
     },
     "metadata": {},
     "output_type": "display_data"
    },
    {
     "name": "stdout",
     "output_type": "stream",
     "text": [
      "Epoch [25/50] train_loss: 0.1620, train_acc: 0.9745, val_loss: 4.2908, val_acc: 0.6068 \n"
     ]
    },
    {
     "data": {
      "application/vnd.jupyter.widget-view+json": {
       "model_id": "",
       "version_major": 2,
       "version_minor": 0
      },
      "text/plain": [
       "HBox(children=(IntProgress(value=0, max=1150), HTML(value=u'')))"
      ]
     },
     "metadata": {},
     "output_type": "display_data"
    },
    {
     "data": {
      "application/vnd.jupyter.widget-view+json": {
       "model_id": "",
       "version_major": 2,
       "version_minor": 0
      },
      "text/plain": [
       "HBox(children=(IntProgress(value=0, max=128), HTML(value=u'')))"
      ]
     },
     "metadata": {},
     "output_type": "display_data"
    },
    {
     "name": "stdout",
     "output_type": "stream",
     "text": [
      "Epoch [26/50] train_loss: 0.0617, train_acc: 0.9913, val_loss: 4.4554, val_acc: 0.6315 \n"
     ]
    },
    {
     "data": {
      "application/vnd.jupyter.widget-view+json": {
       "model_id": "",
       "version_major": 2,
       "version_minor": 0
      },
      "text/plain": [
       "HBox(children=(IntProgress(value=0, max=1150), HTML(value=u'')))"
      ]
     },
     "metadata": {},
     "output_type": "display_data"
    },
    {
     "data": {
      "application/vnd.jupyter.widget-view+json": {
       "model_id": "",
       "version_major": 2,
       "version_minor": 0
      },
      "text/plain": [
       "HBox(children=(IntProgress(value=0, max=128), HTML(value=u'')))"
      ]
     },
     "metadata": {},
     "output_type": "display_data"
    },
    {
     "name": "stdout",
     "output_type": "stream",
     "text": [
      "Epoch [27/50] train_loss: 0.0289, train_acc: 0.9978, val_loss: 4.7226, val_acc: 0.5951 \n"
     ]
    },
    {
     "data": {
      "application/vnd.jupyter.widget-view+json": {
       "model_id": "",
       "version_major": 2,
       "version_minor": 0
      },
      "text/plain": [
       "HBox(children=(IntProgress(value=0, max=1150), HTML(value=u'')))"
      ]
     },
     "metadata": {},
     "output_type": "display_data"
    },
    {
     "data": {
      "application/vnd.jupyter.widget-view+json": {
       "model_id": "",
       "version_major": 2,
       "version_minor": 0
      },
      "text/plain": [
       "HBox(children=(IntProgress(value=0, max=128), HTML(value=u'')))"
      ]
     },
     "metadata": {},
     "output_type": "display_data"
    },
    {
     "name": "stdout",
     "output_type": "stream",
     "text": [
      "Epoch [28/50] train_loss: 0.0180, train_acc: 0.9994, val_loss: 4.9084, val_acc: 0.6081 \n"
     ]
    },
    {
     "data": {
      "application/vnd.jupyter.widget-view+json": {
       "model_id": "",
       "version_major": 2,
       "version_minor": 0
      },
      "text/plain": [
       "HBox(children=(IntProgress(value=0, max=1150), HTML(value=u'')))"
      ]
     },
     "metadata": {},
     "output_type": "display_data"
    },
    {
     "data": {
      "application/vnd.jupyter.widget-view+json": {
       "model_id": "",
       "version_major": 2,
       "version_minor": 0
      },
      "text/plain": [
       "HBox(children=(IntProgress(value=0, max=128), HTML(value=u'')))"
      ]
     },
     "metadata": {},
     "output_type": "display_data"
    },
    {
     "name": "stdout",
     "output_type": "stream",
     "text": [
      "Epoch [29/50] train_loss: 0.0200, train_acc: 0.9972, val_loss: 4.7992, val_acc: 0.6393 \n"
     ]
    },
    {
     "data": {
      "application/vnd.jupyter.widget-view+json": {
       "model_id": "",
       "version_major": 2,
       "version_minor": 0
      },
      "text/plain": [
       "HBox(children=(IntProgress(value=0, max=1150), HTML(value=u'')))"
      ]
     },
     "metadata": {},
     "output_type": "display_data"
    },
    {
     "data": {
      "application/vnd.jupyter.widget-view+json": {
       "model_id": "",
       "version_major": 2,
       "version_minor": 0
      },
      "text/plain": [
       "HBox(children=(IntProgress(value=0, max=128), HTML(value=u'')))"
      ]
     },
     "metadata": {},
     "output_type": "display_data"
    },
    {
     "name": "stdout",
     "output_type": "stream",
     "text": [
      "Epoch [30/50] train_loss: 0.1299, train_acc: 0.9784, val_loss: 4.6873, val_acc: 0.6185 \n"
     ]
    },
    {
     "data": {
      "application/vnd.jupyter.widget-view+json": {
       "model_id": "",
       "version_major": 2,
       "version_minor": 0
      },
      "text/plain": [
       "HBox(children=(IntProgress(value=0, max=1150), HTML(value=u'')))"
      ]
     },
     "metadata": {},
     "output_type": "display_data"
    },
    {
     "data": {
      "application/vnd.jupyter.widget-view+json": {
       "model_id": "",
       "version_major": 2,
       "version_minor": 0
      },
      "text/plain": [
       "HBox(children=(IntProgress(value=0, max=128), HTML(value=u'')))"
      ]
     },
     "metadata": {},
     "output_type": "display_data"
    },
    {
     "name": "stdout",
     "output_type": "stream",
     "text": [
      "Epoch [31/50] train_loss: 0.0431, train_acc: 0.9945, val_loss: 4.6218, val_acc: 0.5977 \n"
     ]
    },
    {
     "data": {
      "application/vnd.jupyter.widget-view+json": {
       "model_id": "",
       "version_major": 2,
       "version_minor": 0
      },
      "text/plain": [
       "HBox(children=(IntProgress(value=0, max=1150), HTML(value=u'')))"
      ]
     },
     "metadata": {},
     "output_type": "display_data"
    },
    {
     "data": {
      "application/vnd.jupyter.widget-view+json": {
       "model_id": "",
       "version_major": 2,
       "version_minor": 0
      },
      "text/plain": [
       "HBox(children=(IntProgress(value=0, max=128), HTML(value=u'')))"
      ]
     },
     "metadata": {},
     "output_type": "display_data"
    },
    {
     "name": "stdout",
     "output_type": "stream",
     "text": [
      "Epoch [32/50] train_loss: 0.0280, train_acc: 0.9965, val_loss: 4.9301, val_acc: 0.6055 \n"
     ]
    },
    {
     "data": {
      "application/vnd.jupyter.widget-view+json": {
       "model_id": "",
       "version_major": 2,
       "version_minor": 0
      },
      "text/plain": [
       "HBox(children=(IntProgress(value=0, max=1150), HTML(value=u'')))"
      ]
     },
     "metadata": {},
     "output_type": "display_data"
    },
    {
     "data": {
      "application/vnd.jupyter.widget-view+json": {
       "model_id": "",
       "version_major": 2,
       "version_minor": 0
      },
      "text/plain": [
       "HBox(children=(IntProgress(value=0, max=128), HTML(value=u'')))"
      ]
     },
     "metadata": {},
     "output_type": "display_data"
    },
    {
     "name": "stdout",
     "output_type": "stream",
     "text": [
      "Epoch [33/50] train_loss: 0.0623, train_acc: 0.9910, val_loss: 4.5336, val_acc: 0.6250 \n"
     ]
    },
    {
     "data": {
      "application/vnd.jupyter.widget-view+json": {
       "model_id": "",
       "version_major": 2,
       "version_minor": 0
      },
      "text/plain": [
       "HBox(children=(IntProgress(value=0, max=1150), HTML(value=u'')))"
      ]
     },
     "metadata": {},
     "output_type": "display_data"
    },
    {
     "data": {
      "application/vnd.jupyter.widget-view+json": {
       "model_id": "",
       "version_major": 2,
       "version_minor": 0
      },
      "text/plain": [
       "HBox(children=(IntProgress(value=0, max=128), HTML(value=u'')))"
      ]
     },
     "metadata": {},
     "output_type": "display_data"
    },
    {
     "name": "stdout",
     "output_type": "stream",
     "text": [
      "Epoch [34/50] train_loss: 0.0210, train_acc: 0.9987, val_loss: 4.6596, val_acc: 0.6081 \n"
     ]
    },
    {
     "data": {
      "application/vnd.jupyter.widget-view+json": {
       "model_id": "",
       "version_major": 2,
       "version_minor": 0
      },
      "text/plain": [
       "HBox(children=(IntProgress(value=0, max=1150), HTML(value=u'')))"
      ]
     },
     "metadata": {},
     "output_type": "display_data"
    },
    {
     "data": {
      "application/vnd.jupyter.widget-view+json": {
       "model_id": "",
       "version_major": 2,
       "version_minor": 0
      },
      "text/plain": [
       "HBox(children=(IntProgress(value=0, max=128), HTML(value=u'')))"
      ]
     },
     "metadata": {},
     "output_type": "display_data"
    },
    {
     "name": "stdout",
     "output_type": "stream",
     "text": [
      "Epoch [35/50] train_loss: 0.0245, train_acc: 0.9978, val_loss: 4.7089, val_acc: 0.6003 \n"
     ]
    },
    {
     "data": {
      "application/vnd.jupyter.widget-view+json": {
       "model_id": "",
       "version_major": 2,
       "version_minor": 0
      },
      "text/plain": [
       "HBox(children=(IntProgress(value=0, max=1150), HTML(value=u'')))"
      ]
     },
     "metadata": {},
     "output_type": "display_data"
    },
    {
     "data": {
      "application/vnd.jupyter.widget-view+json": {
       "model_id": "",
       "version_major": 2,
       "version_minor": 0
      },
      "text/plain": [
       "HBox(children=(IntProgress(value=0, max=128), HTML(value=u'')))"
      ]
     },
     "metadata": {},
     "output_type": "display_data"
    },
    {
     "name": "stdout",
     "output_type": "stream",
     "text": [
      "Epoch [36/50] train_loss: 0.0398, train_acc: 0.9942, val_loss: 4.9494, val_acc: 0.6042 \n"
     ]
    },
    {
     "data": {
      "application/vnd.jupyter.widget-view+json": {
       "model_id": "",
       "version_major": 2,
       "version_minor": 0
      },
      "text/plain": [
       "HBox(children=(IntProgress(value=0, max=1150), HTML(value=u'')))"
      ]
     },
     "metadata": {},
     "output_type": "display_data"
    },
    {
     "data": {
      "application/vnd.jupyter.widget-view+json": {
       "model_id": "",
       "version_major": 2,
       "version_minor": 0
      },
      "text/plain": [
       "HBox(children=(IntProgress(value=0, max=128), HTML(value=u'')))"
      ]
     },
     "metadata": {},
     "output_type": "display_data"
    },
    {
     "name": "stdout",
     "output_type": "stream",
     "text": [
      "Epoch [37/50] train_loss: 0.0320, train_acc: 0.9964, val_loss: 5.3889, val_acc: 0.6081 \n"
     ]
    },
    {
     "data": {
      "application/vnd.jupyter.widget-view+json": {
       "model_id": "",
       "version_major": 2,
       "version_minor": 0
      },
      "text/plain": [
       "HBox(children=(IntProgress(value=0, max=1150), HTML(value=u'')))"
      ]
     },
     "metadata": {},
     "output_type": "display_data"
    },
    {
     "data": {
      "application/vnd.jupyter.widget-view+json": {
       "model_id": "",
       "version_major": 2,
       "version_minor": 0
      },
      "text/plain": [
       "HBox(children=(IntProgress(value=0, max=128), HTML(value=u'')))"
      ]
     },
     "metadata": {},
     "output_type": "display_data"
    },
    {
     "name": "stdout",
     "output_type": "stream",
     "text": [
      "Epoch [38/50] train_loss: 0.0224, train_acc: 0.9972, val_loss: 5.3544, val_acc: 0.5794 \n"
     ]
    },
    {
     "data": {
      "application/vnd.jupyter.widget-view+json": {
       "model_id": "",
       "version_major": 2,
       "version_minor": 0
      },
      "text/plain": [
       "HBox(children=(IntProgress(value=0, max=1150), HTML(value=u'')))"
      ]
     },
     "metadata": {},
     "output_type": "display_data"
    },
    {
     "data": {
      "application/vnd.jupyter.widget-view+json": {
       "model_id": "",
       "version_major": 2,
       "version_minor": 0
      },
      "text/plain": [
       "HBox(children=(IntProgress(value=0, max=128), HTML(value=u'')))"
      ]
     },
     "metadata": {},
     "output_type": "display_data"
    },
    {
     "name": "stdout",
     "output_type": "stream",
     "text": [
      "Epoch [39/50] train_loss: 0.0666, train_acc: 0.9910, val_loss: 4.9750, val_acc: 0.6055 \n"
     ]
    },
    {
     "data": {
      "application/vnd.jupyter.widget-view+json": {
       "model_id": "",
       "version_major": 2,
       "version_minor": 0
      },
      "text/plain": [
       "HBox(children=(IntProgress(value=0, max=1150), HTML(value=u'')))"
      ]
     },
     "metadata": {},
     "output_type": "display_data"
    },
    {
     "data": {
      "application/vnd.jupyter.widget-view+json": {
       "model_id": "",
       "version_major": 2,
       "version_minor": 0
      },
      "text/plain": [
       "HBox(children=(IntProgress(value=0, max=128), HTML(value=u'')))"
      ]
     },
     "metadata": {},
     "output_type": "display_data"
    },
    {
     "name": "stdout",
     "output_type": "stream",
     "text": [
      "Epoch [40/50] train_loss: 0.0472, train_acc: 0.9951, val_loss: 4.8061, val_acc: 0.6094 \n"
     ]
    },
    {
     "data": {
      "application/vnd.jupyter.widget-view+json": {
       "model_id": "",
       "version_major": 2,
       "version_minor": 0
      },
      "text/plain": [
       "HBox(children=(IntProgress(value=0, max=1150), HTML(value=u'')))"
      ]
     },
     "metadata": {},
     "output_type": "display_data"
    },
    {
     "data": {
      "application/vnd.jupyter.widget-view+json": {
       "model_id": "",
       "version_major": 2,
       "version_minor": 0
      },
      "text/plain": [
       "HBox(children=(IntProgress(value=0, max=128), HTML(value=u'')))"
      ]
     },
     "metadata": {},
     "output_type": "display_data"
    },
    {
     "name": "stdout",
     "output_type": "stream",
     "text": [
      "Epoch [41/50] train_loss: 0.0286, train_acc: 0.9971, val_loss: 5.3742, val_acc: 0.6029 \n"
     ]
    },
    {
     "data": {
      "application/vnd.jupyter.widget-view+json": {
       "model_id": "",
       "version_major": 2,
       "version_minor": 0
      },
      "text/plain": [
       "HBox(children=(IntProgress(value=0, max=1150), HTML(value=u'')))"
      ]
     },
     "metadata": {},
     "output_type": "display_data"
    },
    {
     "data": {
      "application/vnd.jupyter.widget-view+json": {
       "model_id": "",
       "version_major": 2,
       "version_minor": 0
      },
      "text/plain": [
       "HBox(children=(IntProgress(value=0, max=128), HTML(value=u'')))"
      ]
     },
     "metadata": {},
     "output_type": "display_data"
    },
    {
     "name": "stdout",
     "output_type": "stream",
     "text": [
      "Epoch [42/50] train_loss: 0.0236, train_acc: 0.9981, val_loss: 5.4333, val_acc: 0.5964 \n"
     ]
    },
    {
     "data": {
      "application/vnd.jupyter.widget-view+json": {
       "model_id": "",
       "version_major": 2,
       "version_minor": 0
      },
      "text/plain": [
       "HBox(children=(IntProgress(value=0, max=1150), HTML(value=u'')))"
      ]
     },
     "metadata": {},
     "output_type": "display_data"
    },
    {
     "data": {
      "application/vnd.jupyter.widget-view+json": {
       "model_id": "",
       "version_major": 2,
       "version_minor": 0
      },
      "text/plain": [
       "HBox(children=(IntProgress(value=0, max=128), HTML(value=u'')))"
      ]
     },
     "metadata": {},
     "output_type": "display_data"
    },
    {
     "name": "stdout",
     "output_type": "stream",
     "text": [
      "Epoch [43/50] train_loss: 0.0348, train_acc: 0.9954, val_loss: 5.2879, val_acc: 0.5990 \n"
     ]
    },
    {
     "data": {
      "application/vnd.jupyter.widget-view+json": {
       "model_id": "",
       "version_major": 2,
       "version_minor": 0
      },
      "text/plain": [
       "HBox(children=(IntProgress(value=0, max=1150), HTML(value=u'')))"
      ]
     },
     "metadata": {},
     "output_type": "display_data"
    },
    {
     "data": {
      "application/vnd.jupyter.widget-view+json": {
       "model_id": "",
       "version_major": 2,
       "version_minor": 0
      },
      "text/plain": [
       "HBox(children=(IntProgress(value=0, max=128), HTML(value=u'')))"
      ]
     },
     "metadata": {},
     "output_type": "display_data"
    },
    {
     "name": "stdout",
     "output_type": "stream",
     "text": [
      "Epoch [44/50] train_loss: 0.0185, train_acc: 0.9987, val_loss: 5.4247, val_acc: 0.5872 \n"
     ]
    },
    {
     "data": {
      "application/vnd.jupyter.widget-view+json": {
       "model_id": "",
       "version_major": 2,
       "version_minor": 0
      },
      "text/plain": [
       "HBox(children=(IntProgress(value=0, max=1150), HTML(value=u'')))"
      ]
     },
     "metadata": {},
     "output_type": "display_data"
    },
    {
     "data": {
      "application/vnd.jupyter.widget-view+json": {
       "model_id": "",
       "version_major": 2,
       "version_minor": 0
      },
      "text/plain": [
       "HBox(children=(IntProgress(value=0, max=128), HTML(value=u'')))"
      ]
     },
     "metadata": {},
     "output_type": "display_data"
    },
    {
     "name": "stdout",
     "output_type": "stream",
     "text": [
      "Epoch [45/50] train_loss: 0.0066, train_acc: 0.9999, val_loss: 5.3765, val_acc: 0.6198 \n"
     ]
    },
    {
     "data": {
      "application/vnd.jupyter.widget-view+json": {
       "model_id": "",
       "version_major": 2,
       "version_minor": 0
      },
      "text/plain": [
       "HBox(children=(IntProgress(value=0, max=1150), HTML(value=u'')))"
      ]
     },
     "metadata": {},
     "output_type": "display_data"
    },
    {
     "data": {
      "application/vnd.jupyter.widget-view+json": {
       "model_id": "",
       "version_major": 2,
       "version_minor": 0
      },
      "text/plain": [
       "HBox(children=(IntProgress(value=0, max=128), HTML(value=u'')))"
      ]
     },
     "metadata": {},
     "output_type": "display_data"
    },
    {
     "name": "stdout",
     "output_type": "stream",
     "text": [
      "Epoch [46/50] train_loss: 0.0032, train_acc: 1.0000, val_loss: 5.6488, val_acc: 0.6159 \n"
     ]
    },
    {
     "data": {
      "application/vnd.jupyter.widget-view+json": {
       "model_id": "",
       "version_major": 2,
       "version_minor": 0
      },
      "text/plain": [
       "HBox(children=(IntProgress(value=0, max=1150), HTML(value=u'')))"
      ]
     },
     "metadata": {},
     "output_type": "display_data"
    },
    {
     "data": {
      "application/vnd.jupyter.widget-view+json": {
       "model_id": "",
       "version_major": 2,
       "version_minor": 0
      },
      "text/plain": [
       "HBox(children=(IntProgress(value=0, max=128), HTML(value=u'')))"
      ]
     },
     "metadata": {},
     "output_type": "display_data"
    },
    {
     "name": "stdout",
     "output_type": "stream",
     "text": [
      "Epoch [47/50] train_loss: 0.0022, train_acc: 1.0000, val_loss: 5.8202, val_acc: 0.6159 \n"
     ]
    },
    {
     "data": {
      "application/vnd.jupyter.widget-view+json": {
       "model_id": "",
       "version_major": 2,
       "version_minor": 0
      },
      "text/plain": [
       "HBox(children=(IntProgress(value=0, max=1150), HTML(value=u'')))"
      ]
     },
     "metadata": {},
     "output_type": "display_data"
    },
    {
     "data": {
      "application/vnd.jupyter.widget-view+json": {
       "model_id": "",
       "version_major": 2,
       "version_minor": 0
      },
      "text/plain": [
       "HBox(children=(IntProgress(value=0, max=128), HTML(value=u'')))"
      ]
     },
     "metadata": {},
     "output_type": "display_data"
    },
    {
     "name": "stdout",
     "output_type": "stream",
     "text": [
      "Epoch [48/50] train_loss: nan, train_acc: 0.7699, val_loss: nan, val_acc: 0.5052 \n"
     ]
    },
    {
     "data": {
      "application/vnd.jupyter.widget-view+json": {
       "model_id": "",
       "version_major": 2,
       "version_minor": 0
      },
      "text/plain": [
       "HBox(children=(IntProgress(value=0, max=1150), HTML(value=u'')))"
      ]
     },
     "metadata": {},
     "output_type": "display_data"
    },
    {
     "data": {
      "application/vnd.jupyter.widget-view+json": {
       "model_id": "",
       "version_major": 2,
       "version_minor": 0
      },
      "text/plain": [
       "HBox(children=(IntProgress(value=0, max=128), HTML(value=u'')))"
      ]
     },
     "metadata": {},
     "output_type": "display_data"
    },
    {
     "name": "stdout",
     "output_type": "stream",
     "text": [
      "Epoch [49/50] train_loss: nan, train_acc: 0.5012, val_loss: nan, val_acc: 0.5052 \n"
     ]
    },
    {
     "data": {
      "application/vnd.jupyter.widget-view+json": {
       "model_id": "",
       "version_major": 2,
       "version_minor": 0
      },
      "text/plain": [
       "HBox(children=(IntProgress(value=0, max=1150), HTML(value=u'')))"
      ]
     },
     "metadata": {},
     "output_type": "display_data"
    },
    {
     "data": {
      "application/vnd.jupyter.widget-view+json": {
       "model_id": "",
       "version_major": 2,
       "version_minor": 0
      },
      "text/plain": [
       "HBox(children=(IntProgress(value=0, max=128), HTML(value=u'')))"
      ]
     },
     "metadata": {},
     "output_type": "display_data"
    },
    {
     "name": "stdout",
     "output_type": "stream",
     "text": [
      "Epoch [50/50] train_loss: nan, train_acc: 0.5012, val_loss: nan, val_acc: 0.5052 \n",
      "\n"
     ]
    }
   ],
   "source": [
    "m = SimpleGRU(vocab_size, embedding_dim, n_hidden, n_out_yc, n_out_yf, trainds.fields['corpus'].vocab.vectors).to(device)\n",
    "opt_y = Adam(filter(lambda p: p.requires_grad, [i for i in m.parameters() if i.shape != torch.Size([4]) and i.shape != torch.Size([4, 64])]), 1e-3)\n",
    "opt_z = Adam(filter(lambda p: p.requires_grad, [i for i in m.parameters() if i.shape != torch.Size([2]) and i.shape != torch.Size([2, 64])]), 1e-3)\n",
    "\n",
    "train_acc_list, train_loss_list, val_acc_list, val_loss_list = fit_l1(model=m, train_dl=train_batch_it, val_dl=val_batch_it, loss_fn=F.nll_loss, opt_y=opt_y, opt_z=opt_z, epochs=50)"
   ]
  },
  {
   "cell_type": "code",
   "execution_count": 49,
   "metadata": {},
   "outputs": [
    {
     "data": {
      "image/png": "[encoded data removed]",
      "text/plain": [
       "<Figure size 432x288 with 1 Axes>"
      ]
     },
     "metadata": {
      "needs_background": "light"
     },
     "output_type": "display_data"
    }
   ],
   "source": [
    "#plot train/val accuracies\n",
    "plt.title(\"Train/Test Acc\")\n",
    "plt.xlabel(\"epoch\")\n",
    "plt.ylabel('acc')\n",
    "line1 = plt.plot(train_acc_list, color='red')\n",
    "line2 = plt.plot(val_acc_list, color='blue')\n",
    "plt.legend(['Train', 'Test'], loc='upper left')\n",
    "plt.savefig('nlpgru11acc.png')   # save the figure to file\n",
    "plt.show()\n",
    "plt.close()"
   ]
  },
  {
   "cell_type": "code",
   "execution_count": 50,
   "metadata": {},
   "outputs": [
    {
     "data": {
      "image/png": "[encoded data removed]",
      "text/plain": [
       "<Figure size 432x288 with 1 Axes>"
      ]
     },
     "metadata": {
      "needs_background": "light"
     },
     "output_type": "display_data"
    }
   ],
   "source": [
    "#plot train/val accuracies\n",
    "plt.title(\"Train/Test Loss\")\n",
    "plt.xlabel(\"epoch\")\n",
    "plt.ylabel('loss')\n",
    "line1 = plt.plot(train_loss_list, color='red')\n",
    "line2 = plt.plot(val_loss_list, color='blue')\n",
    "plt.legend(['Train', 'Test'], loc='upper left')\n",
    "plt.savefig('nlpgru11loss.png')   # save the figure to file\n",
    "plt.show()\n",
    "plt.close()"
   ]
  },
  {
   "cell_type": "code",
   "execution_count": 51,
   "metadata": {
    "scrolled": true
   },
   "outputs": [
    {
     "data": {
      "application/vnd.jupyter.widget-view+json": {
       "model_id": "1fbed18ce17c47c1874d9e3f1caf122a",
       "version_major": 2,
       "version_minor": 0
      },
      "text/plain": [
       "HBox(children=(IntProgress(value=0, max=50), HTML(value=u'')))"
      ]
     },
     "metadata": {},
     "output_type": "display_data"
    },
    {
     "data": {
      "application/vnd.jupyter.widget-view+json": {
       "model_id": "",
       "version_major": 2,
       "version_minor": 0
      },
      "text/plain": [
       "HBox(children=(IntProgress(value=0, max=1150), HTML(value=u'')))"
      ]
     },
     "metadata": {},
     "output_type": "display_data"
    },
    {
     "name": "stderr",
     "output_type": "stream",
     "text": [
      "/Users/jayanth/Library/Python/2.7/lib/python/site-packages/ipykernel_launcher.py:36: UserWarning: Implicit dimension choice for log_softmax has been deprecated. Change the call to include dim=X as an argument.\n"
     ]
    },
    {
     "data": {
      "application/vnd.jupyter.widget-view+json": {
       "model_id": "",
       "version_major": 2,
       "version_minor": 0
      },
      "text/plain": [
       "HBox(children=(IntProgress(value=0, max=128), HTML(value=u'')))"
      ]
     },
     "metadata": {},
     "output_type": "display_data"
    },
    {
     "name": "stdout",
     "output_type": "stream",
     "text": [
      "Epoch [1/50] train_loss: 1.6508, train_acc: 0.5809, val_loss: 1.5805, val_acc: 0.6081 \n"
     ]
    },
    {
     "data": {
      "application/vnd.jupyter.widget-view+json": {
       "model_id": "",
       "version_major": 2,
       "version_minor": 0
      },
      "text/plain": [
       "HBox(children=(IntProgress(value=0, max=1150), HTML(value=u'')))"
      ]
     },
     "metadata": {},
     "output_type": "display_data"
    },
    {
     "data": {
      "application/vnd.jupyter.widget-view+json": {
       "model_id": "",
       "version_major": 2,
       "version_minor": 0
      },
      "text/plain": [
       "HBox(children=(IntProgress(value=0, max=128), HTML(value=u'')))"
      ]
     },
     "metadata": {},
     "output_type": "display_data"
    },
    {
     "name": "stdout",
     "output_type": "stream",
     "text": [
      "Epoch [2/50] train_loss: 1.4827, train_acc: 0.6630, val_loss: 1.5099, val_acc: 0.6536 \n"
     ]
    },
    {
     "data": {
      "application/vnd.jupyter.widget-view+json": {
       "model_id": "",
       "version_major": 2,
       "version_minor": 0
      },
      "text/plain": [
       "HBox(children=(IntProgress(value=0, max=1150), HTML(value=u'')))"
      ]
     },
     "metadata": {},
     "output_type": "display_data"
    },
    {
     "data": {
      "application/vnd.jupyter.widget-view+json": {
       "model_id": "",
       "version_major": 2,
       "version_minor": 0
      },
      "text/plain": [
       "HBox(children=(IntProgress(value=0, max=128), HTML(value=u'')))"
      ]
     },
     "metadata": {},
     "output_type": "display_data"
    },
    {
     "name": "stdout",
     "output_type": "stream",
     "text": [
      "Epoch [3/50] train_loss: 1.3558, train_acc: 0.6959, val_loss: 1.4834, val_acc: 0.6706 \n"
     ]
    },
    {
     "data": {
      "application/vnd.jupyter.widget-view+json": {
       "model_id": "",
       "version_major": 2,
       "version_minor": 0
      },
      "text/plain": [
       "HBox(children=(IntProgress(value=0, max=1150), HTML(value=u'')))"
      ]
     },
     "metadata": {},
     "output_type": "display_data"
    },
    {
     "data": {
      "application/vnd.jupyter.widget-view+json": {
       "model_id": "",
       "version_major": 2,
       "version_minor": 0
      },
      "text/plain": [
       "HBox(children=(IntProgress(value=0, max=128), HTML(value=u'')))"
      ]
     },
     "metadata": {},
     "output_type": "display_data"
    },
    {
     "name": "stdout",
     "output_type": "stream",
     "text": [
      "Epoch [4/50] train_loss: 1.2043, train_acc: 0.7401, val_loss: 1.5635, val_acc: 0.6315 \n"
     ]
    },
    {
     "data": {
      "application/vnd.jupyter.widget-view+json": {
       "model_id": "",
       "version_major": 2,
       "version_minor": 0
      },
      "text/plain": [
       "HBox(children=(IntProgress(value=0, max=1150), HTML(value=u'')))"
      ]
     },
     "metadata": {},
     "output_type": "display_data"
    },
    {
     "data": {
      "application/vnd.jupyter.widget-view+json": {
       "model_id": "",
       "version_major": 2,
       "version_minor": 0
      },
      "text/plain": [
       "HBox(children=(IntProgress(value=0, max=128), HTML(value=u'')))"
      ]
     },
     "metadata": {},
     "output_type": "display_data"
    },
    {
     "name": "stdout",
     "output_type": "stream",
     "text": [
      "Epoch [5/50] train_loss: 1.0256, train_acc: 0.7917, val_loss: 1.5972, val_acc: 0.6341 \n"
     ]
    },
    {
     "data": {
      "application/vnd.jupyter.widget-view+json": {
       "model_id": "",
       "version_major": 2,
       "version_minor": 0
      },
      "text/plain": [
       "HBox(children=(IntProgress(value=0, max=1150), HTML(value=u'')))"
      ]
     },
     "metadata": {},
     "output_type": "display_data"
    },
    {
     "data": {
      "application/vnd.jupyter.widget-view+json": {
       "model_id": "",
       "version_major": 2,
       "version_minor": 0
      },
      "text/plain": [
       "HBox(children=(IntProgress(value=0, max=128), HTML(value=u'')))"
      ]
     },
     "metadata": {},
     "output_type": "display_data"
    },
    {
     "name": "stdout",
     "output_type": "stream",
     "text": [
      "Epoch [6/50] train_loss: 0.8267, train_acc: 0.8416, val_loss: 1.6466, val_acc: 0.6354 \n"
     ]
    },
    {
     "data": {
      "application/vnd.jupyter.widget-view+json": {
       "model_id": "",
       "version_major": 2,
       "version_minor": 0
      },
      "text/plain": [
       "HBox(children=(IntProgress(value=0, max=1150), HTML(value=u'')))"
      ]
     },
     "metadata": {},
     "output_type": "display_data"
    },
    {
     "data": {
      "application/vnd.jupyter.widget-view+json": {
       "model_id": "",
       "version_major": 2,
       "version_minor": 0
      },
      "text/plain": [
       "HBox(children=(IntProgress(value=0, max=128), HTML(value=u'')))"
      ]
     },
     "metadata": {},
     "output_type": "display_data"
    },
    {
     "name": "stdout",
     "output_type": "stream",
     "text": [
      "Epoch [7/50] train_loss: 0.6165, train_acc: 0.8974, val_loss: 1.7790, val_acc: 0.6471 \n"
     ]
    },
    {
     "data": {
      "application/vnd.jupyter.widget-view+json": {
       "model_id": "",
       "version_major": 2,
       "version_minor": 0
      },
      "text/plain": [
       "HBox(children=(IntProgress(value=0, max=1150), HTML(value=u'')))"
      ]
     },
     "metadata": {},
     "output_type": "display_data"
    },
    {
     "data": {
      "application/vnd.jupyter.widget-view+json": {
       "model_id": "",
       "version_major": 2,
       "version_minor": 0
      },
      "text/plain": [
       "HBox(children=(IntProgress(value=0, max=128), HTML(value=u'')))"
      ]
     },
     "metadata": {},
     "output_type": "display_data"
    },
    {
     "name": "stdout",
     "output_type": "stream",
     "text": [
      "Epoch [8/50] train_loss: 0.4335, train_acc: 0.9354, val_loss: 1.9633, val_acc: 0.6341 \n"
     ]
    },
    {
     "data": {
      "application/vnd.jupyter.widget-view+json": {
       "model_id": "",
       "version_major": 2,
       "version_minor": 0
      },
      "text/plain": [
       "HBox(children=(IntProgress(value=0, max=1150), HTML(value=u'')))"
      ]
     },
     "metadata": {},
     "output_type": "display_data"
    },
    {
     "data": {
      "application/vnd.jupyter.widget-view+json": {
       "model_id": "",
       "version_major": 2,
       "version_minor": 0
      },
      "text/plain": [
       "HBox(children=(IntProgress(value=0, max=128), HTML(value=u'')))"
      ]
     },
     "metadata": {},
     "output_type": "display_data"
    },
    {
     "name": "stdout",
     "output_type": "stream",
     "text": [
      "Epoch [9/50] train_loss: 0.3024, train_acc: 0.9565, val_loss: 2.2740, val_acc: 0.6315 \n"
     ]
    },
    {
     "data": {
      "application/vnd.jupyter.widget-view+json": {
       "model_id": "",
       "version_major": 2,
       "version_minor": 0
      },
      "text/plain": [
       "HBox(children=(IntProgress(value=0, max=1150), HTML(value=u'')))"
      ]
     },
     "metadata": {},
     "output_type": "display_data"
    },
    {
     "data": {
      "application/vnd.jupyter.widget-view+json": {
       "model_id": "",
       "version_major": 2,
       "version_minor": 0
      },
      "text/plain": [
       "HBox(children=(IntProgress(value=0, max=128), HTML(value=u'')))"
      ]
     },
     "metadata": {},
     "output_type": "display_data"
    },
    {
     "name": "stdout",
     "output_type": "stream",
     "text": [
      "Epoch [10/50] train_loss: 0.2035, train_acc: 0.9758, val_loss: 2.5992, val_acc: 0.6107 \n"
     ]
    },
    {
     "data": {
      "application/vnd.jupyter.widget-view+json": {
       "model_id": "",
       "version_major": 2,
       "version_minor": 0
      },
      "text/plain": [
       "HBox(children=(IntProgress(value=0, max=1150), HTML(value=u'')))"
      ]
     },
     "metadata": {},
     "output_type": "display_data"
    },
    {
     "data": {
      "application/vnd.jupyter.widget-view+json": {
       "model_id": "",
       "version_major": 2,
       "version_minor": 0
      },
      "text/plain": [
       "HBox(children=(IntProgress(value=0, max=128), HTML(value=u'')))"
      ]
     },
     "metadata": {},
     "output_type": "display_data"
    },
    {
     "name": "stdout",
     "output_type": "stream",
     "text": [
      "Epoch [11/50] train_loss: 0.1433, train_acc: 0.9832, val_loss: 2.6621, val_acc: 0.6081 \n"
     ]
    },
    {
     "data": {
      "application/vnd.jupyter.widget-view+json": {
       "model_id": "",
       "version_major": 2,
       "version_minor": 0
      },
      "text/plain": [
       "HBox(children=(IntProgress(value=0, max=1150), HTML(value=u'')))"
      ]
     },
     "metadata": {},
     "output_type": "display_data"
    },
    {
     "data": {
      "application/vnd.jupyter.widget-view+json": {
       "model_id": "",
       "version_major": 2,
       "version_minor": 0
      },
      "text/plain": [
       "HBox(children=(IntProgress(value=0, max=128), HTML(value=u'')))"
      ]
     },
     "metadata": {},
     "output_type": "display_data"
    },
    {
     "name": "stdout",
     "output_type": "stream",
     "text": [
      "Epoch [12/50] train_loss: 0.1244, train_acc: 0.9871, val_loss: 3.1736, val_acc: 0.5977 \n"
     ]
    },
    {
     "data": {
      "application/vnd.jupyter.widget-view+json": {
       "model_id": "",
       "version_major": 2,
       "version_minor": 0
      },
      "text/plain": [
       "HBox(children=(IntProgress(value=0, max=1150), HTML(value=u'')))"
      ]
     },
     "metadata": {},
     "output_type": "display_data"
    },
    {
     "data": {
      "application/vnd.jupyter.widget-view+json": {
       "model_id": "",
       "version_major": 2,
       "version_minor": 0
      },
      "text/plain": [
       "HBox(children=(IntProgress(value=0, max=128), HTML(value=u'')))"
      ]
     },
     "metadata": {},
     "output_type": "display_data"
    },
    {
     "name": "stdout",
     "output_type": "stream",
     "text": [
      "Epoch [13/50] train_loss: 0.0738, train_acc: 0.9955, val_loss: 3.3894, val_acc: 0.5898 \n"
     ]
    },
    {
     "data": {
      "application/vnd.jupyter.widget-view+json": {
       "model_id": "",
       "version_major": 2,
       "version_minor": 0
      },
      "text/plain": [
       "HBox(children=(IntProgress(value=0, max=1150), HTML(value=u'')))"
      ]
     },
     "metadata": {},
     "output_type": "display_data"
    },
    {
     "data": {
      "application/vnd.jupyter.widget-view+json": {
       "model_id": "",
       "version_major": 2,
       "version_minor": 0
      },
      "text/plain": [
       "HBox(children=(IntProgress(value=0, max=128), HTML(value=u'')))"
      ]
     },
     "metadata": {},
     "output_type": "display_data"
    },
    {
     "name": "stdout",
     "output_type": "stream",
     "text": [
      "Epoch [14/50] train_loss: 0.0358, train_acc: 0.9986, val_loss: 3.5677, val_acc: 0.6016 \n"
     ]
    },
    {
     "data": {
      "application/vnd.jupyter.widget-view+json": {
       "model_id": "",
       "version_major": 2,
       "version_minor": 0
      },
      "text/plain": [
       "HBox(children=(IntProgress(value=0, max=1150), HTML(value=u'')))"
      ]
     },
     "metadata": {},
     "output_type": "display_data"
    },
    {
     "data": {
      "application/vnd.jupyter.widget-view+json": {
       "model_id": "",
       "version_major": 2,
       "version_minor": 0
      },
      "text/plain": [
       "HBox(children=(IntProgress(value=0, max=128), HTML(value=u'')))"
      ]
     },
     "metadata": {},
     "output_type": "display_data"
    },
    {
     "name": "stdout",
     "output_type": "stream",
     "text": [
      "Epoch [15/50] train_loss: 0.0879, train_acc: 0.9880, val_loss: 3.1803, val_acc: 0.6016 \n"
     ]
    },
    {
     "data": {
      "application/vnd.jupyter.widget-view+json": {
       "model_id": "",
       "version_major": 2,
       "version_minor": 0
      },
      "text/plain": [
       "HBox(children=(IntProgress(value=0, max=1150), HTML(value=u'')))"
      ]
     },
     "metadata": {},
     "output_type": "display_data"
    },
    {
     "data": {
      "application/vnd.jupyter.widget-view+json": {
       "model_id": "",
       "version_major": 2,
       "version_minor": 0
      },
      "text/plain": [
       "HBox(children=(IntProgress(value=0, max=128), HTML(value=u'')))"
      ]
     },
     "metadata": {},
     "output_type": "display_data"
    },
    {
     "name": "stdout",
     "output_type": "stream",
     "text": [
      "Epoch [16/50] train_loss: 0.0743, train_acc: 0.9928, val_loss: 3.4941, val_acc: 0.6120 \n"
     ]
    },
    {
     "data": {
      "application/vnd.jupyter.widget-view+json": {
       "model_id": "",
       "version_major": 2,
       "version_minor": 0
      },
      "text/plain": [
       "HBox(children=(IntProgress(value=0, max=1150), HTML(value=u'')))"
      ]
     },
     "metadata": {},
     "output_type": "display_data"
    },
    {
     "data": {
      "application/vnd.jupyter.widget-view+json": {
       "model_id": "",
       "version_major": 2,
       "version_minor": 0
      },
      "text/plain": [
       "HBox(children=(IntProgress(value=0, max=128), HTML(value=u'')))"
      ]
     },
     "metadata": {},
     "output_type": "display_data"
    },
    {
     "name": "stdout",
     "output_type": "stream",
     "text": [
      "Epoch [17/50] train_loss: 0.0241, train_acc: 0.9986, val_loss: 3.6040, val_acc: 0.6133 \n"
     ]
    },
    {
     "data": {
      "application/vnd.jupyter.widget-view+json": {
       "model_id": "",
       "version_major": 2,
       "version_minor": 0
      },
      "text/plain": [
       "HBox(children=(IntProgress(value=0, max=1150), HTML(value=u'')))"
      ]
     },
     "metadata": {},
     "output_type": "display_data"
    },
    {
     "data": {
      "application/vnd.jupyter.widget-view+json": {
       "model_id": "",
       "version_major": 2,
       "version_minor": 0
      },
      "text/plain": [
       "HBox(children=(IntProgress(value=0, max=128), HTML(value=u'')))"
      ]
     },
     "metadata": {},
     "output_type": "display_data"
    },
    {
     "name": "stdout",
     "output_type": "stream",
     "text": [
      "Epoch [18/50] train_loss: 0.0322, train_acc: 0.9981, val_loss: 4.0064, val_acc: 0.6107 \n"
     ]
    },
    {
     "data": {
      "application/vnd.jupyter.widget-view+json": {
       "model_id": "",
       "version_major": 2,
       "version_minor": 0
      },
      "text/plain": [
       "HBox(children=(IntProgress(value=0, max=1150), HTML(value=u'')))"
      ]
     },
     "metadata": {},
     "output_type": "display_data"
    },
    {
     "data": {
      "application/vnd.jupyter.widget-view+json": {
       "model_id": "",
       "version_major": 2,
       "version_minor": 0
      },
      "text/plain": [
       "HBox(children=(IntProgress(value=0, max=128), HTML(value=u'')))"
      ]
     },
     "metadata": {},
     "output_type": "display_data"
    },
    {
     "name": "stdout",
     "output_type": "stream",
     "text": [
      "Epoch [19/50] train_loss: 0.0128, train_acc: 0.9997, val_loss: 4.3525, val_acc: 0.5872 \n"
     ]
    },
    {
     "data": {
      "application/vnd.jupyter.widget-view+json": {
       "model_id": "",
       "version_major": 2,
       "version_minor": 0
      },
      "text/plain": [
       "HBox(children=(IntProgress(value=0, max=1150), HTML(value=u'')))"
      ]
     },
     "metadata": {},
     "output_type": "display_data"
    },
    {
     "data": {
      "application/vnd.jupyter.widget-view+json": {
       "model_id": "",
       "version_major": 2,
       "version_minor": 0
      },
      "text/plain": [
       "HBox(children=(IntProgress(value=0, max=128), HTML(value=u'')))"
      ]
     },
     "metadata": {},
     "output_type": "display_data"
    },
    {
     "name": "stdout",
     "output_type": "stream",
     "text": [
      "Epoch [20/50] train_loss: 0.0057, train_acc: 0.9999, val_loss: 4.5821, val_acc: 0.5977 \n"
     ]
    },
    {
     "data": {
      "application/vnd.jupyter.widget-view+json": {
       "model_id": "",
       "version_major": 2,
       "version_minor": 0
      },
      "text/plain": [
       "HBox(children=(IntProgress(value=0, max=1150), HTML(value=u'')))"
      ]
     },
     "metadata": {},
     "output_type": "display_data"
    },
    {
     "data": {
      "application/vnd.jupyter.widget-view+json": {
       "model_id": "",
       "version_major": 2,
       "version_minor": 0
      },
      "text/plain": [
       "HBox(children=(IntProgress(value=0, max=128), HTML(value=u'')))"
      ]
     },
     "metadata": {},
     "output_type": "display_data"
    },
    {
     "name": "stdout",
     "output_type": "stream",
     "text": [
      "Epoch [21/50] train_loss: 0.0043, train_acc: 0.9999, val_loss: 4.7940, val_acc: 0.6146 \n"
     ]
    },
    {
     "data": {
      "application/vnd.jupyter.widget-view+json": {
       "model_id": "",
       "version_major": 2,
       "version_minor": 0
      },
      "text/plain": [
       "HBox(children=(IntProgress(value=0, max=1150), HTML(value=u'')))"
      ]
     },
     "metadata": {},
     "output_type": "display_data"
    },
    {
     "data": {
      "application/vnd.jupyter.widget-view+json": {
       "model_id": "",
       "version_major": 2,
       "version_minor": 0
      },
      "text/plain": [
       "HBox(children=(IntProgress(value=0, max=128), HTML(value=u'')))"
      ]
     },
     "metadata": {},
     "output_type": "display_data"
    },
    {
     "name": "stdout",
     "output_type": "stream",
     "text": [
      "Epoch [22/50] train_loss: 0.1572, train_acc: 0.9730, val_loss: 4.0102, val_acc: 0.5924 \n"
     ]
    },
    {
     "data": {
      "application/vnd.jupyter.widget-view+json": {
       "model_id": "",
       "version_major": 2,
       "version_minor": 0
      },
      "text/plain": [
       "HBox(children=(IntProgress(value=0, max=1150), HTML(value=u'')))"
      ]
     },
     "metadata": {},
     "output_type": "display_data"
    },
    {
     "data": {
      "application/vnd.jupyter.widget-view+json": {
       "model_id": "",
       "version_major": 2,
       "version_minor": 0
      },
      "text/plain": [
       "HBox(children=(IntProgress(value=0, max=128), HTML(value=u'')))"
      ]
     },
     "metadata": {},
     "output_type": "display_data"
    },
    {
     "name": "stdout",
     "output_type": "stream",
     "text": [
      "Epoch [23/50] train_loss: 0.0245, train_acc: 0.9990, val_loss: 4.2439, val_acc: 0.6107 \n"
     ]
    },
    {
     "data": {
      "application/vnd.jupyter.widget-view+json": {
       "model_id": "",
       "version_major": 2,
       "version_minor": 0
      },
      "text/plain": [
       "HBox(children=(IntProgress(value=0, max=1150), HTML(value=u'')))"
      ]
     },
     "metadata": {},
     "output_type": "display_data"
    },
    {
     "data": {
      "application/vnd.jupyter.widget-view+json": {
       "model_id": "",
       "version_major": 2,
       "version_minor": 0
      },
      "text/plain": [
       "HBox(children=(IntProgress(value=0, max=128), HTML(value=u'')))"
      ]
     },
     "metadata": {},
     "output_type": "display_data"
    },
    {
     "name": "stdout",
     "output_type": "stream",
     "text": [
      "Epoch [24/50] train_loss: 0.0094, train_acc: 0.9999, val_loss: 4.2332, val_acc: 0.6146 \n"
     ]
    },
    {
     "data": {
      "application/vnd.jupyter.widget-view+json": {
       "model_id": "",
       "version_major": 2,
       "version_minor": 0
      },
      "text/plain": [
       "HBox(children=(IntProgress(value=0, max=1150), HTML(value=u'')))"
      ]
     },
     "metadata": {},
     "output_type": "display_data"
    },
    {
     "data": {
      "application/vnd.jupyter.widget-view+json": {
       "model_id": "",
       "version_major": 2,
       "version_minor": 0
      },
      "text/plain": [
       "HBox(children=(IntProgress(value=0, max=128), HTML(value=u'')))"
      ]
     },
     "metadata": {},
     "output_type": "display_data"
    },
    {
     "name": "stdout",
     "output_type": "stream",
     "text": [
      "Epoch [25/50] train_loss: 0.0048, train_acc: 1.0000, val_loss: 4.4931, val_acc: 0.6172 \n"
     ]
    },
    {
     "data": {
      "application/vnd.jupyter.widget-view+json": {
       "model_id": "",
       "version_major": 2,
       "version_minor": 0
      },
      "text/plain": [
       "HBox(children=(IntProgress(value=0, max=1150), HTML(value=u'')))"
      ]
     },
     "metadata": {},
     "output_type": "display_data"
    },
    {
     "data": {
      "application/vnd.jupyter.widget-view+json": {
       "model_id": "",
       "version_major": 2,
       "version_minor": 0
      },
      "text/plain": [
       "HBox(children=(IntProgress(value=0, max=128), HTML(value=u'')))"
      ]
     },
     "metadata": {},
     "output_type": "display_data"
    },
    {
     "name": "stdout",
     "output_type": "stream",
     "text": [
      "Epoch [26/50] train_loss: 0.0031, train_acc: 0.9999, val_loss: 4.7444, val_acc: 0.6185 \n"
     ]
    },
    {
     "data": {
      "application/vnd.jupyter.widget-view+json": {
       "model_id": "",
       "version_major": 2,
       "version_minor": 0
      },
      "text/plain": [
       "HBox(children=(IntProgress(value=0, max=1150), HTML(value=u'')))"
      ]
     },
     "metadata": {},
     "output_type": "display_data"
    },
    {
     "data": {
      "application/vnd.jupyter.widget-view+json": {
       "model_id": "",
       "version_major": 2,
       "version_minor": 0
      },
      "text/plain": [
       "HBox(children=(IntProgress(value=0, max=128), HTML(value=u'')))"
      ]
     },
     "metadata": {},
     "output_type": "display_data"
    },
    {
     "name": "stdout",
     "output_type": "stream",
     "text": [
      "Epoch [27/50] train_loss: 0.0021, train_acc: 1.0000, val_loss: 4.9921, val_acc: 0.6159 \n"
     ]
    },
    {
     "data": {
      "application/vnd.jupyter.widget-view+json": {
       "model_id": "",
       "version_major": 2,
       "version_minor": 0
      },
      "text/plain": [
       "HBox(children=(IntProgress(value=0, max=1150), HTML(value=u'')))"
      ]
     },
     "metadata": {},
     "output_type": "display_data"
    },
    {
     "data": {
      "application/vnd.jupyter.widget-view+json": {
       "model_id": "",
       "version_major": 2,
       "version_minor": 0
      },
      "text/plain": [
       "HBox(children=(IntProgress(value=0, max=128), HTML(value=u'')))"
      ]
     },
     "metadata": {},
     "output_type": "display_data"
    },
    {
     "name": "stdout",
     "output_type": "stream",
     "text": [
      "Epoch [28/50] train_loss: nan, train_acc: 0.5299, val_loss: nan, val_acc: 0.5052 \n"
     ]
    },
    {
     "data": {
      "application/vnd.jupyter.widget-view+json": {
       "model_id": "",
       "version_major": 2,
       "version_minor": 0
      },
      "text/plain": [
       "HBox(children=(IntProgress(value=0, max=1150), HTML(value=u'')))"
      ]
     },
     "metadata": {},
     "output_type": "display_data"
    },
    {
     "data": {
      "application/vnd.jupyter.widget-view+json": {
       "model_id": "",
       "version_major": 2,
       "version_minor": 0
      },
      "text/plain": [
       "HBox(children=(IntProgress(value=0, max=128), HTML(value=u'')))"
      ]
     },
     "metadata": {},
     "output_type": "display_data"
    },
    {
     "name": "stdout",
     "output_type": "stream",
     "text": [
      "Epoch [29/50] train_loss: nan, train_acc: 0.5012, val_loss: nan, val_acc: 0.5052 \n"
     ]
    },
    {
     "data": {
      "application/vnd.jupyter.widget-view+json": {
       "model_id": "",
       "version_major": 2,
       "version_minor": 0
      },
      "text/plain": [
       "HBox(children=(IntProgress(value=0, max=1150), HTML(value=u'')))"
      ]
     },
     "metadata": {},
     "output_type": "display_data"
    },
    {
     "data": {
      "application/vnd.jupyter.widget-view+json": {
       "model_id": "",
       "version_major": 2,
       "version_minor": 0
      },
      "text/plain": [
       "HBox(children=(IntProgress(value=0, max=128), HTML(value=u'')))"
      ]
     },
     "metadata": {},
     "output_type": "display_data"
    },
    {
     "name": "stdout",
     "output_type": "stream",
     "text": [
      "Epoch [30/50] train_loss: nan, train_acc: 0.5012, val_loss: nan, val_acc: 0.5052 \n"
     ]
    },
    {
     "data": {
      "application/vnd.jupyter.widget-view+json": {
       "model_id": "",
       "version_major": 2,
       "version_minor": 0
      },
      "text/plain": [
       "HBox(children=(IntProgress(value=0, max=1150), HTML(value=u'')))"
      ]
     },
     "metadata": {},
     "output_type": "display_data"
    },
    {
     "data": {
      "application/vnd.jupyter.widget-view+json": {
       "model_id": "",
       "version_major": 2,
       "version_minor": 0
      },
      "text/plain": [
       "HBox(children=(IntProgress(value=0, max=128), HTML(value=u'')))"
      ]
     },
     "metadata": {},
     "output_type": "display_data"
    },
    {
     "name": "stdout",
     "output_type": "stream",
     "text": [
      "Epoch [31/50] train_loss: nan, train_acc: 0.5012, val_loss: nan, val_acc: 0.5052 \n"
     ]
    },
    {
     "data": {
      "application/vnd.jupyter.widget-view+json": {
       "model_id": "",
       "version_major": 2,
       "version_minor": 0
      },
      "text/plain": [
       "HBox(children=(IntProgress(value=0, max=1150), HTML(value=u'')))"
      ]
     },
     "metadata": {},
     "output_type": "display_data"
    },
    {
     "data": {
      "application/vnd.jupyter.widget-view+json": {
       "model_id": "",
       "version_major": 2,
       "version_minor": 0
      },
      "text/plain": [
       "HBox(children=(IntProgress(value=0, max=128), HTML(value=u'')))"
      ]
     },
     "metadata": {},
     "output_type": "display_data"
    },
    {
     "name": "stdout",
     "output_type": "stream",
     "text": [
      "Epoch [32/50] train_loss: nan, train_acc: 0.5012, val_loss: nan, val_acc: 0.5052 \n"
     ]
    },
    {
     "data": {
      "application/vnd.jupyter.widget-view+json": {
       "model_id": "",
       "version_major": 2,
       "version_minor": 0
      },
      "text/plain": [
       "HBox(children=(IntProgress(value=0, max=1150), HTML(value=u'')))"
      ]
     },
     "metadata": {},
     "output_type": "display_data"
    },
    {
     "data": {
      "application/vnd.jupyter.widget-view+json": {
       "model_id": "",
       "version_major": 2,
       "version_minor": 0
      },
      "text/plain": [
       "HBox(children=(IntProgress(value=0, max=128), HTML(value=u'')))"
      ]
     },
     "metadata": {},
     "output_type": "display_data"
    },
    {
     "name": "stdout",
     "output_type": "stream",
     "text": [
      "Epoch [33/50] train_loss: nan, train_acc: 0.5012, val_loss: nan, val_acc: 0.5052 \n"
     ]
    },
    {
     "data": {
      "application/vnd.jupyter.widget-view+json": {
       "model_id": "",
       "version_major": 2,
       "version_minor": 0
      },
      "text/plain": [
       "HBox(children=(IntProgress(value=0, max=1150), HTML(value=u'')))"
      ]
     },
     "metadata": {},
     "output_type": "display_data"
    },
    {
     "data": {
      "application/vnd.jupyter.widget-view+json": {
       "model_id": "",
       "version_major": 2,
       "version_minor": 0
      },
      "text/plain": [
       "HBox(children=(IntProgress(value=0, max=128), HTML(value=u'')))"
      ]
     },
     "metadata": {},
     "output_type": "display_data"
    },
    {
     "name": "stdout",
     "output_type": "stream",
     "text": [
      "Epoch [34/50] train_loss: nan, train_acc: 0.5012, val_loss: nan, val_acc: 0.5052 \n"
     ]
    },
    {
     "data": {
      "application/vnd.jupyter.widget-view+json": {
       "model_id": "",
       "version_major": 2,
       "version_minor": 0
      },
      "text/plain": [
       "HBox(children=(IntProgress(value=0, max=1150), HTML(value=u'')))"
      ]
     },
     "metadata": {},
     "output_type": "display_data"
    },
    {
     "data": {
      "application/vnd.jupyter.widget-view+json": {
       "model_id": "",
       "version_major": 2,
       "version_minor": 0
      },
      "text/plain": [
       "HBox(children=(IntProgress(value=0, max=128), HTML(value=u'')))"
      ]
     },
     "metadata": {},
     "output_type": "display_data"
    },
    {
     "name": "stdout",
     "output_type": "stream",
     "text": [
      "Epoch [35/50] train_loss: nan, train_acc: 0.5012, val_loss: nan, val_acc: 0.5052 \n"
     ]
    },
    {
     "data": {
      "application/vnd.jupyter.widget-view+json": {
       "model_id": "",
       "version_major": 2,
       "version_minor": 0
      },
      "text/plain": [
       "HBox(children=(IntProgress(value=0, max=1150), HTML(value=u'')))"
      ]
     },
     "metadata": {},
     "output_type": "display_data"
    },
    {
     "data": {
      "application/vnd.jupyter.widget-view+json": {
       "model_id": "",
       "version_major": 2,
       "version_minor": 0
      },
      "text/plain": [
       "HBox(children=(IntProgress(value=0, max=128), HTML(value=u'')))"
      ]
     },
     "metadata": {},
     "output_type": "display_data"
    },
    {
     "name": "stdout",
     "output_type": "stream",
     "text": [
      "Epoch [36/50] train_loss: nan, train_acc: 0.5012, val_loss: nan, val_acc: 0.5052 \n"
     ]
    },
    {
     "data": {
      "application/vnd.jupyter.widget-view+json": {
       "model_id": "",
       "version_major": 2,
       "version_minor": 0
      },
      "text/plain": [
       "HBox(children=(IntProgress(value=0, max=1150), HTML(value=u'')))"
      ]
     },
     "metadata": {},
     "output_type": "display_data"
    },
    {
     "data": {
      "application/vnd.jupyter.widget-view+json": {
       "model_id": "",
       "version_major": 2,
       "version_minor": 0
      },
      "text/plain": [
       "HBox(children=(IntProgress(value=0, max=128), HTML(value=u'')))"
      ]
     },
     "metadata": {},
     "output_type": "display_data"
    },
    {
     "name": "stdout",
     "output_type": "stream",
     "text": [
      "Epoch [37/50] train_loss: nan, train_acc: 0.5012, val_loss: nan, val_acc: 0.5052 \n"
     ]
    },
    {
     "data": {
      "application/vnd.jupyter.widget-view+json": {
       "model_id": "",
       "version_major": 2,
       "version_minor": 0
      },
      "text/plain": [
       "HBox(children=(IntProgress(value=0, max=1150), HTML(value=u'')))"
      ]
     },
     "metadata": {},
     "output_type": "display_data"
    },
    {
     "data": {
      "application/vnd.jupyter.widget-view+json": {
       "model_id": "",
       "version_major": 2,
       "version_minor": 0
      },
      "text/plain": [
       "HBox(children=(IntProgress(value=0, max=128), HTML(value=u'')))"
      ]
     },
     "metadata": {},
     "output_type": "display_data"
    },
    {
     "name": "stdout",
     "output_type": "stream",
     "text": [
      "Epoch [38/50] train_loss: nan, train_acc: 0.5012, val_loss: nan, val_acc: 0.5052 \n"
     ]
    },
    {
     "data": {
      "application/vnd.jupyter.widget-view+json": {
       "model_id": "",
       "version_major": 2,
       "version_minor": 0
      },
      "text/plain": [
       "HBox(children=(IntProgress(value=0, max=1150), HTML(value=u'')))"
      ]
     },
     "metadata": {},
     "output_type": "display_data"
    },
    {
     "data": {
      "application/vnd.jupyter.widget-view+json": {
       "model_id": "",
       "version_major": 2,
       "version_minor": 0
      },
      "text/plain": [
       "HBox(children=(IntProgress(value=0, max=128), HTML(value=u'')))"
      ]
     },
     "metadata": {},
     "output_type": "display_data"
    },
    {
     "name": "stdout",
     "output_type": "stream",
     "text": [
      "Epoch [39/50] train_loss: nan, train_acc: 0.5012, val_loss: nan, val_acc: 0.5052 \n"
     ]
    },
    {
     "data": {
      "application/vnd.jupyter.widget-view+json": {
       "model_id": "",
       "version_major": 2,
       "version_minor": 0
      },
      "text/plain": [
       "HBox(children=(IntProgress(value=0, max=1150), HTML(value=u'')))"
      ]
     },
     "metadata": {},
     "output_type": "display_data"
    },
    {
     "data": {
      "application/vnd.jupyter.widget-view+json": {
       "model_id": "",
       "version_major": 2,
       "version_minor": 0
      },
      "text/plain": [
       "HBox(children=(IntProgress(value=0, max=128), HTML(value=u'')))"
      ]
     },
     "metadata": {},
     "output_type": "display_data"
    },
    {
     "name": "stdout",
     "output_type": "stream",
     "text": [
      "Epoch [40/50] train_loss: nan, train_acc: 0.5012, val_loss: nan, val_acc: 0.5052 \n"
     ]
    },
    {
     "data": {
      "application/vnd.jupyter.widget-view+json": {
       "model_id": "",
       "version_major": 2,
       "version_minor": 0
      },
      "text/plain": [
       "HBox(children=(IntProgress(value=0, max=1150), HTML(value=u'')))"
      ]
     },
     "metadata": {},
     "output_type": "display_data"
    },
    {
     "data": {
      "application/vnd.jupyter.widget-view+json": {
       "model_id": "",
       "version_major": 2,
       "version_minor": 0
      },
      "text/plain": [
       "HBox(children=(IntProgress(value=0, max=128), HTML(value=u'')))"
      ]
     },
     "metadata": {},
     "output_type": "display_data"
    },
    {
     "name": "stdout",
     "output_type": "stream",
     "text": [
      "Epoch [41/50] train_loss: nan, train_acc: 0.5012, val_loss: nan, val_acc: 0.5052 \n"
     ]
    },
    {
     "data": {
      "application/vnd.jupyter.widget-view+json": {
       "model_id": "",
       "version_major": 2,
       "version_minor": 0
      },
      "text/plain": [
       "HBox(children=(IntProgress(value=0, max=1150), HTML(value=u'')))"
      ]
     },
     "metadata": {},
     "output_type": "display_data"
    },
    {
     "data": {
      "application/vnd.jupyter.widget-view+json": {
       "model_id": "",
       "version_major": 2,
       "version_minor": 0
      },
      "text/plain": [
       "HBox(children=(IntProgress(value=0, max=128), HTML(value=u'')))"
      ]
     },
     "metadata": {},
     "output_type": "display_data"
    },
    {
     "name": "stdout",
     "output_type": "stream",
     "text": [
      "Epoch [42/50] train_loss: nan, train_acc: 0.5012, val_loss: nan, val_acc: 0.5052 \n"
     ]
    },
    {
     "data": {
      "application/vnd.jupyter.widget-view+json": {
       "model_id": "",
       "version_major": 2,
       "version_minor": 0
      },
      "text/plain": [
       "HBox(children=(IntProgress(value=0, max=1150), HTML(value=u'')))"
      ]
     },
     "metadata": {},
     "output_type": "display_data"
    },
    {
     "data": {
      "application/vnd.jupyter.widget-view+json": {
       "model_id": "",
       "version_major": 2,
       "version_minor": 0
      },
      "text/plain": [
       "HBox(children=(IntProgress(value=0, max=128), HTML(value=u'')))"
      ]
     },
     "metadata": {},
     "output_type": "display_data"
    },
    {
     "name": "stdout",
     "output_type": "stream",
     "text": [
      "Epoch [43/50] train_loss: nan, train_acc: 0.5012, val_loss: nan, val_acc: 0.5052 \n"
     ]
    },
    {
     "data": {
      "application/vnd.jupyter.widget-view+json": {
       "model_id": "",
       "version_major": 2,
       "version_minor": 0
      },
      "text/plain": [
       "HBox(children=(IntProgress(value=0, max=1150), HTML(value=u'')))"
      ]
     },
     "metadata": {},
     "output_type": "display_data"
    },
    {
     "data": {
      "application/vnd.jupyter.widget-view+json": {
       "model_id": "",
       "version_major": 2,
       "version_minor": 0
      },
      "text/plain": [
       "HBox(children=(IntProgress(value=0, max=128), HTML(value=u'')))"
      ]
     },
     "metadata": {},
     "output_type": "display_data"
    },
    {
     "name": "stdout",
     "output_type": "stream",
     "text": [
      "Epoch [44/50] train_loss: nan, train_acc: 0.5012, val_loss: nan, val_acc: 0.5052 \n"
     ]
    },
    {
     "data": {
      "application/vnd.jupyter.widget-view+json": {
       "model_id": "",
       "version_major": 2,
       "version_minor": 0
      },
      "text/plain": [
       "HBox(children=(IntProgress(value=0, max=1150), HTML(value=u'')))"
      ]
     },
     "metadata": {},
     "output_type": "display_data"
    },
    {
     "data": {
      "application/vnd.jupyter.widget-view+json": {
       "model_id": "",
       "version_major": 2,
       "version_minor": 0
      },
      "text/plain": [
       "HBox(children=(IntProgress(value=0, max=128), HTML(value=u'')))"
      ]
     },
     "metadata": {},
     "output_type": "display_data"
    },
    {
     "name": "stdout",
     "output_type": "stream",
     "text": [
      "Epoch [45/50] train_loss: nan, train_acc: 0.5012, val_loss: nan, val_acc: 0.5052 \n"
     ]
    },
    {
     "data": {
      "application/vnd.jupyter.widget-view+json": {
       "model_id": "",
       "version_major": 2,
       "version_minor": 0
      },
      "text/plain": [
       "HBox(children=(IntProgress(value=0, max=1150), HTML(value=u'')))"
      ]
     },
     "metadata": {},
     "output_type": "display_data"
    },
    {
     "data": {
      "application/vnd.jupyter.widget-view+json": {
       "model_id": "",
       "version_major": 2,
       "version_minor": 0
      },
      "text/plain": [
       "HBox(children=(IntProgress(value=0, max=128), HTML(value=u'')))"
      ]
     },
     "metadata": {},
     "output_type": "display_data"
    },
    {
     "name": "stdout",
     "output_type": "stream",
     "text": [
      "Epoch [46/50] train_loss: nan, train_acc: 0.5012, val_loss: nan, val_acc: 0.5052 \n"
     ]
    },
    {
     "data": {
      "application/vnd.jupyter.widget-view+json": {
       "model_id": "",
       "version_major": 2,
       "version_minor": 0
      },
      "text/plain": [
       "HBox(children=(IntProgress(value=0, max=1150), HTML(value=u'')))"
      ]
     },
     "metadata": {},
     "output_type": "display_data"
    },
    {
     "data": {
      "application/vnd.jupyter.widget-view+json": {
       "model_id": "",
       "version_major": 2,
       "version_minor": 0
      },
      "text/plain": [
       "HBox(children=(IntProgress(value=0, max=128), HTML(value=u'')))"
      ]
     },
     "metadata": {},
     "output_type": "display_data"
    },
    {
     "name": "stdout",
     "output_type": "stream",
     "text": [
      "Epoch [47/50] train_loss: nan, train_acc: 0.5012, val_loss: nan, val_acc: 0.5052 \n"
     ]
    },
    {
     "data": {
      "application/vnd.jupyter.widget-view+json": {
       "model_id": "",
       "version_major": 2,
       "version_minor": 0
      },
      "text/plain": [
       "HBox(children=(IntProgress(value=0, max=1150), HTML(value=u'')))"
      ]
     },
     "metadata": {},
     "output_type": "display_data"
    },
    {
     "data": {
      "application/vnd.jupyter.widget-view+json": {
       "model_id": "",
       "version_major": 2,
       "version_minor": 0
      },
      "text/plain": [
       "HBox(children=(IntProgress(value=0, max=128), HTML(value=u'')))"
      ]
     },
     "metadata": {},
     "output_type": "display_data"
    },
    {
     "name": "stdout",
     "output_type": "stream",
     "text": [
      "Epoch [48/50] train_loss: nan, train_acc: 0.5012, val_loss: nan, val_acc: 0.5052 \n"
     ]
    },
    {
     "data": {
      "application/vnd.jupyter.widget-view+json": {
       "model_id": "",
       "version_major": 2,
       "version_minor": 0
      },
      "text/plain": [
       "HBox(children=(IntProgress(value=0, max=1150), HTML(value=u'')))"
      ]
     },
     "metadata": {},
     "output_type": "display_data"
    },
    {
     "data": {
      "application/vnd.jupyter.widget-view+json": {
       "model_id": "",
       "version_major": 2,
       "version_minor": 0
      },
      "text/plain": [
       "HBox(children=(IntProgress(value=0, max=128), HTML(value=u'')))"
      ]
     },
     "metadata": {},
     "output_type": "display_data"
    },
    {
     "name": "stdout",
     "output_type": "stream",
     "text": [
      "Epoch [49/50] train_loss: nan, train_acc: 0.5012, val_loss: nan, val_acc: 0.5052 \n"
     ]
    },
    {
     "data": {
      "application/vnd.jupyter.widget-view+json": {
       "model_id": "",
       "version_major": 2,
       "version_minor": 0
      },
      "text/plain": [
       "HBox(children=(IntProgress(value=0, max=1150), HTML(value=u'')))"
      ]
     },
     "metadata": {},
     "output_type": "display_data"
    },
    {
     "data": {
      "application/vnd.jupyter.widget-view+json": {
       "model_id": "",
       "version_major": 2,
       "version_minor": 0
      },
      "text/plain": [
       "HBox(children=(IntProgress(value=0, max=128), HTML(value=u'')))"
      ]
     },
     "metadata": {},
     "output_type": "display_data"
    },
    {
     "name": "stdout",
     "output_type": "stream",
     "text": [
      "Epoch [50/50] train_loss: nan, train_acc: 0.5012, val_loss: nan, val_acc: 0.5052 \n",
      "\n"
     ]
    }
   ],
   "source": [
    "m = ConcatPoolingGRUAdaptive(vocab_size, embedding_dim, n_hidden, n_out_yc, n_out_yf, trainds.fields['corpus'].vocab.vectors).to(device)\n",
    "opt_y = Adam(filter(lambda p: p.requires_grad, [i for i in m.parameters() if i.shape != torch.Size([4]) and i.shape != torch.Size([4, 256])]), 1e-3)\n",
    "opt_z = Adam(filter(lambda p: p.requires_grad, [i for i in m.parameters() if i.shape != torch.Size([2]) and i.shape != torch.Size([2, 256])]), 1e-3)\n",
    "\n",
    "train_acc_list, train_loss_list, val_acc_list, val_loss_list = fit_l1(model=m, train_dl=train_batch_it, val_dl=val_batch_it, loss_fn=F.nll_loss, opt_y=opt_y, opt_z=opt_z, epochs=50)"
   ]
  },
  {
   "cell_type": "code",
   "execution_count": 52,
   "metadata": {},
   "outputs": [
    {
     "data": {
      "image/png": "[encoded data removed]",
      "text/plain": [
       "<Figure size 432x288 with 1 Axes>"
      ]
     },
     "metadata": {
      "needs_background": "light"
     },
     "output_type": "display_data"
    }
   ],
   "source": [
    "#plot train/val accuracies\n",
    "plt.title(\"Train/Test Acc\")\n",
    "plt.xlabel(\"epoch\")\n",
    "plt.ylabel('acc')\n",
    "line1 = plt.plot(train_acc_list, color='red')\n",
    "line2 = plt.plot(val_acc_list, color='blue')\n",
    "plt.legend(['Train', 'Test'], loc='upper left')\n",
    "plt.savefig('nlpcpgrul1acc.png')   # save the figure to file\n",
    "plt.show()\n",
    "plt.close()"
   ]
  },
  {
   "cell_type": "code",
   "execution_count": 53,
   "metadata": {},
   "outputs": [
    {
     "data": {
      "image/png": "[encoded data removed]",
      "text/plain": [
       "<Figure size 432x288 with 1 Axes>"
      ]
     },
     "metadata": {
      "needs_background": "light"
     },
     "output_type": "display_data"
    }
   ],
   "source": [
    "#plot train/val accuracies\n",
    "plt.title(\"Train/Test Loss\")\n",
    "plt.xlabel(\"epoch\")\n",
    "plt.ylabel('loss')\n",
    "line1 = plt.plot(train_loss_list, color='red')\n",
    "line2 = plt.plot(val_loss_list, color='blue')\n",
    "plt.legend(['Train', 'Test'], loc='upper left')\n",
    "plt.savefig('nlpcpgrul1loss.png')   # save the figure to file\n",
    "plt.show()\n",
    "plt.close()"
   ]
  },
  {
   "cell_type": "markdown",
   "metadata": {},
   "source": [
    "define model:\n",
    "   \n",
    "return $branch_1,branch_2...branch_n$\n",
    "\n",
    "    \n",
    "$pred_1, pred_2...pred_n = model(X)$\n",
    "\n",
    "\n",
    "$loss_1 = lossfn_1(pred_1, y_1)$\n",
    "\n",
    "$loss_2 = lossfn_2(pred_2, y_2)$\n",
    "\n",
    "$loss_n = lossfn_n(pred_n, y_n)$\n",
    "\n",
    "$\\frac{1}{\\alpha_1} = \\frac{\\frac{1}{loss_1}}{\\frac{1}{loss_1} + \\frac{1}{loss_2}+...\\frac{1}{loss_n}}$\n",
    "\n",
    "$\\frac{1}{\\alpha_2} = \\frac{\\frac{1}{loss_2}}{\\frac{1}{loss_1} + \\frac{1}{loss_2}+...\\frac{1}{loss_n}}$\n",
    "\n",
    "$\\frac{1}{\\alpha_n} = \\frac{\\frac{1}{loss_n}}{\\frac{1}{loss_1} + \\frac{1}{loss_2}+...\\frac{1}{loss_n}}$\n",
    "\n",
    "$optimizer_1.step(\\alpha_1)$\n",
    "\n",
    "$optimizer_2.step(\\alpha_2)$\n",
    "\n",
    "$optimizer_n.step(\\alpha_n)$"
   ]
  },
  {
   "cell_type": "code",
   "execution_count": null,
   "metadata": {},
   "outputs": [],
   "source": []
  }
 ],
 "metadata": {
  "kernelspec": {
   "display_name": "Python 2",
   "language": "python",
   "name": "python2"
  },
  "language_info": {
   "codemirror_mode": {
    "name": "ipython",
    "version": 2
   },
   "file_extension": ".py",
   "mimetype": "text/x-python",
   "name": "python",
   "nbconvert_exporter": "python",
   "pygments_lexer": "ipython2",
   "version": "2.7.15"
  }
 },
 "nbformat": 4,
 "nbformat_minor": 2
}
