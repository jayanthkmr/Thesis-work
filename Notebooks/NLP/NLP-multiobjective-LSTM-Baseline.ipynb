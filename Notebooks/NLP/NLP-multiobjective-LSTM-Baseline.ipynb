{
 "cells": [
  {
   "cell_type": "code",
   "execution_count": 1,
   "metadata": {},
   "outputs": [],
   "source": [
    "#!/usr/bin/env python3\n",
    "\n",
    "from nltk.tokenize import TweetTokenizer\n",
    "from sklearn.feature_extraction.text import TfidfVectorizer\n",
    "from sklearn.model_selection import cross_val_score, cross_val_predict\n",
    "from sklearn.linear_model import LogisticRegression\n",
    "from sklearn.svm import LinearSVC\n",
    "from sklearn.datasets import dump_svmlight_file\n",
    "from sklearn import metrics\n",
    "from sklearn.metrics import accuracy_score\n",
    "import numpy as np\n",
    "import logging\n",
    "import codecs\n",
    "import re\n",
    "import os\n",
    "from nltk.corpus import sentiwordnet as swn\n",
    "\n",
    "\n",
    "def parse_dataset(fp):\n",
    "    '''\n",
    "    Loads the dataset .txt file with label-tweet on each line and parses the dataset.\n",
    "    :param fp: filepath of dataset\n",
    "    :return:\n",
    "        corpus: list of tweet strings of each tweet.\n",
    "        y: list of labels\n",
    "    '''\n",
    "    y = []\n",
    "    corpus = []\n",
    "    with open(fp, 'rt') as data_in:\n",
    "        for line in data_in:\n",
    "            if not line.lower().startswith(\"tweet index\"):  # discard first line if it contains metadata\n",
    "                line = line.rstrip()  # remove trailing whitespace\n",
    "                label = int(line.split(\"\\t\")[1])\n",
    "                tweet = line.split(\"\\t\")[2]\n",
    "                y.append(label)\n",
    "                corpus.append(tweet)\n",
    "\n",
    "    return corpus, y\n",
    "\n",
    "\n",
    "def featurize(corpus):\n",
    "    '''\n",
    "    Tokenizes and creates TF-IDF BoW vectors.\n",
    "    :param corpus: A list of strings each string representing document.\n",
    "    :return: X: A sparse csr matrix of TFIDF-weigted ngram counts.\n",
    "    '''\n",
    "\n",
    "    tokenizer = TweetTokenizer(preserve_case=False, reduce_len=True, strip_handles=True).tokenize\n",
    "    vectorizer = TfidfVectorizer(strip_accents=\"unicode\", analyzer=\"word\", tokenizer=tokenizer, stop_words=\"english\")\n",
    "    X = vectorizer.fit_transform(corpus)\n",
    "    # print(vectorizer.get_feature_names()) # to manually check if the tokens are reasonable\n",
    "    return X\n"
   ]
  },
  {
   "cell_type": "code",
   "execution_count": 2,
   "metadata": {},
   "outputs": [],
   "source": [
    "# Dataset: SemEval2018-T4-train-taskA.txt or SemEval2018-T4-train-taskB.txt\n",
    "DATASET_FP1 = \"./SemEval2018-Task3/datasets/train/SemEval2018-T4-train-taskA.txt\"\n",
    "TASK1 = \"A\"  # Define, A or B\n",
    "DATASET_FP2 = \"./SemEval2018-Task3/datasets/train/SemEval2018-T4-train-taskB.txt\"\n",
    "TASK2 = \"B\"  # Define, A or B\n",
    "\n",
    "FNAME = './predictions-task' + TASK1 + '.txt'\n",
    "PREDICTIONSFILE = open(FNAME, \"w\")"
   ]
  },
  {
   "cell_type": "code",
   "execution_count": 3,
   "metadata": {},
   "outputs": [],
   "source": [
    "corpus, inp_y1 = parse_dataset(DATASET_FP1)\n",
    "corpus_copy, inp_y2 = parse_dataset(DATASET_FP2)\n",
    "tokenizer = TweetTokenizer(preserve_case=False, reduce_len=True, strip_handles=True).tokenize"
   ]
  },
  {
   "cell_type": "code",
   "execution_count": 4,
   "metadata": {},
   "outputs": [],
   "source": [
    "import pandas as pd\n",
    "raw_data = {'corpus' : [line for line in corpus], 'coarse_label': [line for line in inp_y1], 'fine_type': [line for line in inp_y2]}\n",
    "df = pd.DataFrame(raw_data, columns=[\"corpus\", \"coarse_label\", \"fine_type\"])"
   ]
  },
  {
   "cell_type": "code",
   "execution_count": 5,
   "metadata": {},
   "outputs": [],
   "source": [
    "from sklearn.model_selection import train_test_split\n",
    "# create train and validation set \n",
    "train, val = train_test_split(df, test_size=0.1)\n",
    "train.to_csv(\"train.csv\",index=False)\n",
    "val.to_csv(\"val.csv\",index=False)"
   ]
  },
  {
   "cell_type": "code",
   "execution_count": 6,
   "metadata": {},
   "outputs": [],
   "source": [
    "import torchtext\n",
    "import spacy\n",
    "import csv\n",
    "from torchtext import data\n",
    "\n",
    "# tokenizer function using spacy\n",
    "nlp = spacy.load('en',disable=['parser', 'tagger', 'ner'])\n",
    "def tokenizer(s): \n",
    "    return [w.text.lower() for w in nlp(tweet_clean(s))]\n",
    "\n",
    "def tweet_clean(text):\n",
    "    text = re.sub(r'[^A-Za-z0-9]+', ' ', text) # remove non alphanumeric character\n",
    "    text = re.sub(r'https?:/\\/\\S+', ' ', text) # remove links\n",
    "    return text.strip()\n",
    "\n",
    "# define the columns that we want to process and how to process\n",
    "txt_field = data.Field(sequential=True, \n",
    "                       tokenize=tokenizer, \n",
    "                       include_lengths=True, \n",
    "                       use_vocab=True)\n",
    "labelc_field = data.Field(sequential=False, \n",
    "                         use_vocab=False, \n",
    "                         pad_token=None, \n",
    "                         unk_token=None)\n",
    "labelf_field = data.Field(sequential=False, \n",
    "                         use_vocab=False, \n",
    "                         pad_token=None, \n",
    "                         unk_token=None)\n",
    "\n",
    "train_val_fields = [\n",
    "    ('corpus', txt_field), # process it as text\n",
    "    ('coarse_label', labelc_field), # process it as label\n",
    "    ('fine_type', labelf_field) # we dont need this, so no processing\n",
    "]\n",
    "\n",
    "trainds, valds = data.TabularDataset.splits(path='./', \n",
    "                                            format='csv', \n",
    "                                            train='train.csv', \n",
    "                                            validation='val.csv', \n",
    "                                            fields=train_val_fields, \n",
    "                                            skip_header=True)"
   ]
  },
  {
   "cell_type": "code",
   "execution_count": 7,
   "metadata": {},
   "outputs": [
    {
     "data": {
      "text/plain": [
       "(3450, 384)"
      ]
     },
     "execution_count": 7,
     "metadata": {},
     "output_type": "execute_result"
    }
   ],
   "source": [
    "type(trainds)\n",
    "len(trainds), len(valds)"
   ]
  },
  {
   "cell_type": "code",
   "execution_count": 8,
   "metadata": {},
   "outputs": [
    {
     "data": {
      "text/plain": [
       "[('corpus', <torchtext.data.field.Field at 0x11fa58250>),\n",
       " ('coarse_label', <torchtext.data.field.Field at 0x1218d7f50>),\n",
       " ('fine_type', <torchtext.data.field.Field at 0x1218d7dd0>)]"
      ]
     },
     "execution_count": 8,
     "metadata": {},
     "output_type": "execute_result"
    }
   ],
   "source": [
    "trainds.fields.items()"
   ]
  },
  {
   "cell_type": "code",
   "execution_count": 9,
   "metadata": {},
   "outputs": [
    {
     "data": {
      "text/plain": [
       "[u'barackobama',\n",
       " u'so',\n",
       " u'that',\n",
       " u'is',\n",
       " u'what',\n",
       " u'happened',\n",
       " u'the',\n",
       " u'acorn',\n",
       " u'voter',\n",
       " u'fraud',\n",
       " u'people']"
      ]
     },
     "execution_count": 9,
     "metadata": {},
     "output_type": "execute_result"
    }
   ],
   "source": [
    "ex = trainds[2]\n",
    "type(ex)\n",
    "ex.corpus"
   ]
  },
  {
   "cell_type": "code",
   "execution_count": 10,
   "metadata": {},
   "outputs": [],
   "source": [
    "from pymagnitude import *\n",
    "vectors = Magnitude(\"glove.twitter.27B.25d.magnitude\")"
   ]
  },
  {
   "cell_type": "code",
   "execution_count": 11,
   "metadata": {},
   "outputs": [
    {
     "data": {
      "text/plain": [
       "array([-1.489600e-03,  2.958700e-03,  3.146130e-02,  2.533110e-02,\n",
       "       -6.396720e-02, -2.151870e-02,  2.700136e-01, -2.308060e-02,\n",
       "        2.664680e-02, -4.656560e-02,  1.002020e-02,  7.585990e-02,\n",
       "       -9.284841e-01,  7.042420e-02,  2.018550e-02, -7.115970e-02,\n",
       "        5.714110e-02, -2.858000e-04, -1.497100e-02,  3.115210e-02,\n",
       "       -1.262173e-01,  2.529300e-02,  2.752000e-02, -1.234394e-01,\n",
       "       -4.572460e-02], dtype=float32)"
      ]
     },
     "execution_count": 11,
     "metadata": {},
     "output_type": "execute_result"
    }
   ],
   "source": [
    "vectors.query('the')"
   ]
  },
  {
   "cell_type": "code",
   "execution_count": 12,
   "metadata": {},
   "outputs": [],
   "source": [
    "from torchtext import vocab\n",
    "vec = vocab.Vectors('glove.twitter.27B.100d.txt', './vector_cache/glove.twitter.27B')\n",
    "#os.path.isdir('./vector_cache/glove.twitter.27B')"
   ]
  },
  {
   "cell_type": "code",
   "execution_count": 13,
   "metadata": {},
   "outputs": [],
   "source": [
    "txt_field.build_vocab(trainds, valds, vectors=vec)\n",
    "#txt_field.build_vocab(trainds, valds)\n",
    "# build vocab for labels\n",
    "labelc_field.build_vocab(trainds)\n",
    "labelf_field.build_vocab(trainds)"
   ]
  },
  {
   "cell_type": "code",
   "execution_count": 14,
   "metadata": {},
   "outputs": [
    {
     "name": "stdout",
     "output_type": "stream",
     "text": [
      "6\n"
     ]
    }
   ],
   "source": [
    "print(txt_field.vocab.stoi['a'])"
   ]
  },
  {
   "cell_type": "code",
   "execution_count": 15,
   "metadata": {},
   "outputs": [],
   "source": [
    "traindl, valdl = data.BucketIterator.splits(datasets=(trainds, valds), \n",
    "                                            batch_sizes=(3,3), \n",
    "                                            sort_key=lambda x: len(x.corpus), \n",
    "                                            device=None, \n",
    "                                            sort_within_batch=True, \n",
    "                                            repeat=False)"
   ]
  },
  {
   "cell_type": "code",
   "execution_count": 16,
   "metadata": {},
   "outputs": [
    {
     "data": {
      "text/plain": [
       "(1150, 128)"
      ]
     },
     "execution_count": 16,
     "metadata": {},
     "output_type": "execute_result"
    }
   ],
   "source": [
    "len(traindl), len(valdl)"
   ]
  },
  {
   "cell_type": "code",
   "execution_count": 17,
   "metadata": {},
   "outputs": [
    {
     "data": {
      "text/plain": [
       "tensor([0, 0, 3])"
      ]
     },
     "execution_count": 17,
     "metadata": {},
     "output_type": "execute_result"
    }
   ],
   "source": [
    "batch = next(iter(traindl))\n",
    "type(batch)\n",
    "batch.fine_type"
   ]
  },
  {
   "cell_type": "code",
   "execution_count": 18,
   "metadata": {},
   "outputs": [
    {
     "data": {
      "text/plain": [
       "(tensor([[   18,    29,  5470],\n",
       "         [  478,     8, 10727],\n",
       "         [   40,     4, 10785],\n",
       "         [   12,     7,    18],\n",
       "         [  117,  9889,   675],\n",
       "         [    5,  3598,     4],\n",
       "         [  340,    69,     6],\n",
       "         [11030, 11133,  2620],\n",
       "         [  697,  6911,   778],\n",
       "         [  381,  1966,     2],\n",
       "         [   20,    96,  1058],\n",
       "         [  381,    17,    41],\n",
       "         [   20,   626,   250],\n",
       "         [  381,    17,     5],\n",
       "         [   20,  1007,   188],\n",
       "         [  381,    56,   862],\n",
       "         [   20,    99,    52],\n",
       "         [  381,  1007,  1479],\n",
       "         [   20,  9803,   632]]), tensor([19, 19, 19]))"
      ]
     },
     "execution_count": 18,
     "metadata": {},
     "output_type": "execute_result"
    }
   ],
   "source": [
    "batch.corpus"
   ]
  },
  {
   "cell_type": "code",
   "execution_count": 19,
   "metadata": {},
   "outputs": [
    {
     "data": {
      "text/plain": [
       "{'coarse_label': <torchtext.data.field.Field at 0x1218d7f50>,\n",
       " 'corpus': <torchtext.data.field.Field at 0x11fa58250>,\n",
       " 'fine_type': <torchtext.data.field.Field at 0x1218d7dd0>}"
      ]
     },
     "execution_count": 19,
     "metadata": {},
     "output_type": "execute_result"
    }
   ],
   "source": [
    "batch.dataset.fields"
   ]
  },
  {
   "cell_type": "code",
   "execution_count": 20,
   "metadata": {},
   "outputs": [
    {
     "data": {
      "text/plain": [
       "'<unk>'"
      ]
     },
     "execution_count": 20,
     "metadata": {},
     "output_type": "execute_result"
    }
   ],
   "source": [
    "txt_field.vocab.itos[0]"
   ]
  },
  {
   "cell_type": "code",
   "execution_count": 21,
   "metadata": {},
   "outputs": [
    {
     "data": {
      "text/plain": [
       "'<pad>'"
      ]
     },
     "execution_count": 21,
     "metadata": {},
     "output_type": "execute_result"
    }
   ],
   "source": [
    "txt_field.vocab.itos[1]"
   ]
  },
  {
   "cell_type": "code",
   "execution_count": 22,
   "metadata": {},
   "outputs": [],
   "source": [
    "def idxtosent(batch, idx):\n",
    "    return ' '.join([txt_field.vocab.itos[i] for i in batch.corpus[0][:,idx].cpu().data.numpy()])"
   ]
  },
  {
   "cell_type": "code",
   "execution_count": 23,
   "metadata": {},
   "outputs": [
    {
     "data": {
      "text/plain": [
       "u'christiancalls1 serr8d shawnst51128037 that wasn t a choke hold the officer was trying to keep ericgarner from falling forward'"
      ]
     },
     "execution_count": 23,
     "metadata": {},
     "output_type": "execute_result"
    }
   ],
   "source": [
    "idxtosent(batch,2)"
   ]
  },
  {
   "cell_type": "code",
   "execution_count": 24,
   "metadata": {},
   "outputs": [
    {
     "data": {
      "text/plain": [
       "{'batch_size': 3,\n",
       " 'coarse_label': tensor([0, 0, 1]),\n",
       " 'corpus': (tensor([[   18,    29,  5470],\n",
       "          [  478,     8, 10727],\n",
       "          [   40,     4, 10785],\n",
       "          [   12,     7,    18],\n",
       "          [  117,  9889,   675],\n",
       "          [    5,  3598,     4],\n",
       "          [  340,    69,     6],\n",
       "          [11030, 11133,  2620],\n",
       "          [  697,  6911,   778],\n",
       "          [  381,  1966,     2],\n",
       "          [   20,    96,  1058],\n",
       "          [  381,    17,    41],\n",
       "          [   20,   626,   250],\n",
       "          [  381,    17,     5],\n",
       "          [   20,  1007,   188],\n",
       "          [  381,    56,   862],\n",
       "          [   20,    99,    52],\n",
       "          [  381,  1007,  1479],\n",
       "          [   20,  9803,   632]]), tensor([19, 19, 19])),\n",
       " 'dataset': <torchtext.data.dataset.TabularDataset at 0x1218d7e50>,\n",
       " 'fields': ['corpus', 'coarse_label', 'fine_type'],\n",
       " 'fine_type': tensor([0, 0, 3]),\n",
       " 'input_fields': ['corpus', 'coarse_label', 'fine_type'],\n",
       " 'target_fields': []}"
      ]
     },
     "execution_count": 24,
     "metadata": {},
     "output_type": "execute_result"
    }
   ],
   "source": [
    "batch.__dict__"
   ]
  },
  {
   "cell_type": "code",
   "execution_count": 25,
   "metadata": {},
   "outputs": [
    {
     "data": {
      "text/plain": [
       "{'batch_size': 3,\n",
       " 'coarse_label': tensor([1, 1, 0]),\n",
       " 'corpus': (tensor([[ 69,  33, 245],\n",
       "          [ 11,  22,  99],\n",
       "          [228, 493,   1]]), tensor([3, 3, 2])),\n",
       " 'dataset': <torchtext.data.dataset.TabularDataset at 0x1218d7f10>,\n",
       " 'fields': ['corpus', 'coarse_label', 'fine_type'],\n",
       " 'fine_type': tensor([1, 1, 0]),\n",
       " 'input_fields': ['corpus', 'coarse_label', 'fine_type'],\n",
       " 'target_fields': []}"
      ]
     },
     "execution_count": 25,
     "metadata": {},
     "output_type": "execute_result"
    }
   ],
   "source": [
    "val_batch = next(iter(valdl))\n",
    "val_batch.__dict__"
   ]
  },
  {
   "cell_type": "code",
   "execution_count": 26,
   "metadata": {},
   "outputs": [
    {
     "name": "stdout",
     "output_type": "stream",
     "text": [
      "((tensor([[    3,     8, 11904],\n",
      "        [   33,     4,    59],\n",
      "        [  514,     7,     4],\n",
      "        [    6, 12187,   177],\n",
      "        [  288,  6997,   272],\n",
      "        [   78,  2947,    26],\n",
      "        [ 1115,  2947,   918],\n",
      "        [    9,  2560,    14],\n",
      "        [ 3715,  2519,   169],\n",
      "        [   13,  6256,     4],\n",
      "        [    6,    13,     7],\n",
      "        [  211,    35,  4216],\n",
      "        [12660,   128,  2061],\n",
      "        [11048,  4587,  2508],\n",
      "        [ 7183,  2005,  5080]]), tensor([15, 15, 15])), tensor([1, 0, 0]), tensor([1, 0, 0]))\n"
     ]
    }
   ],
   "source": [
    "class BatchGenerator:\n",
    "    def __init__(self, dl, x_field, yc_field, yf_field):\n",
    "        self.dl, self.x_field, self.yc_field, self.yf_field = dl, x_field, yc_field, yf_field\n",
    "        \n",
    "    def __len__(self):\n",
    "        return len(self.dl)\n",
    "    \n",
    "    def __iter__(self):\n",
    "        for batch in self.dl:\n",
    "            X = getattr(batch, self.x_field)\n",
    "            yc = getattr(batch, self.yc_field)\n",
    "            yf = getattr(batch, self.yf_field)\n",
    "            yield (X,yc,yf)\n",
    "            \n",
    "train_batch_it = BatchGenerator(traindl, 'corpus', 'coarse_label', 'fine_type')\n",
    "print(next(iter(train_batch_it)))"
   ]
  },
  {
   "cell_type": "code",
   "execution_count": 27,
   "metadata": {},
   "outputs": [],
   "source": [
    "import torch\n",
    "embedding_dim = 100\n",
    "n_hidden = 64\n",
    "n_out_yc = max(inp_y1)+1\n",
    "n_out_yf = max(inp_y2)+1\n",
    "vocab_size = len(txt_field.vocab)\n",
    "device=torch.device('cpu')"
   ]
  },
  {
   "cell_type": "code",
   "execution_count": 28,
   "metadata": {},
   "outputs": [
    {
     "data": {
      "text/plain": [
       "12675"
      ]
     },
     "execution_count": 28,
     "metadata": {},
     "output_type": "execute_result"
    }
   ],
   "source": [
    "vocab_size"
   ]
  },
  {
   "cell_type": "code",
   "execution_count": 29,
   "metadata": {},
   "outputs": [
    {
     "name": "stdout",
     "output_type": "stream",
     "text": [
      "0.4.1\n"
     ]
    }
   ],
   "source": [
    "import torch\n",
    "import torch.nn as nn\n",
    "import torch.optim as optim\n",
    "from torch.autograd import Variable\n",
    "from torchsummary import summary\n",
    "import torch.nn.functional as F\n",
    "from torch.nn.utils.rnn import pack_padded_sequence, pad_packed_sequence\n",
    "import torch.utils.data\n",
    "import gc\n",
    "import resource\n",
    "from tqdm import tqdm, tqdm_notebook, tnrange\n",
    "tqdm.pandas(desc='Progress')\n",
    "print(torch.__version__)"
   ]
  },
  {
   "cell_type": "code",
   "execution_count": 38,
   "metadata": {},
   "outputs": [],
   "source": [
    "class SimpleGRU(nn.Module):\n",
    "    def __init__(self, vocab_size, embedding_dim, n_hidden, n_out, pretrained_vec, bidirectional=True):\n",
    "        super(SimpleGRU,self).__init__()\n",
    "        self.vocab_size,self.embedding_dim,self.n_hidden,self.n_out,self.bidirectional = vocab_size, embedding_dim, n_hidden, n_out, bidirectional\n",
    "        self.emb = nn.Embedding(self.vocab_size, self.embedding_dim)\n",
    "        self.emb.weight.data.copy_(pretrained_vec)\n",
    "        self.emb.weight.requires_grad = False\n",
    "        self.gru = nn.GRU(self.embedding_dim, self.n_hidden, bidirectional=bidirectional)\n",
    "        self.out = nn.Linear(self.n_hidden, self.n_out)\n",
    "            \n",
    "    def forward(self, seq, lengths):\n",
    "        bs = seq.size(1) # batch size\n",
    "        seq = seq.transpose(0,1)\n",
    "        self.h = self.init_hidden(bs) # initialize hidden state of GRU\n",
    "        embs = self.emb(seq)\n",
    "        embs = embs.transpose(0,1)\n",
    "        embs = pack_padded_sequence(embs, lengths) # unpad\n",
    "        gru_out, self.h = self.gru(embs, self.h) # gru returns hidden state of all timesteps as well as hidden state at last timestep\n",
    "        gru_out, lengths = pad_packed_sequence(gru_out) # pad the sequence to the max length in the batch\n",
    "        # since it is as classification problem, we will grab the last hidden state\n",
    "        outp = self.out(self.h[-1]) # self.h[-1] contains hidden state of last timestep\n",
    "        return F.log_softmax(outp, dim=-1)\n",
    "        #return F.log_softmax(outpc), F.log_softmax(outpf)\n",
    "    \n",
    "    def init_hidden(self, batch_size): \n",
    "        if self.bidirectional:\n",
    "            return torch.zeros((2,batch_size,self.n_hidden)).to(device)\n",
    "        else:\n",
    "            return torch.zeros((1,batch_size,self.n_hidden)).to(device)"
   ]
  },
  {
   "cell_type": "code",
   "execution_count": 31,
   "metadata": {},
   "outputs": [],
   "source": [
    "class ConcatPoolingGRUAdaptive(nn.Module):\n",
    "    def __init__(self, vocab_size, embedding_dim, n_hidden, n_out, pretrained_vec, bidirectional=True):\n",
    "        super(ConcatPoolingGRUAdaptive,self).__init__()\n",
    "        self.vocab_size = vocab_size\n",
    "        self.embedding_dim = embedding_dim\n",
    "        self.n_hidden = n_hidden\n",
    "        self.n_out = n_out\n",
    "        self.bidirectional = bidirectional\n",
    "        \n",
    "        self.emb = nn.Embedding(self.vocab_size, self.embedding_dim)\n",
    "        self.emb.weight.data.copy_(pretrained_vec)\n",
    "        self.emb.weight.requires_grad = False\n",
    "        self.gru = nn.GRU(self.embedding_dim, self.n_hidden, bidirectional=bidirectional)\n",
    "        if bidirectional:\n",
    "            self.out_y = nn.Linear(self.n_hidden*2*2, self.n_out)\n",
    "        else:\n",
    "            self.out_y = nn.Linear(self.n_hidden*2, self.n_out)\n",
    "        \n",
    "    def forward(self, seq, lengths):\n",
    "        bs = seq.size(1)\n",
    "        self.h = self.init_hidden(bs)\n",
    "        seq = seq.transpose(0,1)\n",
    "        embs = self.emb(seq)\n",
    "        embs = embs.transpose(0,1)\n",
    "        embs = pack_padded_sequence(embs, lengths)\n",
    "        gru_out, self.h = self.gru(embs, self.h)\n",
    "        gru_out, lengths = pad_packed_sequence(gru_out)        \n",
    "        \n",
    "        avg_pool = F.adaptive_avg_pool1d(gru_out.permute(1,2,0),1).view(bs,-1)\n",
    "        max_pool = F.adaptive_max_pool1d(gru_out.permute(1,2,0),1).view(bs,-1)        \n",
    "        outpy = self.out_y(torch.cat([avg_pool,max_pool],dim=1))\n",
    "        return F.log_softmax(outpy)\n",
    "    \n",
    "    def init_hidden(self, batch_size): \n",
    "        if self.bidirectional:\n",
    "            return torch.zeros((2,batch_size,self.n_hidden)).to(device)\n",
    "        else:\n",
    "            return torch.zeros((1,batch_size,self.n_hidden)).cuda().to(device)"
   ]
  },
  {
   "cell_type": "code",
   "execution_count": 32,
   "metadata": {},
   "outputs": [
    {
     "data": {
      "application/vnd.jupyter.widget-view+json": {
       "model_id": "",
       "version_major": 2,
       "version_minor": 0
      },
      "text/plain": [
       "HBox(children=(IntProgress(value=0, max=1150), HTML(value=u'')))"
      ]
     },
     "metadata": {},
     "output_type": "display_data"
    }
   ],
   "source": [
    "t = tqdm_notebook(iter(train_batch_it), leave=False, total=len(train_batch_it))"
   ]
  },
  {
   "cell_type": "code",
   "execution_count": 33,
   "metadata": {},
   "outputs": [
    {
     "name": "stdout",
     "output_type": "stream",
     "text": [
      "tensor([22, 22, 22])\n",
      "tensor([17, 17, 17])\n",
      "tensor([11, 11, 11])\n",
      "tensor([20, 20, 20])\n",
      "tensor([8, 8, 8])\n",
      "tensor([13, 13, 13])\n",
      "tensor([26, 26, 26])\n",
      "tensor([15, 15, 15])\n",
      "tensor([9, 9, 9])\n",
      "tensor([19, 19, 19])\n",
      "tensor([24, 24, 24])\n",
      "tensor([14, 14, 14])\n",
      "tensor([13, 13, 13])\n",
      "tensor([20, 20, 20])\n",
      "tensor([8, 8, 8])\n",
      "tensor([17, 17, 17])\n",
      "tensor([10, 10, 10])\n",
      "tensor([22, 22, 22])\n",
      "tensor([17, 17, 17])\n",
      "tensor([14, 14, 14])\n",
      "tensor([27, 26, 26])\n",
      "tensor([18, 18, 18])\n",
      "tensor([14, 14, 14])\n",
      "tensor([9, 9, 9])\n",
      "tensor([28, 28, 28])\n",
      "tensor([19, 19, 18])\n",
      "tensor([5, 5, 4])\n",
      "tensor([14, 14, 14])\n",
      "tensor([22, 22, 21])\n",
      "tensor([20, 20, 19])\n",
      "tensor([18, 18, 18])\n",
      "tensor([23, 23, 23])\n",
      "tensor([20, 20, 20])\n",
      "tensor([14, 14, 14])\n",
      "tensor([6, 5, 5])\n",
      "tensor([12, 12, 12])\n",
      "tensor([17, 17, 17])\n",
      "tensor([13, 12, 12])\n",
      "tensor([20, 20, 20])\n",
      "tensor([7, 7, 7])\n",
      "tensor([13, 13, 13])\n",
      "tensor([11, 11, 11])\n",
      "tensor([17, 17, 17])\n",
      "tensor([20, 20, 20])\n",
      "tensor([10, 10, 10])\n",
      "tensor([25, 25, 25])\n",
      "tensor([21, 21, 21])\n",
      "tensor([28, 27, 27])\n",
      "tensor([13, 13, 13])\n",
      "tensor([16, 16, 16])\n",
      "tensor([21, 21, 21])\n",
      "tensor([9, 9, 9])\n",
      "tensor([23, 23, 23])\n",
      "tensor([24, 24, 24])\n",
      "tensor([10, 10, 10])\n",
      "tensor([10, 10, 10])\n",
      "tensor([16, 16, 16])\n",
      "tensor([6, 6, 6])\n",
      "tensor([26, 26, 26])\n",
      "tensor([10, 10, 10])\n",
      "tensor([21, 21, 21])\n",
      "tensor([9, 9, 8])\n",
      "tensor([15, 14, 14])\n",
      "tensor([22, 22, 22])\n",
      "tensor([39, 33, 31])\n",
      "tensor([8, 8, 8])\n",
      "tensor([11, 10, 10])\n",
      "tensor([16, 16, 16])\n",
      "tensor([12, 12, 12])\n",
      "tensor([8, 7, 7])\n",
      "tensor([20, 20, 20])\n",
      "tensor([11, 11, 11])\n",
      "tensor([9, 9, 9])\n",
      "tensor([19, 19, 19])\n",
      "tensor([23, 23, 23])\n",
      "tensor([20, 20, 20])\n",
      "tensor([18, 18, 18])\n",
      "tensor([25, 25, 24])\n",
      "tensor([16, 16, 16])\n",
      "tensor([18, 18, 17])\n",
      "tensor([22, 22, 22])\n",
      "tensor([4, 4, 3])\n",
      "tensor([23, 23, 23])\n",
      "tensor([12, 12, 12])\n",
      "tensor([21, 21, 20])\n",
      "tensor([18, 18, 18])\n",
      "tensor([17, 17, 17])\n",
      "tensor([23, 23, 23])\n",
      "tensor([16, 16, 16])\n",
      "tensor([23, 23, 23])\n",
      "tensor([11, 11, 11])\n",
      "tensor([19, 19, 19])\n",
      "tensor([17, 16, 16])\n",
      "tensor([12, 12, 12])\n",
      "tensor([25, 25, 25])\n",
      "tensor([12, 12, 12])\n",
      "tensor([7, 6, 6])\n",
      "tensor([6, 6, 6])\n",
      "tensor([18, 18, 18])\n",
      "tensor([11, 11, 11])\n",
      "tensor([13, 13, 12])\n",
      "tensor([21, 21, 21])\n",
      "tensor([10, 10, 10])\n",
      "tensor([23, 23, 23])\n",
      "tensor([11, 11, 11])\n",
      "tensor([18, 18, 18])\n",
      "tensor([19, 19, 19])\n",
      "tensor([14, 14, 13])\n",
      "tensor([7, 6, 6])\n",
      "tensor([14, 14, 14])\n",
      "tensor([13, 13, 13])\n",
      "tensor([12, 12, 12])\n",
      "tensor([22, 22, 22])\n",
      "tensor([16, 16, 16])\n",
      "tensor([26, 26, 26])\n",
      "tensor([14, 14, 14])\n",
      "tensor([7, 7, 7])\n",
      "tensor([20, 20, 20])\n",
      "tensor([22, 22, 22])\n",
      "tensor([22, 22, 22])\n",
      "tensor([10, 10, 10])\n",
      "tensor([24, 24, 24])\n",
      "tensor([17, 17, 17])\n",
      "tensor([16, 16, 16])\n",
      "tensor([16, 16, 16])\n",
      "tensor([19, 19, 19])\n",
      "tensor([9, 9, 9])\n",
      "tensor([18, 18, 18])\n",
      "tensor([21, 21, 21])\n",
      "tensor([21, 21, 21])\n",
      "tensor([14, 14, 14])\n",
      "tensor([8, 7, 7])\n",
      "tensor([5, 4, 4])\n",
      "tensor([20, 20, 20])\n",
      "tensor([18, 17, 17])\n",
      "tensor([19, 19, 19])\n",
      "tensor([15, 15, 15])\n",
      "tensor([10, 10, 10])\n",
      "tensor([24, 24, 24])\n",
      "tensor([19, 19, 19])\n",
      "tensor([7, 7, 7])\n",
      "tensor([16, 16, 16])\n",
      "tensor([8, 8, 8])\n",
      "tensor([16, 16, 16])\n",
      "tensor([27, 27, 27])\n",
      "tensor([22, 22, 22])\n",
      "tensor([23, 23, 23])\n",
      "tensor([7, 7, 7])\n",
      "tensor([11, 11, 11])\n",
      "tensor([30, 29, 28])\n",
      "tensor([23, 23, 23])\n",
      "tensor([5, 5, 5])\n",
      "tensor([11, 11, 11])\n",
      "tensor([5, 5, 5])\n",
      "tensor([17, 17, 17])\n",
      "tensor([14, 14, 14])\n",
      "tensor([15, 15, 15])\n",
      "tensor([9, 9, 9])\n",
      "tensor([20, 20, 20])\n",
      "tensor([14, 14, 14])\n",
      "tensor([15, 15, 15])\n",
      "tensor([4, 3, 1])\n",
      "tensor([6, 6, 6])\n",
      "tensor([19, 19, 19])\n",
      "tensor([18, 18, 18])\n",
      "tensor([10, 10, 10])\n",
      "tensor([28, 28, 27])\n",
      "tensor([43, 37, 34])\n",
      "tensor([8, 8, 8])\n",
      "tensor([18, 18, 18])\n",
      "tensor([25, 25, 25])\n",
      "tensor([27, 26, 26])\n",
      "tensor([11, 11, 11])\n",
      "tensor([13, 13, 13])\n",
      "tensor([9, 9, 9])\n",
      "tensor([17, 17, 16])\n",
      "tensor([12, 12, 11])\n",
      "tensor([15, 15, 14])\n",
      "tensor([17, 17, 17])\n",
      "tensor([11, 11, 11])\n",
      "tensor([12, 12, 12])\n",
      "tensor([6, 6, 6])\n",
      "tensor([26, 26, 25])\n",
      "tensor([17, 17, 17])\n",
      "tensor([20, 20, 19])\n",
      "tensor([20, 20, 20])\n",
      "tensor([24, 23, 23])\n",
      "tensor([14, 14, 14])\n",
      "tensor([16, 16, 16])\n",
      "tensor([21, 21, 21])\n",
      "tensor([22, 22, 22])\n",
      "tensor([20, 20, 20])\n",
      "tensor([9, 9, 9])\n",
      "tensor([9, 9, 9])\n",
      "tensor([20, 20, 20])\n",
      "tensor([9, 9, 9])\n",
      "tensor([6, 6, 6])\n",
      "tensor([12, 12, 12])\n",
      "tensor([25, 25, 24])\n",
      "tensor([8, 8, 8])\n",
      "tensor([8, 8, 7])\n",
      "tensor([15, 15, 15])\n",
      "tensor([18, 18, 18])\n",
      "tensor([22, 22, 22])\n",
      "tensor([21, 21, 21])\n",
      "tensor([15, 15, 15])\n",
      "tensor([19, 19, 19])\n",
      "tensor([12, 12, 12])\n",
      "tensor([16, 16, 16])\n",
      "tensor([12, 12, 12])\n",
      "tensor([22, 22, 22])\n",
      "tensor([13, 12, 12])\n",
      "tensor([11, 11, 11])\n",
      "tensor([9, 9, 9])\n",
      "tensor([14, 14, 14])\n",
      "tensor([24, 24, 24])\n",
      "tensor([5, 5, 5])\n",
      "tensor([6, 5, 5])\n",
      "tensor([16, 16, 16])\n",
      "tensor([17, 17, 17])\n",
      "tensor([8, 8, 8])\n",
      "tensor([17, 17, 17])\n",
      "tensor([24, 24, 24])\n",
      "tensor([18, 18, 18])\n",
      "tensor([5, 4, 4])\n",
      "tensor([18, 17, 17])\n",
      "tensor([13, 13, 13])\n",
      "tensor([9, 9, 9])\n",
      "tensor([17, 17, 17])\n",
      "tensor([13, 13, 13])\n",
      "tensor([25, 25, 25])\n",
      "tensor([13, 13, 13])\n",
      "tensor([18, 18, 18])\n",
      "tensor([13, 13, 13])\n",
      "tensor([12, 12, 12])\n",
      "tensor([7, 7, 7])\n",
      "tensor([25, 25, 24])\n",
      "tensor([20, 20, 20])\n",
      "tensor([22, 22, 22])\n",
      "tensor([7, 7, 7])\n",
      "tensor([7, 6, 6])\n",
      "tensor([19, 19, 19])\n",
      "tensor([19, 19, 19])\n",
      "tensor([17, 17, 17])\n",
      "tensor([10, 10, 10])\n",
      "tensor([17, 16, 16])\n",
      "tensor([15, 15, 15])\n",
      "tensor([22, 21, 21])\n",
      "tensor([11, 11, 11])\n",
      "tensor([19, 19, 19])\n",
      "tensor([10,  9,  9])\n",
      "tensor([23, 23, 23])\n",
      "tensor([14, 14, 14])\n",
      "tensor([21, 20, 20])\n",
      "tensor([17, 17, 17])\n",
      "tensor([4, 3, 3])\n",
      "tensor([27, 27, 27])\n",
      "tensor([8, 8, 8])\n",
      "tensor([9, 9, 9])\n",
      "tensor([14, 13, 13])\n",
      "tensor([15, 15, 15])\n",
      "tensor([11, 11, 11])\n",
      "tensor([6, 6, 6])\n",
      "tensor([12, 11, 11])\n",
      "tensor([9, 9, 8])\n",
      "tensor([12, 12, 12])\n",
      "tensor([14, 14, 14])\n",
      "tensor([18, 18, 18])\n",
      "tensor([18, 18, 18])\n",
      "tensor([16, 16, 16])\n",
      "tensor([7, 7, 7])\n",
      "tensor([13, 13, 13])\n",
      "tensor([24, 23, 23])\n",
      "tensor([12, 12, 12])\n",
      "tensor([12, 12, 12])\n",
      "tensor([19, 19, 19])\n",
      "tensor([11, 11, 11])\n",
      "tensor([10, 10, 10])\n",
      "tensor([10, 10, 10])\n",
      "tensor([10, 10, 10])\n",
      "tensor([7, 7, 7])\n",
      "tensor([22, 22, 22])\n",
      "tensor([20, 20, 20])\n",
      "tensor([11, 11, 11])\n",
      "tensor([21, 21, 21])\n",
      "tensor([9, 9, 9])\n",
      "tensor([9, 9, 9])\n",
      "tensor([24, 24, 24])\n",
      "tensor([16, 15, 15])\n",
      "tensor([28, 28, 28])\n",
      "tensor([10, 10, 10])\n",
      "tensor([14, 14, 14])\n",
      "tensor([13, 13, 13])\n",
      "tensor([18, 18, 18])\n",
      "tensor([38, 33, 30])\n",
      "tensor([14, 14, 14])\n",
      "tensor([26, 26, 26])\n",
      "tensor([15, 15, 15])\n",
      "tensor([6, 6, 6])\n",
      "tensor([20, 20, 19])\n",
      "tensor([24, 24, 24])\n",
      "tensor([8, 8, 8])\n",
      "tensor([20, 20, 20])\n",
      "tensor([19, 19, 19])\n",
      "tensor([28, 27, 26])\n",
      "tensor([21, 21, 21])\n",
      "tensor([14, 14, 14])\n",
      "tensor([23, 23, 23])\n",
      "tensor([6, 5, 5])\n",
      "tensor([20, 20, 20])\n",
      "tensor([10,  9,  9])\n",
      "tensor([21, 21, 21])\n",
      "tensor([23, 23, 23])\n",
      "tensor([13, 13, 13])\n",
      "tensor([11, 11, 11])\n",
      "tensor([6, 6, 6])\n",
      "tensor([8, 8, 8])\n",
      "tensor([13, 13, 13])\n",
      "tensor([4, 4, 4])\n",
      "tensor([6, 6, 6])\n",
      "tensor([14, 14, 14])\n",
      "tensor([6, 6, 6])\n",
      "tensor([25, 24, 24])\n",
      "tensor([12, 12, 12])\n",
      "tensor([23, 23, 23])\n",
      "tensor([14, 14, 14])\n",
      "tensor([23, 22, 22])\n",
      "tensor([11, 11, 11])\n",
      "tensor([17, 17, 17])\n",
      "tensor([14, 14, 14])\n",
      "tensor([9, 9, 8])\n",
      "tensor([23, 23, 23])\n",
      "tensor([25, 25, 25])\n",
      "tensor([15, 15, 15])\n",
      "tensor([20, 20, 20])\n",
      "tensor([19, 19, 19])\n",
      "tensor([8, 8, 8])\n",
      "tensor([14, 14, 14])\n",
      "tensor([6, 6, 6])\n",
      "tensor([22, 22, 22])\n",
      "tensor([24, 24, 24])\n",
      "tensor([13, 13, 13])\n",
      "tensor([26, 26, 26])\n",
      "tensor([9, 9, 9])\n",
      "tensor([9, 9, 9])\n",
      "tensor([7, 6, 6])\n",
      "tensor([17, 17, 17])\n",
      "tensor([8, 8, 7])\n",
      "tensor([7, 7, 7])\n",
      "tensor([15, 15, 15])\n",
      "tensor([12, 12, 11])\n",
      "tensor([15, 15, 15])\n",
      "tensor([18, 18, 18])\n",
      "tensor([31, 31, 28])\n",
      "tensor([10, 10, 10])\n",
      "tensor([23, 23, 23])\n",
      "tensor([8, 8, 8])\n",
      "tensor([11, 11, 10])\n",
      "tensor([20, 20, 20])\n",
      "tensor([13, 13, 13])\n",
      "tensor([17, 17, 16])\n",
      "tensor([22, 22, 22])\n",
      "tensor([18, 18, 18])\n",
      "tensor([14, 14, 14])\n",
      "tensor([16, 16, 16])\n",
      "tensor([15, 15, 15])\n",
      "tensor([21, 21, 21])\n",
      "tensor([24, 24, 24])\n",
      "tensor([22, 22, 22])\n",
      "tensor([20, 20, 20])\n",
      "tensor([18, 18, 18])\n",
      "tensor([21, 21, 21])\n",
      "tensor([10, 10, 10])\n",
      "tensor([18, 18, 18])\n",
      "tensor([7, 7, 7])\n",
      "tensor([13, 12, 12])\n",
      "tensor([19, 19, 19])\n",
      "tensor([24, 24, 24])\n",
      "tensor([8, 8, 8])\n",
      "tensor([4, 4, 2])\n",
      "tensor([20, 19, 19])\n",
      "tensor([16, 15, 15])\n",
      "tensor([16, 16, 16])\n",
      "tensor([10, 10, 10])\n",
      "tensor([14, 14, 14])\n",
      "tensor([19, 19, 19])\n",
      "tensor([15, 15, 15])\n",
      "tensor([20, 20, 20])\n",
      "tensor([11, 11, 11])\n",
      "tensor([12, 12, 12])\n",
      "tensor([16, 16, 16])\n",
      "tensor([9, 9, 9])\n",
      "tensor([17, 17, 17])\n",
      "tensor([11, 11, 11])\n",
      "tensor([26, 25, 25])\n",
      "tensor([21, 21, 21])\n",
      "tensor([18, 18, 18])\n",
      "tensor([12, 12, 12])\n",
      "tensor([17, 17, 17])\n",
      "tensor([12, 12, 12])\n",
      "tensor([20, 20, 20])\n",
      "tensor([12, 12, 12])\n",
      "tensor([6, 6, 6])\n",
      "tensor([9, 9, 9])\n",
      "tensor([14, 14, 13])\n",
      "tensor([10, 10, 10])\n",
      "tensor([15, 15, 15])\n",
      "tensor([18, 18, 18])\n",
      "tensor([20, 20, 20])\n",
      "tensor([3, 3, 3])\n",
      "tensor([20, 19, 19])\n",
      "tensor([5, 4, 4])\n",
      "tensor([9, 9, 9])\n",
      "tensor([24, 24, 24])\n",
      "tensor([11, 11, 11])\n",
      "tensor([5, 5, 5])\n",
      "tensor([19, 19, 19])\n",
      "tensor([15, 15, 14])\n",
      "tensor([13, 13, 13])\n",
      "tensor([19, 19, 19])\n",
      "tensor([18, 18, 18])\n",
      "tensor([13, 13, 13])\n",
      "tensor([16, 16, 16])\n",
      "tensor([21, 20, 20])\n",
      "tensor([14, 14, 14])\n",
      "tensor([6, 6, 6])\n",
      "tensor([11, 11, 11])\n",
      "tensor([26, 26, 26])\n",
      "tensor([7, 7, 7])\n",
      "tensor([23, 22, 22])\n",
      "tensor([7, 7, 7])\n",
      "tensor([23, 23, 23])\n",
      "tensor([20, 20, 20])\n",
      "tensor([17, 17, 17])\n",
      "tensor([9, 9, 8])\n",
      "tensor([23, 23, 23])\n",
      "tensor([9, 9, 9])\n",
      "tensor([10, 10, 10])\n",
      "tensor([22, 22, 22])\n",
      "tensor([25, 24, 24])\n",
      "tensor([10, 10, 10])\n",
      "tensor([23, 23, 23])\n",
      "tensor([14, 14, 14])\n",
      "tensor([8, 8, 8])\n",
      "tensor([6, 5, 5])\n",
      "tensor([18, 18, 18])\n",
      "tensor([15, 15, 15])\n",
      "tensor([10, 10, 10])\n",
      "tensor([23, 23, 23])\n",
      "tensor([29, 28, 28])\n",
      "tensor([13, 13, 13])\n",
      "tensor([20, 20, 20])\n",
      "tensor([5, 5, 5])\n",
      "tensor([19, 19, 18])\n",
      "tensor([20, 20, 20])\n",
      "tensor([9, 9, 9])\n",
      "tensor([16, 16, 16])\n",
      "tensor([14, 14, 14])\n",
      "tensor([8, 8, 8])\n",
      "tensor([21, 21, 21])\n",
      "tensor([12, 12, 12])\n"
     ]
    },
    {
     "name": "stdout",
     "output_type": "stream",
     "text": [
      "tensor([17, 17, 17])\n",
      "tensor([20, 20, 20])\n",
      "tensor([22, 22, 21])\n",
      "tensor([34, 32, 32])\n",
      "tensor([13, 13, 13])\n",
      "tensor([18, 17, 17])\n",
      "tensor([12, 12, 11])\n",
      "tensor([15, 15, 15])\n",
      "tensor([18, 18, 18])\n",
      "tensor([13, 13, 13])\n",
      "tensor([16, 16, 16])\n",
      "tensor([22, 22, 22])\n",
      "tensor([15, 15, 15])\n",
      "tensor([8, 8, 8])\n",
      "tensor([12, 12, 12])\n",
      "tensor([25, 25, 25])\n",
      "tensor([8, 8, 8])\n",
      "tensor([17, 17, 17])\n",
      "tensor([19, 19, 19])\n",
      "tensor([7, 7, 7])\n",
      "tensor([21, 21, 21])\n",
      "tensor([28, 28, 27])\n",
      "tensor([12, 12, 12])\n",
      "tensor([17, 17, 17])\n",
      "tensor([26, 25, 25])\n",
      "tensor([11, 10, 10])\n",
      "tensor([17, 17, 17])\n",
      "tensor([16, 16, 16])\n",
      "tensor([15, 15, 15])\n",
      "tensor([27, 27, 27])\n",
      "tensor([22, 22, 22])\n",
      "tensor([12, 12, 12])\n",
      "tensor([10, 10,  9])\n",
      "tensor([11, 11, 11])\n",
      "tensor([6, 6, 6])\n",
      "tensor([16, 16, 16])\n",
      "tensor([8, 8, 7])\n",
      "tensor([24, 24, 24])\n",
      "tensor([23, 23, 23])\n",
      "tensor([20, 20, 20])\n",
      "tensor([8, 8, 8])\n",
      "tensor([9, 9, 9])\n",
      "tensor([12, 12, 12])\n",
      "tensor([14, 14, 14])\n",
      "tensor([14, 14, 14])\n",
      "tensor([19, 19, 19])\n",
      "tensor([24, 23, 23])\n",
      "tensor([12, 12, 12])\n",
      "tensor([24, 24, 24])\n",
      "tensor([26, 26, 26])\n",
      "tensor([4, 4, 4])\n",
      "tensor([5, 5, 5])\n",
      "tensor([17, 17, 17])\n",
      "tensor([8, 8, 8])\n",
      "tensor([18, 18, 18])\n",
      "tensor([26, 26, 26])\n",
      "tensor([25, 25, 25])\n",
      "tensor([21, 21, 21])\n",
      "tensor([19, 19, 19])\n",
      "tensor([23, 23, 23])\n",
      "tensor([21, 21, 21])\n",
      "tensor([10, 10, 10])\n",
      "tensor([23, 22, 22])\n",
      "tensor([12, 12, 12])\n",
      "tensor([23, 23, 23])\n",
      "tensor([14, 14, 14])\n",
      "tensor([15, 15, 15])\n",
      "tensor([24, 24, 24])\n",
      "tensor([13, 13, 13])\n",
      "tensor([14, 14, 14])\n",
      "tensor([6, 5, 5])\n",
      "tensor([6, 6, 6])\n",
      "tensor([37, 30, 28])\n",
      "tensor([19, 19, 19])\n",
      "tensor([12, 12, 12])\n",
      "tensor([6, 6, 6])\n",
      "tensor([16, 16, 16])\n",
      "tensor([2, 2, 1])\n",
      "tensor([20, 20, 20])\n",
      "tensor([4, 3, 3])\n",
      "tensor([12, 12, 11])\n",
      "tensor([20, 20, 20])\n",
      "tensor([13, 13, 13])\n",
      "tensor([15, 15, 15])\n",
      "tensor([9, 9, 9])\n",
      "tensor([17, 16, 16])\n",
      "tensor([7, 6, 6])\n",
      "tensor([23, 23, 23])\n",
      "tensor([13, 13, 13])\n",
      "tensor([9, 9, 9])\n",
      "tensor([24, 24, 24])\n",
      "tensor([13, 13, 12])\n",
      "tensor([9, 9, 9])\n",
      "tensor([21, 21, 20])\n",
      "tensor([19, 19, 19])\n",
      "tensor([7, 7, 7])\n",
      "tensor([19, 19, 19])\n",
      "tensor([18, 18, 18])\n",
      "tensor([17, 17, 17])\n",
      "tensor([10, 10, 10])\n",
      "tensor([21, 21, 21])\n",
      "tensor([11, 11, 11])\n",
      "tensor([11, 11, 11])\n",
      "tensor([21, 21, 21])\n",
      "tensor([14, 14, 14])\n",
      "tensor([19, 19, 19])\n",
      "tensor([22, 22, 21])\n",
      "tensor([10, 10, 10])\n",
      "tensor([20, 20, 20])\n",
      "tensor([15, 15, 15])\n",
      "tensor([17, 17, 17])\n",
      "tensor([16, 16, 16])\n",
      "tensor([15, 15, 15])\n",
      "tensor([7, 7, 7])\n",
      "tensor([9, 9, 9])\n",
      "tensor([18, 18, 18])\n",
      "tensor([14, 14, 14])\n",
      "tensor([8, 8, 8])\n",
      "tensor([25, 25, 25])\n",
      "tensor([27, 27, 27])\n",
      "tensor([17, 17, 17])\n",
      "tensor([13, 13, 13])\n",
      "tensor([18, 18, 18])\n",
      "tensor([10, 10, 10])\n",
      "tensor([20, 20, 20])\n",
      "tensor([12, 12, 12])\n",
      "tensor([15, 15, 15])\n",
      "tensor([25, 25, 25])\n",
      "tensor([21, 21, 21])\n",
      "tensor([22, 22, 22])\n",
      "tensor([15, 15, 15])\n",
      "tensor([9, 9, 9])\n",
      "tensor([9, 9, 9])\n",
      "tensor([9, 9, 8])\n",
      "tensor([17, 17, 17])\n",
      "tensor([8, 8, 8])\n",
      "tensor([17, 17, 17])\n",
      "tensor([13, 13, 13])\n",
      "tensor([8, 7, 7])\n",
      "tensor([22, 21, 21])\n",
      "tensor([20, 20, 20])\n",
      "tensor([5, 5, 5])\n",
      "tensor([24, 24, 24])\n",
      "tensor([12, 12, 12])\n",
      "tensor([16, 16, 16])\n",
      "tensor([18, 18, 18])\n",
      "tensor([16, 16, 16])\n",
      "tensor([21, 21, 20])\n",
      "tensor([6, 6, 6])\n",
      "tensor([15, 15, 15])\n",
      "tensor([19, 18, 18])\n",
      "tensor([13, 13, 13])\n",
      "tensor([25, 25, 24])\n",
      "tensor([29, 28, 28])\n",
      "tensor([22, 22, 22])\n",
      "tensor([26, 25, 25])\n",
      "tensor([17, 17, 17])\n",
      "tensor([18, 18, 17])\n",
      "tensor([9, 9, 9])\n",
      "tensor([26, 26, 26])\n",
      "tensor([11, 11, 11])\n",
      "tensor([14, 14, 13])\n",
      "tensor([17, 17, 17])\n",
      "tensor([14, 14, 14])\n",
      "tensor([9, 9, 8])\n",
      "tensor([15, 15, 15])\n",
      "tensor([18, 18, 18])\n",
      "tensor([4, 4, 3])\n",
      "tensor([16, 16, 16])\n",
      "tensor([19, 19, 19])\n",
      "tensor([21, 21, 21])\n",
      "tensor([25, 25, 25])\n",
      "tensor([22, 22, 22])\n",
      "tensor([12, 12, 12])\n",
      "tensor([10, 10, 10])\n",
      "tensor([11, 11, 11])\n",
      "tensor([12, 12, 12])\n",
      "tensor([9, 9, 9])\n",
      "tensor([17, 17, 17])\n",
      "tensor([19, 19, 19])\n",
      "tensor([21, 21, 21])\n",
      "tensor([20, 20, 20])\n",
      "tensor([14, 14, 14])\n",
      "tensor([12, 11, 11])\n",
      "tensor([13, 13, 13])\n",
      "tensor([13, 13, 13])\n",
      "tensor([120,  33,  32])\n",
      "tensor([10, 10, 10])\n",
      "tensor([15, 15, 15])\n",
      "tensor([24, 23, 23])\n",
      "tensor([16, 16, 16])\n",
      "tensor([7, 7, 7])\n",
      "tensor([26, 26, 26])\n",
      "tensor([27, 27, 27])\n",
      "tensor([22, 22, 22])\n",
      "tensor([10,  9,  9])\n",
      "tensor([10, 10, 10])\n",
      "tensor([14, 14, 14])\n",
      "tensor([8, 8, 8])\n",
      "tensor([9, 9, 9])\n",
      "tensor([23, 23, 22])\n",
      "tensor([7, 7, 6])\n",
      "tensor([13, 13, 13])\n",
      "tensor([7, 7, 7])\n",
      "tensor([16, 16, 16])\n",
      "tensor([6, 6, 6])\n",
      "tensor([12, 12, 12])\n",
      "tensor([10, 10, 10])\n",
      "tensor([20, 20, 19])\n",
      "tensor([19, 19, 19])\n",
      "tensor([26, 26, 26])\n",
      "tensor([15, 15, 15])\n",
      "tensor([22, 22, 22])\n",
      "tensor([20, 20, 20])\n",
      "tensor([13, 13, 13])\n",
      "tensor([23, 23, 23])\n",
      "tensor([19, 19, 19])\n",
      "tensor([24, 24, 24])\n",
      "tensor([18, 18, 18])\n",
      "tensor([21, 21, 21])\n",
      "tensor([14, 14, 14])\n",
      "tensor([6, 6, 6])\n",
      "tensor([8, 8, 7])\n",
      "tensor([16, 16, 16])\n",
      "tensor([11, 11, 11])\n",
      "tensor([17, 17, 17])\n",
      "tensor([16, 16, 16])\n",
      "tensor([25, 25, 25])\n",
      "tensor([20, 20, 20])\n",
      "tensor([11, 11, 11])\n",
      "tensor([10, 10, 10])\n",
      "tensor([3, 2, 2])\n",
      "tensor([15, 15, 15])\n",
      "tensor([17, 17, 16])\n",
      "tensor([10, 10, 10])\n",
      "tensor([11, 11, 11])\n",
      "tensor([27, 27, 26])\n",
      "tensor([31, 30, 29])\n",
      "tensor([8, 8, 8])\n",
      "tensor([18, 18, 18])\n",
      "tensor([20, 20, 20])\n",
      "tensor([15, 15, 15])\n",
      "tensor([12, 12, 12])\n",
      "tensor([26, 26, 26])\n",
      "tensor([22, 22, 22])\n",
      "tensor([15, 15, 15])\n",
      "tensor([9, 9, 9])\n",
      "tensor([8, 8, 8])\n",
      "tensor([17, 17, 16])\n",
      "tensor([9, 9, 9])\n",
      "tensor([17, 17, 17])\n",
      "tensor([14, 14, 14])\n",
      "tensor([10, 10, 10])\n",
      "tensor([15, 15, 15])\n",
      "tensor([22, 22, 22])\n",
      "tensor([21, 21, 20])\n",
      "tensor([4, 4, 4])\n",
      "tensor([40, 34, 32])\n",
      "tensor([22, 22, 22])\n",
      "tensor([13, 13, 13])\n",
      "tensor([18, 18, 18])\n",
      "tensor([14, 14, 14])\n",
      "tensor([12, 12, 12])\n",
      "tensor([15, 14, 14])\n",
      "tensor([9, 9, 9])\n",
      "tensor([12, 12, 11])\n",
      "tensor([8, 8, 7])\n",
      "tensor([11, 11, 11])\n",
      "tensor([18, 18, 18])\n",
      "tensor([24, 24, 24])\n",
      "tensor([30, 30, 30])\n",
      "tensor([20, 20, 20])\n",
      "tensor([24, 24, 24])\n",
      "tensor([16, 16, 16])\n",
      "tensor([11, 11, 11])\n",
      "tensor([14, 14, 14])\n",
      "tensor([16, 16, 16])\n",
      "tensor([21, 21, 21])\n",
      "tensor([20, 20, 20])\n",
      "tensor([23, 23, 23])\n",
      "tensor([23, 23, 23])\n",
      "tensor([21, 21, 21])\n",
      "tensor([14, 13, 13])\n",
      "tensor([21, 21, 21])\n",
      "tensor([28, 28, 28])\n",
      "tensor([10, 10, 10])\n",
      "tensor([18, 18, 18])\n",
      "tensor([10, 10, 10])\n",
      "tensor([23, 23, 23])\n",
      "tensor([18, 17, 17])\n",
      "tensor([26, 26, 26])\n",
      "tensor([7, 7, 7])\n",
      "tensor([23, 23, 23])\n",
      "tensor([13, 13, 13])\n",
      "tensor([15, 15, 15])\n",
      "tensor([17, 17, 17])\n",
      "tensor([15, 15, 15])\n",
      "tensor([26, 25, 25])\n",
      "tensor([6, 6, 6])\n",
      "tensor([7, 7, 7])\n",
      "tensor([15, 15, 15])\n",
      "tensor([10, 10, 10])\n",
      "tensor([3, 3, 2])\n",
      "tensor([20, 20, 20])\n",
      "tensor([25, 25, 25])\n",
      "tensor([7, 7, 7])\n",
      "tensor([19, 19, 19])\n",
      "tensor([13, 13, 13])\n",
      "tensor([12, 12, 12])\n",
      "tensor([20, 20, 20])\n",
      "tensor([10, 10, 10])\n",
      "tensor([18, 18, 18])\n",
      "tensor([6, 5, 5])\n",
      "tensor([6, 6, 6])\n",
      "tensor([9, 9, 9])\n",
      "tensor([28, 27, 27])\n",
      "tensor([11, 11, 11])\n",
      "tensor([12, 12, 12])\n",
      "tensor([21, 21, 21])\n",
      "tensor([18, 18, 18])\n",
      "tensor([8, 8, 8])\n",
      "tensor([20, 20, 20])\n",
      "tensor([17, 17, 17])\n",
      "tensor([13, 13, 13])\n",
      "tensor([19, 18, 18])\n",
      "tensor([24, 24, 24])\n",
      "tensor([20, 20, 20])\n",
      "tensor([16, 16, 16])\n",
      "tensor([7, 7, 7])\n",
      "tensor([11, 11, 11])\n",
      "tensor([9, 9, 9])\n",
      "tensor([14, 14, 14])\n",
      "tensor([20, 19, 19])\n",
      "tensor([17, 17, 17])\n",
      "tensor([13, 13, 13])\n",
      "tensor([19, 19, 19])\n",
      "tensor([7, 7, 7])\n",
      "tensor([5, 5, 4])\n",
      "tensor([20, 20, 20])\n",
      "tensor([8, 8, 8])\n",
      "tensor([9, 9, 9])\n",
      "tensor([13, 13, 13])\n",
      "tensor([13, 13, 12])\n",
      "tensor([12, 12, 12])\n",
      "tensor([6, 6, 6])\n",
      "tensor([4, 4, 4])\n",
      "tensor([23, 23, 22])\n",
      "tensor([16, 16, 16])\n",
      "tensor([18, 18, 18])\n",
      "tensor([14, 14, 14])\n",
      "tensor([17, 17, 17])\n",
      "tensor([15, 15, 15])\n",
      "tensor([12, 12, 12])\n",
      "tensor([13, 13, 13])\n",
      "tensor([10, 10, 10])\n",
      "tensor([9, 8, 8])\n",
      "tensor([14, 14, 14])\n",
      "tensor([16, 15, 15])\n",
      "tensor([12, 11, 11])\n",
      "tensor([8, 7, 7])\n",
      "tensor([10, 10,  9])\n",
      "tensor([30, 29, 29])\n",
      "tensor([19, 19, 19])\n",
      "tensor([6, 5, 5])\n",
      "tensor([11, 11, 11])\n",
      "tensor([19, 19, 19])\n",
      "tensor([15, 15, 15])\n",
      "tensor([26, 26, 26])\n",
      "tensor([9, 9, 9])\n",
      "tensor([14, 14, 14])\n",
      "tensor([6, 6, 6])\n",
      "tensor([27, 27, 27])\n",
      "tensor([22, 22, 22])\n",
      "tensor([15, 15, 15])\n",
      "tensor([13, 13, 13])\n",
      "tensor([24, 24, 24])\n",
      "tensor([7, 6, 6])\n",
      "tensor([9, 9, 9])\n",
      "tensor([23, 23, 23])\n",
      "tensor([18, 18, 18])\n",
      "tensor([18, 18, 18])\n",
      "tensor([19, 19, 19])\n",
      "tensor([31, 31, 31])\n",
      "tensor([7, 7, 7])\n",
      "tensor([22, 22, 22])\n",
      "tensor([13, 13, 13])\n",
      "tensor([17, 17, 17])\n",
      "tensor([10, 10, 10])\n",
      "tensor([22, 22, 22])\n",
      "tensor([17, 17, 17])\n",
      "tensor([18, 18, 18])\n",
      "tensor([15, 15, 15])\n",
      "tensor([20, 20, 20])\n",
      "tensor([11, 11, 11])\n",
      "tensor([20, 20, 20])\n",
      "tensor([16, 16, 16])\n",
      "tensor([13, 13, 13])\n",
      "tensor([11, 11, 11])\n",
      "tensor([13, 13, 13])\n",
      "tensor([25, 25, 25])\n",
      "tensor([9, 9, 9])\n",
      "tensor([9, 9, 9])\n",
      "tensor([17, 17, 17])\n",
      "tensor([21, 20, 20])\n",
      "tensor([11, 10, 10])\n",
      "tensor([26, 25, 25])\n",
      "tensor([3, 3, 2])\n",
      "tensor([11, 11, 11])\n",
      "tensor([4, 4, 3])\n",
      "tensor([20, 20, 20])\n",
      "tensor([22, 21, 21])\n",
      "tensor([24, 24, 24])\n",
      "tensor([16, 16, 16])\n",
      "tensor([7, 7, 7])\n",
      "tensor([6, 6, 6])\n",
      "tensor([10, 10, 10])\n",
      "tensor([12, 12, 12])\n",
      "tensor([21, 21, 21])\n",
      "tensor([15, 15, 15])\n",
      "tensor([20, 20, 20])\n",
      "tensor([53, 43, 33])\n",
      "tensor([14, 14, 14])\n",
      "tensor([19, 19, 19])\n",
      "tensor([8, 8, 8])\n",
      "tensor([12, 12, 12])\n",
      "tensor([9, 9, 9])\n",
      "tensor([30, 30, 30])\n",
      "tensor([19, 19, 19])\n",
      "tensor([14, 14, 14])\n",
      "tensor([21, 21, 21])\n",
      "tensor([18, 18, 18])\n",
      "tensor([17, 17, 17])\n",
      "tensor([17, 17, 16])\n",
      "tensor([13, 13, 13])\n",
      "tensor([28, 28, 28])\n",
      "tensor([24, 24, 24])\n",
      "tensor([16, 16, 16])\n",
      "tensor([15, 14, 14])\n",
      "tensor([24, 23, 23])\n",
      "tensor([20, 20, 20])\n",
      "tensor([18, 18, 18])\n",
      "tensor([18, 18, 18])\n",
      "tensor([6, 6, 6])\n",
      "tensor([10,  9,  9])\n",
      "tensor([17, 17, 17])\n",
      "tensor([20, 20, 20])\n",
      "tensor([8, 8, 8])\n",
      "tensor([18, 18, 18])\n",
      "tensor([21, 21, 21])\n",
      "tensor([15, 15, 15])\n",
      "tensor([15, 15, 15])\n",
      "tensor([13, 13, 13])\n",
      "tensor([24, 23, 23])\n",
      "tensor([12, 12, 12])\n",
      "tensor([11, 11, 11])\n",
      "tensor([21, 21, 21])\n",
      "tensor([18, 17, 17])\n",
      "tensor([18, 18, 18])\n",
      "tensor([19, 19, 19])\n",
      "tensor([12, 12, 12])\n",
      "tensor([17, 17, 17])\n",
      "tensor([19, 19, 19])\n",
      "tensor([15, 15, 15])\n",
      "tensor([16, 16, 16])\n",
      "tensor([15, 15, 15])\n",
      "tensor([16, 16, 16])\n",
      "tensor([15, 15, 15])\n",
      "tensor([41, 33, 30])\n",
      "tensor([21, 21, 21])\n",
      "tensor([22, 22, 22])\n",
      "tensor([25, 24, 24])\n",
      "tensor([11, 11, 11])\n",
      "tensor([12, 12, 12])\n",
      "tensor([22, 22, 22])\n",
      "tensor([27, 26, 26])\n",
      "tensor([25, 25, 25])\n",
      "tensor([14, 14, 14])\n",
      "tensor([5, 4, 4])\n",
      "tensor([5, 5, 5])\n",
      "tensor([21, 21, 21])\n",
      "tensor([9, 9, 9])\n",
      "tensor([14, 14, 14])\n",
      "tensor([14, 14, 13])\n",
      "tensor([10, 10, 10])\n",
      "tensor([13, 13, 13])\n",
      "tensor([19, 19, 19])\n",
      "tensor([7, 7, 7])\n",
      "tensor([14, 14, 14])\n",
      "tensor([16, 16, 16])\n",
      "tensor([15, 15, 14])\n",
      "tensor([15, 15, 15])\n",
      "tensor([13, 13, 13])\n",
      "tensor([4, 4, 3])\n",
      "tensor([9, 8, 8])\n",
      "tensor([6, 6, 6])\n",
      "tensor([7, 7, 7])\n",
      "tensor([3, 2, 1])\n",
      "tensor([22, 22, 22])\n",
      "tensor([6, 6, 6])\n",
      "tensor([14, 14, 14])\n",
      "tensor([6, 6, 6])\n",
      "tensor([11, 11, 11])\n",
      "tensor([20, 20, 20])\n",
      "tensor([17, 16, 16])\n",
      "tensor([7, 7, 6])\n",
      "tensor([20, 20, 20])\n",
      "tensor([22, 22, 22])\n",
      "tensor([9, 9, 9])\n",
      "tensor([26, 26, 26])\n",
      "tensor([11, 11, 10])\n",
      "tensor([12, 12, 12])\n",
      "tensor([22, 22, 22])\n",
      "tensor([19, 19, 18])\n",
      "tensor([18, 18, 18])\n",
      "tensor([13, 13, 13])\n",
      "tensor([16, 16, 16])\n",
      "tensor([7, 7, 7])\n",
      "tensor([17, 17, 17])\n",
      "tensor([13, 13, 13])\n",
      "tensor([7, 7, 7])\n",
      "tensor([26, 25, 25])\n",
      "tensor([15, 15, 15])\n",
      "tensor([13, 13, 12])\n",
      "tensor([8, 8, 8])\n",
      "tensor([10, 10, 10])\n",
      "tensor([7, 7, 7])\n",
      "tensor([12, 12, 12])\n",
      "tensor([23, 23, 23])\n",
      "tensor([13, 13, 13])\n",
      "tensor([22, 21, 21])\n",
      "tensor([14, 14, 14])\n",
      "tensor([21, 21, 21])\n",
      "tensor([8, 8, 8])\n",
      "tensor([20, 19, 19])\n",
      "tensor([20, 20, 20])\n",
      "tensor([24, 24, 24])\n",
      "tensor([9, 9, 9])\n",
      "tensor([11, 11, 11])\n",
      "tensor([29, 28, 27])\n",
      "tensor([15, 15, 15])\n",
      "tensor([22, 22, 22])\n",
      "tensor([20, 19, 19])\n",
      "tensor([13, 12, 12])\n",
      "tensor([22, 22, 22])\n",
      "tensor([22, 22, 22])\n",
      "tensor([19, 19, 19])\n",
      "tensor([27, 27, 27])\n",
      "tensor([9, 9, 9])\n",
      "tensor([18, 18, 18])\n",
      "tensor([20, 20, 20])\n",
      "tensor([14, 14, 14])\n",
      "tensor([29, 28, 28])\n",
      "tensor([15, 15, 15])\n",
      "tensor([8, 8, 8])\n",
      "tensor([11, 11, 11])\n",
      "tensor([11, 10, 10])\n",
      "tensor([18, 18, 18])\n",
      "tensor([10, 10, 10])\n",
      "tensor([13, 13, 13])\n",
      "tensor([25, 24, 24])\n",
      "tensor([26, 26, 25])\n",
      "tensor([18, 18, 18])\n",
      "tensor([17, 17, 17])\n",
      "tensor([5, 5, 4])\n",
      "tensor([6, 6, 6])\n",
      "tensor([12, 12, 12])\n",
      "tensor([24, 23, 23])\n",
      "tensor([21, 21, 21])\n",
      "tensor([8, 7, 7])\n",
      "tensor([10, 10,  9])\n",
      "tensor([11, 11, 11])\n",
      "tensor([19, 19, 19])\n",
      "tensor([24, 24, 24])\n",
      "tensor([30, 29, 29])\n",
      "tensor([11, 11, 11])\n",
      "tensor([8, 8, 8])\n",
      "tensor([19, 19, 19])\n",
      "tensor([14, 14, 14])\n",
      "tensor([19, 19, 19])\n",
      "tensor([14, 14, 14])\n",
      "tensor([12, 12, 12])\n",
      "tensor([15, 15, 15])\n",
      "tensor([26, 26, 26])\n",
      "tensor([17, 17, 17])\n",
      "tensor([22, 22, 22])\n",
      "tensor([7, 7, 7])\n",
      "tensor([18, 18, 18])\n",
      "tensor([5, 5, 5])\n",
      "tensor([15, 15, 15])\n",
      "tensor([19, 19, 18])\n",
      "tensor([18, 18, 18])\n",
      "tensor([17, 17, 17])\n",
      "tensor([18, 17, 17])\n",
      "tensor([6, 6, 5])\n",
      "tensor([21, 21, 21])\n",
      "tensor([13, 13, 13])\n",
      "tensor([23, 23, 22])\n",
      "tensor([15, 14, 14])\n",
      "tensor([17, 17, 17])\n",
      "tensor([18, 18, 18])\n",
      "tensor([54, 41, 31])\n",
      "tensor([15, 15, 15])\n",
      "tensor([13, 13, 13])\n",
      "tensor([16, 16, 16])\n",
      "tensor([9, 9, 9])\n",
      "tensor([7, 7, 7])\n",
      "tensor([16, 15, 15])\n",
      "tensor([26, 26, 26])\n",
      "tensor([22, 22, 22])\n",
      "tensor([16, 16, 16])\n",
      "tensor([6, 6, 6])\n",
      "tensor([10, 10, 10])\n",
      "tensor([24, 24, 24])\n",
      "tensor([26, 26, 26])\n",
      "tensor([17, 17, 16])\n",
      "tensor([25, 25, 25])\n",
      "tensor([16, 16, 16])\n",
      "tensor([8, 8, 8])\n",
      "tensor([4, 4, 3])\n",
      "tensor([16, 16, 16])\n",
      "tensor([12, 12, 12])\n",
      "tensor([9, 9, 9])\n",
      "tensor([17, 17, 17])\n",
      "tensor([16, 16, 16])\n",
      "tensor([9, 9, 9])\n",
      "tensor([10, 10, 10])\n",
      "tensor([20, 20, 20])\n",
      "tensor([16, 16, 16])\n",
      "tensor([22, 21, 21])\n",
      "tensor([28, 28, 28])\n",
      "tensor([14, 14, 14])\n",
      "tensor([17, 17, 17])\n",
      "tensor([20, 20, 20])\n",
      "tensor([23, 23, 23])\n",
      "tensor([21, 21, 21])\n",
      "tensor([7, 7, 6])\n",
      "tensor([8, 8, 8])\n",
      "tensor([14, 14, 14])\n",
      "tensor([28, 27, 27])\n",
      "tensor([15, 15, 15])\n",
      "tensor([8, 8, 8])\n",
      "tensor([17, 17, 17])\n",
      "tensor([21, 21, 21])\n",
      "tensor([31, 30, 27])\n",
      "tensor([21, 20, 20])\n",
      "tensor([22, 22, 21])\n",
      "tensor([14, 14, 14])\n",
      "tensor([19, 19, 19])\n",
      "tensor([22, 22, 22])\n",
      "tensor([23, 23, 23])\n",
      "tensor([22, 22, 22])\n",
      "tensor([16, 16, 16])\n",
      "tensor([10,  9,  9])\n",
      "tensor([13, 13, 12])\n",
      "tensor([11, 11, 11])\n",
      "tensor([10, 10, 10])\n",
      "tensor([11, 11, 11])\n",
      "tensor([25, 24, 24])\n",
      "tensor([11, 10, 10])\n",
      "tensor([12, 12, 12])\n",
      "tensor([25, 25, 25])\n",
      "tensor([5, 4, 4])\n",
      "tensor([16, 16, 15])\n",
      "tensor([8, 8, 8])\n",
      "tensor([23, 23, 23])\n",
      "tensor([15, 15, 15])\n",
      "tensor([12, 12, 12])\n",
      "tensor([8, 8, 8])\n",
      "tensor([18, 18, 18])\n",
      "tensor([20, 20, 20])\n",
      "tensor([6, 6, 6])\n",
      "tensor([26, 26, 26])\n",
      "tensor([27, 26, 26])\n",
      "tensor([19, 18, 18])\n",
      "tensor([12, 11, 11])\n",
      "tensor([14, 14, 14])\n",
      "tensor([10, 10, 10])\n",
      "tensor([7, 7, 6])\n",
      "tensor([14, 14, 13])\n",
      "tensor([24, 24, 24])\n",
      "tensor([8, 8, 8])\n",
      "tensor([15, 15, 15])\n",
      "tensor([18, 18, 17])\n",
      "tensor([20, 20, 20])\n",
      "tensor([12, 12, 12])\n",
      "tensor([40, 37, 37])\n",
      "tensor([20, 20, 19])\n",
      "tensor([7, 7, 7])\n",
      "tensor([11, 11, 11])\n",
      "\r"
     ]
    }
   ],
   "source": [
    "for (X,lengths),y1, y2 in t:\n",
    "    print(lengths)"
   ]
  },
  {
   "cell_type": "code",
   "execution_count": 34,
   "metadata": {},
   "outputs": [],
   "source": [
    "def fit_y(model, train_dl, val_dl, loss_fn, opt, epochs=3):\n",
    "    num_batch = len(train_dl)\n",
    "    train_loss_list = list()\n",
    "    train_acc_list = list()\n",
    "    val_loss_list = list()\n",
    "    val_acc_list = list()\n",
    "    for epoch in tnrange(epochs):      \n",
    "        y_true_train = list()\n",
    "        y_pred_train = list()\n",
    "        #z_true_train = list()\n",
    "        #z_pred_train = list()\n",
    "        total_lossy_train = 0\n",
    "        #total_lossz_train = 0\n",
    "        total_loss_train = 0          \n",
    "        \n",
    "        t = tqdm_notebook(iter(train_dl), leave=False, total=num_batch)\n",
    "        for (X,lengths),y,z in t:\n",
    "            t.set_description('Epoch %d' % epoch)\n",
    "            lengths = lengths.cpu().numpy()\n",
    "            \n",
    "            opt.zero_grad()\n",
    "            predy = model(X, lengths)\n",
    "            lossy = loss_fn(predy, y)\n",
    "            \n",
    "            #lossz = loss_fn(predz, z)\n",
    "            \n",
    "            loss = lossy\n",
    "            loss.backward()\n",
    "            opt.step()\n",
    "            \n",
    "            t.set_postfix(loss=loss.item())\n",
    "            pred_idxy = torch.max(predy, dim=1)[1]\n",
    "            \n",
    "            y_true_train += list(y.cpu().data.numpy())\n",
    "            y_pred_train += list(pred_idxy.cpu().data.numpy())\n",
    "            total_lossy_train += lossy.item()\n",
    "            \n",
    "            #pred_idxz = torch.max(predz, dim=1)[1]\n",
    "            \n",
    "            #z_true_train += list(z.cpu().data.numpy())\n",
    "            #z_pred_train += list(pred_idxz.cpu().data.numpy())\n",
    "            #total_lossz_train += lossz.item()\n",
    "            \n",
    "            total_loss_train += loss.item()\n",
    "            \n",
    "        train_accy = accuracy_score(y_true_train, y_pred_train)\n",
    "        train_lossy = total_lossy_train/len(train_dl)\n",
    "        \n",
    "        #train_accz = accuracy_score(z_true_train, z_pred_train)\n",
    "        #train_lossz = total_lossz_train/len(train_dl)\n",
    "        \n",
    "        train_acc = (train_accy)\n",
    "        train_loss = total_loss_train/len(train_dl)\n",
    "        \n",
    "        train_acc_list.append(train_acc)\n",
    "        train_loss_list.append(train_loss)\n",
    "        \n",
    "        if val_dl:\n",
    "            y_true_val = list()\n",
    "            y_pred_val = list()\n",
    "            total_lossy_val = 0\n",
    "            \n",
    "            #z_true_val = list()\n",
    "            #z_pred_val = list()\n",
    "            #total_lossz_val = 0\n",
    "            \n",
    "            total_loss_val = 0\n",
    "            for (X,lengths),y,z in tqdm_notebook(val_dl, leave=False):\n",
    "                predy = model(X, lengths.cpu().numpy())\n",
    "                \n",
    "                lossy = loss_fn(predy, y)\n",
    "                #lossz = loss_fn(predz, z)\n",
    "                loss = lossy\n",
    "                \n",
    "                pred_idxy = torch.max(predy, 1)[1]\n",
    "                y_true_val += list(y.cpu().data.numpy())\n",
    "                y_pred_val += list(pred_idxy.cpu().data.numpy())\n",
    "                total_lossy_val += lossy.item()\n",
    "                \n",
    "                #pred_idxz = torch.max(predz, 1)[1]\n",
    "                #z_true_val += list(z.cpu().data.numpy())\n",
    "                #z_pred_val += list(pred_idxz.cpu().data.numpy())\n",
    "                #total_lossz_val += lossz.item()\n",
    "                \n",
    "                total_loss_val += loss.item()\n",
    "            \n",
    "            valaccy = accuracy_score(y_true_val, y_pred_val)\n",
    "            vallossy = total_lossy_val/len(valdl)\n",
    "            \n",
    "            #valaccz = accuracy_score(z_true_val, z_pred_val)\n",
    "            #vallossz = total_lossz_val/len(valdl)\n",
    "            \n",
    "            valacc = (valaccy)\n",
    "            valloss = total_loss_val/len(valdl)\n",
    "            \n",
    "            val_acc_list.append(valacc)\n",
    "            val_loss_list.append(valloss)\n",
    "            \n",
    "            print ('Epoch [%d/%d] train_loss: %.4f, train_acc: %.4f, val_loss: %.4f, val_acc: %.4f ' \n",
    "                   %(epoch+1, epochs, train_loss, train_acc, valloss, valacc))\n",
    "        else:\n",
    "            print ('Epoch [%d/%d] train_loss: %.4f, train_acc: %.4f ' \n",
    "                   %(epoch+1, epochs, train_loss, train_acc))\n",
    "    return train_acc_list, train_loss_list, val_acc_list, val_loss_list"
   ]
  },
  {
   "cell_type": "code",
   "execution_count": 35,
   "metadata": {},
   "outputs": [],
   "source": [
    "def fit_z(model, train_dl, val_dl, loss_fn, opt, epochs=3):\n",
    "    num_batch = len(train_dl)\n",
    "    train_loss_list = list()\n",
    "    train_acc_list = list()\n",
    "    val_loss_list = list()\n",
    "    val_acc_list = list()\n",
    "    for epoch in tnrange(epochs):      \n",
    "        #y_true_train = list()\n",
    "        #y_pred_train = list()\n",
    "        z_true_train = list()\n",
    "        z_pred_train = list()\n",
    "        #total_lossy_train = 0\n",
    "        total_lossz_train = 0\n",
    "        total_loss_train = 0          \n",
    "        \n",
    "        t = tqdm_notebook(iter(train_dl), leave=False, total=num_batch)\n",
    "        for (X,lengths),y,z in t:\n",
    "            t.set_description('Epoch %d' % epoch)\n",
    "            lengths = lengths.cpu().numpy()\n",
    "            \n",
    "            opt.zero_grad()\n",
    "            predz = model(X, lengths)\n",
    "            #lossy = loss_fn(predy, y)\n",
    "            \n",
    "            lossz = loss_fn(predz, z)\n",
    "            \n",
    "            loss = lossz\n",
    "            loss.backward()\n",
    "            opt.step()\n",
    "            \n",
    "            t.set_postfix(loss=loss.item())\n",
    "            #pred_idxy = torch.max(predy, dim=1)[1]\n",
    "            \n",
    "            #y_true_train += list(y.cpu().data.numpy())\n",
    "            #y_pred_train += list(pred_idxy.cpu().data.numpy())\n",
    "            #total_lossy_train += lossy.item()\n",
    "            \n",
    "            pred_idxz = torch.max(predz, dim=1)[1]\n",
    "            \n",
    "            z_true_train += list(z.cpu().data.numpy())\n",
    "            z_pred_train += list(pred_idxz.cpu().data.numpy())\n",
    "            total_lossz_train += lossz.item()\n",
    "            \n",
    "            total_loss_train += loss.item()\n",
    "            \n",
    "        #train_accy = accuracy_score(y_true_train, y_pred_train)\n",
    "        #train_lossy = total_lossy_train/len(train_dl)\n",
    "        \n",
    "        train_accz = accuracy_score(z_true_train, z_pred_train)\n",
    "        train_lossz = total_lossz_train/len(train_dl)\n",
    "        \n",
    "        train_acc = (train_accz)\n",
    "        train_loss = total_loss_train/len(train_dl)\n",
    "        \n",
    "        train_acc_list.append(train_acc)\n",
    "        train_loss_list.append(train_loss)\n",
    "        \n",
    "        if val_dl:\n",
    "            #y_true_val = list()\n",
    "            #y_pred_val = list()\n",
    "            #total_lossy_val = 0\n",
    "            \n",
    "            z_true_val = list()\n",
    "            z_pred_val = list()\n",
    "            total_lossz_val = 0\n",
    "            \n",
    "            total_loss_val = 0\n",
    "            for (X,lengths),y,z in tqdm_notebook(val_dl, leave=False):\n",
    "                predy = model(X, lengths.cpu().numpy())\n",
    "                \n",
    "                #lossy = loss_fn(predy, y)\n",
    "                lossz = loss_fn(predz, z)\n",
    "                loss = lossz\n",
    "                \n",
    "                #pred_idxy = torch.max(predy, 1)[1]\n",
    "                #y_true_val += list(y.cpu().data.numpy())\n",
    "                #y_pred_val += list(pred_idxy.cpu().data.numpy())\n",
    "                #total_lossy_val += lossy.item()\n",
    "                \n",
    "                pred_idxz = torch.max(predz, 1)[1]\n",
    "                z_true_val += list(z.cpu().data.numpy())\n",
    "                z_pred_val += list(pred_idxz.cpu().data.numpy())\n",
    "                total_lossz_val += lossz.item()\n",
    "                \n",
    "                total_loss_val += loss.item()\n",
    "            \n",
    "            #valaccy = accuracy_score(y_true_val, y_pred_val)\n",
    "            #vallossy = total_lossy_val/len(valdl)\n",
    "            \n",
    "            valaccz = accuracy_score(z_true_val, z_pred_val)\n",
    "            vallossz = total_lossz_val/len(valdl)\n",
    "            \n",
    "            valacc = (valaccz)\n",
    "            valloss = total_loss_val/len(valdl)\n",
    "            \n",
    "            val_acc_list.append(valacc)\n",
    "            val_loss_list.append(valloss)\n",
    "            \n",
    "            print ('Epoch [%d/%d] train_loss: %.4f, train_acc: %.4f, val_loss: %.4f, val_acc: %.4f ' \n",
    "                   %(epoch+1, epochs, train_loss, train_acc, valloss, valacc))\n",
    "        else:\n",
    "            print ('Epoch [%d/%d] train_loss: %.4f, train_acc: %.4f ' \n",
    "                   %(epoch+1, epochs, train_loss, train_acc))\n",
    "    return train_acc_list, train_loss_list, val_acc_list, val_loss_list"
   ]
  },
  {
   "cell_type": "code",
   "execution_count": 36,
   "metadata": {},
   "outputs": [],
   "source": [
    "train_batch_it = BatchGenerator(traindl, 'corpus', 'coarse_label', 'fine_type')\n",
    "val_batch_it = BatchGenerator(valdl, 'corpus', 'coarse_label', 'fine_type')"
   ]
  },
  {
   "cell_type": "code",
   "execution_count": 39,
   "metadata": {},
   "outputs": [
    {
     "name": "stdout",
     "output_type": "stream",
     "text": [
      "torch.Size([12675, 100])\n",
      "torch.Size([192, 100])\n",
      "torch.Size([192, 64])\n",
      "torch.Size([192])\n",
      "torch.Size([192])\n",
      "torch.Size([192, 100])\n",
      "torch.Size([192, 64])\n",
      "torch.Size([192])\n",
      "torch.Size([192])\n",
      "torch.Size([2, 64])\n",
      "torch.Size([2])\n"
     ]
    }
   ],
   "source": [
    "m = SimpleGRU(vocab_size, embedding_dim, n_hidden, n_out_yc, trainds.fields['corpus'].vocab.vectors).to(device)\n",
    "for i in m.parameters():\n",
    "    print(i.shape)"
   ]
  },
  {
   "cell_type": "code",
   "execution_count": 40,
   "metadata": {},
   "outputs": [
    {
     "data": {
      "application/vnd.jupyter.widget-view+json": {
       "model_id": "4f6139ca9f8e491aa0e598cc7bcf9b58",
       "version_major": 2,
       "version_minor": 0
      },
      "text/plain": [
       "HBox(children=(IntProgress(value=0, max=50), HTML(value=u'')))"
      ]
     },
     "metadata": {},
     "output_type": "display_data"
    },
    {
     "data": {
      "application/vnd.jupyter.widget-view+json": {
       "model_id": "",
       "version_major": 2,
       "version_minor": 0
      },
      "text/plain": [
       "HBox(children=(IntProgress(value=0, max=1150), HTML(value=u'')))"
      ]
     },
     "metadata": {},
     "output_type": "display_data"
    },
    {
     "data": {
      "application/vnd.jupyter.widget-view+json": {
       "model_id": "",
       "version_major": 2,
       "version_minor": 0
      },
      "text/plain": [
       "HBox(children=(IntProgress(value=0, max=128), HTML(value=u'')))"
      ]
     },
     "metadata": {},
     "output_type": "display_data"
    },
    {
     "name": "stdout",
     "output_type": "stream",
     "text": [
      "Epoch [1/50] train_loss: 0.6604, train_acc: 0.5919, val_loss: 0.6980, val_acc: 0.5651 \n"
     ]
    },
    {
     "data": {
      "application/vnd.jupyter.widget-view+json": {
       "model_id": "",
       "version_major": 2,
       "version_minor": 0
      },
      "text/plain": [
       "HBox(children=(IntProgress(value=0, max=1150), HTML(value=u'')))"
      ]
     },
     "metadata": {},
     "output_type": "display_data"
    },
    {
     "data": {
      "application/vnd.jupyter.widget-view+json": {
       "model_id": "",
       "version_major": 2,
       "version_minor": 0
      },
      "text/plain": [
       "HBox(children=(IntProgress(value=0, max=128), HTML(value=u'')))"
      ]
     },
     "metadata": {},
     "output_type": "display_data"
    },
    {
     "name": "stdout",
     "output_type": "stream",
     "text": [
      "Epoch [2/50] train_loss: 0.6024, train_acc: 0.6649, val_loss: 0.6426, val_acc: 0.6328 \n"
     ]
    },
    {
     "data": {
      "application/vnd.jupyter.widget-view+json": {
       "model_id": "",
       "version_major": 2,
       "version_minor": 0
      },
      "text/plain": [
       "HBox(children=(IntProgress(value=0, max=1150), HTML(value=u'')))"
      ]
     },
     "metadata": {},
     "output_type": "display_data"
    },
    {
     "data": {
      "application/vnd.jupyter.widget-view+json": {
       "model_id": "",
       "version_major": 2,
       "version_minor": 0
      },
      "text/plain": [
       "HBox(children=(IntProgress(value=0, max=128), HTML(value=u'')))"
      ]
     },
     "metadata": {},
     "output_type": "display_data"
    },
    {
     "name": "stdout",
     "output_type": "stream",
     "text": [
      "Epoch [3/50] train_loss: 0.5623, train_acc: 0.6997, val_loss: 0.6515, val_acc: 0.6042 \n"
     ]
    },
    {
     "data": {
      "application/vnd.jupyter.widget-view+json": {
       "model_id": "",
       "version_major": 2,
       "version_minor": 0
      },
      "text/plain": [
       "HBox(children=(IntProgress(value=0, max=1150), HTML(value=u'')))"
      ]
     },
     "metadata": {},
     "output_type": "display_data"
    },
    {
     "data": {
      "application/vnd.jupyter.widget-view+json": {
       "model_id": "",
       "version_major": 2,
       "version_minor": 0
      },
      "text/plain": [
       "HBox(children=(IntProgress(value=0, max=128), HTML(value=u'')))"
      ]
     },
     "metadata": {},
     "output_type": "display_data"
    },
    {
     "name": "stdout",
     "output_type": "stream",
     "text": [
      "Epoch [4/50] train_loss: 0.5012, train_acc: 0.7478, val_loss: 0.6886, val_acc: 0.6302 \n"
     ]
    },
    {
     "data": {
      "application/vnd.jupyter.widget-view+json": {
       "model_id": "",
       "version_major": 2,
       "version_minor": 0
      },
      "text/plain": [
       "HBox(children=(IntProgress(value=0, max=1150), HTML(value=u'')))"
      ]
     },
     "metadata": {},
     "output_type": "display_data"
    },
    {
     "data": {
      "application/vnd.jupyter.widget-view+json": {
       "model_id": "",
       "version_major": 2,
       "version_minor": 0
      },
      "text/plain": [
       "HBox(children=(IntProgress(value=0, max=128), HTML(value=u'')))"
      ]
     },
     "metadata": {},
     "output_type": "display_data"
    },
    {
     "name": "stdout",
     "output_type": "stream",
     "text": [
      "Epoch [5/50] train_loss: 0.4172, train_acc: 0.8032, val_loss: 0.7425, val_acc: 0.6328 \n"
     ]
    },
    {
     "data": {
      "application/vnd.jupyter.widget-view+json": {
       "model_id": "",
       "version_major": 2,
       "version_minor": 0
      },
      "text/plain": [
       "HBox(children=(IntProgress(value=0, max=1150), HTML(value=u'')))"
      ]
     },
     "metadata": {},
     "output_type": "display_data"
    },
    {
     "data": {
      "application/vnd.jupyter.widget-view+json": {
       "model_id": "",
       "version_major": 2,
       "version_minor": 0
      },
      "text/plain": [
       "HBox(children=(IntProgress(value=0, max=128), HTML(value=u'')))"
      ]
     },
     "metadata": {},
     "output_type": "display_data"
    },
    {
     "name": "stdout",
     "output_type": "stream",
     "text": [
      "Epoch [6/50] train_loss: 0.3140, train_acc: 0.8661, val_loss: 1.0582, val_acc: 0.6120 \n"
     ]
    },
    {
     "data": {
      "application/vnd.jupyter.widget-view+json": {
       "model_id": "",
       "version_major": 2,
       "version_minor": 0
      },
      "text/plain": [
       "HBox(children=(IntProgress(value=0, max=1150), HTML(value=u'')))"
      ]
     },
     "metadata": {},
     "output_type": "display_data"
    },
    {
     "data": {
      "application/vnd.jupyter.widget-view+json": {
       "model_id": "",
       "version_major": 2,
       "version_minor": 0
      },
      "text/plain": [
       "HBox(children=(IntProgress(value=0, max=128), HTML(value=u'')))"
      ]
     },
     "metadata": {},
     "output_type": "display_data"
    },
    {
     "name": "stdout",
     "output_type": "stream",
     "text": [
      "Epoch [7/50] train_loss: 0.2075, train_acc: 0.9220, val_loss: 1.2323, val_acc: 0.5964 \n"
     ]
    },
    {
     "data": {
      "application/vnd.jupyter.widget-view+json": {
       "model_id": "",
       "version_major": 2,
       "version_minor": 0
      },
      "text/plain": [
       "HBox(children=(IntProgress(value=0, max=1150), HTML(value=u'')))"
      ]
     },
     "metadata": {},
     "output_type": "display_data"
    },
    {
     "data": {
      "application/vnd.jupyter.widget-view+json": {
       "model_id": "",
       "version_major": 2,
       "version_minor": 0
      },
      "text/plain": [
       "HBox(children=(IntProgress(value=0, max=128), HTML(value=u'')))"
      ]
     },
     "metadata": {},
     "output_type": "display_data"
    },
    {
     "name": "stdout",
     "output_type": "stream",
     "text": [
      "Epoch [8/50] train_loss: 0.1260, train_acc: 0.9536, val_loss: 1.4114, val_acc: 0.6042 \n"
     ]
    },
    {
     "data": {
      "application/vnd.jupyter.widget-view+json": {
       "model_id": "",
       "version_major": 2,
       "version_minor": 0
      },
      "text/plain": [
       "HBox(children=(IntProgress(value=0, max=1150), HTML(value=u'')))"
      ]
     },
     "metadata": {},
     "output_type": "display_data"
    },
    {
     "data": {
      "application/vnd.jupyter.widget-view+json": {
       "model_id": "",
       "version_major": 2,
       "version_minor": 0
      },
      "text/plain": [
       "HBox(children=(IntProgress(value=0, max=128), HTML(value=u'')))"
      ]
     },
     "metadata": {},
     "output_type": "display_data"
    },
    {
     "name": "stdout",
     "output_type": "stream",
     "text": [
      "Epoch [9/50] train_loss: 0.0727, train_acc: 0.9786, val_loss: 1.8400, val_acc: 0.5807 \n"
     ]
    },
    {
     "data": {
      "application/vnd.jupyter.widget-view+json": {
       "model_id": "",
       "version_major": 2,
       "version_minor": 0
      },
      "text/plain": [
       "HBox(children=(IntProgress(value=0, max=1150), HTML(value=u'')))"
      ]
     },
     "metadata": {},
     "output_type": "display_data"
    },
    {
     "data": {
      "application/vnd.jupyter.widget-view+json": {
       "model_id": "",
       "version_major": 2,
       "version_minor": 0
      },
      "text/plain": [
       "HBox(children=(IntProgress(value=0, max=128), HTML(value=u'')))"
      ]
     },
     "metadata": {},
     "output_type": "display_data"
    },
    {
     "name": "stdout",
     "output_type": "stream",
     "text": [
      "Epoch [10/50] train_loss: 0.0427, train_acc: 0.9890, val_loss: 1.8502, val_acc: 0.6146 \n"
     ]
    },
    {
     "data": {
      "application/vnd.jupyter.widget-view+json": {
       "model_id": "",
       "version_major": 2,
       "version_minor": 0
      },
      "text/plain": [
       "HBox(children=(IntProgress(value=0, max=1150), HTML(value=u'')))"
      ]
     },
     "metadata": {},
     "output_type": "display_data"
    },
    {
     "data": {
      "application/vnd.jupyter.widget-view+json": {
       "model_id": "",
       "version_major": 2,
       "version_minor": 0
      },
      "text/plain": [
       "HBox(children=(IntProgress(value=0, max=128), HTML(value=u'')))"
      ]
     },
     "metadata": {},
     "output_type": "display_data"
    },
    {
     "name": "stdout",
     "output_type": "stream",
     "text": [
      "Epoch [11/50] train_loss: 0.0409, train_acc: 0.9893, val_loss: 1.9915, val_acc: 0.5833 \n"
     ]
    },
    {
     "data": {
      "application/vnd.jupyter.widget-view+json": {
       "model_id": "",
       "version_major": 2,
       "version_minor": 0
      },
      "text/plain": [
       "HBox(children=(IntProgress(value=0, max=1150), HTML(value=u'')))"
      ]
     },
     "metadata": {},
     "output_type": "display_data"
    },
    {
     "data": {
      "application/vnd.jupyter.widget-view+json": {
       "model_id": "",
       "version_major": 2,
       "version_minor": 0
      },
      "text/plain": [
       "HBox(children=(IntProgress(value=0, max=128), HTML(value=u'')))"
      ]
     },
     "metadata": {},
     "output_type": "display_data"
    },
    {
     "name": "stdout",
     "output_type": "stream",
     "text": [
      "Epoch [12/50] train_loss: 0.0360, train_acc: 0.9878, val_loss: 2.1960, val_acc: 0.5885 \n"
     ]
    },
    {
     "data": {
      "application/vnd.jupyter.widget-view+json": {
       "model_id": "",
       "version_major": 2,
       "version_minor": 0
      },
      "text/plain": [
       "HBox(children=(IntProgress(value=0, max=1150), HTML(value=u'')))"
      ]
     },
     "metadata": {},
     "output_type": "display_data"
    },
    {
     "data": {
      "application/vnd.jupyter.widget-view+json": {
       "model_id": "",
       "version_major": 2,
       "version_minor": 0
      },
      "text/plain": [
       "HBox(children=(IntProgress(value=0, max=128), HTML(value=u'')))"
      ]
     },
     "metadata": {},
     "output_type": "display_data"
    },
    {
     "name": "stdout",
     "output_type": "stream",
     "text": [
      "Epoch [13/50] train_loss: 0.0155, train_acc: 0.9959, val_loss: 2.3748, val_acc: 0.5990 \n"
     ]
    },
    {
     "data": {
      "application/vnd.jupyter.widget-view+json": {
       "model_id": "",
       "version_major": 2,
       "version_minor": 0
      },
      "text/plain": [
       "HBox(children=(IntProgress(value=0, max=1150), HTML(value=u'')))"
      ]
     },
     "metadata": {},
     "output_type": "display_data"
    },
    {
     "data": {
      "application/vnd.jupyter.widget-view+json": {
       "model_id": "",
       "version_major": 2,
       "version_minor": 0
      },
      "text/plain": [
       "HBox(children=(IntProgress(value=0, max=128), HTML(value=u'')))"
      ]
     },
     "metadata": {},
     "output_type": "display_data"
    },
    {
     "name": "stdout",
     "output_type": "stream",
     "text": [
      "Epoch [14/50] train_loss: 0.0181, train_acc: 0.9957, val_loss: 2.4266, val_acc: 0.5703 \n"
     ]
    },
    {
     "data": {
      "application/vnd.jupyter.widget-view+json": {
       "model_id": "",
       "version_major": 2,
       "version_minor": 0
      },
      "text/plain": [
       "HBox(children=(IntProgress(value=0, max=1150), HTML(value=u'')))"
      ]
     },
     "metadata": {},
     "output_type": "display_data"
    },
    {
     "data": {
      "application/vnd.jupyter.widget-view+json": {
       "model_id": "",
       "version_major": 2,
       "version_minor": 0
      },
      "text/plain": [
       "HBox(children=(IntProgress(value=0, max=128), HTML(value=u'')))"
      ]
     },
     "metadata": {},
     "output_type": "display_data"
    },
    {
     "name": "stdout",
     "output_type": "stream",
     "text": [
      "Epoch [15/50] train_loss: 0.0395, train_acc: 0.9858, val_loss: 2.4363, val_acc: 0.6276 \n"
     ]
    },
    {
     "data": {
      "application/vnd.jupyter.widget-view+json": {
       "model_id": "",
       "version_major": 2,
       "version_minor": 0
      },
      "text/plain": [
       "HBox(children=(IntProgress(value=0, max=1150), HTML(value=u'')))"
      ]
     },
     "metadata": {},
     "output_type": "display_data"
    },
    {
     "data": {
      "application/vnd.jupyter.widget-view+json": {
       "model_id": "",
       "version_major": 2,
       "version_minor": 0
      },
      "text/plain": [
       "HBox(children=(IntProgress(value=0, max=128), HTML(value=u'')))"
      ]
     },
     "metadata": {},
     "output_type": "display_data"
    },
    {
     "name": "stdout",
     "output_type": "stream",
     "text": [
      "Epoch [16/50] train_loss: 0.0137, train_acc: 0.9971, val_loss: 2.6122, val_acc: 0.6302 \n"
     ]
    },
    {
     "data": {
      "application/vnd.jupyter.widget-view+json": {
       "model_id": "",
       "version_major": 2,
       "version_minor": 0
      },
      "text/plain": [
       "HBox(children=(IntProgress(value=0, max=1150), HTML(value=u'')))"
      ]
     },
     "metadata": {},
     "output_type": "display_data"
    },
    {
     "data": {
      "application/vnd.jupyter.widget-view+json": {
       "model_id": "",
       "version_major": 2,
       "version_minor": 0
      },
      "text/plain": [
       "HBox(children=(IntProgress(value=0, max=128), HTML(value=u'')))"
      ]
     },
     "metadata": {},
     "output_type": "display_data"
    },
    {
     "name": "stdout",
     "output_type": "stream",
     "text": [
      "Epoch [17/50] train_loss: 0.0106, train_acc: 0.9974, val_loss: 2.6771, val_acc: 0.6068 \n"
     ]
    },
    {
     "data": {
      "application/vnd.jupyter.widget-view+json": {
       "model_id": "",
       "version_major": 2,
       "version_minor": 0
      },
      "text/plain": [
       "HBox(children=(IntProgress(value=0, max=1150), HTML(value=u'')))"
      ]
     },
     "metadata": {},
     "output_type": "display_data"
    },
    {
     "data": {
      "application/vnd.jupyter.widget-view+json": {
       "model_id": "",
       "version_major": 2,
       "version_minor": 0
      },
      "text/plain": [
       "HBox(children=(IntProgress(value=0, max=128), HTML(value=u'')))"
      ]
     },
     "metadata": {},
     "output_type": "display_data"
    },
    {
     "name": "stdout",
     "output_type": "stream",
     "text": [
      "Epoch [18/50] train_loss: 0.0173, train_acc: 0.9954, val_loss: 3.0232, val_acc: 0.5964 \n"
     ]
    },
    {
     "data": {
      "application/vnd.jupyter.widget-view+json": {
       "model_id": "",
       "version_major": 2,
       "version_minor": 0
      },
      "text/plain": [
       "HBox(children=(IntProgress(value=0, max=1150), HTML(value=u'')))"
      ]
     },
     "metadata": {},
     "output_type": "display_data"
    },
    {
     "data": {
      "application/vnd.jupyter.widget-view+json": {
       "model_id": "",
       "version_major": 2,
       "version_minor": 0
      },
      "text/plain": [
       "HBox(children=(IntProgress(value=0, max=128), HTML(value=u'')))"
      ]
     },
     "metadata": {},
     "output_type": "display_data"
    },
    {
     "name": "stdout",
     "output_type": "stream",
     "text": [
      "Epoch [19/50] train_loss: 0.0315, train_acc: 0.9916, val_loss: 2.9413, val_acc: 0.5964 \n"
     ]
    },
    {
     "data": {
      "application/vnd.jupyter.widget-view+json": {
       "model_id": "",
       "version_major": 2,
       "version_minor": 0
      },
      "text/plain": [
       "HBox(children=(IntProgress(value=0, max=1150), HTML(value=u'')))"
      ]
     },
     "metadata": {},
     "output_type": "display_data"
    },
    {
     "data": {
      "application/vnd.jupyter.widget-view+json": {
       "model_id": "",
       "version_major": 2,
       "version_minor": 0
      },
      "text/plain": [
       "HBox(children=(IntProgress(value=0, max=128), HTML(value=u'')))"
      ]
     },
     "metadata": {},
     "output_type": "display_data"
    },
    {
     "name": "stdout",
     "output_type": "stream",
     "text": [
      "Epoch [20/50] train_loss: 0.0063, train_acc: 0.9986, val_loss: 2.9014, val_acc: 0.6120 \n"
     ]
    },
    {
     "data": {
      "application/vnd.jupyter.widget-view+json": {
       "model_id": "",
       "version_major": 2,
       "version_minor": 0
      },
      "text/plain": [
       "HBox(children=(IntProgress(value=0, max=1150), HTML(value=u'')))"
      ]
     },
     "metadata": {},
     "output_type": "display_data"
    },
    {
     "data": {
      "application/vnd.jupyter.widget-view+json": {
       "model_id": "",
       "version_major": 2,
       "version_minor": 0
      },
      "text/plain": [
       "HBox(children=(IntProgress(value=0, max=128), HTML(value=u'')))"
      ]
     },
     "metadata": {},
     "output_type": "display_data"
    },
    {
     "name": "stdout",
     "output_type": "stream",
     "text": [
      "Epoch [21/50] train_loss: 0.0022, train_acc: 0.9997, val_loss: 3.1155, val_acc: 0.5964 \n"
     ]
    },
    {
     "data": {
      "application/vnd.jupyter.widget-view+json": {
       "model_id": "",
       "version_major": 2,
       "version_minor": 0
      },
      "text/plain": [
       "HBox(children=(IntProgress(value=0, max=1150), HTML(value=u'')))"
      ]
     },
     "metadata": {},
     "output_type": "display_data"
    },
    {
     "data": {
      "application/vnd.jupyter.widget-view+json": {
       "model_id": "",
       "version_major": 2,
       "version_minor": 0
      },
      "text/plain": [
       "HBox(children=(IntProgress(value=0, max=128), HTML(value=u'')))"
      ]
     },
     "metadata": {},
     "output_type": "display_data"
    },
    {
     "name": "stdout",
     "output_type": "stream",
     "text": [
      "Epoch [22/50] train_loss: 0.0007, train_acc: 1.0000, val_loss: 3.2653, val_acc: 0.5885 \n"
     ]
    },
    {
     "data": {
      "application/vnd.jupyter.widget-view+json": {
       "model_id": "",
       "version_major": 2,
       "version_minor": 0
      },
      "text/plain": [
       "HBox(children=(IntProgress(value=0, max=1150), HTML(value=u'')))"
      ]
     },
     "metadata": {},
     "output_type": "display_data"
    },
    {
     "data": {
      "application/vnd.jupyter.widget-view+json": {
       "model_id": "",
       "version_major": 2,
       "version_minor": 0
      },
      "text/plain": [
       "HBox(children=(IntProgress(value=0, max=128), HTML(value=u'')))"
      ]
     },
     "metadata": {},
     "output_type": "display_data"
    },
    {
     "name": "stdout",
     "output_type": "stream",
     "text": [
      "Epoch [23/50] train_loss: 0.0004, train_acc: 1.0000, val_loss: 3.4449, val_acc: 0.5885 \n"
     ]
    },
    {
     "data": {
      "application/vnd.jupyter.widget-view+json": {
       "model_id": "",
       "version_major": 2,
       "version_minor": 0
      },
      "text/plain": [
       "HBox(children=(IntProgress(value=0, max=1150), HTML(value=u'')))"
      ]
     },
     "metadata": {},
     "output_type": "display_data"
    },
    {
     "data": {
      "application/vnd.jupyter.widget-view+json": {
       "model_id": "",
       "version_major": 2,
       "version_minor": 0
      },
      "text/plain": [
       "HBox(children=(IntProgress(value=0, max=128), HTML(value=u'')))"
      ]
     },
     "metadata": {},
     "output_type": "display_data"
    },
    {
     "name": "stdout",
     "output_type": "stream",
     "text": [
      "Epoch [24/50] train_loss: 0.0002, train_acc: 1.0000, val_loss: 3.5902, val_acc: 0.5911 \n"
     ]
    },
    {
     "data": {
      "application/vnd.jupyter.widget-view+json": {
       "model_id": "",
       "version_major": 2,
       "version_minor": 0
      },
      "text/plain": [
       "HBox(children=(IntProgress(value=0, max=1150), HTML(value=u'')))"
      ]
     },
     "metadata": {},
     "output_type": "display_data"
    },
    {
     "data": {
      "application/vnd.jupyter.widget-view+json": {
       "model_id": "",
       "version_major": 2,
       "version_minor": 0
      },
      "text/plain": [
       "HBox(children=(IntProgress(value=0, max=128), HTML(value=u'')))"
      ]
     },
     "metadata": {},
     "output_type": "display_data"
    },
    {
     "name": "stdout",
     "output_type": "stream",
     "text": [
      "Epoch [25/50] train_loss: 0.0001, train_acc: 1.0000, val_loss: 3.7788, val_acc: 0.6042 \n"
     ]
    },
    {
     "data": {
      "application/vnd.jupyter.widget-view+json": {
       "model_id": "",
       "version_major": 2,
       "version_minor": 0
      },
      "text/plain": [
       "HBox(children=(IntProgress(value=0, max=1150), HTML(value=u'')))"
      ]
     },
     "metadata": {},
     "output_type": "display_data"
    },
    {
     "data": {
      "application/vnd.jupyter.widget-view+json": {
       "model_id": "",
       "version_major": 2,
       "version_minor": 0
      },
      "text/plain": [
       "HBox(children=(IntProgress(value=0, max=128), HTML(value=u'')))"
      ]
     },
     "metadata": {},
     "output_type": "display_data"
    },
    {
     "name": "stdout",
     "output_type": "stream",
     "text": [
      "Epoch [26/50] train_loss: 0.0001, train_acc: 1.0000, val_loss: 3.9946, val_acc: 0.5990 \n"
     ]
    },
    {
     "data": {
      "application/vnd.jupyter.widget-view+json": {
       "model_id": "",
       "version_major": 2,
       "version_minor": 0
      },
      "text/plain": [
       "HBox(children=(IntProgress(value=0, max=1150), HTML(value=u'')))"
      ]
     },
     "metadata": {},
     "output_type": "display_data"
    },
    {
     "data": {
      "application/vnd.jupyter.widget-view+json": {
       "model_id": "",
       "version_major": 2,
       "version_minor": 0
      },
      "text/plain": [
       "HBox(children=(IntProgress(value=0, max=128), HTML(value=u'')))"
      ]
     },
     "metadata": {},
     "output_type": "display_data"
    },
    {
     "name": "stdout",
     "output_type": "stream",
     "text": [
      "Epoch [27/50] train_loss: 0.0000, train_acc: 1.0000, val_loss: 4.1744, val_acc: 0.5964 \n"
     ]
    },
    {
     "data": {
      "application/vnd.jupyter.widget-view+json": {
       "model_id": "",
       "version_major": 2,
       "version_minor": 0
      },
      "text/plain": [
       "HBox(children=(IntProgress(value=0, max=1150), HTML(value=u'')))"
      ]
     },
     "metadata": {},
     "output_type": "display_data"
    },
    {
     "data": {
      "application/vnd.jupyter.widget-view+json": {
       "model_id": "",
       "version_major": 2,
       "version_minor": 0
      },
      "text/plain": [
       "HBox(children=(IntProgress(value=0, max=128), HTML(value=u'')))"
      ]
     },
     "metadata": {},
     "output_type": "display_data"
    },
    {
     "name": "stdout",
     "output_type": "stream",
     "text": [
      "Epoch [28/50] train_loss: 0.0000, train_acc: 1.0000, val_loss: 4.3892, val_acc: 0.5964 \n"
     ]
    },
    {
     "data": {
      "application/vnd.jupyter.widget-view+json": {
       "model_id": "",
       "version_major": 2,
       "version_minor": 0
      },
      "text/plain": [
       "HBox(children=(IntProgress(value=0, max=1150), HTML(value=u'')))"
      ]
     },
     "metadata": {},
     "output_type": "display_data"
    },
    {
     "data": {
      "application/vnd.jupyter.widget-view+json": {
       "model_id": "",
       "version_major": 2,
       "version_minor": 0
      },
      "text/plain": [
       "HBox(children=(IntProgress(value=0, max=128), HTML(value=u'')))"
      ]
     },
     "metadata": {},
     "output_type": "display_data"
    },
    {
     "name": "stdout",
     "output_type": "stream",
     "text": [
      "Epoch [29/50] train_loss: 0.0846, train_acc: 0.9751, val_loss: 3.1414, val_acc: 0.5938 \n"
     ]
    },
    {
     "data": {
      "application/vnd.jupyter.widget-view+json": {
       "model_id": "",
       "version_major": 2,
       "version_minor": 0
      },
      "text/plain": [
       "HBox(children=(IntProgress(value=0, max=1150), HTML(value=u'')))"
      ]
     },
     "metadata": {},
     "output_type": "display_data"
    },
    {
     "data": {
      "application/vnd.jupyter.widget-view+json": {
       "model_id": "",
       "version_major": 2,
       "version_minor": 0
      },
      "text/plain": [
       "HBox(children=(IntProgress(value=0, max=128), HTML(value=u'')))"
      ]
     },
     "metadata": {},
     "output_type": "display_data"
    },
    {
     "name": "stdout",
     "output_type": "stream",
     "text": [
      "Epoch [30/50] train_loss: 0.0223, train_acc: 0.9933, val_loss: 2.9871, val_acc: 0.6198 \n"
     ]
    },
    {
     "data": {
      "application/vnd.jupyter.widget-view+json": {
       "model_id": "",
       "version_major": 2,
       "version_minor": 0
      },
      "text/plain": [
       "HBox(children=(IntProgress(value=0, max=1150), HTML(value=u'')))"
      ]
     },
     "metadata": {},
     "output_type": "display_data"
    },
    {
     "data": {
      "application/vnd.jupyter.widget-view+json": {
       "model_id": "",
       "version_major": 2,
       "version_minor": 0
      },
      "text/plain": [
       "HBox(children=(IntProgress(value=0, max=128), HTML(value=u'')))"
      ]
     },
     "metadata": {},
     "output_type": "display_data"
    },
    {
     "name": "stdout",
     "output_type": "stream",
     "text": [
      "Epoch [31/50] train_loss: 0.0081, train_acc: 0.9983, val_loss: 3.3160, val_acc: 0.6146 \n"
     ]
    },
    {
     "data": {
      "application/vnd.jupyter.widget-view+json": {
       "model_id": "",
       "version_major": 2,
       "version_minor": 0
      },
      "text/plain": [
       "HBox(children=(IntProgress(value=0, max=1150), HTML(value=u'')))"
      ]
     },
     "metadata": {},
     "output_type": "display_data"
    },
    {
     "data": {
      "application/vnd.jupyter.widget-view+json": {
       "model_id": "",
       "version_major": 2,
       "version_minor": 0
      },
      "text/plain": [
       "HBox(children=(IntProgress(value=0, max=128), HTML(value=u'')))"
      ]
     },
     "metadata": {},
     "output_type": "display_data"
    },
    {
     "name": "stdout",
     "output_type": "stream",
     "text": [
      "Epoch [32/50] train_loss: 0.0058, train_acc: 0.9977, val_loss: 3.4174, val_acc: 0.6172 \n"
     ]
    },
    {
     "data": {
      "application/vnd.jupyter.widget-view+json": {
       "model_id": "",
       "version_major": 2,
       "version_minor": 0
      },
      "text/plain": [
       "HBox(children=(IntProgress(value=0, max=1150), HTML(value=u'')))"
      ]
     },
     "metadata": {},
     "output_type": "display_data"
    },
    {
     "data": {
      "application/vnd.jupyter.widget-view+json": {
       "model_id": "",
       "version_major": 2,
       "version_minor": 0
      },
      "text/plain": [
       "HBox(children=(IntProgress(value=0, max=128), HTML(value=u'')))"
      ]
     },
     "metadata": {},
     "output_type": "display_data"
    },
    {
     "name": "stdout",
     "output_type": "stream",
     "text": [
      "Epoch [33/50] train_loss: 0.0221, train_acc: 0.9945, val_loss: 3.1932, val_acc: 0.6146 \n"
     ]
    },
    {
     "data": {
      "application/vnd.jupyter.widget-view+json": {
       "model_id": "",
       "version_major": 2,
       "version_minor": 0
      },
      "text/plain": [
       "HBox(children=(IntProgress(value=0, max=1150), HTML(value=u'')))"
      ]
     },
     "metadata": {},
     "output_type": "display_data"
    },
    {
     "data": {
      "application/vnd.jupyter.widget-view+json": {
       "model_id": "",
       "version_major": 2,
       "version_minor": 0
      },
      "text/plain": [
       "HBox(children=(IntProgress(value=0, max=128), HTML(value=u'')))"
      ]
     },
     "metadata": {},
     "output_type": "display_data"
    },
    {
     "name": "stdout",
     "output_type": "stream",
     "text": [
      "Epoch [34/50] train_loss: 0.0240, train_acc: 0.9919, val_loss: 3.2354, val_acc: 0.6068 \n"
     ]
    },
    {
     "data": {
      "application/vnd.jupyter.widget-view+json": {
       "model_id": "",
       "version_major": 2,
       "version_minor": 0
      },
      "text/plain": [
       "HBox(children=(IntProgress(value=0, max=1150), HTML(value=u'')))"
      ]
     },
     "metadata": {},
     "output_type": "display_data"
    },
    {
     "data": {
      "application/vnd.jupyter.widget-view+json": {
       "model_id": "",
       "version_major": 2,
       "version_minor": 0
      },
      "text/plain": [
       "HBox(children=(IntProgress(value=0, max=128), HTML(value=u'')))"
      ]
     },
     "metadata": {},
     "output_type": "display_data"
    },
    {
     "name": "stdout",
     "output_type": "stream",
     "text": [
      "Epoch [35/50] train_loss: 0.0094, train_acc: 0.9959, val_loss: 3.2503, val_acc: 0.6276 \n"
     ]
    },
    {
     "data": {
      "application/vnd.jupyter.widget-view+json": {
       "model_id": "",
       "version_major": 2,
       "version_minor": 0
      },
      "text/plain": [
       "HBox(children=(IntProgress(value=0, max=1150), HTML(value=u'')))"
      ]
     },
     "metadata": {},
     "output_type": "display_data"
    },
    {
     "data": {
      "application/vnd.jupyter.widget-view+json": {
       "model_id": "",
       "version_major": 2,
       "version_minor": 0
      },
      "text/plain": [
       "HBox(children=(IntProgress(value=0, max=128), HTML(value=u'')))"
      ]
     },
     "metadata": {},
     "output_type": "display_data"
    },
    {
     "name": "stdout",
     "output_type": "stream",
     "text": [
      "Epoch [36/50] train_loss: 0.0080, train_acc: 0.9974, val_loss: 3.4147, val_acc: 0.6016 \n"
     ]
    },
    {
     "data": {
      "application/vnd.jupyter.widget-view+json": {
       "model_id": "",
       "version_major": 2,
       "version_minor": 0
      },
      "text/plain": [
       "HBox(children=(IntProgress(value=0, max=1150), HTML(value=u'')))"
      ]
     },
     "metadata": {},
     "output_type": "display_data"
    },
    {
     "data": {
      "application/vnd.jupyter.widget-view+json": {
       "model_id": "",
       "version_major": 2,
       "version_minor": 0
      },
      "text/plain": [
       "HBox(children=(IntProgress(value=0, max=128), HTML(value=u'')))"
      ]
     },
     "metadata": {},
     "output_type": "display_data"
    },
    {
     "name": "stdout",
     "output_type": "stream",
     "text": [
      "Epoch [37/50] train_loss: 0.0213, train_acc: 0.9925, val_loss: 3.5139, val_acc: 0.5964 \n"
     ]
    },
    {
     "data": {
      "application/vnd.jupyter.widget-view+json": {
       "model_id": "",
       "version_major": 2,
       "version_minor": 0
      },
      "text/plain": [
       "HBox(children=(IntProgress(value=0, max=1150), HTML(value=u'')))"
      ]
     },
     "metadata": {},
     "output_type": "display_data"
    },
    {
     "data": {
      "application/vnd.jupyter.widget-view+json": {
       "model_id": "",
       "version_major": 2,
       "version_minor": 0
      },
      "text/plain": [
       "HBox(children=(IntProgress(value=0, max=128), HTML(value=u'')))"
      ]
     },
     "metadata": {},
     "output_type": "display_data"
    },
    {
     "name": "stdout",
     "output_type": "stream",
     "text": [
      "Epoch [38/50] train_loss: 0.0215, train_acc: 0.9922, val_loss: 3.3675, val_acc: 0.6224 \n"
     ]
    },
    {
     "data": {
      "application/vnd.jupyter.widget-view+json": {
       "model_id": "",
       "version_major": 2,
       "version_minor": 0
      },
      "text/plain": [
       "HBox(children=(IntProgress(value=0, max=1150), HTML(value=u'')))"
      ]
     },
     "metadata": {},
     "output_type": "display_data"
    },
    {
     "data": {
      "application/vnd.jupyter.widget-view+json": {
       "model_id": "",
       "version_major": 2,
       "version_minor": 0
      },
      "text/plain": [
       "HBox(children=(IntProgress(value=0, max=128), HTML(value=u'')))"
      ]
     },
     "metadata": {},
     "output_type": "display_data"
    },
    {
     "name": "stdout",
     "output_type": "stream",
     "text": [
      "Epoch [39/50] train_loss: 0.0120, train_acc: 0.9965, val_loss: 3.1967, val_acc: 0.6094 \n"
     ]
    },
    {
     "data": {
      "application/vnd.jupyter.widget-view+json": {
       "model_id": "",
       "version_major": 2,
       "version_minor": 0
      },
      "text/plain": [
       "HBox(children=(IntProgress(value=0, max=1150), HTML(value=u'')))"
      ]
     },
     "metadata": {},
     "output_type": "display_data"
    },
    {
     "data": {
      "application/vnd.jupyter.widget-view+json": {
       "model_id": "",
       "version_major": 2,
       "version_minor": 0
      },
      "text/plain": [
       "HBox(children=(IntProgress(value=0, max=128), HTML(value=u'')))"
      ]
     },
     "metadata": {},
     "output_type": "display_data"
    },
    {
     "name": "stdout",
     "output_type": "stream",
     "text": [
      "Epoch [40/50] train_loss: 0.0040, train_acc: 0.9994, val_loss: 3.3772, val_acc: 0.6146 \n"
     ]
    },
    {
     "data": {
      "application/vnd.jupyter.widget-view+json": {
       "model_id": "",
       "version_major": 2,
       "version_minor": 0
      },
      "text/plain": [
       "HBox(children=(IntProgress(value=0, max=1150), HTML(value=u'')))"
      ]
     },
     "metadata": {},
     "output_type": "display_data"
    },
    {
     "data": {
      "application/vnd.jupyter.widget-view+json": {
       "model_id": "",
       "version_major": 2,
       "version_minor": 0
      },
      "text/plain": [
       "HBox(children=(IntProgress(value=0, max=128), HTML(value=u'')))"
      ]
     },
     "metadata": {},
     "output_type": "display_data"
    },
    {
     "name": "stdout",
     "output_type": "stream",
     "text": [
      "Epoch [41/50] train_loss: 0.0013, train_acc: 0.9997, val_loss: 3.5443, val_acc: 0.6120 \n"
     ]
    },
    {
     "data": {
      "application/vnd.jupyter.widget-view+json": {
       "model_id": "",
       "version_major": 2,
       "version_minor": 0
      },
      "text/plain": [
       "HBox(children=(IntProgress(value=0, max=1150), HTML(value=u'')))"
      ]
     },
     "metadata": {},
     "output_type": "display_data"
    },
    {
     "data": {
      "application/vnd.jupyter.widget-view+json": {
       "model_id": "",
       "version_major": 2,
       "version_minor": 0
      },
      "text/plain": [
       "HBox(children=(IntProgress(value=0, max=128), HTML(value=u'')))"
      ]
     },
     "metadata": {},
     "output_type": "display_data"
    },
    {
     "name": "stdout",
     "output_type": "stream",
     "text": [
      "Epoch [42/50] train_loss: 0.0003, train_acc: 1.0000, val_loss: 3.6193, val_acc: 0.6016 \n"
     ]
    },
    {
     "data": {
      "application/vnd.jupyter.widget-view+json": {
       "model_id": "",
       "version_major": 2,
       "version_minor": 0
      },
      "text/plain": [
       "HBox(children=(IntProgress(value=0, max=1150), HTML(value=u'')))"
      ]
     },
     "metadata": {},
     "output_type": "display_data"
    },
    {
     "data": {
      "application/vnd.jupyter.widget-view+json": {
       "model_id": "",
       "version_major": 2,
       "version_minor": 0
      },
      "text/plain": [
       "HBox(children=(IntProgress(value=0, max=128), HTML(value=u'')))"
      ]
     },
     "metadata": {},
     "output_type": "display_data"
    },
    {
     "name": "stdout",
     "output_type": "stream",
     "text": [
      "Epoch [43/50] train_loss: 0.0002, train_acc: 1.0000, val_loss: 3.7090, val_acc: 0.6016 \n"
     ]
    },
    {
     "data": {
      "application/vnd.jupyter.widget-view+json": {
       "model_id": "",
       "version_major": 2,
       "version_minor": 0
      },
      "text/plain": [
       "HBox(children=(IntProgress(value=0, max=1150), HTML(value=u'')))"
      ]
     },
     "metadata": {},
     "output_type": "display_data"
    },
    {
     "data": {
      "application/vnd.jupyter.widget-view+json": {
       "model_id": "",
       "version_major": 2,
       "version_minor": 0
      },
      "text/plain": [
       "HBox(children=(IntProgress(value=0, max=128), HTML(value=u'')))"
      ]
     },
     "metadata": {},
     "output_type": "display_data"
    },
    {
     "name": "stdout",
     "output_type": "stream",
     "text": [
      "Epoch [44/50] train_loss: 0.0001, train_acc: 1.0000, val_loss: 3.8236, val_acc: 0.6016 \n"
     ]
    },
    {
     "data": {
      "application/vnd.jupyter.widget-view+json": {
       "model_id": "",
       "version_major": 2,
       "version_minor": 0
      },
      "text/plain": [
       "HBox(children=(IntProgress(value=0, max=1150), HTML(value=u'')))"
      ]
     },
     "metadata": {},
     "output_type": "display_data"
    },
    {
     "data": {
      "application/vnd.jupyter.widget-view+json": {
       "model_id": "",
       "version_major": 2,
       "version_minor": 0
      },
      "text/plain": [
       "HBox(children=(IntProgress(value=0, max=128), HTML(value=u'')))"
      ]
     },
     "metadata": {},
     "output_type": "display_data"
    },
    {
     "name": "stdout",
     "output_type": "stream",
     "text": [
      "Epoch [45/50] train_loss: 0.0001, train_acc: 1.0000, val_loss: 3.9129, val_acc: 0.6068 \n"
     ]
    },
    {
     "data": {
      "application/vnd.jupyter.widget-view+json": {
       "model_id": "",
       "version_major": 2,
       "version_minor": 0
      },
      "text/plain": [
       "HBox(children=(IntProgress(value=0, max=1150), HTML(value=u'')))"
      ]
     },
     "metadata": {},
     "output_type": "display_data"
    },
    {
     "data": {
      "application/vnd.jupyter.widget-view+json": {
       "model_id": "",
       "version_major": 2,
       "version_minor": 0
      },
      "text/plain": [
       "HBox(children=(IntProgress(value=0, max=128), HTML(value=u'')))"
      ]
     },
     "metadata": {},
     "output_type": "display_data"
    },
    {
     "name": "stdout",
     "output_type": "stream",
     "text": [
      "Epoch [46/50] train_loss: 0.0000, train_acc: 1.0000, val_loss: 4.0472, val_acc: 0.6068 \n"
     ]
    },
    {
     "data": {
      "application/vnd.jupyter.widget-view+json": {
       "model_id": "",
       "version_major": 2,
       "version_minor": 0
      },
      "text/plain": [
       "HBox(children=(IntProgress(value=0, max=1150), HTML(value=u'')))"
      ]
     },
     "metadata": {},
     "output_type": "display_data"
    },
    {
     "data": {
      "application/vnd.jupyter.widget-view+json": {
       "model_id": "",
       "version_major": 2,
       "version_minor": 0
      },
      "text/plain": [
       "HBox(children=(IntProgress(value=0, max=128), HTML(value=u'')))"
      ]
     },
     "metadata": {},
     "output_type": "display_data"
    },
    {
     "name": "stdout",
     "output_type": "stream",
     "text": [
      "Epoch [47/50] train_loss: 0.0000, train_acc: 1.0000, val_loss: 4.1668, val_acc: 0.6068 \n"
     ]
    },
    {
     "data": {
      "application/vnd.jupyter.widget-view+json": {
       "model_id": "",
       "version_major": 2,
       "version_minor": 0
      },
      "text/plain": [
       "HBox(children=(IntProgress(value=0, max=1150), HTML(value=u'')))"
      ]
     },
     "metadata": {},
     "output_type": "display_data"
    },
    {
     "data": {
      "application/vnd.jupyter.widget-view+json": {
       "model_id": "",
       "version_major": 2,
       "version_minor": 0
      },
      "text/plain": [
       "HBox(children=(IntProgress(value=0, max=128), HTML(value=u'')))"
      ]
     },
     "metadata": {},
     "output_type": "display_data"
    },
    {
     "name": "stdout",
     "output_type": "stream",
     "text": [
      "Epoch [48/50] train_loss: 0.0000, train_acc: 1.0000, val_loss: 4.3292, val_acc: 0.6094 \n"
     ]
    },
    {
     "data": {
      "application/vnd.jupyter.widget-view+json": {
       "model_id": "",
       "version_major": 2,
       "version_minor": 0
      },
      "text/plain": [
       "HBox(children=(IntProgress(value=0, max=1150), HTML(value=u'')))"
      ]
     },
     "metadata": {},
     "output_type": "display_data"
    },
    {
     "data": {
      "application/vnd.jupyter.widget-view+json": {
       "model_id": "",
       "version_major": 2,
       "version_minor": 0
      },
      "text/plain": [
       "HBox(children=(IntProgress(value=0, max=128), HTML(value=u'')))"
      ]
     },
     "metadata": {},
     "output_type": "display_data"
    },
    {
     "name": "stdout",
     "output_type": "stream",
     "text": [
      "Epoch [49/50] train_loss: 0.0000, train_acc: 1.0000, val_loss: 4.5029, val_acc: 0.6042 \n"
     ]
    },
    {
     "data": {
      "application/vnd.jupyter.widget-view+json": {
       "model_id": "",
       "version_major": 2,
       "version_minor": 0
      },
      "text/plain": [
       "HBox(children=(IntProgress(value=0, max=1150), HTML(value=u'')))"
      ]
     },
     "metadata": {},
     "output_type": "display_data"
    },
    {
     "data": {
      "application/vnd.jupyter.widget-view+json": {
       "model_id": "",
       "version_major": 2,
       "version_minor": 0
      },
      "text/plain": [
       "HBox(children=(IntProgress(value=0, max=128), HTML(value=u'')))"
      ]
     },
     "metadata": {},
     "output_type": "display_data"
    },
    {
     "name": "stdout",
     "output_type": "stream",
     "text": [
      "Epoch [50/50] train_loss: 0.0000, train_acc: 1.0000, val_loss: 4.6688, val_acc: 0.6016 \n",
      "\n"
     ]
    }
   ],
   "source": [
    "opt = optim.Adam(filter(lambda p: p.requires_grad, m.parameters()), 1e-3)\n",
    "\n",
    "train_acc_list, train_loss_list, val_acc_list, val_loss_list = fit_y(model=m, train_dl=train_batch_it, val_dl=val_batch_it, loss_fn=F.nll_loss, opt=opt, epochs=50)"
   ]
  },
  {
   "cell_type": "code",
   "execution_count": 41,
   "metadata": {},
   "outputs": [],
   "source": [
    "import matplotlib.pyplot as plt"
   ]
  },
  {
   "cell_type": "code",
   "execution_count": 42,
   "metadata": {},
   "outputs": [
    {
     "data": {
      "image/png": "[encoded data removed]",
      "text/plain": [
       "<Figure size 432x288 with 1 Axes>"
      ]
     },
     "metadata": {
      "needs_background": "light"
     },
     "output_type": "display_data"
    }
   ],
   "source": [
    "#plot train/val accuracies\n",
    "plt.title(\"Train/Test Acc\")\n",
    "plt.xlabel(\"epoch\")\n",
    "plt.ylabel('acc')\n",
    "line1 = plt.plot(train_acc_list, color='red')\n",
    "line2 = plt.plot(val_acc_list, color='blue')\n",
    "plt.legend(['Train', 'Test'], loc='upper left')\n",
    "plt.savefig('nlpgruacc.png')   # save the figure to file\n",
    "plt.show()\n",
    "plt.close()"
   ]
  },
  {
   "cell_type": "code",
   "execution_count": 43,
   "metadata": {},
   "outputs": [
    {
     "data": {
      "image/png": "[encoded data removed]",
      "text/plain": [
       "<Figure size 432x288 with 1 Axes>"
      ]
     },
     "metadata": {
      "needs_background": "light"
     },
     "output_type": "display_data"
    }
   ],
   "source": [
    "#plot train/val accuracies\n",
    "plt.title(\"Train/Test Loss\")\n",
    "plt.xlabel(\"epoch\")\n",
    "plt.ylabel('loss')\n",
    "line1 = plt.plot(train_loss_list, color='red')\n",
    "line2 = plt.plot(val_loss_list, color='blue')\n",
    "plt.legend(['Train', 'Test'], loc='upper left')\n",
    "plt.savefig('nlpgruloss.png')   # save the figure to file\n",
    "plt.show()\n",
    "plt.close()"
   ]
  },
  {
   "cell_type": "code",
   "execution_count": 44,
   "metadata": {},
   "outputs": [
    {
     "name": "stdout",
     "output_type": "stream",
     "text": [
      "torch.Size([12675, 100])\n",
      "torch.Size([192, 100])\n",
      "torch.Size([192, 64])\n",
      "torch.Size([192])\n",
      "torch.Size([192])\n",
      "torch.Size([192, 100])\n",
      "torch.Size([192, 64])\n",
      "torch.Size([192])\n",
      "torch.Size([192])\n",
      "torch.Size([2, 256])\n",
      "torch.Size([2])\n"
     ]
    }
   ],
   "source": [
    "m = ConcatPoolingGRUAdaptive(vocab_size, embedding_dim, n_hidden, n_out_yc, trainds.fields['corpus'].vocab.vectors).to(device)\n",
    "for i in m.parameters():\n",
    "    print(i.shape)"
   ]
  },
  {
   "cell_type": "code",
   "execution_count": 45,
   "metadata": {},
   "outputs": [
    {
     "data": {
      "application/vnd.jupyter.widget-view+json": {
       "model_id": "a9adda21a68a4b35adcee8b54ebf3ad2",
       "version_major": 2,
       "version_minor": 0
      },
      "text/plain": [
       "HBox(children=(IntProgress(value=0, max=50), HTML(value=u'')))"
      ]
     },
     "metadata": {},
     "output_type": "display_data"
    },
    {
     "data": {
      "application/vnd.jupyter.widget-view+json": {
       "model_id": "",
       "version_major": 2,
       "version_minor": 0
      },
      "text/plain": [
       "HBox(children=(IntProgress(value=0, max=1150), HTML(value=u'')))"
      ]
     },
     "metadata": {},
     "output_type": "display_data"
    },
    {
     "name": "stderr",
     "output_type": "stream",
     "text": [
      "/Users/jayanth/Library/Python/2.7/lib/python/site-packages/ipykernel_launcher.py:32: UserWarning: Implicit dimension choice for log_softmax has been deprecated. Change the call to include dim=X as an argument.\n"
     ]
    },
    {
     "data": {
      "application/vnd.jupyter.widget-view+json": {
       "model_id": "",
       "version_major": 2,
       "version_minor": 0
      },
      "text/plain": [
       "HBox(children=(IntProgress(value=0, max=128), HTML(value=u'')))"
      ]
     },
     "metadata": {},
     "output_type": "display_data"
    },
    {
     "name": "stdout",
     "output_type": "stream",
     "text": [
      "Epoch [1/50] train_loss: 0.6502, train_acc: 0.6243, val_loss: 0.6413, val_acc: 0.6328 \n"
     ]
    },
    {
     "data": {
      "application/vnd.jupyter.widget-view+json": {
       "model_id": "",
       "version_major": 2,
       "version_minor": 0
      },
      "text/plain": [
       "HBox(children=(IntProgress(value=0, max=1150), HTML(value=u'')))"
      ]
     },
     "metadata": {},
     "output_type": "display_data"
    },
    {
     "data": {
      "application/vnd.jupyter.widget-view+json": {
       "model_id": "",
       "version_major": 2,
       "version_minor": 0
      },
      "text/plain": [
       "HBox(children=(IntProgress(value=0, max=128), HTML(value=u'')))"
      ]
     },
     "metadata": {},
     "output_type": "display_data"
    },
    {
     "name": "stdout",
     "output_type": "stream",
     "text": [
      "Epoch [2/50] train_loss: 0.5839, train_acc: 0.6913, val_loss: 0.6280, val_acc: 0.6484 \n"
     ]
    },
    {
     "data": {
      "application/vnd.jupyter.widget-view+json": {
       "model_id": "",
       "version_major": 2,
       "version_minor": 0
      },
      "text/plain": [
       "HBox(children=(IntProgress(value=0, max=1150), HTML(value=u'')))"
      ]
     },
     "metadata": {},
     "output_type": "display_data"
    },
    {
     "data": {
      "application/vnd.jupyter.widget-view+json": {
       "model_id": "",
       "version_major": 2,
       "version_minor": 0
      },
      "text/plain": [
       "HBox(children=(IntProgress(value=0, max=128), HTML(value=u'')))"
      ]
     },
     "metadata": {},
     "output_type": "display_data"
    },
    {
     "name": "stdout",
     "output_type": "stream",
     "text": [
      "Epoch [3/50] train_loss: 0.5169, train_acc: 0.7351, val_loss: 0.6359, val_acc: 0.6380 \n"
     ]
    },
    {
     "data": {
      "application/vnd.jupyter.widget-view+json": {
       "model_id": "",
       "version_major": 2,
       "version_minor": 0
      },
      "text/plain": [
       "HBox(children=(IntProgress(value=0, max=1150), HTML(value=u'')))"
      ]
     },
     "metadata": {},
     "output_type": "display_data"
    },
    {
     "data": {
      "application/vnd.jupyter.widget-view+json": {
       "model_id": "",
       "version_major": 2,
       "version_minor": 0
      },
      "text/plain": [
       "HBox(children=(IntProgress(value=0, max=128), HTML(value=u'')))"
      ]
     },
     "metadata": {},
     "output_type": "display_data"
    },
    {
     "name": "stdout",
     "output_type": "stream",
     "text": [
      "Epoch [4/50] train_loss: 0.4214, train_acc: 0.8168, val_loss: 0.6753, val_acc: 0.6250 \n"
     ]
    },
    {
     "data": {
      "application/vnd.jupyter.widget-view+json": {
       "model_id": "",
       "version_major": 2,
       "version_minor": 0
      },
      "text/plain": [
       "HBox(children=(IntProgress(value=0, max=1150), HTML(value=u'')))"
      ]
     },
     "metadata": {},
     "output_type": "display_data"
    },
    {
     "data": {
      "application/vnd.jupyter.widget-view+json": {
       "model_id": "",
       "version_major": 2,
       "version_minor": 0
      },
      "text/plain": [
       "HBox(children=(IntProgress(value=0, max=128), HTML(value=u'')))"
      ]
     },
     "metadata": {},
     "output_type": "display_data"
    },
    {
     "name": "stdout",
     "output_type": "stream",
     "text": [
      "Epoch [5/50] train_loss: 0.3108, train_acc: 0.8800, val_loss: 0.6804, val_acc: 0.6510 \n"
     ]
    },
    {
     "data": {
      "application/vnd.jupyter.widget-view+json": {
       "model_id": "",
       "version_major": 2,
       "version_minor": 0
      },
      "text/plain": [
       "HBox(children=(IntProgress(value=0, max=1150), HTML(value=u'')))"
      ]
     },
     "metadata": {},
     "output_type": "display_data"
    },
    {
     "data": {
      "application/vnd.jupyter.widget-view+json": {
       "model_id": "",
       "version_major": 2,
       "version_minor": 0
      },
      "text/plain": [
       "HBox(children=(IntProgress(value=0, max=128), HTML(value=u'')))"
      ]
     },
     "metadata": {},
     "output_type": "display_data"
    },
    {
     "name": "stdout",
     "output_type": "stream",
     "text": [
      "Epoch [6/50] train_loss: 0.1930, train_acc: 0.9522, val_loss: 0.8244, val_acc: 0.6172 \n"
     ]
    },
    {
     "data": {
      "application/vnd.jupyter.widget-view+json": {
       "model_id": "",
       "version_major": 2,
       "version_minor": 0
      },
      "text/plain": [
       "HBox(children=(IntProgress(value=0, max=1150), HTML(value=u'')))"
      ]
     },
     "metadata": {},
     "output_type": "display_data"
    },
    {
     "data": {
      "application/vnd.jupyter.widget-view+json": {
       "model_id": "",
       "version_major": 2,
       "version_minor": 0
      },
      "text/plain": [
       "HBox(children=(IntProgress(value=0, max=128), HTML(value=u'')))"
      ]
     },
     "metadata": {},
     "output_type": "display_data"
    },
    {
     "name": "stdout",
     "output_type": "stream",
     "text": [
      "Epoch [7/50] train_loss: 0.1107, train_acc: 0.9788, val_loss: 0.9253, val_acc: 0.6354 \n"
     ]
    },
    {
     "data": {
      "application/vnd.jupyter.widget-view+json": {
       "model_id": "",
       "version_major": 2,
       "version_minor": 0
      },
      "text/plain": [
       "HBox(children=(IntProgress(value=0, max=1150), HTML(value=u'')))"
      ]
     },
     "metadata": {},
     "output_type": "display_data"
    },
    {
     "data": {
      "application/vnd.jupyter.widget-view+json": {
       "model_id": "",
       "version_major": 2,
       "version_minor": 0
      },
      "text/plain": [
       "HBox(children=(IntProgress(value=0, max=128), HTML(value=u'')))"
      ]
     },
     "metadata": {},
     "output_type": "display_data"
    },
    {
     "name": "stdout",
     "output_type": "stream",
     "text": [
      "Epoch [8/50] train_loss: 0.0640, train_acc: 0.9907, val_loss: 1.0236, val_acc: 0.6354 \n"
     ]
    },
    {
     "data": {
      "application/vnd.jupyter.widget-view+json": {
       "model_id": "",
       "version_major": 2,
       "version_minor": 0
      },
      "text/plain": [
       "HBox(children=(IntProgress(value=0, max=1150), HTML(value=u'')))"
      ]
     },
     "metadata": {},
     "output_type": "display_data"
    },
    {
     "data": {
      "application/vnd.jupyter.widget-view+json": {
       "model_id": "",
       "version_major": 2,
       "version_minor": 0
      },
      "text/plain": [
       "HBox(children=(IntProgress(value=0, max=128), HTML(value=u'')))"
      ]
     },
     "metadata": {},
     "output_type": "display_data"
    },
    {
     "name": "stdout",
     "output_type": "stream",
     "text": [
      "Epoch [9/50] train_loss: 0.0331, train_acc: 0.9957, val_loss: 1.1083, val_acc: 0.6719 \n"
     ]
    },
    {
     "data": {
      "application/vnd.jupyter.widget-view+json": {
       "model_id": "",
       "version_major": 2,
       "version_minor": 0
      },
      "text/plain": [
       "HBox(children=(IntProgress(value=0, max=1150), HTML(value=u'')))"
      ]
     },
     "metadata": {},
     "output_type": "display_data"
    },
    {
     "data": {
      "application/vnd.jupyter.widget-view+json": {
       "model_id": "",
       "version_major": 2,
       "version_minor": 0
      },
      "text/plain": [
       "HBox(children=(IntProgress(value=0, max=128), HTML(value=u'')))"
      ]
     },
     "metadata": {},
     "output_type": "display_data"
    },
    {
     "name": "stdout",
     "output_type": "stream",
     "text": [
      "Epoch [10/50] train_loss: 0.0217, train_acc: 0.9977, val_loss: 1.2318, val_acc: 0.6354 \n"
     ]
    },
    {
     "data": {
      "application/vnd.jupyter.widget-view+json": {
       "model_id": "",
       "version_major": 2,
       "version_minor": 0
      },
      "text/plain": [
       "HBox(children=(IntProgress(value=0, max=1150), HTML(value=u'')))"
      ]
     },
     "metadata": {},
     "output_type": "display_data"
    },
    {
     "data": {
      "application/vnd.jupyter.widget-view+json": {
       "model_id": "",
       "version_major": 2,
       "version_minor": 0
      },
      "text/plain": [
       "HBox(children=(IntProgress(value=0, max=128), HTML(value=u'')))"
      ]
     },
     "metadata": {},
     "output_type": "display_data"
    },
    {
     "name": "stdout",
     "output_type": "stream",
     "text": [
      "Epoch [11/50] train_loss: 0.0178, train_acc: 0.9983, val_loss: 1.3372, val_acc: 0.6354 \n"
     ]
    },
    {
     "data": {
      "application/vnd.jupyter.widget-view+json": {
       "model_id": "",
       "version_major": 2,
       "version_minor": 0
      },
      "text/plain": [
       "HBox(children=(IntProgress(value=0, max=1150), HTML(value=u'')))"
      ]
     },
     "metadata": {},
     "output_type": "display_data"
    },
    {
     "data": {
      "application/vnd.jupyter.widget-view+json": {
       "model_id": "",
       "version_major": 2,
       "version_minor": 0
      },
      "text/plain": [
       "HBox(children=(IntProgress(value=0, max=128), HTML(value=u'')))"
      ]
     },
     "metadata": {},
     "output_type": "display_data"
    },
    {
     "name": "stdout",
     "output_type": "stream",
     "text": [
      "Epoch [12/50] train_loss: 0.0068, train_acc: 0.9997, val_loss: 1.4642, val_acc: 0.6354 \n"
     ]
    },
    {
     "data": {
      "application/vnd.jupyter.widget-view+json": {
       "model_id": "",
       "version_major": 2,
       "version_minor": 0
      },
      "text/plain": [
       "HBox(children=(IntProgress(value=0, max=1150), HTML(value=u'')))"
      ]
     },
     "metadata": {},
     "output_type": "display_data"
    },
    {
     "data": {
      "application/vnd.jupyter.widget-view+json": {
       "model_id": "",
       "version_major": 2,
       "version_minor": 0
      },
      "text/plain": [
       "HBox(children=(IntProgress(value=0, max=128), HTML(value=u'')))"
      ]
     },
     "metadata": {},
     "output_type": "display_data"
    },
    {
     "name": "stdout",
     "output_type": "stream",
     "text": [
      "Epoch [13/50] train_loss: 0.0246, train_acc: 0.9928, val_loss: 1.4809, val_acc: 0.6302 \n"
     ]
    },
    {
     "data": {
      "application/vnd.jupyter.widget-view+json": {
       "model_id": "",
       "version_major": 2,
       "version_minor": 0
      },
      "text/plain": [
       "HBox(children=(IntProgress(value=0, max=1150), HTML(value=u'')))"
      ]
     },
     "metadata": {},
     "output_type": "display_data"
    },
    {
     "data": {
      "application/vnd.jupyter.widget-view+json": {
       "model_id": "",
       "version_major": 2,
       "version_minor": 0
      },
      "text/plain": [
       "HBox(children=(IntProgress(value=0, max=128), HTML(value=u'')))"
      ]
     },
     "metadata": {},
     "output_type": "display_data"
    },
    {
     "name": "stdout",
     "output_type": "stream",
     "text": [
      "Epoch [14/50] train_loss: 0.0353, train_acc: 0.9901, val_loss: 1.3483, val_acc: 0.6615 \n"
     ]
    },
    {
     "data": {
      "application/vnd.jupyter.widget-view+json": {
       "model_id": "",
       "version_major": 2,
       "version_minor": 0
      },
      "text/plain": [
       "HBox(children=(IntProgress(value=0, max=1150), HTML(value=u'')))"
      ]
     },
     "metadata": {},
     "output_type": "display_data"
    },
    {
     "data": {
      "application/vnd.jupyter.widget-view+json": {
       "model_id": "",
       "version_major": 2,
       "version_minor": 0
      },
      "text/plain": [
       "HBox(children=(IntProgress(value=0, max=128), HTML(value=u'')))"
      ]
     },
     "metadata": {},
     "output_type": "display_data"
    },
    {
     "name": "stdout",
     "output_type": "stream",
     "text": [
      "Epoch [15/50] train_loss: 0.0081, train_acc: 0.9997, val_loss: 1.4626, val_acc: 0.6432 \n"
     ]
    },
    {
     "data": {
      "application/vnd.jupyter.widget-view+json": {
       "model_id": "",
       "version_major": 2,
       "version_minor": 0
      },
      "text/plain": [
       "HBox(children=(IntProgress(value=0, max=1150), HTML(value=u'')))"
      ]
     },
     "metadata": {},
     "output_type": "display_data"
    },
    {
     "data": {
      "application/vnd.jupyter.widget-view+json": {
       "model_id": "",
       "version_major": 2,
       "version_minor": 0
      },
      "text/plain": [
       "HBox(children=(IntProgress(value=0, max=128), HTML(value=u'')))"
      ]
     },
     "metadata": {},
     "output_type": "display_data"
    },
    {
     "name": "stdout",
     "output_type": "stream",
     "text": [
      "Epoch [16/50] train_loss: 0.0029, train_acc: 1.0000, val_loss: 1.5577, val_acc: 0.6484 \n"
     ]
    },
    {
     "data": {
      "application/vnd.jupyter.widget-view+json": {
       "model_id": "",
       "version_major": 2,
       "version_minor": 0
      },
      "text/plain": [
       "HBox(children=(IntProgress(value=0, max=1150), HTML(value=u'')))"
      ]
     },
     "metadata": {},
     "output_type": "display_data"
    },
    {
     "data": {
      "application/vnd.jupyter.widget-view+json": {
       "model_id": "",
       "version_major": 2,
       "version_minor": 0
      },
      "text/plain": [
       "HBox(children=(IntProgress(value=0, max=128), HTML(value=u'')))"
      ]
     },
     "metadata": {},
     "output_type": "display_data"
    },
    {
     "name": "stdout",
     "output_type": "stream",
     "text": [
      "Epoch [17/50] train_loss: 0.0015, train_acc: 1.0000, val_loss: 1.6035, val_acc: 0.6354 \n"
     ]
    },
    {
     "data": {
      "application/vnd.jupyter.widget-view+json": {
       "model_id": "",
       "version_major": 2,
       "version_minor": 0
      },
      "text/plain": [
       "HBox(children=(IntProgress(value=0, max=1150), HTML(value=u'')))"
      ]
     },
     "metadata": {},
     "output_type": "display_data"
    },
    {
     "data": {
      "application/vnd.jupyter.widget-view+json": {
       "model_id": "",
       "version_major": 2,
       "version_minor": 0
      },
      "text/plain": [
       "HBox(children=(IntProgress(value=0, max=128), HTML(value=u'')))"
      ]
     },
     "metadata": {},
     "output_type": "display_data"
    },
    {
     "name": "stdout",
     "output_type": "stream",
     "text": [
      "Epoch [18/50] train_loss: 0.0010, train_acc: 1.0000, val_loss: 1.6718, val_acc: 0.6484 \n"
     ]
    },
    {
     "data": {
      "application/vnd.jupyter.widget-view+json": {
       "model_id": "",
       "version_major": 2,
       "version_minor": 0
      },
      "text/plain": [
       "HBox(children=(IntProgress(value=0, max=1150), HTML(value=u'')))"
      ]
     },
     "metadata": {},
     "output_type": "display_data"
    },
    {
     "data": {
      "application/vnd.jupyter.widget-view+json": {
       "model_id": "",
       "version_major": 2,
       "version_minor": 0
      },
      "text/plain": [
       "HBox(children=(IntProgress(value=0, max=128), HTML(value=u'')))"
      ]
     },
     "metadata": {},
     "output_type": "display_data"
    },
    {
     "name": "stdout",
     "output_type": "stream",
     "text": [
      "Epoch [19/50] train_loss: 0.0008, train_acc: 1.0000, val_loss: 1.7118, val_acc: 0.6667 \n"
     ]
    },
    {
     "data": {
      "application/vnd.jupyter.widget-view+json": {
       "model_id": "",
       "version_major": 2,
       "version_minor": 0
      },
      "text/plain": [
       "HBox(children=(IntProgress(value=0, max=1150), HTML(value=u'')))"
      ]
     },
     "metadata": {},
     "output_type": "display_data"
    },
    {
     "data": {
      "application/vnd.jupyter.widget-view+json": {
       "model_id": "",
       "version_major": 2,
       "version_minor": 0
      },
      "text/plain": [
       "HBox(children=(IntProgress(value=0, max=128), HTML(value=u'')))"
      ]
     },
     "metadata": {},
     "output_type": "display_data"
    },
    {
     "name": "stdout",
     "output_type": "stream",
     "text": [
      "Epoch [20/50] train_loss: 0.0556, train_acc: 0.9820, val_loss: 1.6912, val_acc: 0.6432 \n"
     ]
    },
    {
     "data": {
      "application/vnd.jupyter.widget-view+json": {
       "model_id": "",
       "version_major": 2,
       "version_minor": 0
      },
      "text/plain": [
       "HBox(children=(IntProgress(value=0, max=1150), HTML(value=u'')))"
      ]
     },
     "metadata": {},
     "output_type": "display_data"
    },
    {
     "data": {
      "application/vnd.jupyter.widget-view+json": {
       "model_id": "",
       "version_major": 2,
       "version_minor": 0
      },
      "text/plain": [
       "HBox(children=(IntProgress(value=0, max=128), HTML(value=u'')))"
      ]
     },
     "metadata": {},
     "output_type": "display_data"
    },
    {
     "name": "stdout",
     "output_type": "stream",
     "text": [
      "Epoch [21/50] train_loss: 0.0066, train_acc: 0.9997, val_loss: 1.6883, val_acc: 0.6302 \n"
     ]
    },
    {
     "data": {
      "application/vnd.jupyter.widget-view+json": {
       "model_id": "",
       "version_major": 2,
       "version_minor": 0
      },
      "text/plain": [
       "HBox(children=(IntProgress(value=0, max=1150), HTML(value=u'')))"
      ]
     },
     "metadata": {},
     "output_type": "display_data"
    },
    {
     "data": {
      "application/vnd.jupyter.widget-view+json": {
       "model_id": "",
       "version_major": 2,
       "version_minor": 0
      },
      "text/plain": [
       "HBox(children=(IntProgress(value=0, max=128), HTML(value=u'')))"
      ]
     },
     "metadata": {},
     "output_type": "display_data"
    },
    {
     "name": "stdout",
     "output_type": "stream",
     "text": [
      "Epoch [22/50] train_loss: 0.0025, train_acc: 1.0000, val_loss: 1.7228, val_acc: 0.6354 \n"
     ]
    },
    {
     "data": {
      "application/vnd.jupyter.widget-view+json": {
       "model_id": "",
       "version_major": 2,
       "version_minor": 0
      },
      "text/plain": [
       "HBox(children=(IntProgress(value=0, max=1150), HTML(value=u'')))"
      ]
     },
     "metadata": {},
     "output_type": "display_data"
    },
    {
     "data": {
      "application/vnd.jupyter.widget-view+json": {
       "model_id": "",
       "version_major": 2,
       "version_minor": 0
      },
      "text/plain": [
       "HBox(children=(IntProgress(value=0, max=128), HTML(value=u'')))"
      ]
     },
     "metadata": {},
     "output_type": "display_data"
    },
    {
     "name": "stdout",
     "output_type": "stream",
     "text": [
      "Epoch [23/50] train_loss: 0.0009, train_acc: 1.0000, val_loss: 1.7945, val_acc: 0.6484 \n"
     ]
    },
    {
     "data": {
      "application/vnd.jupyter.widget-view+json": {
       "model_id": "",
       "version_major": 2,
       "version_minor": 0
      },
      "text/plain": [
       "HBox(children=(IntProgress(value=0, max=1150), HTML(value=u'')))"
      ]
     },
     "metadata": {},
     "output_type": "display_data"
    },
    {
     "data": {
      "application/vnd.jupyter.widget-view+json": {
       "model_id": "",
       "version_major": 2,
       "version_minor": 0
      },
      "text/plain": [
       "HBox(children=(IntProgress(value=0, max=128), HTML(value=u'')))"
      ]
     },
     "metadata": {},
     "output_type": "display_data"
    },
    {
     "name": "stdout",
     "output_type": "stream",
     "text": [
      "Epoch [24/50] train_loss: 0.0006, train_acc: 1.0000, val_loss: 1.8525, val_acc: 0.6536 \n"
     ]
    },
    {
     "data": {
      "application/vnd.jupyter.widget-view+json": {
       "model_id": "",
       "version_major": 2,
       "version_minor": 0
      },
      "text/plain": [
       "HBox(children=(IntProgress(value=0, max=1150), HTML(value=u'')))"
      ]
     },
     "metadata": {},
     "output_type": "display_data"
    },
    {
     "data": {
      "application/vnd.jupyter.widget-view+json": {
       "model_id": "",
       "version_major": 2,
       "version_minor": 0
      },
      "text/plain": [
       "HBox(children=(IntProgress(value=0, max=128), HTML(value=u'')))"
      ]
     },
     "metadata": {},
     "output_type": "display_data"
    },
    {
     "name": "stdout",
     "output_type": "stream",
     "text": [
      "Epoch [25/50] train_loss: 0.0005, train_acc: 1.0000, val_loss: 1.9803, val_acc: 0.6224 \n"
     ]
    },
    {
     "data": {
      "application/vnd.jupyter.widget-view+json": {
       "model_id": "",
       "version_major": 2,
       "version_minor": 0
      },
      "text/plain": [
       "HBox(children=(IntProgress(value=0, max=1150), HTML(value=u'')))"
      ]
     },
     "metadata": {},
     "output_type": "display_data"
    },
    {
     "data": {
      "application/vnd.jupyter.widget-view+json": {
       "model_id": "",
       "version_major": 2,
       "version_minor": 0
      },
      "text/plain": [
       "HBox(children=(IntProgress(value=0, max=128), HTML(value=u'')))"
      ]
     },
     "metadata": {},
     "output_type": "display_data"
    },
    {
     "name": "stdout",
     "output_type": "stream",
     "text": [
      "Epoch [26/50] train_loss: 0.0004, train_acc: 1.0000, val_loss: 2.0174, val_acc: 0.6510 \n"
     ]
    },
    {
     "data": {
      "application/vnd.jupyter.widget-view+json": {
       "model_id": "",
       "version_major": 2,
       "version_minor": 0
      },
      "text/plain": [
       "HBox(children=(IntProgress(value=0, max=1150), HTML(value=u'')))"
      ]
     },
     "metadata": {},
     "output_type": "display_data"
    },
    {
     "data": {
      "application/vnd.jupyter.widget-view+json": {
       "model_id": "",
       "version_major": 2,
       "version_minor": 0
      },
      "text/plain": [
       "HBox(children=(IntProgress(value=0, max=128), HTML(value=u'')))"
      ]
     },
     "metadata": {},
     "output_type": "display_data"
    },
    {
     "name": "stdout",
     "output_type": "stream",
     "text": [
      "Epoch [27/50] train_loss: 0.0002, train_acc: 1.0000, val_loss: 2.1204, val_acc: 0.6615 \n"
     ]
    },
    {
     "data": {
      "application/vnd.jupyter.widget-view+json": {
       "model_id": "",
       "version_major": 2,
       "version_minor": 0
      },
      "text/plain": [
       "HBox(children=(IntProgress(value=0, max=1150), HTML(value=u'')))"
      ]
     },
     "metadata": {},
     "output_type": "display_data"
    },
    {
     "data": {
      "application/vnd.jupyter.widget-view+json": {
       "model_id": "",
       "version_major": 2,
       "version_minor": 0
      },
      "text/plain": [
       "HBox(children=(IntProgress(value=0, max=128), HTML(value=u'')))"
      ]
     },
     "metadata": {},
     "output_type": "display_data"
    },
    {
     "name": "stdout",
     "output_type": "stream",
     "text": [
      "Epoch [28/50] train_loss: 0.0926, train_acc: 0.9670, val_loss: 2.1416, val_acc: 0.6068 \n"
     ]
    },
    {
     "data": {
      "application/vnd.jupyter.widget-view+json": {
       "model_id": "",
       "version_major": 2,
       "version_minor": 0
      },
      "text/plain": [
       "HBox(children=(IntProgress(value=0, max=1150), HTML(value=u'')))"
      ]
     },
     "metadata": {},
     "output_type": "display_data"
    },
    {
     "data": {
      "application/vnd.jupyter.widget-view+json": {
       "model_id": "",
       "version_major": 2,
       "version_minor": 0
      },
      "text/plain": [
       "HBox(children=(IntProgress(value=0, max=128), HTML(value=u'')))"
      ]
     },
     "metadata": {},
     "output_type": "display_data"
    },
    {
     "name": "stdout",
     "output_type": "stream",
     "text": [
      "Epoch [29/50] train_loss: 0.0145, train_acc: 0.9965, val_loss: 1.9009, val_acc: 0.6406 \n"
     ]
    },
    {
     "data": {
      "application/vnd.jupyter.widget-view+json": {
       "model_id": "",
       "version_major": 2,
       "version_minor": 0
      },
      "text/plain": [
       "HBox(children=(IntProgress(value=0, max=1150), HTML(value=u'')))"
      ]
     },
     "metadata": {},
     "output_type": "display_data"
    },
    {
     "data": {
      "application/vnd.jupyter.widget-view+json": {
       "model_id": "",
       "version_major": 2,
       "version_minor": 0
      },
      "text/plain": [
       "HBox(children=(IntProgress(value=0, max=128), HTML(value=u'')))"
      ]
     },
     "metadata": {},
     "output_type": "display_data"
    },
    {
     "name": "stdout",
     "output_type": "stream",
     "text": [
      "Epoch [30/50] train_loss: 0.0022, train_acc: 1.0000, val_loss: 1.9597, val_acc: 0.6224 \n"
     ]
    },
    {
     "data": {
      "application/vnd.jupyter.widget-view+json": {
       "model_id": "",
       "version_major": 2,
       "version_minor": 0
      },
      "text/plain": [
       "HBox(children=(IntProgress(value=0, max=1150), HTML(value=u'')))"
      ]
     },
     "metadata": {},
     "output_type": "display_data"
    },
    {
     "data": {
      "application/vnd.jupyter.widget-view+json": {
       "model_id": "",
       "version_major": 2,
       "version_minor": 0
      },
      "text/plain": [
       "HBox(children=(IntProgress(value=0, max=128), HTML(value=u'')))"
      ]
     },
     "metadata": {},
     "output_type": "display_data"
    },
    {
     "name": "stdout",
     "output_type": "stream",
     "text": [
      "Epoch [31/50] train_loss: 0.0011, train_acc: 1.0000, val_loss: 1.9684, val_acc: 0.6302 \n"
     ]
    },
    {
     "data": {
      "application/vnd.jupyter.widget-view+json": {
       "model_id": "",
       "version_major": 2,
       "version_minor": 0
      },
      "text/plain": [
       "HBox(children=(IntProgress(value=0, max=1150), HTML(value=u'')))"
      ]
     },
     "metadata": {},
     "output_type": "display_data"
    },
    {
     "data": {
      "application/vnd.jupyter.widget-view+json": {
       "model_id": "",
       "version_major": 2,
       "version_minor": 0
      },
      "text/plain": [
       "HBox(children=(IntProgress(value=0, max=128), HTML(value=u'')))"
      ]
     },
     "metadata": {},
     "output_type": "display_data"
    },
    {
     "name": "stdout",
     "output_type": "stream",
     "text": [
      "Epoch [32/50] train_loss: 0.0008, train_acc: 1.0000, val_loss: 2.0232, val_acc: 0.6328 \n"
     ]
    },
    {
     "data": {
      "application/vnd.jupyter.widget-view+json": {
       "model_id": "",
       "version_major": 2,
       "version_minor": 0
      },
      "text/plain": [
       "HBox(children=(IntProgress(value=0, max=1150), HTML(value=u'')))"
      ]
     },
     "metadata": {},
     "output_type": "display_data"
    },
    {
     "data": {
      "application/vnd.jupyter.widget-view+json": {
       "model_id": "",
       "version_major": 2,
       "version_minor": 0
      },
      "text/plain": [
       "HBox(children=(IntProgress(value=0, max=128), HTML(value=u'')))"
      ]
     },
     "metadata": {},
     "output_type": "display_data"
    },
    {
     "name": "stdout",
     "output_type": "stream",
     "text": [
      "Epoch [33/50] train_loss: 0.0005, train_acc: 1.0000, val_loss: 2.0849, val_acc: 0.6406 \n"
     ]
    },
    {
     "data": {
      "application/vnd.jupyter.widget-view+json": {
       "model_id": "",
       "version_major": 2,
       "version_minor": 0
      },
      "text/plain": [
       "HBox(children=(IntProgress(value=0, max=1150), HTML(value=u'')))"
      ]
     },
     "metadata": {},
     "output_type": "display_data"
    },
    {
     "data": {
      "application/vnd.jupyter.widget-view+json": {
       "model_id": "",
       "version_major": 2,
       "version_minor": 0
      },
      "text/plain": [
       "HBox(children=(IntProgress(value=0, max=128), HTML(value=u'')))"
      ]
     },
     "metadata": {},
     "output_type": "display_data"
    },
    {
     "name": "stdout",
     "output_type": "stream",
     "text": [
      "Epoch [34/50] train_loss: 0.0004, train_acc: 1.0000, val_loss: 2.2117, val_acc: 0.6536 \n"
     ]
    },
    {
     "data": {
      "application/vnd.jupyter.widget-view+json": {
       "model_id": "",
       "version_major": 2,
       "version_minor": 0
      },
      "text/plain": [
       "HBox(children=(IntProgress(value=0, max=1150), HTML(value=u'')))"
      ]
     },
     "metadata": {},
     "output_type": "display_data"
    },
    {
     "data": {
      "application/vnd.jupyter.widget-view+json": {
       "model_id": "",
       "version_major": 2,
       "version_minor": 0
      },
      "text/plain": [
       "HBox(children=(IntProgress(value=0, max=128), HTML(value=u'')))"
      ]
     },
     "metadata": {},
     "output_type": "display_data"
    },
    {
     "name": "stdout",
     "output_type": "stream",
     "text": [
      "Epoch [35/50] train_loss: 0.0562, train_acc: 0.9806, val_loss: 2.0561, val_acc: 0.6328 \n"
     ]
    },
    {
     "data": {
      "application/vnd.jupyter.widget-view+json": {
       "model_id": "",
       "version_major": 2,
       "version_minor": 0
      },
      "text/plain": [
       "HBox(children=(IntProgress(value=0, max=1150), HTML(value=u'')))"
      ]
     },
     "metadata": {},
     "output_type": "display_data"
    },
    {
     "data": {
      "application/vnd.jupyter.widget-view+json": {
       "model_id": "",
       "version_major": 2,
       "version_minor": 0
      },
      "text/plain": [
       "HBox(children=(IntProgress(value=0, max=128), HTML(value=u'')))"
      ]
     },
     "metadata": {},
     "output_type": "display_data"
    },
    {
     "name": "stdout",
     "output_type": "stream",
     "text": [
      "Epoch [36/50] train_loss: 0.0115, train_acc: 0.9971, val_loss: 2.2519, val_acc: 0.6562 \n"
     ]
    },
    {
     "data": {
      "application/vnd.jupyter.widget-view+json": {
       "model_id": "",
       "version_major": 2,
       "version_minor": 0
      },
      "text/plain": [
       "HBox(children=(IntProgress(value=0, max=1150), HTML(value=u'')))"
      ]
     },
     "metadata": {},
     "output_type": "display_data"
    },
    {
     "data": {
      "application/vnd.jupyter.widget-view+json": {
       "model_id": "",
       "version_major": 2,
       "version_minor": 0
      },
      "text/plain": [
       "HBox(children=(IntProgress(value=0, max=128), HTML(value=u'')))"
      ]
     },
     "metadata": {},
     "output_type": "display_data"
    },
    {
     "name": "stdout",
     "output_type": "stream",
     "text": [
      "Epoch [37/50] train_loss: 0.0026, train_acc: 1.0000, val_loss: 2.1266, val_acc: 0.6458 \n"
     ]
    },
    {
     "data": {
      "application/vnd.jupyter.widget-view+json": {
       "model_id": "",
       "version_major": 2,
       "version_minor": 0
      },
      "text/plain": [
       "HBox(children=(IntProgress(value=0, max=1150), HTML(value=u'')))"
      ]
     },
     "metadata": {},
     "output_type": "display_data"
    },
    {
     "data": {
      "application/vnd.jupyter.widget-view+json": {
       "model_id": "",
       "version_major": 2,
       "version_minor": 0
      },
      "text/plain": [
       "HBox(children=(IntProgress(value=0, max=128), HTML(value=u'')))"
      ]
     },
     "metadata": {},
     "output_type": "display_data"
    },
    {
     "name": "stdout",
     "output_type": "stream",
     "text": [
      "Epoch [38/50] train_loss: 0.0008, train_acc: 1.0000, val_loss: 2.2046, val_acc: 0.6432 \n"
     ]
    },
    {
     "data": {
      "application/vnd.jupyter.widget-view+json": {
       "model_id": "",
       "version_major": 2,
       "version_minor": 0
      },
      "text/plain": [
       "HBox(children=(IntProgress(value=0, max=1150), HTML(value=u'')))"
      ]
     },
     "metadata": {},
     "output_type": "display_data"
    },
    {
     "data": {
      "application/vnd.jupyter.widget-view+json": {
       "model_id": "",
       "version_major": 2,
       "version_minor": 0
      },
      "text/plain": [
       "HBox(children=(IntProgress(value=0, max=128), HTML(value=u'')))"
      ]
     },
     "metadata": {},
     "output_type": "display_data"
    },
    {
     "name": "stdout",
     "output_type": "stream",
     "text": [
      "Epoch [39/50] train_loss: 0.0005, train_acc: 1.0000, val_loss: 2.1945, val_acc: 0.6458 \n"
     ]
    },
    {
     "data": {
      "application/vnd.jupyter.widget-view+json": {
       "model_id": "",
       "version_major": 2,
       "version_minor": 0
      },
      "text/plain": [
       "HBox(children=(IntProgress(value=0, max=1150), HTML(value=u'')))"
      ]
     },
     "metadata": {},
     "output_type": "display_data"
    },
    {
     "data": {
      "application/vnd.jupyter.widget-view+json": {
       "model_id": "",
       "version_major": 2,
       "version_minor": 0
      },
      "text/plain": [
       "HBox(children=(IntProgress(value=0, max=128), HTML(value=u'')))"
      ]
     },
     "metadata": {},
     "output_type": "display_data"
    },
    {
     "name": "stdout",
     "output_type": "stream",
     "text": [
      "Epoch [40/50] train_loss: 0.0003, train_acc: 1.0000, val_loss: 2.2655, val_acc: 0.6432 \n"
     ]
    },
    {
     "data": {
      "application/vnd.jupyter.widget-view+json": {
       "model_id": "",
       "version_major": 2,
       "version_minor": 0
      },
      "text/plain": [
       "HBox(children=(IntProgress(value=0, max=1150), HTML(value=u'')))"
      ]
     },
     "metadata": {},
     "output_type": "display_data"
    },
    {
     "data": {
      "application/vnd.jupyter.widget-view+json": {
       "model_id": "",
       "version_major": 2,
       "version_minor": 0
      },
      "text/plain": [
       "HBox(children=(IntProgress(value=0, max=128), HTML(value=u'')))"
      ]
     },
     "metadata": {},
     "output_type": "display_data"
    },
    {
     "name": "stdout",
     "output_type": "stream",
     "text": [
      "Epoch [41/50] train_loss: 0.0002, train_acc: 1.0000, val_loss: 2.3017, val_acc: 0.6484 \n"
     ]
    },
    {
     "data": {
      "application/vnd.jupyter.widget-view+json": {
       "model_id": "",
       "version_major": 2,
       "version_minor": 0
      },
      "text/plain": [
       "HBox(children=(IntProgress(value=0, max=1150), HTML(value=u'')))"
      ]
     },
     "metadata": {},
     "output_type": "display_data"
    },
    {
     "data": {
      "application/vnd.jupyter.widget-view+json": {
       "model_id": "",
       "version_major": 2,
       "version_minor": 0
      },
      "text/plain": [
       "HBox(children=(IntProgress(value=0, max=128), HTML(value=u'')))"
      ]
     },
     "metadata": {},
     "output_type": "display_data"
    },
    {
     "name": "stdout",
     "output_type": "stream",
     "text": [
      "Epoch [42/50] train_loss: 0.0002, train_acc: 1.0000, val_loss: 2.3611, val_acc: 0.6484 \n"
     ]
    },
    {
     "data": {
      "application/vnd.jupyter.widget-view+json": {
       "model_id": "",
       "version_major": 2,
       "version_minor": 0
      },
      "text/plain": [
       "HBox(children=(IntProgress(value=0, max=1150), HTML(value=u'')))"
      ]
     },
     "metadata": {},
     "output_type": "display_data"
    },
    {
     "data": {
      "application/vnd.jupyter.widget-view+json": {
       "model_id": "",
       "version_major": 2,
       "version_minor": 0
      },
      "text/plain": [
       "HBox(children=(IntProgress(value=0, max=128), HTML(value=u'')))"
      ]
     },
     "metadata": {},
     "output_type": "display_data"
    },
    {
     "name": "stdout",
     "output_type": "stream",
     "text": [
      "Epoch [43/50] train_loss: 0.0489, train_acc: 0.9800, val_loss: 2.0752, val_acc: 0.6380 \n"
     ]
    },
    {
     "data": {
      "application/vnd.jupyter.widget-view+json": {
       "model_id": "",
       "version_major": 2,
       "version_minor": 0
      },
      "text/plain": [
       "HBox(children=(IntProgress(value=0, max=1150), HTML(value=u'')))"
      ]
     },
     "metadata": {},
     "output_type": "display_data"
    },
    {
     "data": {
      "application/vnd.jupyter.widget-view+json": {
       "model_id": "",
       "version_major": 2,
       "version_minor": 0
      },
      "text/plain": [
       "HBox(children=(IntProgress(value=0, max=128), HTML(value=u'')))"
      ]
     },
     "metadata": {},
     "output_type": "display_data"
    },
    {
     "name": "stdout",
     "output_type": "stream",
     "text": [
      "Epoch [44/50] train_loss: 0.0187, train_acc: 0.9945, val_loss: 2.1424, val_acc: 0.6094 \n"
     ]
    },
    {
     "data": {
      "application/vnd.jupyter.widget-view+json": {
       "model_id": "",
       "version_major": 2,
       "version_minor": 0
      },
      "text/plain": [
       "HBox(children=(IntProgress(value=0, max=1150), HTML(value=u'')))"
      ]
     },
     "metadata": {},
     "output_type": "display_data"
    },
    {
     "data": {
      "application/vnd.jupyter.widget-view+json": {
       "model_id": "",
       "version_major": 2,
       "version_minor": 0
      },
      "text/plain": [
       "HBox(children=(IntProgress(value=0, max=128), HTML(value=u'')))"
      ]
     },
     "metadata": {},
     "output_type": "display_data"
    },
    {
     "name": "stdout",
     "output_type": "stream",
     "text": [
      "Epoch [45/50] train_loss: 0.0053, train_acc: 0.9988, val_loss: 2.0824, val_acc: 0.6224 \n"
     ]
    },
    {
     "data": {
      "application/vnd.jupyter.widget-view+json": {
       "model_id": "",
       "version_major": 2,
       "version_minor": 0
      },
      "text/plain": [
       "HBox(children=(IntProgress(value=0, max=1150), HTML(value=u'')))"
      ]
     },
     "metadata": {},
     "output_type": "display_data"
    },
    {
     "data": {
      "application/vnd.jupyter.widget-view+json": {
       "model_id": "",
       "version_major": 2,
       "version_minor": 0
      },
      "text/plain": [
       "HBox(children=(IntProgress(value=0, max=128), HTML(value=u'')))"
      ]
     },
     "metadata": {},
     "output_type": "display_data"
    },
    {
     "name": "stdout",
     "output_type": "stream",
     "text": [
      "Epoch [46/50] train_loss: 0.0021, train_acc: 0.9997, val_loss: 2.0794, val_acc: 0.6432 \n"
     ]
    },
    {
     "data": {
      "application/vnd.jupyter.widget-view+json": {
       "model_id": "",
       "version_major": 2,
       "version_minor": 0
      },
      "text/plain": [
       "HBox(children=(IntProgress(value=0, max=1150), HTML(value=u'')))"
      ]
     },
     "metadata": {},
     "output_type": "display_data"
    },
    {
     "data": {
      "application/vnd.jupyter.widget-view+json": {
       "model_id": "",
       "version_major": 2,
       "version_minor": 0
      },
      "text/plain": [
       "HBox(children=(IntProgress(value=0, max=128), HTML(value=u'')))"
      ]
     },
     "metadata": {},
     "output_type": "display_data"
    },
    {
     "name": "stdout",
     "output_type": "stream",
     "text": [
      "Epoch [47/50] train_loss: 0.0007, train_acc: 1.0000, val_loss: 2.1996, val_acc: 0.6354 \n"
     ]
    },
    {
     "data": {
      "application/vnd.jupyter.widget-view+json": {
       "model_id": "",
       "version_major": 2,
       "version_minor": 0
      },
      "text/plain": [
       "HBox(children=(IntProgress(value=0, max=1150), HTML(value=u'')))"
      ]
     },
     "metadata": {},
     "output_type": "display_data"
    },
    {
     "data": {
      "application/vnd.jupyter.widget-view+json": {
       "model_id": "",
       "version_major": 2,
       "version_minor": 0
      },
      "text/plain": [
       "HBox(children=(IntProgress(value=0, max=128), HTML(value=u'')))"
      ]
     },
     "metadata": {},
     "output_type": "display_data"
    },
    {
     "name": "stdout",
     "output_type": "stream",
     "text": [
      "Epoch [48/50] train_loss: 0.0003, train_acc: 1.0000, val_loss: 2.2230, val_acc: 0.6302 \n"
     ]
    },
    {
     "data": {
      "application/vnd.jupyter.widget-view+json": {
       "model_id": "",
       "version_major": 2,
       "version_minor": 0
      },
      "text/plain": [
       "HBox(children=(IntProgress(value=0, max=1150), HTML(value=u'')))"
      ]
     },
     "metadata": {},
     "output_type": "display_data"
    },
    {
     "data": {
      "application/vnd.jupyter.widget-view+json": {
       "model_id": "",
       "version_major": 2,
       "version_minor": 0
      },
      "text/plain": [
       "HBox(children=(IntProgress(value=0, max=128), HTML(value=u'')))"
      ]
     },
     "metadata": {},
     "output_type": "display_data"
    },
    {
     "name": "stdout",
     "output_type": "stream",
     "text": [
      "Epoch [49/50] train_loss: 0.0002, train_acc: 1.0000, val_loss: 2.2697, val_acc: 0.6354 \n"
     ]
    },
    {
     "data": {
      "application/vnd.jupyter.widget-view+json": {
       "model_id": "",
       "version_major": 2,
       "version_minor": 0
      },
      "text/plain": [
       "HBox(children=(IntProgress(value=0, max=1150), HTML(value=u'')))"
      ]
     },
     "metadata": {},
     "output_type": "display_data"
    },
    {
     "data": {
      "application/vnd.jupyter.widget-view+json": {
       "model_id": "",
       "version_major": 2,
       "version_minor": 0
      },
      "text/plain": [
       "HBox(children=(IntProgress(value=0, max=128), HTML(value=u'')))"
      ]
     },
     "metadata": {},
     "output_type": "display_data"
    },
    {
     "name": "stdout",
     "output_type": "stream",
     "text": [
      "Epoch [50/50] train_loss: 0.0002, train_acc: 1.0000, val_loss: 2.3049, val_acc: 0.6328 \n",
      "\n"
     ]
    }
   ],
   "source": [
    "opt = optim.Adam(filter(lambda p: p.requires_grad, m.parameters()), 1e-3)\n",
    "\n",
    "train_acc_list, train_loss_list, val_acc_list, val_loss_list = fit_y(model=m, train_dl=train_batch_it, val_dl=val_batch_it, loss_fn=F.nll_loss, opt=opt, epochs=50)"
   ]
  },
  {
   "cell_type": "code",
   "execution_count": 46,
   "metadata": {},
   "outputs": [
    {
     "data": {
      "image/png": "[encoded data removed]",
      "text/plain": [
       "<Figure size 432x288 with 1 Axes>"
      ]
     },
     "metadata": {
      "needs_background": "light"
     },
     "output_type": "display_data"
    }
   ],
   "source": [
    "#plot train/val accuracies\n",
    "plt.title(\"Train/Test Acc\")\n",
    "plt.xlabel(\"epoch\")\n",
    "plt.ylabel('acc')\n",
    "line1 = plt.plot(train_acc_list, color='red')\n",
    "line2 = plt.plot(val_acc_list, color='blue')\n",
    "plt.legend(['Train', 'Test'], loc='upper left')\n",
    "plt.savefig('nlpcpgruacc.png')   # save the figure to file\n",
    "plt.show()\n",
    "plt.close()"
   ]
  },
  {
   "cell_type": "code",
   "execution_count": 47,
   "metadata": {},
   "outputs": [
    {
     "data": {
      "image/png": "[encoded data removed]",
      "text/plain": [
       "<Figure size 432x288 with 1 Axes>"
      ]
     },
     "metadata": {
      "needs_background": "light"
     },
     "output_type": "display_data"
    }
   ],
   "source": [
    "#plot train/val accuracies\n",
    "plt.title(\"Train/Test Loss\")\n",
    "plt.xlabel(\"epoch\")\n",
    "plt.ylabel('loss')\n",
    "line1 = plt.plot(train_loss_list, color='red')\n",
    "line2 = plt.plot(val_loss_list, color='blue')\n",
    "plt.legend(['Train', 'Test'], loc='upper left')\n",
    "plt.savefig('nlpcpgruloss.png')   # save the figure to file\n",
    "plt.show()\n",
    "plt.close()"
   ]
  },
  {
   "cell_type": "code",
   "execution_count": 48,
   "metadata": {},
   "outputs": [
    {
     "data": {
      "application/vnd.jupyter.widget-view+json": {
       "model_id": "20ac43771aba48ff86a6687e7aed0bee",
       "version_major": 2,
       "version_minor": 0
      },
      "text/plain": [
       "HBox(children=(IntProgress(value=0, max=50), HTML(value=u'')))"
      ]
     },
     "metadata": {},
     "output_type": "display_data"
    },
    {
     "data": {
      "application/vnd.jupyter.widget-view+json": {
       "model_id": "",
       "version_major": 2,
       "version_minor": 0
      },
      "text/plain": [
       "HBox(children=(IntProgress(value=0, max=1150), HTML(value=u'')))"
      ]
     },
     "metadata": {},
     "output_type": "display_data"
    },
    {
     "data": {
      "application/vnd.jupyter.widget-view+json": {
       "model_id": "",
       "version_major": 2,
       "version_minor": 0
      },
      "text/plain": [
       "HBox(children=(IntProgress(value=0, max=128), HTML(value=u'')))"
      ]
     },
     "metadata": {},
     "output_type": "display_data"
    },
    {
     "name": "stdout",
     "output_type": "stream",
     "text": [
      "Epoch [1/50] train_loss: 1.0117, train_acc: 0.5736, val_loss: 1.0914, val_acc: 0.5339 \n"
     ]
    },
    {
     "data": {
      "application/vnd.jupyter.widget-view+json": {
       "model_id": "",
       "version_major": 2,
       "version_minor": 0
      },
      "text/plain": [
       "HBox(children=(IntProgress(value=0, max=1150), HTML(value=u'')))"
      ]
     },
     "metadata": {},
     "output_type": "display_data"
    },
    {
     "data": {
      "application/vnd.jupyter.widget-view+json": {
       "model_id": "",
       "version_major": 2,
       "version_minor": 0
      },
      "text/plain": [
       "HBox(children=(IntProgress(value=0, max=128), HTML(value=u'')))"
      ]
     },
     "metadata": {},
     "output_type": "display_data"
    },
    {
     "name": "stdout",
     "output_type": "stream",
     "text": [
      "Epoch [2/50] train_loss: 0.8915, train_acc: 0.6310, val_loss: 1.3650, val_acc: 0.3776 \n"
     ]
    },
    {
     "data": {
      "application/vnd.jupyter.widget-view+json": {
       "model_id": "",
       "version_major": 2,
       "version_minor": 0
      },
      "text/plain": [
       "HBox(children=(IntProgress(value=0, max=1150), HTML(value=u'')))"
      ]
     },
     "metadata": {},
     "output_type": "display_data"
    },
    {
     "data": {
      "application/vnd.jupyter.widget-view+json": {
       "model_id": "",
       "version_major": 2,
       "version_minor": 0
      },
      "text/plain": [
       "HBox(children=(IntProgress(value=0, max=128), HTML(value=u'')))"
      ]
     },
     "metadata": {},
     "output_type": "display_data"
    },
    {
     "name": "stdout",
     "output_type": "stream",
     "text": [
      "Epoch [3/50] train_loss: 0.8257, train_acc: 0.6646, val_loss: 1.3535, val_acc: 0.5339 \n"
     ]
    },
    {
     "data": {
      "application/vnd.jupyter.widget-view+json": {
       "model_id": "",
       "version_major": 2,
       "version_minor": 0
      },
      "text/plain": [
       "HBox(children=(IntProgress(value=0, max=1150), HTML(value=u'')))"
      ]
     },
     "metadata": {},
     "output_type": "display_data"
    },
    {
     "data": {
      "application/vnd.jupyter.widget-view+json": {
       "model_id": "",
       "version_major": 2,
       "version_minor": 0
      },
      "text/plain": [
       "HBox(children=(IntProgress(value=0, max=128), HTML(value=u'')))"
      ]
     },
     "metadata": {},
     "output_type": "display_data"
    },
    {
     "name": "stdout",
     "output_type": "stream",
     "text": [
      "Epoch [4/50] train_loss: 0.7506, train_acc: 0.7035, val_loss: 1.5039, val_acc: 0.4766 \n"
     ]
    },
    {
     "data": {
      "application/vnd.jupyter.widget-view+json": {
       "model_id": "",
       "version_major": 2,
       "version_minor": 0
      },
      "text/plain": [
       "HBox(children=(IntProgress(value=0, max=1150), HTML(value=u'')))"
      ]
     },
     "metadata": {},
     "output_type": "display_data"
    },
    {
     "data": {
      "application/vnd.jupyter.widget-view+json": {
       "model_id": "",
       "version_major": 2,
       "version_minor": 0
      },
      "text/plain": [
       "HBox(children=(IntProgress(value=0, max=128), HTML(value=u'')))"
      ]
     },
     "metadata": {},
     "output_type": "display_data"
    },
    {
     "name": "stdout",
     "output_type": "stream",
     "text": [
      "Epoch [5/50] train_loss: 0.6567, train_acc: 0.7458, val_loss: 1.3990, val_acc: 0.4766 \n"
     ]
    },
    {
     "data": {
      "application/vnd.jupyter.widget-view+json": {
       "model_id": "",
       "version_major": 2,
       "version_minor": 0
      },
      "text/plain": [
       "HBox(children=(IntProgress(value=0, max=1150), HTML(value=u'')))"
      ]
     },
     "metadata": {},
     "output_type": "display_data"
    },
    {
     "data": {
      "application/vnd.jupyter.widget-view+json": {
       "model_id": "",
       "version_major": 2,
       "version_minor": 0
      },
      "text/plain": [
       "HBox(children=(IntProgress(value=0, max=128), HTML(value=u'')))"
      ]
     },
     "metadata": {},
     "output_type": "display_data"
    },
    {
     "name": "stdout",
     "output_type": "stream",
     "text": [
      "Epoch [6/50] train_loss: 0.5454, train_acc: 0.7872, val_loss: 2.1680, val_acc: 0.4557 \n"
     ]
    },
    {
     "data": {
      "application/vnd.jupyter.widget-view+json": {
       "model_id": "",
       "version_major": 2,
       "version_minor": 0
      },
      "text/plain": [
       "HBox(children=(IntProgress(value=0, max=1150), HTML(value=u'')))"
      ]
     },
     "metadata": {},
     "output_type": "display_data"
    },
    {
     "data": {
      "application/vnd.jupyter.widget-view+json": {
       "model_id": "",
       "version_major": 2,
       "version_minor": 0
      },
      "text/plain": [
       "HBox(children=(IntProgress(value=0, max=128), HTML(value=u'')))"
      ]
     },
     "metadata": {},
     "output_type": "display_data"
    },
    {
     "name": "stdout",
     "output_type": "stream",
     "text": [
      "Epoch [7/50] train_loss: 0.4254, train_acc: 0.8475, val_loss: 1.9948, val_acc: 0.3958 \n"
     ]
    },
    {
     "data": {
      "application/vnd.jupyter.widget-view+json": {
       "model_id": "",
       "version_major": 2,
       "version_minor": 0
      },
      "text/plain": [
       "HBox(children=(IntProgress(value=0, max=1150), HTML(value=u'')))"
      ]
     },
     "metadata": {},
     "output_type": "display_data"
    },
    {
     "data": {
      "application/vnd.jupyter.widget-view+json": {
       "model_id": "",
       "version_major": 2,
       "version_minor": 0
      },
      "text/plain": [
       "HBox(children=(IntProgress(value=0, max=128), HTML(value=u'')))"
      ]
     },
     "metadata": {},
     "output_type": "display_data"
    },
    {
     "name": "stdout",
     "output_type": "stream",
     "text": [
      "Epoch [8/50] train_loss: 0.3050, train_acc: 0.8997, val_loss: 1.6962, val_acc: 0.5339 \n"
     ]
    },
    {
     "data": {
      "application/vnd.jupyter.widget-view+json": {
       "model_id": "",
       "version_major": 2,
       "version_minor": 0
      },
      "text/plain": [
       "HBox(children=(IntProgress(value=0, max=1150), HTML(value=u'')))"
      ]
     },
     "metadata": {},
     "output_type": "display_data"
    },
    {
     "data": {
      "application/vnd.jupyter.widget-view+json": {
       "model_id": "",
       "version_major": 2,
       "version_minor": 0
      },
      "text/plain": [
       "HBox(children=(IntProgress(value=0, max=128), HTML(value=u'')))"
      ]
     },
     "metadata": {},
     "output_type": "display_data"
    },
    {
     "name": "stdout",
     "output_type": "stream",
     "text": [
      "Epoch [9/50] train_loss: 0.2102, train_acc: 0.9374, val_loss: 2.5886, val_acc: 0.4557 \n"
     ]
    },
    {
     "data": {
      "application/vnd.jupyter.widget-view+json": {
       "model_id": "",
       "version_major": 2,
       "version_minor": 0
      },
      "text/plain": [
       "HBox(children=(IntProgress(value=0, max=1150), HTML(value=u'')))"
      ]
     },
     "metadata": {},
     "output_type": "display_data"
    },
    {
     "data": {
      "application/vnd.jupyter.widget-view+json": {
       "model_id": "",
       "version_major": 2,
       "version_minor": 0
      },
      "text/plain": [
       "HBox(children=(IntProgress(value=0, max=128), HTML(value=u'')))"
      ]
     },
     "metadata": {},
     "output_type": "display_data"
    },
    {
     "name": "stdout",
     "output_type": "stream",
     "text": [
      "Epoch [10/50] train_loss: 0.1413, train_acc: 0.9594, val_loss: 2.6334, val_acc: 0.5339 \n"
     ]
    },
    {
     "data": {
      "application/vnd.jupyter.widget-view+json": {
       "model_id": "",
       "version_major": 2,
       "version_minor": 0
      },
      "text/plain": [
       "HBox(children=(IntProgress(value=0, max=1150), HTML(value=u'')))"
      ]
     },
     "metadata": {},
     "output_type": "display_data"
    },
    {
     "data": {
      "application/vnd.jupyter.widget-view+json": {
       "model_id": "",
       "version_major": 2,
       "version_minor": 0
      },
      "text/plain": [
       "HBox(children=(IntProgress(value=0, max=128), HTML(value=u'')))"
      ]
     },
     "metadata": {},
     "output_type": "display_data"
    },
    {
     "name": "stdout",
     "output_type": "stream",
     "text": [
      "Epoch [11/50] train_loss: 0.0983, train_acc: 0.9745, val_loss: 4.8028, val_acc: 0.4766 \n"
     ]
    },
    {
     "data": {
      "application/vnd.jupyter.widget-view+json": {
       "model_id": "",
       "version_major": 2,
       "version_minor": 0
      },
      "text/plain": [
       "HBox(children=(IntProgress(value=0, max=1150), HTML(value=u'')))"
      ]
     },
     "metadata": {},
     "output_type": "display_data"
    },
    {
     "data": {
      "application/vnd.jupyter.widget-view+json": {
       "model_id": "",
       "version_major": 2,
       "version_minor": 0
      },
      "text/plain": [
       "HBox(children=(IntProgress(value=0, max=128), HTML(value=u'')))"
      ]
     },
     "metadata": {},
     "output_type": "display_data"
    },
    {
     "name": "stdout",
     "output_type": "stream",
     "text": [
      "Epoch [12/50] train_loss: 0.0594, train_acc: 0.9875, val_loss: 3.4769, val_acc: 0.3984 \n"
     ]
    },
    {
     "data": {
      "application/vnd.jupyter.widget-view+json": {
       "model_id": "",
       "version_major": 2,
       "version_minor": 0
      },
      "text/plain": [
       "HBox(children=(IntProgress(value=0, max=1150), HTML(value=u'')))"
      ]
     },
     "metadata": {},
     "output_type": "display_data"
    },
    {
     "data": {
      "application/vnd.jupyter.widget-view+json": {
       "model_id": "",
       "version_major": 2,
       "version_minor": 0
      },
      "text/plain": [
       "HBox(children=(IntProgress(value=0, max=128), HTML(value=u'')))"
      ]
     },
     "metadata": {},
     "output_type": "display_data"
    },
    {
     "name": "stdout",
     "output_type": "stream",
     "text": [
      "Epoch [13/50] train_loss: 0.0459, train_acc: 0.9890, val_loss: 4.1724, val_acc: 0.4766 \n"
     ]
    },
    {
     "data": {
      "application/vnd.jupyter.widget-view+json": {
       "model_id": "",
       "version_major": 2,
       "version_minor": 0
      },
      "text/plain": [
       "HBox(children=(IntProgress(value=0, max=1150), HTML(value=u'')))"
      ]
     },
     "metadata": {},
     "output_type": "display_data"
    },
    {
     "data": {
      "application/vnd.jupyter.widget-view+json": {
       "model_id": "",
       "version_major": 2,
       "version_minor": 0
      },
      "text/plain": [
       "HBox(children=(IntProgress(value=0, max=128), HTML(value=u'')))"
      ]
     },
     "metadata": {},
     "output_type": "display_data"
    },
    {
     "name": "stdout",
     "output_type": "stream",
     "text": [
      "Epoch [14/50] train_loss: 0.0300, train_acc: 0.9933, val_loss: 5.0039, val_acc: 0.3984 \n"
     ]
    },
    {
     "data": {
      "application/vnd.jupyter.widget-view+json": {
       "model_id": "",
       "version_major": 2,
       "version_minor": 0
      },
      "text/plain": [
       "HBox(children=(IntProgress(value=0, max=1150), HTML(value=u'')))"
      ]
     },
     "metadata": {},
     "output_type": "display_data"
    },
    {
     "data": {
      "application/vnd.jupyter.widget-view+json": {
       "model_id": "",
       "version_major": 2,
       "version_minor": 0
      },
      "text/plain": [
       "HBox(children=(IntProgress(value=0, max=128), HTML(value=u'')))"
      ]
     },
     "metadata": {},
     "output_type": "display_data"
    },
    {
     "name": "stdout",
     "output_type": "stream",
     "text": [
      "Epoch [15/50] train_loss: 0.0246, train_acc: 0.9968, val_loss: 8.1247, val_acc: 0.3984 \n"
     ]
    },
    {
     "data": {
      "application/vnd.jupyter.widget-view+json": {
       "model_id": "",
       "version_major": 2,
       "version_minor": 0
      },
      "text/plain": [
       "HBox(children=(IntProgress(value=0, max=1150), HTML(value=u'')))"
      ]
     },
     "metadata": {},
     "output_type": "display_data"
    },
    {
     "data": {
      "application/vnd.jupyter.widget-view+json": {
       "model_id": "",
       "version_major": 2,
       "version_minor": 0
      },
      "text/plain": [
       "HBox(children=(IntProgress(value=0, max=128), HTML(value=u'')))"
      ]
     },
     "metadata": {},
     "output_type": "display_data"
    },
    {
     "name": "stdout",
     "output_type": "stream",
     "text": [
      "Epoch [16/50] train_loss: 0.0492, train_acc: 0.9846, val_loss: 8.9455, val_acc: 0.3984 \n"
     ]
    },
    {
     "data": {
      "application/vnd.jupyter.widget-view+json": {
       "model_id": "",
       "version_major": 2,
       "version_minor": 0
      },
      "text/plain": [
       "HBox(children=(IntProgress(value=0, max=1150), HTML(value=u'')))"
      ]
     },
     "metadata": {},
     "output_type": "display_data"
    },
    {
     "data": {
      "application/vnd.jupyter.widget-view+json": {
       "model_id": "",
       "version_major": 2,
       "version_minor": 0
      },
      "text/plain": [
       "HBox(children=(IntProgress(value=0, max=128), HTML(value=u'')))"
      ]
     },
     "metadata": {},
     "output_type": "display_data"
    },
    {
     "name": "stdout",
     "output_type": "stream",
     "text": [
      "Epoch [17/50] train_loss: 0.0252, train_acc: 0.9925, val_loss: 6.8842, val_acc: 0.3646 \n"
     ]
    },
    {
     "data": {
      "application/vnd.jupyter.widget-view+json": {
       "model_id": "",
       "version_major": 2,
       "version_minor": 0
      },
      "text/plain": [
       "HBox(children=(IntProgress(value=0, max=1150), HTML(value=u'')))"
      ]
     },
     "metadata": {},
     "output_type": "display_data"
    },
    {
     "data": {
      "application/vnd.jupyter.widget-view+json": {
       "model_id": "",
       "version_major": 2,
       "version_minor": 0
      },
      "text/plain": [
       "HBox(children=(IntProgress(value=0, max=128), HTML(value=u'')))"
      ]
     },
     "metadata": {},
     "output_type": "display_data"
    },
    {
     "name": "stdout",
     "output_type": "stream",
     "text": [
      "Epoch [18/50] train_loss: 0.0331, train_acc: 0.9890, val_loss: 6.7863, val_acc: 0.3646 \n"
     ]
    },
    {
     "data": {
      "application/vnd.jupyter.widget-view+json": {
       "model_id": "",
       "version_major": 2,
       "version_minor": 0
      },
      "text/plain": [
       "HBox(children=(IntProgress(value=0, max=1150), HTML(value=u'')))"
      ]
     },
     "metadata": {},
     "output_type": "display_data"
    },
    {
     "data": {
      "application/vnd.jupyter.widget-view+json": {
       "model_id": "",
       "version_major": 2,
       "version_minor": 0
      },
      "text/plain": [
       "HBox(children=(IntProgress(value=0, max=128), HTML(value=u'')))"
      ]
     },
     "metadata": {},
     "output_type": "display_data"
    },
    {
     "name": "stdout",
     "output_type": "stream",
     "text": [
      "Epoch [19/50] train_loss: 0.0268, train_acc: 0.9930, val_loss: 6.1330, val_acc: 0.3125 \n"
     ]
    },
    {
     "data": {
      "application/vnd.jupyter.widget-view+json": {
       "model_id": "",
       "version_major": 2,
       "version_minor": 0
      },
      "text/plain": [
       "HBox(children=(IntProgress(value=0, max=1150), HTML(value=u'')))"
      ]
     },
     "metadata": {},
     "output_type": "display_data"
    },
    {
     "data": {
      "application/vnd.jupyter.widget-view+json": {
       "model_id": "",
       "version_major": 2,
       "version_minor": 0
      },
      "text/plain": [
       "HBox(children=(IntProgress(value=0, max=128), HTML(value=u'')))"
      ]
     },
     "metadata": {},
     "output_type": "display_data"
    },
    {
     "name": "stdout",
     "output_type": "stream",
     "text": [
      "Epoch [20/50] train_loss: 0.0068, train_acc: 0.9988, val_loss: 10.8108, val_acc: 0.3177 \n"
     ]
    },
    {
     "data": {
      "application/vnd.jupyter.widget-view+json": {
       "model_id": "",
       "version_major": 2,
       "version_minor": 0
      },
      "text/plain": [
       "HBox(children=(IntProgress(value=0, max=1150), HTML(value=u'')))"
      ]
     },
     "metadata": {},
     "output_type": "display_data"
    },
    {
     "data": {
      "application/vnd.jupyter.widget-view+json": {
       "model_id": "",
       "version_major": 2,
       "version_minor": 0
      },
      "text/plain": [
       "HBox(children=(IntProgress(value=0, max=128), HTML(value=u'')))"
      ]
     },
     "metadata": {},
     "output_type": "display_data"
    },
    {
     "name": "stdout",
     "output_type": "stream",
     "text": [
      "Epoch [21/50] train_loss: 0.0031, train_acc: 0.9997, val_loss: 11.3236, val_acc: 0.2292 \n"
     ]
    },
    {
     "data": {
      "application/vnd.jupyter.widget-view+json": {
       "model_id": "",
       "version_major": 2,
       "version_minor": 0
      },
      "text/plain": [
       "HBox(children=(IntProgress(value=0, max=1150), HTML(value=u'')))"
      ]
     },
     "metadata": {},
     "output_type": "display_data"
    },
    {
     "data": {
      "application/vnd.jupyter.widget-view+json": {
       "model_id": "",
       "version_major": 2,
       "version_minor": 0
      },
      "text/plain": [
       "HBox(children=(IntProgress(value=0, max=128), HTML(value=u'')))"
      ]
     },
     "metadata": {},
     "output_type": "display_data"
    },
    {
     "name": "stdout",
     "output_type": "stream",
     "text": [
      "Epoch [22/50] train_loss: 0.0563, train_acc: 0.9846, val_loss: 5.5481, val_acc: 0.4557 \n"
     ]
    },
    {
     "data": {
      "application/vnd.jupyter.widget-view+json": {
       "model_id": "",
       "version_major": 2,
       "version_minor": 0
      },
      "text/plain": [
       "HBox(children=(IntProgress(value=0, max=1150), HTML(value=u'')))"
      ]
     },
     "metadata": {},
     "output_type": "display_data"
    },
    {
     "data": {
      "application/vnd.jupyter.widget-view+json": {
       "model_id": "",
       "version_major": 2,
       "version_minor": 0
      },
      "text/plain": [
       "HBox(children=(IntProgress(value=0, max=128), HTML(value=u'')))"
      ]
     },
     "metadata": {},
     "output_type": "display_data"
    },
    {
     "name": "stdout",
     "output_type": "stream",
     "text": [
      "Epoch [23/50] train_loss: 0.0228, train_acc: 0.9954, val_loss: 7.6522, val_acc: 0.4531 \n"
     ]
    },
    {
     "data": {
      "application/vnd.jupyter.widget-view+json": {
       "model_id": "",
       "version_major": 2,
       "version_minor": 0
      },
      "text/plain": [
       "HBox(children=(IntProgress(value=0, max=1150), HTML(value=u'')))"
      ]
     },
     "metadata": {},
     "output_type": "display_data"
    },
    {
     "data": {
      "application/vnd.jupyter.widget-view+json": {
       "model_id": "",
       "version_major": 2,
       "version_minor": 0
      },
      "text/plain": [
       "HBox(children=(IntProgress(value=0, max=128), HTML(value=u'')))"
      ]
     },
     "metadata": {},
     "output_type": "display_data"
    },
    {
     "name": "stdout",
     "output_type": "stream",
     "text": [
      "Epoch [24/50] train_loss: 0.0133, train_acc: 0.9974, val_loss: 5.9308, val_acc: 0.4557 \n"
     ]
    },
    {
     "data": {
      "application/vnd.jupyter.widget-view+json": {
       "model_id": "",
       "version_major": 2,
       "version_minor": 0
      },
      "text/plain": [
       "HBox(children=(IntProgress(value=0, max=1150), HTML(value=u'')))"
      ]
     },
     "metadata": {},
     "output_type": "display_data"
    },
    {
     "data": {
      "application/vnd.jupyter.widget-view+json": {
       "model_id": "",
       "version_major": 2,
       "version_minor": 0
      },
      "text/plain": [
       "HBox(children=(IntProgress(value=0, max=128), HTML(value=u'')))"
      ]
     },
     "metadata": {},
     "output_type": "display_data"
    },
    {
     "name": "stdout",
     "output_type": "stream",
     "text": [
      "Epoch [25/50] train_loss: 0.0332, train_acc: 0.9907, val_loss: 11.8836, val_acc: 0.2422 \n"
     ]
    },
    {
     "data": {
      "application/vnd.jupyter.widget-view+json": {
       "model_id": "",
       "version_major": 2,
       "version_minor": 0
      },
      "text/plain": [
       "HBox(children=(IntProgress(value=0, max=1150), HTML(value=u'')))"
      ]
     },
     "metadata": {},
     "output_type": "display_data"
    },
    {
     "data": {
      "application/vnd.jupyter.widget-view+json": {
       "model_id": "",
       "version_major": 2,
       "version_minor": 0
      },
      "text/plain": [
       "HBox(children=(IntProgress(value=0, max=128), HTML(value=u'')))"
      ]
     },
     "metadata": {},
     "output_type": "display_data"
    },
    {
     "name": "stdout",
     "output_type": "stream",
     "text": [
      "Epoch [26/50] train_loss: 0.0264, train_acc: 0.9916, val_loss: 5.3549, val_acc: 0.4766 \n"
     ]
    },
    {
     "data": {
      "application/vnd.jupyter.widget-view+json": {
       "model_id": "",
       "version_major": 2,
       "version_minor": 0
      },
      "text/plain": [
       "HBox(children=(IntProgress(value=0, max=1150), HTML(value=u'')))"
      ]
     },
     "metadata": {},
     "output_type": "display_data"
    },
    {
     "data": {
      "application/vnd.jupyter.widget-view+json": {
       "model_id": "",
       "version_major": 2,
       "version_minor": 0
      },
      "text/plain": [
       "HBox(children=(IntProgress(value=0, max=128), HTML(value=u'')))"
      ]
     },
     "metadata": {},
     "output_type": "display_data"
    },
    {
     "name": "stdout",
     "output_type": "stream",
     "text": [
      "Epoch [27/50] train_loss: 0.0257, train_acc: 0.9916, val_loss: 9.5176, val_acc: 0.3177 \n"
     ]
    },
    {
     "data": {
      "application/vnd.jupyter.widget-view+json": {
       "model_id": "",
       "version_major": 2,
       "version_minor": 0
      },
      "text/plain": [
       "HBox(children=(IntProgress(value=0, max=1150), HTML(value=u'')))"
      ]
     },
     "metadata": {},
     "output_type": "display_data"
    },
    {
     "data": {
      "application/vnd.jupyter.widget-view+json": {
       "model_id": "",
       "version_major": 2,
       "version_minor": 0
      },
      "text/plain": [
       "HBox(children=(IntProgress(value=0, max=128), HTML(value=u'')))"
      ]
     },
     "metadata": {},
     "output_type": "display_data"
    },
    {
     "name": "stdout",
     "output_type": "stream",
     "text": [
      "Epoch [28/50] train_loss: 0.0047, train_acc: 0.9997, val_loss: 5.8916, val_acc: 0.5339 \n"
     ]
    },
    {
     "data": {
      "application/vnd.jupyter.widget-view+json": {
       "model_id": "",
       "version_major": 2,
       "version_minor": 0
      },
      "text/plain": [
       "HBox(children=(IntProgress(value=0, max=1150), HTML(value=u'')))"
      ]
     },
     "metadata": {},
     "output_type": "display_data"
    },
    {
     "data": {
      "application/vnd.jupyter.widget-view+json": {
       "model_id": "",
       "version_major": 2,
       "version_minor": 0
      },
      "text/plain": [
       "HBox(children=(IntProgress(value=0, max=128), HTML(value=u'')))"
      ]
     },
     "metadata": {},
     "output_type": "display_data"
    },
    {
     "name": "stdout",
     "output_type": "stream",
     "text": [
      "Epoch [29/50] train_loss: 0.0016, train_acc: 1.0000, val_loss: 4.5166, val_acc: 0.4531 \n"
     ]
    },
    {
     "data": {
      "application/vnd.jupyter.widget-view+json": {
       "model_id": "",
       "version_major": 2,
       "version_minor": 0
      },
      "text/plain": [
       "HBox(children=(IntProgress(value=0, max=1150), HTML(value=u'')))"
      ]
     },
     "metadata": {},
     "output_type": "display_data"
    },
    {
     "data": {
      "application/vnd.jupyter.widget-view+json": {
       "model_id": "",
       "version_major": 2,
       "version_minor": 0
      },
      "text/plain": [
       "HBox(children=(IntProgress(value=0, max=128), HTML(value=u'')))"
      ]
     },
     "metadata": {},
     "output_type": "display_data"
    },
    {
     "name": "stdout",
     "output_type": "stream",
     "text": [
      "Epoch [30/50] train_loss: 0.0009, train_acc: 1.0000, val_loss: 8.7221, val_acc: 0.3125 \n"
     ]
    },
    {
     "data": {
      "application/vnd.jupyter.widget-view+json": {
       "model_id": "",
       "version_major": 2,
       "version_minor": 0
      },
      "text/plain": [
       "HBox(children=(IntProgress(value=0, max=1150), HTML(value=u'')))"
      ]
     },
     "metadata": {},
     "output_type": "display_data"
    },
    {
     "data": {
      "application/vnd.jupyter.widget-view+json": {
       "model_id": "",
       "version_major": 2,
       "version_minor": 0
      },
      "text/plain": [
       "HBox(children=(IntProgress(value=0, max=128), HTML(value=u'')))"
      ]
     },
     "metadata": {},
     "output_type": "display_data"
    },
    {
     "name": "stdout",
     "output_type": "stream",
     "text": [
      "Epoch [31/50] train_loss: 0.0006, train_acc: 1.0000, val_loss: 11.4765, val_acc: 0.3958 \n"
     ]
    },
    {
     "data": {
      "application/vnd.jupyter.widget-view+json": {
       "model_id": "",
       "version_major": 2,
       "version_minor": 0
      },
      "text/plain": [
       "HBox(children=(IntProgress(value=0, max=1150), HTML(value=u'')))"
      ]
     },
     "metadata": {},
     "output_type": "display_data"
    },
    {
     "data": {
      "application/vnd.jupyter.widget-view+json": {
       "model_id": "",
       "version_major": 2,
       "version_minor": 0
      },
      "text/plain": [
       "HBox(children=(IntProgress(value=0, max=128), HTML(value=u'')))"
      ]
     },
     "metadata": {},
     "output_type": "display_data"
    },
    {
     "name": "stdout",
     "output_type": "stream",
     "text": [
      "Epoch [32/50] train_loss: 0.0004, train_acc: 1.0000, val_loss: 10.1216, val_acc: 0.4531 \n"
     ]
    },
    {
     "data": {
      "application/vnd.jupyter.widget-view+json": {
       "model_id": "",
       "version_major": 2,
       "version_minor": 0
      },
      "text/plain": [
       "HBox(children=(IntProgress(value=0, max=1150), HTML(value=u'')))"
      ]
     },
     "metadata": {},
     "output_type": "display_data"
    },
    {
     "data": {
      "application/vnd.jupyter.widget-view+json": {
       "model_id": "",
       "version_major": 2,
       "version_minor": 0
      },
      "text/plain": [
       "HBox(children=(IntProgress(value=0, max=128), HTML(value=u'')))"
      ]
     },
     "metadata": {},
     "output_type": "display_data"
    },
    {
     "name": "stdout",
     "output_type": "stream",
     "text": [
      "Epoch [33/50] train_loss: 0.0002, train_acc: 1.0000, val_loss: 5.1520, val_acc: 0.5339 \n"
     ]
    },
    {
     "data": {
      "application/vnd.jupyter.widget-view+json": {
       "model_id": "",
       "version_major": 2,
       "version_minor": 0
      },
      "text/plain": [
       "HBox(children=(IntProgress(value=0, max=1150), HTML(value=u'')))"
      ]
     },
     "metadata": {},
     "output_type": "display_data"
    },
    {
     "data": {
      "application/vnd.jupyter.widget-view+json": {
       "model_id": "",
       "version_major": 2,
       "version_minor": 0
      },
      "text/plain": [
       "HBox(children=(IntProgress(value=0, max=128), HTML(value=u'')))"
      ]
     },
     "metadata": {},
     "output_type": "display_data"
    },
    {
     "name": "stdout",
     "output_type": "stream",
     "text": [
      "Epoch [34/50] train_loss: 0.0001, train_acc: 1.0000, val_loss: 10.2383, val_acc: 0.4766 \n"
     ]
    },
    {
     "data": {
      "application/vnd.jupyter.widget-view+json": {
       "model_id": "",
       "version_major": 2,
       "version_minor": 0
      },
      "text/plain": [
       "HBox(children=(IntProgress(value=0, max=1150), HTML(value=u'')))"
      ]
     },
     "metadata": {},
     "output_type": "display_data"
    },
    {
     "data": {
      "application/vnd.jupyter.widget-view+json": {
       "model_id": "",
       "version_major": 2,
       "version_minor": 0
      },
      "text/plain": [
       "HBox(children=(IntProgress(value=0, max=128), HTML(value=u'')))"
      ]
     },
     "metadata": {},
     "output_type": "display_data"
    },
    {
     "name": "stdout",
     "output_type": "stream",
     "text": [
      "Epoch [35/50] train_loss: 0.0001, train_acc: 1.0000, val_loss: 8.5179, val_acc: 0.3958 \n"
     ]
    },
    {
     "data": {
      "application/vnd.jupyter.widget-view+json": {
       "model_id": "",
       "version_major": 2,
       "version_minor": 0
      },
      "text/plain": [
       "HBox(children=(IntProgress(value=0, max=1150), HTML(value=u'')))"
      ]
     },
     "metadata": {},
     "output_type": "display_data"
    },
    {
     "data": {
      "application/vnd.jupyter.widget-view+json": {
       "model_id": "",
       "version_major": 2,
       "version_minor": 0
      },
      "text/plain": [
       "HBox(children=(IntProgress(value=0, max=128), HTML(value=u'')))"
      ]
     },
     "metadata": {},
     "output_type": "display_data"
    },
    {
     "name": "stdout",
     "output_type": "stream",
     "text": [
      "Epoch [36/50] train_loss: 0.0000, train_acc: 1.0000, val_loss: 11.0791, val_acc: 0.4531 \n"
     ]
    },
    {
     "data": {
      "application/vnd.jupyter.widget-view+json": {
       "model_id": "",
       "version_major": 2,
       "version_minor": 0
      },
      "text/plain": [
       "HBox(children=(IntProgress(value=0, max=1150), HTML(value=u'')))"
      ]
     },
     "metadata": {},
     "output_type": "display_data"
    },
    {
     "data": {
      "application/vnd.jupyter.widget-view+json": {
       "model_id": "",
       "version_major": 2,
       "version_minor": 0
      },
      "text/plain": [
       "HBox(children=(IntProgress(value=0, max=128), HTML(value=u'')))"
      ]
     },
     "metadata": {},
     "output_type": "display_data"
    },
    {
     "name": "stdout",
     "output_type": "stream",
     "text": [
      "Epoch [37/50] train_loss: 0.0000, train_acc: 1.0000, val_loss: 11.7934, val_acc: 0.3203 \n"
     ]
    },
    {
     "data": {
      "application/vnd.jupyter.widget-view+json": {
       "model_id": "",
       "version_major": 2,
       "version_minor": 0
      },
      "text/plain": [
       "HBox(children=(IntProgress(value=0, max=1150), HTML(value=u'')))"
      ]
     },
     "metadata": {},
     "output_type": "display_data"
    },
    {
     "data": {
      "application/vnd.jupyter.widget-view+json": {
       "model_id": "",
       "version_major": 2,
       "version_minor": 0
      },
      "text/plain": [
       "HBox(children=(IntProgress(value=0, max=128), HTML(value=u'')))"
      ]
     },
     "metadata": {},
     "output_type": "display_data"
    },
    {
     "name": "stdout",
     "output_type": "stream",
     "text": [
      "Epoch [38/50] train_loss: 0.0000, train_acc: 1.0000, val_loss: 9.6716, val_acc: 0.4531 \n"
     ]
    },
    {
     "data": {
      "application/vnd.jupyter.widget-view+json": {
       "model_id": "",
       "version_major": 2,
       "version_minor": 0
      },
      "text/plain": [
       "HBox(children=(IntProgress(value=0, max=1150), HTML(value=u'')))"
      ]
     },
     "metadata": {},
     "output_type": "display_data"
    },
    {
     "data": {
      "application/vnd.jupyter.widget-view+json": {
       "model_id": "",
       "version_major": 2,
       "version_minor": 0
      },
      "text/plain": [
       "HBox(children=(IntProgress(value=0, max=128), HTML(value=u'')))"
      ]
     },
     "metadata": {},
     "output_type": "display_data"
    },
    {
     "name": "stdout",
     "output_type": "stream",
     "text": [
      "Epoch [39/50] train_loss: 0.0000, train_acc: 1.0000, val_loss: 10.8613, val_acc: 0.5339 \n"
     ]
    },
    {
     "data": {
      "application/vnd.jupyter.widget-view+json": {
       "model_id": "",
       "version_major": 2,
       "version_minor": 0
      },
      "text/plain": [
       "HBox(children=(IntProgress(value=0, max=1150), HTML(value=u'')))"
      ]
     },
     "metadata": {},
     "output_type": "display_data"
    },
    {
     "data": {
      "application/vnd.jupyter.widget-view+json": {
       "model_id": "",
       "version_major": 2,
       "version_minor": 0
      },
      "text/plain": [
       "HBox(children=(IntProgress(value=0, max=128), HTML(value=u'')))"
      ]
     },
     "metadata": {},
     "output_type": "display_data"
    },
    {
     "name": "stdout",
     "output_type": "stream",
     "text": [
      "Epoch [40/50] train_loss: 0.0000, train_acc: 1.0000, val_loss: 14.4955, val_acc: 0.2969 \n"
     ]
    },
    {
     "data": {
      "application/vnd.jupyter.widget-view+json": {
       "model_id": "",
       "version_major": 2,
       "version_minor": 0
      },
      "text/plain": [
       "HBox(children=(IntProgress(value=0, max=1150), HTML(value=u'')))"
      ]
     },
     "metadata": {},
     "output_type": "display_data"
    },
    {
     "data": {
      "application/vnd.jupyter.widget-view+json": {
       "model_id": "",
       "version_major": 2,
       "version_minor": 0
      },
      "text/plain": [
       "HBox(children=(IntProgress(value=0, max=128), HTML(value=u'')))"
      ]
     },
     "metadata": {},
     "output_type": "display_data"
    },
    {
     "name": "stdout",
     "output_type": "stream",
     "text": [
      "Epoch [41/50] train_loss: 0.0000, train_acc: 1.0000, val_loss: 12.6257, val_acc: 0.3229 \n"
     ]
    },
    {
     "data": {
      "application/vnd.jupyter.widget-view+json": {
       "model_id": "",
       "version_major": 2,
       "version_minor": 0
      },
      "text/plain": [
       "HBox(children=(IntProgress(value=0, max=1150), HTML(value=u'')))"
      ]
     },
     "metadata": {},
     "output_type": "display_data"
    },
    {
     "data": {
      "application/vnd.jupyter.widget-view+json": {
       "model_id": "",
       "version_major": 2,
       "version_minor": 0
      },
      "text/plain": [
       "HBox(children=(IntProgress(value=0, max=128), HTML(value=u'')))"
      ]
     },
     "metadata": {},
     "output_type": "display_data"
    },
    {
     "name": "stdout",
     "output_type": "stream",
     "text": [
      "Epoch [42/50] train_loss: 0.0000, train_acc: 1.0000, val_loss: 10.5446, val_acc: 0.5339 \n"
     ]
    },
    {
     "data": {
      "application/vnd.jupyter.widget-view+json": {
       "model_id": "",
       "version_major": 2,
       "version_minor": 0
      },
      "text/plain": [
       "HBox(children=(IntProgress(value=0, max=1150), HTML(value=u'')))"
      ]
     },
     "metadata": {},
     "output_type": "display_data"
    },
    {
     "data": {
      "application/vnd.jupyter.widget-view+json": {
       "model_id": "",
       "version_major": 2,
       "version_minor": 0
      },
      "text/plain": [
       "HBox(children=(IntProgress(value=0, max=128), HTML(value=u'')))"
      ]
     },
     "metadata": {},
     "output_type": "display_data"
    },
    {
     "name": "stdout",
     "output_type": "stream",
     "text": [
      "Epoch [43/50] train_loss: 0.0310, train_acc: 0.9939, val_loss: 8.9158, val_acc: 0.5339 \n"
     ]
    },
    {
     "data": {
      "application/vnd.jupyter.widget-view+json": {
       "model_id": "",
       "version_major": 2,
       "version_minor": 0
      },
      "text/plain": [
       "HBox(children=(IntProgress(value=0, max=1150), HTML(value=u'')))"
      ]
     },
     "metadata": {},
     "output_type": "display_data"
    },
    {
     "data": {
      "application/vnd.jupyter.widget-view+json": {
       "model_id": "",
       "version_major": 2,
       "version_minor": 0
      },
      "text/plain": [
       "HBox(children=(IntProgress(value=0, max=128), HTML(value=u'')))"
      ]
     },
     "metadata": {},
     "output_type": "display_data"
    },
    {
     "name": "stdout",
     "output_type": "stream",
     "text": [
      "Epoch [44/50] train_loss: 0.1312, train_acc: 0.9693, val_loss: 6.5177, val_acc: 0.4557 \n"
     ]
    },
    {
     "data": {
      "application/vnd.jupyter.widget-view+json": {
       "model_id": "",
       "version_major": 2,
       "version_minor": 0
      },
      "text/plain": [
       "HBox(children=(IntProgress(value=0, max=1150), HTML(value=u'')))"
      ]
     },
     "metadata": {},
     "output_type": "display_data"
    },
    {
     "data": {
      "application/vnd.jupyter.widget-view+json": {
       "model_id": "",
       "version_major": 2,
       "version_minor": 0
      },
      "text/plain": [
       "HBox(children=(IntProgress(value=0, max=128), HTML(value=u'')))"
      ]
     },
     "metadata": {},
     "output_type": "display_data"
    },
    {
     "name": "stdout",
     "output_type": "stream",
     "text": [
      "Epoch [45/50] train_loss: 0.0156, train_acc: 0.9942, val_loss: 8.2264, val_acc: 0.3958 \n"
     ]
    },
    {
     "data": {
      "application/vnd.jupyter.widget-view+json": {
       "model_id": "",
       "version_major": 2,
       "version_minor": 0
      },
      "text/plain": [
       "HBox(children=(IntProgress(value=0, max=1150), HTML(value=u'')))"
      ]
     },
     "metadata": {},
     "output_type": "display_data"
    },
    {
     "data": {
      "application/vnd.jupyter.widget-view+json": {
       "model_id": "",
       "version_major": 2,
       "version_minor": 0
      },
      "text/plain": [
       "HBox(children=(IntProgress(value=0, max=128), HTML(value=u'')))"
      ]
     },
     "metadata": {},
     "output_type": "display_data"
    },
    {
     "name": "stdout",
     "output_type": "stream",
     "text": [
      "Epoch [46/50] train_loss: 0.0019, train_acc: 1.0000, val_loss: 9.5426, val_acc: 0.4766 \n"
     ]
    },
    {
     "data": {
      "application/vnd.jupyter.widget-view+json": {
       "model_id": "",
       "version_major": 2,
       "version_minor": 0
      },
      "text/plain": [
       "HBox(children=(IntProgress(value=0, max=1150), HTML(value=u'')))"
      ]
     },
     "metadata": {},
     "output_type": "display_data"
    },
    {
     "data": {
      "application/vnd.jupyter.widget-view+json": {
       "model_id": "",
       "version_major": 2,
       "version_minor": 0
      },
      "text/plain": [
       "HBox(children=(IntProgress(value=0, max=128), HTML(value=u'')))"
      ]
     },
     "metadata": {},
     "output_type": "display_data"
    },
    {
     "name": "stdout",
     "output_type": "stream",
     "text": [
      "Epoch [47/50] train_loss: 0.0261, train_acc: 0.9919, val_loss: 6.1342, val_acc: 0.3932 \n"
     ]
    },
    {
     "data": {
      "application/vnd.jupyter.widget-view+json": {
       "model_id": "",
       "version_major": 2,
       "version_minor": 0
      },
      "text/plain": [
       "HBox(children=(IntProgress(value=0, max=1150), HTML(value=u'')))"
      ]
     },
     "metadata": {},
     "output_type": "display_data"
    },
    {
     "data": {
      "application/vnd.jupyter.widget-view+json": {
       "model_id": "",
       "version_major": 2,
       "version_minor": 0
      },
      "text/plain": [
       "HBox(children=(IntProgress(value=0, max=128), HTML(value=u'')))"
      ]
     },
     "metadata": {},
     "output_type": "display_data"
    },
    {
     "name": "stdout",
     "output_type": "stream",
     "text": [
      "Epoch [48/50] train_loss: 0.0240, train_acc: 0.9916, val_loss: 11.8790, val_acc: 0.3958 \n"
     ]
    },
    {
     "data": {
      "application/vnd.jupyter.widget-view+json": {
       "model_id": "",
       "version_major": 2,
       "version_minor": 0
      },
      "text/plain": [
       "HBox(children=(IntProgress(value=0, max=1150), HTML(value=u'')))"
      ]
     },
     "metadata": {},
     "output_type": "display_data"
    },
    {
     "data": {
      "application/vnd.jupyter.widget-view+json": {
       "model_id": "",
       "version_major": 2,
       "version_minor": 0
      },
      "text/plain": [
       "HBox(children=(IntProgress(value=0, max=128), HTML(value=u'')))"
      ]
     },
     "metadata": {},
     "output_type": "display_data"
    },
    {
     "name": "stdout",
     "output_type": "stream",
     "text": [
      "Epoch [49/50] train_loss: 0.0158, train_acc: 0.9936, val_loss: 5.7352, val_acc: 0.4766 \n"
     ]
    },
    {
     "data": {
      "application/vnd.jupyter.widget-view+json": {
       "model_id": "",
       "version_major": 2,
       "version_minor": 0
      },
      "text/plain": [
       "HBox(children=(IntProgress(value=0, max=1150), HTML(value=u'')))"
      ]
     },
     "metadata": {},
     "output_type": "display_data"
    },
    {
     "data": {
      "application/vnd.jupyter.widget-view+json": {
       "model_id": "",
       "version_major": 2,
       "version_minor": 0
      },
      "text/plain": [
       "HBox(children=(IntProgress(value=0, max=128), HTML(value=u'')))"
      ]
     },
     "metadata": {},
     "output_type": "display_data"
    },
    {
     "name": "stdout",
     "output_type": "stream",
     "text": [
      "Epoch [50/50] train_loss: 0.0109, train_acc: 0.9962, val_loss: 9.2197, val_acc: 0.2292 \n",
      "\n"
     ]
    }
   ],
   "source": [
    "m = SimpleGRU(vocab_size, embedding_dim, n_hidden, n_out_yf, trainds.fields['corpus'].vocab.vectors).to(device)\n",
    "opt = optim.Adam(filter(lambda p: p.requires_grad, m.parameters()), 1e-3)\n",
    "\n",
    "train_acc_list, train_loss_list, val_acc_list, val_loss_list = fit_z(model=m, train_dl=train_batch_it, val_dl=val_batch_it, loss_fn=F.nll_loss, opt=opt, epochs=50)"
   ]
  },
  {
   "cell_type": "code",
   "execution_count": 49,
   "metadata": {},
   "outputs": [
    {
     "data": {
      "image/png": "[encoded data removed]",
      "text/plain": [
       "<Figure size 432x288 with 1 Axes>"
      ]
     },
     "metadata": {
      "needs_background": "light"
     },
     "output_type": "display_data"
    }
   ],
   "source": [
    "#plot train/val accuracies\n",
    "plt.title(\"Train/Test Acc\")\n",
    "plt.xlabel(\"epoch\")\n",
    "plt.ylabel('acc')\n",
    "line1 = plt.plot(train_acc_list, color='red')\n",
    "line2 = plt.plot(val_acc_list, color='blue')\n",
    "plt.legend(['Train', 'Test'], loc='upper left')\n",
    "plt.savefig('nlpgru11acc.png')   # save the figure to file\n",
    "plt.show()\n",
    "plt.close()"
   ]
  },
  {
   "cell_type": "code",
   "execution_count": 50,
   "metadata": {},
   "outputs": [
    {
     "data": {
      "image/png": "[encoded data removed]",
      "text/plain": [
       "<Figure size 432x288 with 1 Axes>"
      ]
     },
     "metadata": {
      "needs_background": "light"
     },
     "output_type": "display_data"
    }
   ],
   "source": [
    "#plot train/val accuracies\n",
    "plt.title(\"Train/Test Loss\")\n",
    "plt.xlabel(\"epoch\")\n",
    "plt.ylabel('loss')\n",
    "line1 = plt.plot(train_loss_list, color='red')\n",
    "line2 = plt.plot(val_loss_list, color='blue')\n",
    "plt.legend(['Train', 'Test'], loc='upper left')\n",
    "plt.savefig('nlpgru11loss.png')   # save the figure to file\n",
    "plt.show()\n",
    "plt.close()"
   ]
  },
  {
   "cell_type": "code",
   "execution_count": 51,
   "metadata": {
    "scrolled": true
   },
   "outputs": [
    {
     "data": {
      "application/vnd.jupyter.widget-view+json": {
       "model_id": "972ab439a9464f848d727528d90ac15e",
       "version_major": 2,
       "version_minor": 0
      },
      "text/plain": [
       "HBox(children=(IntProgress(value=0, max=50), HTML(value=u'')))"
      ]
     },
     "metadata": {},
     "output_type": "display_data"
    },
    {
     "data": {
      "application/vnd.jupyter.widget-view+json": {
       "model_id": "",
       "version_major": 2,
       "version_minor": 0
      },
      "text/plain": [
       "HBox(children=(IntProgress(value=0, max=1150), HTML(value=u'')))"
      ]
     },
     "metadata": {},
     "output_type": "display_data"
    },
    {
     "name": "stderr",
     "output_type": "stream",
     "text": [
      "/Users/jayanth/Library/Python/2.7/lib/python/site-packages/ipykernel_launcher.py:32: UserWarning: Implicit dimension choice for log_softmax has been deprecated. Change the call to include dim=X as an argument.\n"
     ]
    },
    {
     "data": {
      "application/vnd.jupyter.widget-view+json": {
       "model_id": "",
       "version_major": 2,
       "version_minor": 0
      },
      "text/plain": [
       "HBox(children=(IntProgress(value=0, max=128), HTML(value=u'')))"
      ]
     },
     "metadata": {},
     "output_type": "display_data"
    },
    {
     "name": "stdout",
     "output_type": "stream",
     "text": [
      "Epoch [1/50] train_loss: 0.9832, train_acc: 0.5762, val_loss: 1.5666, val_acc: 0.3984 \n"
     ]
    },
    {
     "data": {
      "application/vnd.jupyter.widget-view+json": {
       "model_id": "",
       "version_major": 2,
       "version_minor": 0
      },
      "text/plain": [
       "HBox(children=(IntProgress(value=0, max=1150), HTML(value=u'')))"
      ]
     },
     "metadata": {},
     "output_type": "display_data"
    },
    {
     "data": {
      "application/vnd.jupyter.widget-view+json": {
       "model_id": "",
       "version_major": 2,
       "version_minor": 0
      },
      "text/plain": [
       "HBox(children=(IntProgress(value=0, max=128), HTML(value=u'')))"
      ]
     },
     "metadata": {},
     "output_type": "display_data"
    },
    {
     "name": "stdout",
     "output_type": "stream",
     "text": [
      "Epoch [2/50] train_loss: 0.8629, train_acc: 0.6461, val_loss: 1.2261, val_acc: 0.4557 \n"
     ]
    },
    {
     "data": {
      "application/vnd.jupyter.widget-view+json": {
       "model_id": "",
       "version_major": 2,
       "version_minor": 0
      },
      "text/plain": [
       "HBox(children=(IntProgress(value=0, max=1150), HTML(value=u'')))"
      ]
     },
     "metadata": {},
     "output_type": "display_data"
    },
    {
     "data": {
      "application/vnd.jupyter.widget-view+json": {
       "model_id": "",
       "version_major": 2,
       "version_minor": 0
      },
      "text/plain": [
       "HBox(children=(IntProgress(value=0, max=128), HTML(value=u'')))"
      ]
     },
     "metadata": {},
     "output_type": "display_data"
    },
    {
     "name": "stdout",
     "output_type": "stream",
     "text": [
      "Epoch [3/50] train_loss: 0.7693, train_acc: 0.6925, val_loss: 1.1861, val_acc: 0.4766 \n"
     ]
    },
    {
     "data": {
      "application/vnd.jupyter.widget-view+json": {
       "model_id": "",
       "version_major": 2,
       "version_minor": 0
      },
      "text/plain": [
       "HBox(children=(IntProgress(value=0, max=1150), HTML(value=u'')))"
      ]
     },
     "metadata": {},
     "output_type": "display_data"
    },
    {
     "data": {
      "application/vnd.jupyter.widget-view+json": {
       "model_id": "",
       "version_major": 2,
       "version_minor": 0
      },
      "text/plain": [
       "HBox(children=(IntProgress(value=0, max=128), HTML(value=u'')))"
      ]
     },
     "metadata": {},
     "output_type": "display_data"
    },
    {
     "name": "stdout",
     "output_type": "stream",
     "text": [
      "Epoch [4/50] train_loss: 0.6577, train_acc: 0.7528, val_loss: 1.2949, val_acc: 0.5339 \n"
     ]
    },
    {
     "data": {
      "application/vnd.jupyter.widget-view+json": {
       "model_id": "",
       "version_major": 2,
       "version_minor": 0
      },
      "text/plain": [
       "HBox(children=(IntProgress(value=0, max=1150), HTML(value=u'')))"
      ]
     },
     "metadata": {},
     "output_type": "display_data"
    },
    {
     "data": {
      "application/vnd.jupyter.widget-view+json": {
       "model_id": "",
       "version_major": 2,
       "version_minor": 0
      },
      "text/plain": [
       "HBox(children=(IntProgress(value=0, max=128), HTML(value=u'')))"
      ]
     },
     "metadata": {},
     "output_type": "display_data"
    },
    {
     "name": "stdout",
     "output_type": "stream",
     "text": [
      "Epoch [5/50] train_loss: 0.5383, train_acc: 0.8020, val_loss: 2.0979, val_acc: 0.3177 \n"
     ]
    },
    {
     "data": {
      "application/vnd.jupyter.widget-view+json": {
       "model_id": "",
       "version_major": 2,
       "version_minor": 0
      },
      "text/plain": [
       "HBox(children=(IntProgress(value=0, max=1150), HTML(value=u'')))"
      ]
     },
     "metadata": {},
     "output_type": "display_data"
    },
    {
     "data": {
      "application/vnd.jupyter.widget-view+json": {
       "model_id": "",
       "version_major": 2,
       "version_minor": 0
      },
      "text/plain": [
       "HBox(children=(IntProgress(value=0, max=128), HTML(value=u'')))"
      ]
     },
     "metadata": {},
     "output_type": "display_data"
    },
    {
     "name": "stdout",
     "output_type": "stream",
     "text": [
      "Epoch [6/50] train_loss: 0.3973, train_acc: 0.8641, val_loss: 2.0772, val_acc: 0.3646 \n"
     ]
    },
    {
     "data": {
      "application/vnd.jupyter.widget-view+json": {
       "model_id": "",
       "version_major": 2,
       "version_minor": 0
      },
      "text/plain": [
       "HBox(children=(IntProgress(value=0, max=1150), HTML(value=u'')))"
      ]
     },
     "metadata": {},
     "output_type": "display_data"
    },
    {
     "data": {
      "application/vnd.jupyter.widget-view+json": {
       "model_id": "",
       "version_major": 2,
       "version_minor": 0
      },
      "text/plain": [
       "HBox(children=(IntProgress(value=0, max=128), HTML(value=u'')))"
      ]
     },
     "metadata": {},
     "output_type": "display_data"
    },
    {
     "name": "stdout",
     "output_type": "stream",
     "text": [
      "Epoch [7/50] train_loss: 0.2801, train_acc: 0.9186, val_loss: 1.6306, val_acc: 0.5339 \n"
     ]
    },
    {
     "data": {
      "application/vnd.jupyter.widget-view+json": {
       "model_id": "",
       "version_major": 2,
       "version_minor": 0
      },
      "text/plain": [
       "HBox(children=(IntProgress(value=0, max=1150), HTML(value=u'')))"
      ]
     },
     "metadata": {},
     "output_type": "display_data"
    },
    {
     "data": {
      "application/vnd.jupyter.widget-view+json": {
       "model_id": "",
       "version_major": 2,
       "version_minor": 0
      },
      "text/plain": [
       "HBox(children=(IntProgress(value=0, max=128), HTML(value=u'')))"
      ]
     },
     "metadata": {},
     "output_type": "display_data"
    },
    {
     "name": "stdout",
     "output_type": "stream",
     "text": [
      "Epoch [8/50] train_loss: 0.1797, train_acc: 0.9545, val_loss: 2.9651, val_acc: 0.3906 \n"
     ]
    },
    {
     "data": {
      "application/vnd.jupyter.widget-view+json": {
       "model_id": "",
       "version_major": 2,
       "version_minor": 0
      },
      "text/plain": [
       "HBox(children=(IntProgress(value=0, max=1150), HTML(value=u'')))"
      ]
     },
     "metadata": {},
     "output_type": "display_data"
    },
    {
     "data": {
      "application/vnd.jupyter.widget-view+json": {
       "model_id": "",
       "version_major": 2,
       "version_minor": 0
      },
      "text/plain": [
       "HBox(children=(IntProgress(value=0, max=128), HTML(value=u'')))"
      ]
     },
     "metadata": {},
     "output_type": "display_data"
    },
    {
     "name": "stdout",
     "output_type": "stream",
     "text": [
      "Epoch [9/50] train_loss: 0.1122, train_acc: 0.9771, val_loss: 3.7788, val_acc: 0.3958 \n"
     ]
    },
    {
     "data": {
      "application/vnd.jupyter.widget-view+json": {
       "model_id": "",
       "version_major": 2,
       "version_minor": 0
      },
      "text/plain": [
       "HBox(children=(IntProgress(value=0, max=1150), HTML(value=u'')))"
      ]
     },
     "metadata": {},
     "output_type": "display_data"
    },
    {
     "data": {
      "application/vnd.jupyter.widget-view+json": {
       "model_id": "",
       "version_major": 2,
       "version_minor": 0
      },
      "text/plain": [
       "HBox(children=(IntProgress(value=0, max=128), HTML(value=u'')))"
      ]
     },
     "metadata": {},
     "output_type": "display_data"
    },
    {
     "name": "stdout",
     "output_type": "stream",
     "text": [
      "Epoch [10/50] train_loss: 0.0645, train_acc: 0.9910, val_loss: 4.8447, val_acc: 0.2083 \n"
     ]
    },
    {
     "data": {
      "application/vnd.jupyter.widget-view+json": {
       "model_id": "",
       "version_major": 2,
       "version_minor": 0
      },
      "text/plain": [
       "HBox(children=(IntProgress(value=0, max=1150), HTML(value=u'')))"
      ]
     },
     "metadata": {},
     "output_type": "display_data"
    },
    {
     "data": {
      "application/vnd.jupyter.widget-view+json": {
       "model_id": "",
       "version_major": 2,
       "version_minor": 0
      },
      "text/plain": [
       "HBox(children=(IntProgress(value=0, max=128), HTML(value=u'')))"
      ]
     },
     "metadata": {},
     "output_type": "display_data"
    },
    {
     "name": "stdout",
     "output_type": "stream",
     "text": [
      "Epoch [11/50] train_loss: 0.0415, train_acc: 0.9945, val_loss: 3.2114, val_acc: 0.3568 \n"
     ]
    },
    {
     "data": {
      "application/vnd.jupyter.widget-view+json": {
       "model_id": "",
       "version_major": 2,
       "version_minor": 0
      },
      "text/plain": [
       "HBox(children=(IntProgress(value=0, max=1150), HTML(value=u'')))"
      ]
     },
     "metadata": {},
     "output_type": "display_data"
    },
    {
     "data": {
      "application/vnd.jupyter.widget-view+json": {
       "model_id": "",
       "version_major": 2,
       "version_minor": 0
      },
      "text/plain": [
       "HBox(children=(IntProgress(value=0, max=128), HTML(value=u'')))"
      ]
     },
     "metadata": {},
     "output_type": "display_data"
    },
    {
     "name": "stdout",
     "output_type": "stream",
     "text": [
      "Epoch [12/50] train_loss: 0.0275, train_acc: 0.9977, val_loss: 4.8484, val_acc: 0.2292 \n"
     ]
    },
    {
     "data": {
      "application/vnd.jupyter.widget-view+json": {
       "model_id": "",
       "version_major": 2,
       "version_minor": 0
      },
      "text/plain": [
       "HBox(children=(IntProgress(value=0, max=1150), HTML(value=u'')))"
      ]
     },
     "metadata": {},
     "output_type": "display_data"
    },
    {
     "data": {
      "application/vnd.jupyter.widget-view+json": {
       "model_id": "",
       "version_major": 2,
       "version_minor": 0
      },
      "text/plain": [
       "HBox(children=(IntProgress(value=0, max=128), HTML(value=u'')))"
      ]
     },
     "metadata": {},
     "output_type": "display_data"
    },
    {
     "name": "stdout",
     "output_type": "stream",
     "text": [
      "Epoch [13/50] train_loss: 0.0290, train_acc: 0.9945, val_loss: 3.0520, val_acc: 0.5339 \n"
     ]
    },
    {
     "data": {
      "application/vnd.jupyter.widget-view+json": {
       "model_id": "",
       "version_major": 2,
       "version_minor": 0
      },
      "text/plain": [
       "HBox(children=(IntProgress(value=0, max=1150), HTML(value=u'')))"
      ]
     },
     "metadata": {},
     "output_type": "display_data"
    },
    {
     "data": {
      "application/vnd.jupyter.widget-view+json": {
       "model_id": "",
       "version_major": 2,
       "version_minor": 0
      },
      "text/plain": [
       "HBox(children=(IntProgress(value=0, max=128), HTML(value=u'')))"
      ]
     },
     "metadata": {},
     "output_type": "display_data"
    },
    {
     "name": "stdout",
     "output_type": "stream",
     "text": [
      "Epoch [14/50] train_loss: 0.0189, train_acc: 0.9971, val_loss: 5.9416, val_acc: 0.2969 \n"
     ]
    },
    {
     "data": {
      "application/vnd.jupyter.widget-view+json": {
       "model_id": "",
       "version_major": 2,
       "version_minor": 0
      },
      "text/plain": [
       "HBox(children=(IntProgress(value=0, max=1150), HTML(value=u'')))"
      ]
     },
     "metadata": {},
     "output_type": "display_data"
    },
    {
     "data": {
      "application/vnd.jupyter.widget-view+json": {
       "model_id": "",
       "version_major": 2,
       "version_minor": 0
      },
      "text/plain": [
       "HBox(children=(IntProgress(value=0, max=128), HTML(value=u'')))"
      ]
     },
     "metadata": {},
     "output_type": "display_data"
    },
    {
     "name": "stdout",
     "output_type": "stream",
     "text": [
      "Epoch [15/50] train_loss: 0.0143, train_acc: 0.9986, val_loss: 5.5198, val_acc: 0.5339 \n"
     ]
    },
    {
     "data": {
      "application/vnd.jupyter.widget-view+json": {
       "model_id": "",
       "version_major": 2,
       "version_minor": 0
      },
      "text/plain": [
       "HBox(children=(IntProgress(value=0, max=1150), HTML(value=u'')))"
      ]
     },
     "metadata": {},
     "output_type": "display_data"
    },
    {
     "data": {
      "application/vnd.jupyter.widget-view+json": {
       "model_id": "",
       "version_major": 2,
       "version_minor": 0
      },
      "text/plain": [
       "HBox(children=(IntProgress(value=0, max=128), HTML(value=u'')))"
      ]
     },
     "metadata": {},
     "output_type": "display_data"
    },
    {
     "name": "stdout",
     "output_type": "stream",
     "text": [
      "Epoch [16/50] train_loss: 0.0304, train_acc: 0.9930, val_loss: 6.1019, val_acc: 0.3958 \n"
     ]
    },
    {
     "data": {
      "application/vnd.jupyter.widget-view+json": {
       "model_id": "",
       "version_major": 2,
       "version_minor": 0
      },
      "text/plain": [
       "HBox(children=(IntProgress(value=0, max=1150), HTML(value=u'')))"
      ]
     },
     "metadata": {},
     "output_type": "display_data"
    },
    {
     "data": {
      "application/vnd.jupyter.widget-view+json": {
       "model_id": "",
       "version_major": 2,
       "version_minor": 0
      },
      "text/plain": [
       "HBox(children=(IntProgress(value=0, max=128), HTML(value=u'')))"
      ]
     },
     "metadata": {},
     "output_type": "display_data"
    },
    {
     "name": "stdout",
     "output_type": "stream",
     "text": [
      "Epoch [17/50] train_loss: 0.0215, train_acc: 0.9965, val_loss: 5.2242, val_acc: 0.2214 \n"
     ]
    },
    {
     "data": {
      "application/vnd.jupyter.widget-view+json": {
       "model_id": "",
       "version_major": 2,
       "version_minor": 0
      },
      "text/plain": [
       "HBox(children=(IntProgress(value=0, max=1150), HTML(value=u'')))"
      ]
     },
     "metadata": {},
     "output_type": "display_data"
    },
    {
     "data": {
      "application/vnd.jupyter.widget-view+json": {
       "model_id": "",
       "version_major": 2,
       "version_minor": 0
      },
      "text/plain": [
       "HBox(children=(IntProgress(value=0, max=128), HTML(value=u'')))"
      ]
     },
     "metadata": {},
     "output_type": "display_data"
    },
    {
     "name": "stdout",
     "output_type": "stream",
     "text": [
      "Epoch [18/50] train_loss: 0.0079, train_acc: 0.9991, val_loss: 4.0185, val_acc: 0.4557 \n"
     ]
    },
    {
     "data": {
      "application/vnd.jupyter.widget-view+json": {
       "model_id": "",
       "version_major": 2,
       "version_minor": 0
      },
      "text/plain": [
       "HBox(children=(IntProgress(value=0, max=1150), HTML(value=u'')))"
      ]
     },
     "metadata": {},
     "output_type": "display_data"
    },
    {
     "data": {
      "application/vnd.jupyter.widget-view+json": {
       "model_id": "",
       "version_major": 2,
       "version_minor": 0
      },
      "text/plain": [
       "HBox(children=(IntProgress(value=0, max=128), HTML(value=u'')))"
      ]
     },
     "metadata": {},
     "output_type": "display_data"
    },
    {
     "name": "stdout",
     "output_type": "stream",
     "text": [
      "Epoch [19/50] train_loss: 0.0067, train_acc: 0.9991, val_loss: 4.5125, val_acc: 0.3750 \n"
     ]
    },
    {
     "data": {
      "application/vnd.jupyter.widget-view+json": {
       "model_id": "",
       "version_major": 2,
       "version_minor": 0
      },
      "text/plain": [
       "HBox(children=(IntProgress(value=0, max=1150), HTML(value=u'')))"
      ]
     },
     "metadata": {},
     "output_type": "display_data"
    },
    {
     "data": {
      "application/vnd.jupyter.widget-view+json": {
       "model_id": "",
       "version_major": 2,
       "version_minor": 0
      },
      "text/plain": [
       "HBox(children=(IntProgress(value=0, max=128), HTML(value=u'')))"
      ]
     },
     "metadata": {},
     "output_type": "display_data"
    },
    {
     "name": "stdout",
     "output_type": "stream",
     "text": [
      "Epoch [20/50] train_loss: 0.0025, train_acc: 1.0000, val_loss: 5.2269, val_acc: 0.4766 \n"
     ]
    },
    {
     "data": {
      "application/vnd.jupyter.widget-view+json": {
       "model_id": "",
       "version_major": 2,
       "version_minor": 0
      },
      "text/plain": [
       "HBox(children=(IntProgress(value=0, max=1150), HTML(value=u'')))"
      ]
     },
     "metadata": {},
     "output_type": "display_data"
    },
    {
     "data": {
      "application/vnd.jupyter.widget-view+json": {
       "model_id": "",
       "version_major": 2,
       "version_minor": 0
      },
      "text/plain": [
       "HBox(children=(IntProgress(value=0, max=128), HTML(value=u'')))"
      ]
     },
     "metadata": {},
     "output_type": "display_data"
    },
    {
     "name": "stdout",
     "output_type": "stream",
     "text": [
      "Epoch [21/50] train_loss: 0.0010, train_acc: 1.0000, val_loss: 6.8899, val_acc: 0.2500 \n"
     ]
    },
    {
     "data": {
      "application/vnd.jupyter.widget-view+json": {
       "model_id": "",
       "version_major": 2,
       "version_minor": 0
      },
      "text/plain": [
       "HBox(children=(IntProgress(value=0, max=1150), HTML(value=u'')))"
      ]
     },
     "metadata": {},
     "output_type": "display_data"
    },
    {
     "data": {
      "application/vnd.jupyter.widget-view+json": {
       "model_id": "",
       "version_major": 2,
       "version_minor": 0
      },
      "text/plain": [
       "HBox(children=(IntProgress(value=0, max=128), HTML(value=u'')))"
      ]
     },
     "metadata": {},
     "output_type": "display_data"
    },
    {
     "name": "stdout",
     "output_type": "stream",
     "text": [
      "Epoch [22/50] train_loss: 0.0008, train_acc: 1.0000, val_loss: 7.4466, val_acc: 0.3073 \n"
     ]
    },
    {
     "data": {
      "application/vnd.jupyter.widget-view+json": {
       "model_id": "",
       "version_major": 2,
       "version_minor": 0
      },
      "text/plain": [
       "HBox(children=(IntProgress(value=0, max=1150), HTML(value=u'')))"
      ]
     },
     "metadata": {},
     "output_type": "display_data"
    },
    {
     "data": {
      "application/vnd.jupyter.widget-view+json": {
       "model_id": "",
       "version_major": 2,
       "version_minor": 0
      },
      "text/plain": [
       "HBox(children=(IntProgress(value=0, max=128), HTML(value=u'')))"
      ]
     },
     "metadata": {},
     "output_type": "display_data"
    },
    {
     "name": "stdout",
     "output_type": "stream",
     "text": [
      "Epoch [23/50] train_loss: 0.0581, train_acc: 0.9788, val_loss: 5.4911, val_acc: 0.4557 \n"
     ]
    },
    {
     "data": {
      "application/vnd.jupyter.widget-view+json": {
       "model_id": "",
       "version_major": 2,
       "version_minor": 0
      },
      "text/plain": [
       "HBox(children=(IntProgress(value=0, max=1150), HTML(value=u'')))"
      ]
     },
     "metadata": {},
     "output_type": "display_data"
    },
    {
     "data": {
      "application/vnd.jupyter.widget-view+json": {
       "model_id": "",
       "version_major": 2,
       "version_minor": 0
      },
      "text/plain": [
       "HBox(children=(IntProgress(value=0, max=128), HTML(value=u'')))"
      ]
     },
     "metadata": {},
     "output_type": "display_data"
    },
    {
     "name": "stdout",
     "output_type": "stream",
     "text": [
      "Epoch [24/50] train_loss: 0.0179, train_acc: 0.9957, val_loss: 8.8981, val_acc: 0.3177 \n"
     ]
    },
    {
     "data": {
      "application/vnd.jupyter.widget-view+json": {
       "model_id": "",
       "version_major": 2,
       "version_minor": 0
      },
      "text/plain": [
       "HBox(children=(IntProgress(value=0, max=1150), HTML(value=u'')))"
      ]
     },
     "metadata": {},
     "output_type": "display_data"
    },
    {
     "data": {
      "application/vnd.jupyter.widget-view+json": {
       "model_id": "",
       "version_major": 2,
       "version_minor": 0
      },
      "text/plain": [
       "HBox(children=(IntProgress(value=0, max=128), HTML(value=u'')))"
      ]
     },
     "metadata": {},
     "output_type": "display_data"
    },
    {
     "name": "stdout",
     "output_type": "stream",
     "text": [
      "Epoch [25/50] train_loss: 0.0061, train_acc: 0.9994, val_loss: 7.9844, val_acc: 0.3984 \n"
     ]
    },
    {
     "data": {
      "application/vnd.jupyter.widget-view+json": {
       "model_id": "",
       "version_major": 2,
       "version_minor": 0
      },
      "text/plain": [
       "HBox(children=(IntProgress(value=0, max=1150), HTML(value=u'')))"
      ]
     },
     "metadata": {},
     "output_type": "display_data"
    },
    {
     "data": {
      "application/vnd.jupyter.widget-view+json": {
       "model_id": "",
       "version_major": 2,
       "version_minor": 0
      },
      "text/plain": [
       "HBox(children=(IntProgress(value=0, max=128), HTML(value=u'')))"
      ]
     },
     "metadata": {},
     "output_type": "display_data"
    },
    {
     "name": "stdout",
     "output_type": "stream",
     "text": [
      "Epoch [26/50] train_loss: 0.0016, train_acc: 1.0000, val_loss: 7.3755, val_acc: 0.1354 \n"
     ]
    },
    {
     "data": {
      "application/vnd.jupyter.widget-view+json": {
       "model_id": "",
       "version_major": 2,
       "version_minor": 0
      },
      "text/plain": [
       "HBox(children=(IntProgress(value=0, max=1150), HTML(value=u'')))"
      ]
     },
     "metadata": {},
     "output_type": "display_data"
    },
    {
     "data": {
      "application/vnd.jupyter.widget-view+json": {
       "model_id": "",
       "version_major": 2,
       "version_minor": 0
      },
      "text/plain": [
       "HBox(children=(IntProgress(value=0, max=128), HTML(value=u'')))"
      ]
     },
     "metadata": {},
     "output_type": "display_data"
    },
    {
     "name": "stdout",
     "output_type": "stream",
     "text": [
      "Epoch [27/50] train_loss: 0.0010, train_acc: 1.0000, val_loss: 6.0156, val_acc: 0.3984 \n"
     ]
    },
    {
     "data": {
      "application/vnd.jupyter.widget-view+json": {
       "model_id": "",
       "version_major": 2,
       "version_minor": 0
      },
      "text/plain": [
       "HBox(children=(IntProgress(value=0, max=1150), HTML(value=u'')))"
      ]
     },
     "metadata": {},
     "output_type": "display_data"
    },
    {
     "data": {
      "application/vnd.jupyter.widget-view+json": {
       "model_id": "",
       "version_major": 2,
       "version_minor": 0
      },
      "text/plain": [
       "HBox(children=(IntProgress(value=0, max=128), HTML(value=u'')))"
      ]
     },
     "metadata": {},
     "output_type": "display_data"
    },
    {
     "name": "stdout",
     "output_type": "stream",
     "text": [
      "Epoch [28/50] train_loss: 0.0011, train_acc: 1.0000, val_loss: 7.4895, val_acc: 0.5339 \n"
     ]
    },
    {
     "data": {
      "application/vnd.jupyter.widget-view+json": {
       "model_id": "",
       "version_major": 2,
       "version_minor": 0
      },
      "text/plain": [
       "HBox(children=(IntProgress(value=0, max=1150), HTML(value=u'')))"
      ]
     },
     "metadata": {},
     "output_type": "display_data"
    },
    {
     "data": {
      "application/vnd.jupyter.widget-view+json": {
       "model_id": "",
       "version_major": 2,
       "version_minor": 0
      },
      "text/plain": [
       "HBox(children=(IntProgress(value=0, max=128), HTML(value=u'')))"
      ]
     },
     "metadata": {},
     "output_type": "display_data"
    },
    {
     "name": "stdout",
     "output_type": "stream",
     "text": [
      "Epoch [29/50] train_loss: 0.0005, train_acc: 1.0000, val_loss: 6.0426, val_acc: 0.5339 \n"
     ]
    },
    {
     "data": {
      "application/vnd.jupyter.widget-view+json": {
       "model_id": "",
       "version_major": 2,
       "version_minor": 0
      },
      "text/plain": [
       "HBox(children=(IntProgress(value=0, max=1150), HTML(value=u'')))"
      ]
     },
     "metadata": {},
     "output_type": "display_data"
    },
    {
     "data": {
      "application/vnd.jupyter.widget-view+json": {
       "model_id": "",
       "version_major": 2,
       "version_minor": 0
      },
      "text/plain": [
       "HBox(children=(IntProgress(value=0, max=128), HTML(value=u'')))"
      ]
     },
     "metadata": {},
     "output_type": "display_data"
    },
    {
     "name": "stdout",
     "output_type": "stream",
     "text": [
      "Epoch [30/50] train_loss: 0.0287, train_acc: 0.9916, val_loss: 8.5361, val_acc: 0.3646 \n"
     ]
    },
    {
     "data": {
      "application/vnd.jupyter.widget-view+json": {
       "model_id": "",
       "version_major": 2,
       "version_minor": 0
      },
      "text/plain": [
       "HBox(children=(IntProgress(value=0, max=1150), HTML(value=u'')))"
      ]
     },
     "metadata": {},
     "output_type": "display_data"
    },
    {
     "data": {
      "application/vnd.jupyter.widget-view+json": {
       "model_id": "",
       "version_major": 2,
       "version_minor": 0
      },
      "text/plain": [
       "HBox(children=(IntProgress(value=0, max=128), HTML(value=u'')))"
      ]
     },
     "metadata": {},
     "output_type": "display_data"
    },
    {
     "name": "stdout",
     "output_type": "stream",
     "text": [
      "Epoch [31/50] train_loss: 0.0390, train_acc: 0.9881, val_loss: 6.1827, val_acc: 0.3958 \n"
     ]
    },
    {
     "data": {
      "application/vnd.jupyter.widget-view+json": {
       "model_id": "",
       "version_major": 2,
       "version_minor": 0
      },
      "text/plain": [
       "HBox(children=(IntProgress(value=0, max=1150), HTML(value=u'')))"
      ]
     },
     "metadata": {},
     "output_type": "display_data"
    },
    {
     "data": {
      "application/vnd.jupyter.widget-view+json": {
       "model_id": "",
       "version_major": 2,
       "version_minor": 0
      },
      "text/plain": [
       "HBox(children=(IntProgress(value=0, max=128), HTML(value=u'')))"
      ]
     },
     "metadata": {},
     "output_type": "display_data"
    },
    {
     "name": "stdout",
     "output_type": "stream",
     "text": [
      "Epoch [32/50] train_loss: 0.0072, train_acc: 0.9983, val_loss: 7.8732, val_acc: 0.2005 \n"
     ]
    },
    {
     "data": {
      "application/vnd.jupyter.widget-view+json": {
       "model_id": "",
       "version_major": 2,
       "version_minor": 0
      },
      "text/plain": [
       "HBox(children=(IntProgress(value=0, max=1150), HTML(value=u'')))"
      ]
     },
     "metadata": {},
     "output_type": "display_data"
    },
    {
     "data": {
      "application/vnd.jupyter.widget-view+json": {
       "model_id": "",
       "version_major": 2,
       "version_minor": 0
      },
      "text/plain": [
       "HBox(children=(IntProgress(value=0, max=128), HTML(value=u'')))"
      ]
     },
     "metadata": {},
     "output_type": "display_data"
    },
    {
     "name": "stdout",
     "output_type": "stream",
     "text": [
      "Epoch [33/50] train_loss: 0.0024, train_acc: 1.0000, val_loss: 5.1694, val_acc: 0.3984 \n"
     ]
    },
    {
     "data": {
      "application/vnd.jupyter.widget-view+json": {
       "model_id": "",
       "version_major": 2,
       "version_minor": 0
      },
      "text/plain": [
       "HBox(children=(IntProgress(value=0, max=1150), HTML(value=u'')))"
      ]
     },
     "metadata": {},
     "output_type": "display_data"
    },
    {
     "data": {
      "application/vnd.jupyter.widget-view+json": {
       "model_id": "",
       "version_major": 2,
       "version_minor": 0
      },
      "text/plain": [
       "HBox(children=(IntProgress(value=0, max=128), HTML(value=u'')))"
      ]
     },
     "metadata": {},
     "output_type": "display_data"
    },
    {
     "name": "stdout",
     "output_type": "stream",
     "text": [
      "Epoch [34/50] train_loss: 0.0009, train_acc: 1.0000, val_loss: 12.0770, val_acc: 0.1510 \n"
     ]
    },
    {
     "data": {
      "application/vnd.jupyter.widget-view+json": {
       "model_id": "",
       "version_major": 2,
       "version_minor": 0
      },
      "text/plain": [
       "HBox(children=(IntProgress(value=0, max=1150), HTML(value=u'')))"
      ]
     },
     "metadata": {},
     "output_type": "display_data"
    },
    {
     "data": {
      "application/vnd.jupyter.widget-view+json": {
       "model_id": "",
       "version_major": 2,
       "version_minor": 0
      },
      "text/plain": [
       "HBox(children=(IntProgress(value=0, max=128), HTML(value=u'')))"
      ]
     },
     "metadata": {},
     "output_type": "display_data"
    },
    {
     "name": "stdout",
     "output_type": "stream",
     "text": [
      "Epoch [35/50] train_loss: 0.0225, train_acc: 0.9922, val_loss: 10.4647, val_acc: 0.3073 \n"
     ]
    },
    {
     "data": {
      "application/vnd.jupyter.widget-view+json": {
       "model_id": "",
       "version_major": 2,
       "version_minor": 0
      },
      "text/plain": [
       "HBox(children=(IntProgress(value=0, max=1150), HTML(value=u'')))"
      ]
     },
     "metadata": {},
     "output_type": "display_data"
    },
    {
     "data": {
      "application/vnd.jupyter.widget-view+json": {
       "model_id": "",
       "version_major": 2,
       "version_minor": 0
      },
      "text/plain": [
       "HBox(children=(IntProgress(value=0, max=128), HTML(value=u'')))"
      ]
     },
     "metadata": {},
     "output_type": "display_data"
    },
    {
     "name": "stdout",
     "output_type": "stream",
     "text": [
      "Epoch [36/50] train_loss: 0.0140, train_acc: 0.9962, val_loss: 6.2939, val_acc: 0.3750 \n"
     ]
    },
    {
     "data": {
      "application/vnd.jupyter.widget-view+json": {
       "model_id": "",
       "version_major": 2,
       "version_minor": 0
      },
      "text/plain": [
       "HBox(children=(IntProgress(value=0, max=1150), HTML(value=u'')))"
      ]
     },
     "metadata": {},
     "output_type": "display_data"
    },
    {
     "data": {
      "application/vnd.jupyter.widget-view+json": {
       "model_id": "",
       "version_major": 2,
       "version_minor": 0
      },
      "text/plain": [
       "HBox(children=(IntProgress(value=0, max=128), HTML(value=u'')))"
      ]
     },
     "metadata": {},
     "output_type": "display_data"
    },
    {
     "name": "stdout",
     "output_type": "stream",
     "text": [
      "Epoch [37/50] train_loss: 0.0035, train_acc: 0.9997, val_loss: 10.8525, val_acc: 0.2786 \n"
     ]
    },
    {
     "data": {
      "application/vnd.jupyter.widget-view+json": {
       "model_id": "",
       "version_major": 2,
       "version_minor": 0
      },
      "text/plain": [
       "HBox(children=(IntProgress(value=0, max=1150), HTML(value=u'')))"
      ]
     },
     "metadata": {},
     "output_type": "display_data"
    },
    {
     "data": {
      "application/vnd.jupyter.widget-view+json": {
       "model_id": "",
       "version_major": 2,
       "version_minor": 0
      },
      "text/plain": [
       "HBox(children=(IntProgress(value=0, max=128), HTML(value=u'')))"
      ]
     },
     "metadata": {},
     "output_type": "display_data"
    },
    {
     "name": "stdout",
     "output_type": "stream",
     "text": [
      "Epoch [38/50] train_loss: 0.0010, train_acc: 1.0000, val_loss: 7.5397, val_acc: 0.2969 \n"
     ]
    },
    {
     "data": {
      "application/vnd.jupyter.widget-view+json": {
       "model_id": "",
       "version_major": 2,
       "version_minor": 0
      },
      "text/plain": [
       "HBox(children=(IntProgress(value=0, max=1150), HTML(value=u'')))"
      ]
     },
     "metadata": {},
     "output_type": "display_data"
    },
    {
     "data": {
      "application/vnd.jupyter.widget-view+json": {
       "model_id": "",
       "version_major": 2,
       "version_minor": 0
      },
      "text/plain": [
       "HBox(children=(IntProgress(value=0, max=128), HTML(value=u'')))"
      ]
     },
     "metadata": {},
     "output_type": "display_data"
    },
    {
     "name": "stdout",
     "output_type": "stream",
     "text": [
      "Epoch [39/50] train_loss: 0.0006, train_acc: 1.0000, val_loss: 7.5248, val_acc: 0.3203 \n"
     ]
    },
    {
     "data": {
      "application/vnd.jupyter.widget-view+json": {
       "model_id": "",
       "version_major": 2,
       "version_minor": 0
      },
      "text/plain": [
       "HBox(children=(IntProgress(value=0, max=1150), HTML(value=u'')))"
      ]
     },
     "metadata": {},
     "output_type": "display_data"
    },
    {
     "data": {
      "application/vnd.jupyter.widget-view+json": {
       "model_id": "",
       "version_major": 2,
       "version_minor": 0
      },
      "text/plain": [
       "HBox(children=(IntProgress(value=0, max=128), HTML(value=u'')))"
      ]
     },
     "metadata": {},
     "output_type": "display_data"
    },
    {
     "name": "stdout",
     "output_type": "stream",
     "text": [
      "Epoch [40/50] train_loss: 0.0107, train_acc: 0.9962, val_loss: 8.7623, val_acc: 0.3177 \n"
     ]
    },
    {
     "data": {
      "application/vnd.jupyter.widget-view+json": {
       "model_id": "",
       "version_major": 2,
       "version_minor": 0
      },
      "text/plain": [
       "HBox(children=(IntProgress(value=0, max=1150), HTML(value=u'')))"
      ]
     },
     "metadata": {},
     "output_type": "display_data"
    },
    {
     "data": {
      "application/vnd.jupyter.widget-view+json": {
       "model_id": "",
       "version_major": 2,
       "version_minor": 0
      },
      "text/plain": [
       "HBox(children=(IntProgress(value=0, max=128), HTML(value=u'')))"
      ]
     },
     "metadata": {},
     "output_type": "display_data"
    },
    {
     "name": "stdout",
     "output_type": "stream",
     "text": [
      "Epoch [41/50] train_loss: 0.0310, train_acc: 0.9887, val_loss: 8.1792, val_acc: 0.2786 \n"
     ]
    },
    {
     "data": {
      "application/vnd.jupyter.widget-view+json": {
       "model_id": "",
       "version_major": 2,
       "version_minor": 0
      },
      "text/plain": [
       "HBox(children=(IntProgress(value=0, max=1150), HTML(value=u'')))"
      ]
     },
     "metadata": {},
     "output_type": "display_data"
    },
    {
     "data": {
      "application/vnd.jupyter.widget-view+json": {
       "model_id": "",
       "version_major": 2,
       "version_minor": 0
      },
      "text/plain": [
       "HBox(children=(IntProgress(value=0, max=128), HTML(value=u'')))"
      ]
     },
     "metadata": {},
     "output_type": "display_data"
    },
    {
     "name": "stdout",
     "output_type": "stream",
     "text": [
      "Epoch [42/50] train_loss: 0.0055, train_acc: 0.9994, val_loss: 6.5269, val_acc: 0.4531 \n"
     ]
    },
    {
     "data": {
      "application/vnd.jupyter.widget-view+json": {
       "model_id": "",
       "version_major": 2,
       "version_minor": 0
      },
      "text/plain": [
       "HBox(children=(IntProgress(value=0, max=1150), HTML(value=u'')))"
      ]
     },
     "metadata": {},
     "output_type": "display_data"
    },
    {
     "data": {
      "application/vnd.jupyter.widget-view+json": {
       "model_id": "",
       "version_major": 2,
       "version_minor": 0
      },
      "text/plain": [
       "HBox(children=(IntProgress(value=0, max=128), HTML(value=u'')))"
      ]
     },
     "metadata": {},
     "output_type": "display_data"
    },
    {
     "name": "stdout",
     "output_type": "stream",
     "text": [
      "Epoch [43/50] train_loss: 0.0009, train_acc: 1.0000, val_loss: 7.1139, val_acc: 0.4531 \n"
     ]
    },
    {
     "data": {
      "application/vnd.jupyter.widget-view+json": {
       "model_id": "",
       "version_major": 2,
       "version_minor": 0
      },
      "text/plain": [
       "HBox(children=(IntProgress(value=0, max=1150), HTML(value=u'')))"
      ]
     },
     "metadata": {},
     "output_type": "display_data"
    },
    {
     "data": {
      "application/vnd.jupyter.widget-view+json": {
       "model_id": "",
       "version_major": 2,
       "version_minor": 0
      },
      "text/plain": [
       "HBox(children=(IntProgress(value=0, max=128), HTML(value=u'')))"
      ]
     },
     "metadata": {},
     "output_type": "display_data"
    },
    {
     "name": "stdout",
     "output_type": "stream",
     "text": [
      "Epoch [44/50] train_loss: 0.0006, train_acc: 1.0000, val_loss: 6.9886, val_acc: 0.4557 \n"
     ]
    },
    {
     "data": {
      "application/vnd.jupyter.widget-view+json": {
       "model_id": "",
       "version_major": 2,
       "version_minor": 0
      },
      "text/plain": [
       "HBox(children=(IntProgress(value=0, max=1150), HTML(value=u'')))"
      ]
     },
     "metadata": {},
     "output_type": "display_data"
    },
    {
     "data": {
      "application/vnd.jupyter.widget-view+json": {
       "model_id": "",
       "version_major": 2,
       "version_minor": 0
      },
      "text/plain": [
       "HBox(children=(IntProgress(value=0, max=128), HTML(value=u'')))"
      ]
     },
     "metadata": {},
     "output_type": "display_data"
    },
    {
     "name": "stdout",
     "output_type": "stream",
     "text": [
      "Epoch [45/50] train_loss: 0.0004, train_acc: 1.0000, val_loss: 8.5625, val_acc: 0.4766 \n"
     ]
    },
    {
     "data": {
      "application/vnd.jupyter.widget-view+json": {
       "model_id": "",
       "version_major": 2,
       "version_minor": 0
      },
      "text/plain": [
       "HBox(children=(IntProgress(value=0, max=1150), HTML(value=u'')))"
      ]
     },
     "metadata": {},
     "output_type": "display_data"
    },
    {
     "data": {
      "application/vnd.jupyter.widget-view+json": {
       "model_id": "",
       "version_major": 2,
       "version_minor": 0
      },
      "text/plain": [
       "HBox(children=(IntProgress(value=0, max=128), HTML(value=u'')))"
      ]
     },
     "metadata": {},
     "output_type": "display_data"
    },
    {
     "name": "stdout",
     "output_type": "stream",
     "text": [
      "Epoch [46/50] train_loss: 0.0003, train_acc: 1.0000, val_loss: 9.2696, val_acc: 0.4766 \n"
     ]
    },
    {
     "data": {
      "application/vnd.jupyter.widget-view+json": {
       "model_id": "",
       "version_major": 2,
       "version_minor": 0
      },
      "text/plain": [
       "HBox(children=(IntProgress(value=0, max=1150), HTML(value=u'')))"
      ]
     },
     "metadata": {},
     "output_type": "display_data"
    },
    {
     "data": {
      "application/vnd.jupyter.widget-view+json": {
       "model_id": "",
       "version_major": 2,
       "version_minor": 0
      },
      "text/plain": [
       "HBox(children=(IntProgress(value=0, max=128), HTML(value=u'')))"
      ]
     },
     "metadata": {},
     "output_type": "display_data"
    },
    {
     "name": "stdout",
     "output_type": "stream",
     "text": [
      "Epoch [47/50] train_loss: 0.0002, train_acc: 1.0000, val_loss: 12.9079, val_acc: 0.2214 \n"
     ]
    },
    {
     "data": {
      "application/vnd.jupyter.widget-view+json": {
       "model_id": "",
       "version_major": 2,
       "version_minor": 0
      },
      "text/plain": [
       "HBox(children=(IntProgress(value=0, max=1150), HTML(value=u'')))"
      ]
     },
     "metadata": {},
     "output_type": "display_data"
    },
    {
     "data": {
      "application/vnd.jupyter.widget-view+json": {
       "model_id": "",
       "version_major": 2,
       "version_minor": 0
      },
      "text/plain": [
       "HBox(children=(IntProgress(value=0, max=128), HTML(value=u'')))"
      ]
     },
     "metadata": {},
     "output_type": "display_data"
    },
    {
     "name": "stdout",
     "output_type": "stream",
     "text": [
      "Epoch [48/50] train_loss: 0.0001, train_acc: 1.0000, val_loss: 11.4336, val_acc: 0.2552 \n"
     ]
    },
    {
     "data": {
      "application/vnd.jupyter.widget-view+json": {
       "model_id": "",
       "version_major": 2,
       "version_minor": 0
      },
      "text/plain": [
       "HBox(children=(IntProgress(value=0, max=1150), HTML(value=u'')))"
      ]
     },
     "metadata": {},
     "output_type": "display_data"
    },
    {
     "data": {
      "application/vnd.jupyter.widget-view+json": {
       "model_id": "",
       "version_major": 2,
       "version_minor": 0
      },
      "text/plain": [
       "HBox(children=(IntProgress(value=0, max=128), HTML(value=u'')))"
      ]
     },
     "metadata": {},
     "output_type": "display_data"
    },
    {
     "name": "stdout",
     "output_type": "stream",
     "text": [
      "Epoch [49/50] train_loss: 0.0001, train_acc: 1.0000, val_loss: 8.8990, val_acc: 0.3203 \n"
     ]
    },
    {
     "data": {
      "application/vnd.jupyter.widget-view+json": {
       "model_id": "",
       "version_major": 2,
       "version_minor": 0
      },
      "text/plain": [
       "HBox(children=(IntProgress(value=0, max=1150), HTML(value=u'')))"
      ]
     },
     "metadata": {},
     "output_type": "display_data"
    },
    {
     "data": {
      "application/vnd.jupyter.widget-view+json": {
       "model_id": "",
       "version_major": 2,
       "version_minor": 0
      },
      "text/plain": [
       "HBox(children=(IntProgress(value=0, max=128), HTML(value=u'')))"
      ]
     },
     "metadata": {},
     "output_type": "display_data"
    },
    {
     "name": "stdout",
     "output_type": "stream",
     "text": [
      "Epoch [50/50] train_loss: 0.0303, train_acc: 0.9910, val_loss: 13.8131, val_acc: 0.2214 \n",
      "\n"
     ]
    }
   ],
   "source": [
    "m = ConcatPoolingGRUAdaptive(vocab_size, embedding_dim, n_hidden, n_out_yf, trainds.fields['corpus'].vocab.vectors).to(device)\n",
    "opt = optim.Adam(filter(lambda p: p.requires_grad, m.parameters()), 1e-3)\n",
    "\n",
    "train_acc_list, train_loss_list, val_acc_list, val_loss_list = fit_z(model=m, train_dl=train_batch_it, val_dl=val_batch_it, loss_fn=F.nll_loss, opt=opt, epochs=50)"
   ]
  },
  {
   "cell_type": "code",
   "execution_count": 52,
   "metadata": {},
   "outputs": [
    {
     "data": {
      "image/png": "[encoded data removed]",
      "text/plain": [
       "<Figure size 432x288 with 1 Axes>"
      ]
     },
     "metadata": {
      "needs_background": "light"
     },
     "output_type": "display_data"
    }
   ],
   "source": [
    "#plot train/val accuracies\n",
    "plt.title(\"Train/Test Acc\")\n",
    "plt.xlabel(\"epoch\")\n",
    "plt.ylabel('acc')\n",
    "line1 = plt.plot(train_acc_list, color='red')\n",
    "line2 = plt.plot(val_acc_list, color='blue')\n",
    "plt.legend(['Train', 'Test'], loc='upper left')\n",
    "plt.savefig('nlpcpgrul1acc.png')   # save the figure to file\n",
    "plt.show()\n",
    "plt.close()"
   ]
  },
  {
   "cell_type": "code",
   "execution_count": 53,
   "metadata": {},
   "outputs": [
    {
     "data": {
      "image/png": "[encoded data removed]",
      "text/plain": [
       "<Figure size 432x288 with 1 Axes>"
      ]
     },
     "metadata": {
      "needs_background": "light"
     },
     "output_type": "display_data"
    }
   ],
   "source": [
    "#plot train/val accuracies\n",
    "plt.title(\"Train/Test Loss\")\n",
    "plt.xlabel(\"epoch\")\n",
    "plt.ylabel('loss')\n",
    "line1 = plt.plot(train_loss_list, color='red')\n",
    "line2 = plt.plot(val_loss_list, color='blue')\n",
    "plt.legend(['Train', 'Test'], loc='upper left')\n",
    "plt.savefig('nlpcpgrul1loss.png')   # save the figure to file\n",
    "plt.show()\n",
    "plt.close()"
   ]
  }
 ],
 "metadata": {
  "kernelspec": {
   "display_name": "Python 2",
   "language": "python",
   "name": "python2"
  },
  "language_info": {
   "codemirror_mode": {
    "name": "ipython",
    "version": 2
   },
   "file_extension": ".py",
   "mimetype": "text/x-python",
   "name": "python",
   "nbconvert_exporter": "python",
   "pygments_lexer": "ipython2",
   "version": "2.7.15"
  }
 },
 "nbformat": 4,
 "nbformat_minor": 2
}
