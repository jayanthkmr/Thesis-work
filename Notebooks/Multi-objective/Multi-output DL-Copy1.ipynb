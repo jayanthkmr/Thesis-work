{
 "cells": [
  {
   "cell_type": "code",
   "execution_count": 1,
   "metadata": {},
   "outputs": [
    {
     "name": "stderr",
     "output_type": "stream",
     "text": [
      "Using TensorFlow backend.\n"
     ]
    }
   ],
   "source": [
    "from __future__ import print_function\n",
    "import keras\n",
    "from keras import backend as K\n",
    "from keras.engine.topology import Layer\n",
    "from keras import activations\n",
    "from keras import utils\n",
    "from keras.datasets import cifar10\n",
    "from keras.models import Model, Sequential\n",
    "from keras.layers import *\n",
    "from IPython.display import SVG\n",
    "from keras.utils.vis_utils import model_to_dot\n",
    "from keras.utils import plot_model\n",
    "import matplotlib.pyplot as plt"
   ]
  },
  {
   "cell_type": "markdown",
   "metadata": {},
   "source": [
    "# Dataset\n",
    "CIFAR 100 has 2 labels - coarse and fine labels. Coarse labels are 20 in count while fine labels are 100 in count.\n",
    "This dataset is just like the CIFAR-10, except it has 100 classes containing 600 images each. There are 500 training images and 100 testing images per class. The 100 classes in the CIFAR-100 are grouped into 20 superclasses. Each image comes with a \"fine\" label (the class to which it belongs) and a \"coarse\" label (the superclass to which it belongs)."
   ]
  },
  {
   "cell_type": "code",
   "execution_count": 2,
   "metadata": {},
   "outputs": [
    {
     "name": "stdout",
     "output_type": "stream",
     "text": [
      "50000 train samples, 32 channels, 32x3\n",
      "10000  test samples, 32 channels, 32x3\n"
     ]
    }
   ],
   "source": [
    "batch_size = 128\n",
    "num_classes = 100\n",
    "nb_classes = 20\n",
    "epochs = 50\n",
    "from keras.datasets import cifar100\n",
    "from keras.utils import np_utils\n",
    "(X_train, y_train), (X_test, y_test) = cifar100.load_data('coarse')\n",
    "(Xf_train, yf_train), (Xf_test, yf_test) = cifar100.load_data('fine')\n",
    "\n",
    "# print shape of data while model is building\n",
    "print(\"{1} train samples, {2} channel{0}, {3}x{4}\".format(\"\" if X_train.shape[1] == 1 else \"s\", *X_train.shape))\n",
    "print(\"{1}  test samples, {2} channel{0}, {3}x{4}\".format(\"\" if X_test.shape[1] == 1 else \"s\", *X_test.shape))\n",
    "\n",
    "# input image dimensions\n",
    "_, img_channels, img_rows, img_cols = X_train.shape\n",
    "\n",
    "# convert class vectors to binary class matrices\n",
    "Y_train = np_utils.to_categorical(y_train, nb_classes)\n",
    "Y_test = np_utils.to_categorical(y_test, nb_classes)\n",
    "\n",
    "# convert class vectors to binary class matrices\n",
    "Yf_train = np_utils.to_categorical(yf_train, num_classes)\n",
    "Yf_test = np_utils.to_categorical(yf_test, num_classes)"
   ]
  },
  {
   "cell_type": "code",
   "execution_count": 3,
   "metadata": {},
   "outputs": [
    {
     "name": "stdout",
     "output_type": "stream",
     "text": [
      "[19]\n",
      "[99]\n"
     ]
    }
   ],
   "source": [
    "print(max(y_train))\n",
    "print(max(yf_train))"
   ]
  },
  {
   "cell_type": "markdown",
   "metadata": {},
   "source": [
    "We first train models seperately for both the labels and then, merge their accuracy for comparision."
   ]
  },
  {
   "cell_type": "code",
   "execution_count": 4,
   "metadata": {},
   "outputs": [
    {
     "name": "stdout",
     "output_type": "stream",
     "text": [
      "_________________________________________________________________\n",
      "Layer (type)                 Output Shape              Param #   \n",
      "=================================================================\n",
      "conv2d_1 (Conv2D)            (None, 32, 32, 32)        896       \n",
      "_________________________________________________________________\n",
      "activation_1 (Activation)    (None, 32, 32, 32)        0         \n",
      "_________________________________________________________________\n",
      "conv2d_2 (Conv2D)            (None, 30, 30, 32)        9248      \n",
      "_________________________________________________________________\n",
      "activation_2 (Activation)    (None, 30, 30, 32)        0         \n",
      "_________________________________________________________________\n",
      "max_pooling2d_1 (MaxPooling2 (None, 15, 15, 32)        0         \n",
      "_________________________________________________________________\n",
      "dropout_1 (Dropout)          (None, 15, 15, 32)        0         \n",
      "_________________________________________________________________\n",
      "conv2d_3 (Conv2D)            (None, 15, 15, 64)        18496     \n",
      "_________________________________________________________________\n",
      "activation_3 (Activation)    (None, 15, 15, 64)        0         \n",
      "_________________________________________________________________\n",
      "conv2d_4 (Conv2D)            (None, 13, 13, 64)        36928     \n",
      "_________________________________________________________________\n",
      "activation_4 (Activation)    (None, 13, 13, 64)        0         \n",
      "_________________________________________________________________\n",
      "max_pooling2d_2 (MaxPooling2 (None, 6, 6, 64)          0         \n",
      "_________________________________________________________________\n",
      "dropout_2 (Dropout)          (None, 6, 6, 64)          0         \n",
      "_________________________________________________________________\n",
      "flatten_1 (Flatten)          (None, 2304)              0         \n",
      "_________________________________________________________________\n",
      "dense_1 (Dense)              (None, 512)               1180160   \n",
      "_________________________________________________________________\n",
      "activation_5 (Activation)    (None, 512)               0         \n",
      "_________________________________________________________________\n",
      "dropout_3 (Dropout)          (None, 512)               0         \n",
      "_________________________________________________________________\n",
      "dense_2 (Dense)              (None, 20)                10260     \n",
      "_________________________________________________________________\n",
      "activation_6 (Activation)    (None, 20)                0         \n",
      "=================================================================\n",
      "Total params: 1,255,988\n",
      "Trainable params: 1,255,988\n",
      "Non-trainable params: 0\n",
      "_________________________________________________________________\n",
      "None\n"
     ]
    },
    {
     "name": "stderr",
     "output_type": "stream",
     "text": [
      "/Users/jayanth/Library/Python/2.7/lib/python/site-packages/ipykernel_launcher.py:4: UserWarning: Update your `Conv2D` call to the Keras 2 API: `Conv2D(32, (3, 3), padding=\"same\", input_shape=(32, 32, 3...)`\n",
      "  after removing the cwd from sys.path.\n",
      "/Users/jayanth/Library/Python/2.7/lib/python/site-packages/ipykernel_launcher.py:6: UserWarning: Update your `Conv2D` call to the Keras 2 API: `Conv2D(32, (3, 3))`\n",
      "  \n",
      "/Users/jayanth/Library/Python/2.7/lib/python/site-packages/ipykernel_launcher.py:11: UserWarning: Update your `Conv2D` call to the Keras 2 API: `Conv2D(64, (3, 3), padding=\"same\")`\n",
      "  # This is added back by InteractiveShellApp.init_path()\n",
      "/Users/jayanth/Library/Python/2.7/lib/python/site-packages/ipykernel_launcher.py:13: UserWarning: Update your `Conv2D` call to the Keras 2 API: `Conv2D(64, (3, 3))`\n",
      "  del sys.path[0]\n"
     ]
    }
   ],
   "source": [
    "# A common Conv2D model\n",
    "model = Sequential()\n",
    "model.add(Convolution2D(32, 3, 3, border_mode='same',\n",
    "                        input_shape=(img_channels, img_rows, img_cols)))\n",
    "model.add(Activation('relu'))\n",
    "model.add(Convolution2D(32, 3, 3))\n",
    "model.add(Activation('relu'))\n",
    "model.add(MaxPooling2D(pool_size=(2, 2)))\n",
    "model.add(Dropout(0.25))\n",
    "\n",
    "model.add(Convolution2D(64, 3, 3, border_mode='same'))\n",
    "model.add(Activation('relu'))\n",
    "model.add(Convolution2D(64, 3, 3))\n",
    "model.add(Activation('relu'))\n",
    "model.add(MaxPooling2D(pool_size=(2, 2)))\n",
    "model.add(Dropout(0.25))\n",
    "\n",
    "model.add(Flatten())\n",
    "model.add(Dense(512))\n",
    "model.add(Activation('relu'))\n",
    "model.add(Dropout(0.5))\n",
    "model.add(Dense(nb_classes))\n",
    "model.add(Activation('softmax'))\n",
    "\n",
    "\n",
    "print(model.summary())"
   ]
  },
  {
   "cell_type": "code",
   "execution_count": 5,
   "metadata": {},
   "outputs": [
    {
     "data": {
      "image/svg+xml": [
       "<svg height=\"1359pt\" viewBox=\"0.00 0.00 219.61 1359.00\" width=\"220pt\" xmlns=\"http://www.w3.org/2000/svg\" xmlns:xlink=\"http://www.w3.org/1999/xlink\">\n",
       "<g class=\"graph\" id=\"graph0\" transform=\"scale(1 1) rotate(0) translate(4 1355)\">\n",
       "<title>G</title>\n",
       "<polygon fill=\"#ffffff\" points=\"-4,4 -4,-1355 215.6104,-1355 215.6104,4 -4,4\" stroke=\"transparent\"/>\n",
       "<!-- 4846991440 -->\n",
       "<g class=\"node\" id=\"node1\">\n",
       "<title>4846991440</title>\n",
       "<polygon fill=\"none\" points=\"42.7793,-1241.5 42.7793,-1277.5 168.8311,-1277.5 168.8311,-1241.5 42.7793,-1241.5\" stroke=\"#000000\"/>\n",
       "<text fill=\"#000000\" font-family=\"Times,serif\" font-size=\"14.00\" text-anchor=\"middle\" x=\"105.8052\" y=\"-1255.3\">conv2d_1: Conv2D</text>\n",
       "</g>\n",
       "<!-- 4462299600 -->\n",
       "<g class=\"node\" id=\"node2\">\n",
       "<title>4462299600</title>\n",
       "<polygon fill=\"none\" points=\"30.3447,-1168.5 30.3447,-1204.5 181.2656,-1204.5 181.2656,-1168.5 30.3447,-1168.5\" stroke=\"#000000\"/>\n",
       "<text fill=\"#000000\" font-family=\"Times,serif\" font-size=\"14.00\" text-anchor=\"middle\" x=\"105.8052\" y=\"-1182.3\">activation_1: Activation</text>\n",
       "</g>\n",
       "<!-- 4846991440&#45;&gt;4462299600 -->\n",
       "<g class=\"edge\" id=\"edge2\">\n",
       "<title>4846991440-&gt;4462299600</title>\n",
       "<path d=\"M105.8052,-1241.4551C105.8052,-1233.3828 105.8052,-1223.6764 105.8052,-1214.6817\" fill=\"none\" stroke=\"#000000\"/>\n",
       "<polygon fill=\"#000000\" points=\"109.3053,-1214.5903 105.8052,-1204.5904 102.3053,-1214.5904 109.3053,-1214.5903\" stroke=\"#000000\"/>\n",
       "</g>\n",
       "<!-- 4846992656 -->\n",
       "<g class=\"node\" id=\"node3\">\n",
       "<title>4846992656</title>\n",
       "<polygon fill=\"none\" points=\"42.7793,-1095.5 42.7793,-1131.5 168.8311,-1131.5 168.8311,-1095.5 42.7793,-1095.5\" stroke=\"#000000\"/>\n",
       "<text fill=\"#000000\" font-family=\"Times,serif\" font-size=\"14.00\" text-anchor=\"middle\" x=\"105.8052\" y=\"-1109.3\">conv2d_2: Conv2D</text>\n",
       "</g>\n",
       "<!-- 4462299600&#45;&gt;4846992656 -->\n",
       "<g class=\"edge\" id=\"edge3\">\n",
       "<title>4462299600-&gt;4846992656</title>\n",
       "<path d=\"M105.8052,-1168.4551C105.8052,-1160.3828 105.8052,-1150.6764 105.8052,-1141.6817\" fill=\"none\" stroke=\"#000000\"/>\n",
       "<polygon fill=\"#000000\" points=\"109.3053,-1141.5903 105.8052,-1131.5904 102.3053,-1141.5904 109.3053,-1141.5903\" stroke=\"#000000\"/>\n",
       "</g>\n",
       "<!-- 4846841168 -->\n",
       "<g class=\"node\" id=\"node4\">\n",
       "<title>4846841168</title>\n",
       "<polygon fill=\"none\" points=\"30.3447,-1022.5 30.3447,-1058.5 181.2656,-1058.5 181.2656,-1022.5 30.3447,-1022.5\" stroke=\"#000000\"/>\n",
       "<text fill=\"#000000\" font-family=\"Times,serif\" font-size=\"14.00\" text-anchor=\"middle\" x=\"105.8052\" y=\"-1036.3\">activation_2: Activation</text>\n",
       "</g>\n",
       "<!-- 4846992656&#45;&gt;4846841168 -->\n",
       "<g class=\"edge\" id=\"edge4\">\n",
       "<title>4846992656-&gt;4846841168</title>\n",
       "<path d=\"M105.8052,-1095.4551C105.8052,-1087.3828 105.8052,-1077.6764 105.8052,-1068.6817\" fill=\"none\" stroke=\"#000000\"/>\n",
       "<polygon fill=\"#000000\" points=\"109.3053,-1068.5903 105.8052,-1058.5904 102.3053,-1068.5904 109.3053,-1068.5903\" stroke=\"#000000\"/>\n",
       "</g>\n",
       "<!-- 4847096208 -->\n",
       "<g class=\"node\" id=\"node5\">\n",
       "<title>4847096208</title>\n",
       "<polygon fill=\"none\" points=\"0,-949.5 0,-985.5 211.6104,-985.5 211.6104,-949.5 0,-949.5\" stroke=\"#000000\"/>\n",
       "<text fill=\"#000000\" font-family=\"Times,serif\" font-size=\"14.00\" text-anchor=\"middle\" x=\"105.8052\" y=\"-963.3\">max_pooling2d_1: MaxPooling2D</text>\n",
       "</g>\n",
       "<!-- 4846841168&#45;&gt;4847096208 -->\n",
       "<g class=\"edge\" id=\"edge5\">\n",
       "<title>4846841168-&gt;4847096208</title>\n",
       "<path d=\"M105.8052,-1022.4551C105.8052,-1014.3828 105.8052,-1004.6764 105.8052,-995.6817\" fill=\"none\" stroke=\"#000000\"/>\n",
       "<polygon fill=\"#000000\" points=\"109.3053,-995.5903 105.8052,-985.5904 102.3053,-995.5904 109.3053,-995.5903\" stroke=\"#000000\"/>\n",
       "</g>\n",
       "<!-- 4846992592 -->\n",
       "<g class=\"node\" id=\"node6\">\n",
       "<title>4846992592</title>\n",
       "<polygon fill=\"none\" points=\"42.0034,-876.5 42.0034,-912.5 169.6069,-912.5 169.6069,-876.5 42.0034,-876.5\" stroke=\"#000000\"/>\n",
       "<text fill=\"#000000\" font-family=\"Times,serif\" font-size=\"14.00\" text-anchor=\"middle\" x=\"105.8052\" y=\"-890.3\">dropout_1: Dropout</text>\n",
       "</g>\n",
       "<!-- 4847096208&#45;&gt;4846992592 -->\n",
       "<g class=\"edge\" id=\"edge6\">\n",
       "<title>4847096208-&gt;4846992592</title>\n",
       "<path d=\"M105.8052,-949.4551C105.8052,-941.3828 105.8052,-931.6764 105.8052,-922.6817\" fill=\"none\" stroke=\"#000000\"/>\n",
       "<polygon fill=\"#000000\" points=\"109.3053,-922.5903 105.8052,-912.5904 102.3053,-922.5904 109.3053,-922.5903\" stroke=\"#000000\"/>\n",
       "</g>\n",
       "<!-- 4848833680 -->\n",
       "<g class=\"node\" id=\"node7\">\n",
       "<title>4848833680</title>\n",
       "<polygon fill=\"none\" points=\"42.7793,-803.5 42.7793,-839.5 168.8311,-839.5 168.8311,-803.5 42.7793,-803.5\" stroke=\"#000000\"/>\n",
       "<text fill=\"#000000\" font-family=\"Times,serif\" font-size=\"14.00\" text-anchor=\"middle\" x=\"105.8052\" y=\"-817.3\">conv2d_3: Conv2D</text>\n",
       "</g>\n",
       "<!-- 4846992592&#45;&gt;4848833680 -->\n",
       "<g class=\"edge\" id=\"edge7\">\n",
       "<title>4846992592-&gt;4848833680</title>\n",
       "<path d=\"M105.8052,-876.4551C105.8052,-868.3828 105.8052,-858.6764 105.8052,-849.6817\" fill=\"none\" stroke=\"#000000\"/>\n",
       "<polygon fill=\"#000000\" points=\"109.3053,-849.5903 105.8052,-839.5904 102.3053,-849.5904 109.3053,-849.5903\" stroke=\"#000000\"/>\n",
       "</g>\n",
       "<!-- 4846992400 -->\n",
       "<g class=\"node\" id=\"node8\">\n",
       "<title>4846992400</title>\n",
       "<polygon fill=\"none\" points=\"30.3447,-730.5 30.3447,-766.5 181.2656,-766.5 181.2656,-730.5 30.3447,-730.5\" stroke=\"#000000\"/>\n",
       "<text fill=\"#000000\" font-family=\"Times,serif\" font-size=\"14.00\" text-anchor=\"middle\" x=\"105.8052\" y=\"-744.3\">activation_3: Activation</text>\n",
       "</g>\n",
       "<!-- 4848833680&#45;&gt;4846992400 -->\n",
       "<g class=\"edge\" id=\"edge8\">\n",
       "<title>4848833680-&gt;4846992400</title>\n",
       "<path d=\"M105.8052,-803.4551C105.8052,-795.3828 105.8052,-785.6764 105.8052,-776.6817\" fill=\"none\" stroke=\"#000000\"/>\n",
       "<polygon fill=\"#000000\" points=\"109.3053,-776.5903 105.8052,-766.5904 102.3053,-776.5904 109.3053,-776.5903\" stroke=\"#000000\"/>\n",
       "</g>\n",
       "<!-- 4848967632 -->\n",
       "<g class=\"node\" id=\"node9\">\n",
       "<title>4848967632</title>\n",
       "<polygon fill=\"none\" points=\"42.7793,-657.5 42.7793,-693.5 168.8311,-693.5 168.8311,-657.5 42.7793,-657.5\" stroke=\"#000000\"/>\n",
       "<text fill=\"#000000\" font-family=\"Times,serif\" font-size=\"14.00\" text-anchor=\"middle\" x=\"105.8052\" y=\"-671.3\">conv2d_4: Conv2D</text>\n",
       "</g>\n",
       "<!-- 4846992400&#45;&gt;4848967632 -->\n",
       "<g class=\"edge\" id=\"edge9\">\n",
       "<title>4846992400-&gt;4848967632</title>\n",
       "<path d=\"M105.8052,-730.4551C105.8052,-722.3828 105.8052,-712.6764 105.8052,-703.6817\" fill=\"none\" stroke=\"#000000\"/>\n",
       "<polygon fill=\"#000000\" points=\"109.3053,-703.5903 105.8052,-693.5904 102.3053,-703.5904 109.3053,-703.5903\" stroke=\"#000000\"/>\n",
       "</g>\n",
       "<!-- 4846907472 -->\n",
       "<g class=\"node\" id=\"node10\">\n",
       "<title>4846907472</title>\n",
       "<polygon fill=\"none\" points=\"30.3447,-584.5 30.3447,-620.5 181.2656,-620.5 181.2656,-584.5 30.3447,-584.5\" stroke=\"#000000\"/>\n",
       "<text fill=\"#000000\" font-family=\"Times,serif\" font-size=\"14.00\" text-anchor=\"middle\" x=\"105.8052\" y=\"-598.3\">activation_4: Activation</text>\n",
       "</g>\n",
       "<!-- 4848967632&#45;&gt;4846907472 -->\n",
       "<g class=\"edge\" id=\"edge10\">\n",
       "<title>4848967632-&gt;4846907472</title>\n",
       "<path d=\"M105.8052,-657.4551C105.8052,-649.3828 105.8052,-639.6764 105.8052,-630.6817\" fill=\"none\" stroke=\"#000000\"/>\n",
       "<polygon fill=\"#000000\" points=\"109.3053,-630.5903 105.8052,-620.5904 102.3053,-630.5904 109.3053,-630.5903\" stroke=\"#000000\"/>\n",
       "</g>\n",
       "<!-- 4848966352 -->\n",
       "<g class=\"node\" id=\"node11\">\n",
       "<title>4848966352</title>\n",
       "<polygon fill=\"none\" points=\"0,-511.5 0,-547.5 211.6104,-547.5 211.6104,-511.5 0,-511.5\" stroke=\"#000000\"/>\n",
       "<text fill=\"#000000\" font-family=\"Times,serif\" font-size=\"14.00\" text-anchor=\"middle\" x=\"105.8052\" y=\"-525.3\">max_pooling2d_2: MaxPooling2D</text>\n",
       "</g>\n",
       "<!-- 4846907472&#45;&gt;4848966352 -->\n",
       "<g class=\"edge\" id=\"edge11\">\n",
       "<title>4846907472-&gt;4848966352</title>\n",
       "<path d=\"M105.8052,-584.4551C105.8052,-576.3828 105.8052,-566.6764 105.8052,-557.6817\" fill=\"none\" stroke=\"#000000\"/>\n",
       "<polygon fill=\"#000000\" points=\"109.3053,-557.5903 105.8052,-547.5904 102.3053,-557.5904 109.3053,-557.5903\" stroke=\"#000000\"/>\n",
       "</g>\n",
       "<!-- 4848834064 -->\n",
       "<g class=\"node\" id=\"node12\">\n",
       "<title>4848834064</title>\n",
       "<polygon fill=\"none\" points=\"42.0034,-438.5 42.0034,-474.5 169.6069,-474.5 169.6069,-438.5 42.0034,-438.5\" stroke=\"#000000\"/>\n",
       "<text fill=\"#000000\" font-family=\"Times,serif\" font-size=\"14.00\" text-anchor=\"middle\" x=\"105.8052\" y=\"-452.3\">dropout_2: Dropout</text>\n",
       "</g>\n",
       "<!-- 4848966352&#45;&gt;4848834064 -->\n",
       "<g class=\"edge\" id=\"edge12\">\n",
       "<title>4848966352-&gt;4848834064</title>\n",
       "<path d=\"M105.8052,-511.4551C105.8052,-503.3828 105.8052,-493.6764 105.8052,-484.6817\" fill=\"none\" stroke=\"#000000\"/>\n",
       "<polygon fill=\"#000000\" points=\"109.3053,-484.5903 105.8052,-474.5904 102.3053,-484.5904 109.3053,-484.5903\" stroke=\"#000000\"/>\n",
       "</g>\n",
       "<!-- 4847680016 -->\n",
       "<g class=\"node\" id=\"node13\">\n",
       "<title>4847680016</title>\n",
       "<polygon fill=\"none\" points=\"50.1724,-365.5 50.1724,-401.5 161.438,-401.5 161.438,-365.5 50.1724,-365.5\" stroke=\"#000000\"/>\n",
       "<text fill=\"#000000\" font-family=\"Times,serif\" font-size=\"14.00\" text-anchor=\"middle\" x=\"105.8052\" y=\"-379.3\">flatten_1: Flatten</text>\n",
       "</g>\n",
       "<!-- 4848834064&#45;&gt;4847680016 -->\n",
       "<g class=\"edge\" id=\"edge13\">\n",
       "<title>4848834064-&gt;4847680016</title>\n",
       "<path d=\"M105.8052,-438.4551C105.8052,-430.3828 105.8052,-420.6764 105.8052,-411.6817\" fill=\"none\" stroke=\"#000000\"/>\n",
       "<polygon fill=\"#000000\" points=\"109.3053,-411.5903 105.8052,-401.5904 102.3053,-411.5904 109.3053,-411.5903\" stroke=\"#000000\"/>\n",
       "</g>\n",
       "<!-- 4849815888 -->\n",
       "<g class=\"node\" id=\"node14\">\n",
       "<title>4849815888</title>\n",
       "<polygon fill=\"none\" points=\"53.6792,-292.5 53.6792,-328.5 157.9312,-328.5 157.9312,-292.5 53.6792,-292.5\" stroke=\"#000000\"/>\n",
       "<text fill=\"#000000\" font-family=\"Times,serif\" font-size=\"14.00\" text-anchor=\"middle\" x=\"105.8052\" y=\"-306.3\">dense_1: Dense</text>\n",
       "</g>\n",
       "<!-- 4847680016&#45;&gt;4849815888 -->\n",
       "<g class=\"edge\" id=\"edge14\">\n",
       "<title>4847680016-&gt;4849815888</title>\n",
       "<path d=\"M105.8052,-365.4551C105.8052,-357.3828 105.8052,-347.6764 105.8052,-338.6817\" fill=\"none\" stroke=\"#000000\"/>\n",
       "<polygon fill=\"#000000\" points=\"109.3053,-338.5903 105.8052,-328.5904 102.3053,-338.5904 109.3053,-338.5903\" stroke=\"#000000\"/>\n",
       "</g>\n",
       "<!-- 4847680400 -->\n",
       "<g class=\"node\" id=\"node15\">\n",
       "<title>4847680400</title>\n",
       "<polygon fill=\"none\" points=\"30.3447,-219.5 30.3447,-255.5 181.2656,-255.5 181.2656,-219.5 30.3447,-219.5\" stroke=\"#000000\"/>\n",
       "<text fill=\"#000000\" font-family=\"Times,serif\" font-size=\"14.00\" text-anchor=\"middle\" x=\"105.8052\" y=\"-233.3\">activation_5: Activation</text>\n",
       "</g>\n",
       "<!-- 4849815888&#45;&gt;4847680400 -->\n",
       "<g class=\"edge\" id=\"edge15\">\n",
       "<title>4849815888-&gt;4847680400</title>\n",
       "<path d=\"M105.8052,-292.4551C105.8052,-284.3828 105.8052,-274.6764 105.8052,-265.6817\" fill=\"none\" stroke=\"#000000\"/>\n",
       "<polygon fill=\"#000000\" points=\"109.3053,-265.5903 105.8052,-255.5904 102.3053,-265.5904 109.3053,-265.5903\" stroke=\"#000000\"/>\n",
       "</g>\n",
       "<!-- 4847820240 -->\n",
       "<g class=\"node\" id=\"node16\">\n",
       "<title>4847820240</title>\n",
       "<polygon fill=\"none\" points=\"42.0034,-146.5 42.0034,-182.5 169.6069,-182.5 169.6069,-146.5 42.0034,-146.5\" stroke=\"#000000\"/>\n",
       "<text fill=\"#000000\" font-family=\"Times,serif\" font-size=\"14.00\" text-anchor=\"middle\" x=\"105.8052\" y=\"-160.3\">dropout_3: Dropout</text>\n",
       "</g>\n",
       "<!-- 4847680400&#45;&gt;4847820240 -->\n",
       "<g class=\"edge\" id=\"edge16\">\n",
       "<title>4847680400-&gt;4847820240</title>\n",
       "<path d=\"M105.8052,-219.4551C105.8052,-211.3828 105.8052,-201.6764 105.8052,-192.6817\" fill=\"none\" stroke=\"#000000\"/>\n",
       "<polygon fill=\"#000000\" points=\"109.3053,-192.5903 105.8052,-182.5904 102.3053,-192.5904 109.3053,-192.5903\" stroke=\"#000000\"/>\n",
       "</g>\n",
       "<!-- 4847740944 -->\n",
       "<g class=\"node\" id=\"node17\">\n",
       "<title>4847740944</title>\n",
       "<polygon fill=\"none\" points=\"53.6792,-73.5 53.6792,-109.5 157.9312,-109.5 157.9312,-73.5 53.6792,-73.5\" stroke=\"#000000\"/>\n",
       "<text fill=\"#000000\" font-family=\"Times,serif\" font-size=\"14.00\" text-anchor=\"middle\" x=\"105.8052\" y=\"-87.3\">dense_2: Dense</text>\n",
       "</g>\n",
       "<!-- 4847820240&#45;&gt;4847740944 -->\n",
       "<g class=\"edge\" id=\"edge17\">\n",
       "<title>4847820240-&gt;4847740944</title>\n",
       "<path d=\"M105.8052,-146.4551C105.8052,-138.3828 105.8052,-128.6764 105.8052,-119.6817\" fill=\"none\" stroke=\"#000000\"/>\n",
       "<polygon fill=\"#000000\" points=\"109.3053,-119.5903 105.8052,-109.5904 102.3053,-119.5904 109.3053,-119.5903\" stroke=\"#000000\"/>\n",
       "</g>\n",
       "<!-- 4846992528 -->\n",
       "<g class=\"node\" id=\"node18\">\n",
       "<title>4846992528</title>\n",
       "<polygon fill=\"none\" points=\"30.3447,-.5 30.3447,-36.5 181.2656,-36.5 181.2656,-.5 30.3447,-.5\" stroke=\"#000000\"/>\n",
       "<text fill=\"#000000\" font-family=\"Times,serif\" font-size=\"14.00\" text-anchor=\"middle\" x=\"105.8052\" y=\"-14.3\">activation_6: Activation</text>\n",
       "</g>\n",
       "<!-- 4847740944&#45;&gt;4846992528 -->\n",
       "<g class=\"edge\" id=\"edge18\">\n",
       "<title>4847740944-&gt;4846992528</title>\n",
       "<path d=\"M105.8052,-73.4551C105.8052,-65.3828 105.8052,-55.6764 105.8052,-46.6817\" fill=\"none\" stroke=\"#000000\"/>\n",
       "<polygon fill=\"#000000\" points=\"109.3053,-46.5903 105.8052,-36.5904 102.3053,-46.5904 109.3053,-46.5903\" stroke=\"#000000\"/>\n",
       "</g>\n",
       "<!-- 4846992144 -->\n",
       "<g class=\"node\" id=\"node19\">\n",
       "<title>4846992144</title>\n",
       "<polygon fill=\"none\" points=\"62.8052,-1314.5 62.8052,-1350.5 148.8052,-1350.5 148.8052,-1314.5 62.8052,-1314.5\" stroke=\"#000000\"/>\n",
       "<text fill=\"#000000\" font-family=\"Times,serif\" font-size=\"14.00\" text-anchor=\"middle\" x=\"105.8052\" y=\"-1328.3\">4846992144</text>\n",
       "</g>\n",
       "<!-- 4846992144&#45;&gt;4846991440 -->\n",
       "<g class=\"edge\" id=\"edge1\">\n",
       "<title>4846992144-&gt;4846991440</title>\n",
       "<path d=\"M105.8052,-1314.4551C105.8052,-1306.3828 105.8052,-1296.6764 105.8052,-1287.6817\" fill=\"none\" stroke=\"#000000\"/>\n",
       "<polygon fill=\"#000000\" points=\"109.3053,-1287.5903 105.8052,-1277.5904 102.3053,-1287.5904 109.3053,-1287.5903\" stroke=\"#000000\"/>\n",
       "</g>\n",
       "</g>\n",
       "</svg>"
      ],
      "text/plain": [
       "<IPython.core.display.SVG object>"
      ]
     },
     "execution_count": 5,
     "metadata": {},
     "output_type": "execute_result"
    }
   ],
   "source": [
    "plot_model(model, to_file='model1.png')\n",
    "SVG(model_to_dot(model).create(prog='dot', format='svg'))"
   ]
  },
  {
   "cell_type": "code",
   "execution_count": 6,
   "metadata": {},
   "outputs": [],
   "source": [
    "# initiate RMSprop optimizer\n",
    "opt = keras.optimizers.Adam(lr=3e-4)\n",
    "\n",
    "# Let's train the model using RMSprop\n",
    "model.compile(loss='categorical_crossentropy',\n",
    "              optimizer=opt,\n",
    "              metrics=['accuracy'])"
   ]
  },
  {
   "cell_type": "code",
   "execution_count": 7,
   "metadata": {},
   "outputs": [
    {
     "name": "stderr",
     "output_type": "stream",
     "text": [
      "/Users/jayanth/Library/Python/2.7/lib/python/site-packages/ipykernel_launcher.py:1: UserWarning: The `nb_epoch` argument in `fit` has been renamed `epochs`.\n",
      "  \"\"\"Entry point for launching an IPython kernel.\n"
     ]
    },
    {
     "name": "stdout",
     "output_type": "stream",
     "text": [
      "Train on 50000 samples, validate on 10000 samples\n",
      "Epoch 1/50\n",
      "50000/50000 [==============================] - 184s 4ms/step - loss: 3.9049 - acc: 0.1234 - val_loss: 2.4794 - val_acc: 0.2420\n",
      "Epoch 2/50\n",
      "50000/50000 [==============================] - 190s 4ms/step - loss: 2.4510 - acc: 0.2466 - val_loss: 2.2227 - val_acc: 0.3215\n",
      "Epoch 3/50\n",
      "50000/50000 [==============================] - 170s 3ms/step - loss: 2.2534 - acc: 0.3082 - val_loss: 2.1162 - val_acc: 0.3564\n",
      "Epoch 4/50\n",
      "50000/50000 [==============================] - 341s 7ms/step - loss: 2.1224 - acc: 0.3445 - val_loss: 1.9850 - val_acc: 0.3823\n",
      "Epoch 5/50\n",
      "50000/50000 [==============================] - 166s 3ms/step - loss: 2.0301 - acc: 0.3710 - val_loss: 1.9056 - val_acc: 0.4109\n",
      "Epoch 6/50\n",
      "50000/50000 [==============================] - 171s 3ms/step - loss: 1.9476 - acc: 0.3951 - val_loss: 1.8000 - val_acc: 0.4454\n",
      "Epoch 7/50\n",
      "50000/50000 [==============================] - 180s 4ms/step - loss: 1.8666 - acc: 0.4186 - val_loss: 1.7762 - val_acc: 0.4509\n",
      "Epoch 8/50\n",
      "50000/50000 [==============================] - 186s 4ms/step - loss: 1.8103 - acc: 0.4366 - val_loss: 1.7671 - val_acc: 0.4576\n",
      "Epoch 9/50\n",
      "50000/50000 [==============================] - 189s 4ms/step - loss: 1.7459 - acc: 0.4551 - val_loss: 1.6682 - val_acc: 0.4902\n",
      "Epoch 10/50\n",
      "50000/50000 [==============================] - 192s 4ms/step - loss: 1.6975 - acc: 0.4699 - val_loss: 1.6394 - val_acc: 0.4945\n",
      "Epoch 11/50\n",
      "50000/50000 [==============================] - 193s 4ms/step - loss: 1.6266 - acc: 0.4872 - val_loss: 1.6039 - val_acc: 0.5057\n",
      "Epoch 12/50\n",
      "50000/50000 [==============================] - 198s 4ms/step - loss: 1.5835 - acc: 0.5040 - val_loss: 1.5901 - val_acc: 0.5119\n",
      "Epoch 13/50\n",
      "50000/50000 [==============================] - 200s 4ms/step - loss: 1.5350 - acc: 0.5167 - val_loss: 1.5310 - val_acc: 0.5252\n",
      "Epoch 14/50\n",
      "50000/50000 [==============================] - 202s 4ms/step - loss: 1.4882 - acc: 0.5327 - val_loss: 1.4948 - val_acc: 0.5376\n",
      "Epoch 15/50\n",
      "50000/50000 [==============================] - 203s 4ms/step - loss: 1.4513 - acc: 0.5394 - val_loss: 1.4811 - val_acc: 0.5422\n",
      "Epoch 16/50\n",
      "50000/50000 [==============================] - 206s 4ms/step - loss: 1.3990 - acc: 0.5554 - val_loss: 1.4955 - val_acc: 0.5347\n",
      "Epoch 17/50\n",
      "50000/50000 [==============================] - 206s 4ms/step - loss: 1.3658 - acc: 0.5658 - val_loss: 1.4365 - val_acc: 0.5519\n",
      "Epoch 18/50\n",
      "50000/50000 [==============================] - 206s 4ms/step - loss: 1.3201 - acc: 0.5805 - val_loss: 1.4223 - val_acc: 0.5578\n",
      "Epoch 19/50\n",
      "50000/50000 [==============================] - 205s 4ms/step - loss: 1.2849 - acc: 0.5899 - val_loss: 1.4173 - val_acc: 0.5577\n",
      "Epoch 20/50\n",
      "50000/50000 [==============================] - 204s 4ms/step - loss: 1.2459 - acc: 0.6013 - val_loss: 1.3966 - val_acc: 0.5630\n",
      "Epoch 21/50\n",
      "50000/50000 [==============================] - 203s 4ms/step - loss: 1.2169 - acc: 0.6082 - val_loss: 1.4076 - val_acc: 0.5666\n",
      "Epoch 22/50\n",
      "50000/50000 [==============================] - 206s 4ms/step - loss: 1.1889 - acc: 0.6165 - val_loss: 1.3841 - val_acc: 0.5708\n",
      "Epoch 23/50\n",
      "50000/50000 [==============================] - 203s 4ms/step - loss: 1.1634 - acc: 0.6243 - val_loss: 1.3788 - val_acc: 0.5723\n",
      "Epoch 24/50\n",
      "50000/50000 [==============================] - 203s 4ms/step - loss: 1.1380 - acc: 0.6325 - val_loss: 1.3997 - val_acc: 0.5676\n",
      "Epoch 25/50\n",
      "50000/50000 [==============================] - 203s 4ms/step - loss: 1.1082 - acc: 0.6394 - val_loss: 1.4064 - val_acc: 0.5662\n",
      "Epoch 26/50\n",
      "50000/50000 [==============================] - 202s 4ms/step - loss: 1.0796 - acc: 0.6486 - val_loss: 1.3899 - val_acc: 0.5737\n",
      "Epoch 27/50\n",
      "50000/50000 [==============================] - 202s 4ms/step - loss: 1.0621 - acc: 0.6558 - val_loss: 1.3710 - val_acc: 0.5774\n",
      "Epoch 28/50\n",
      "50000/50000 [==============================] - 198s 4ms/step - loss: 1.0310 - acc: 0.6649 - val_loss: 1.3805 - val_acc: 0.5727\n",
      "Epoch 29/50\n",
      "50000/50000 [==============================] - 195s 4ms/step - loss: 1.0089 - acc: 0.6681 - val_loss: 1.3730 - val_acc: 0.5776\n",
      "Epoch 30/50\n",
      "50000/50000 [==============================] - 196s 4ms/step - loss: 0.9988 - acc: 0.6750 - val_loss: 1.3584 - val_acc: 0.5856\n",
      "Epoch 31/50\n",
      "50000/50000 [==============================] - 195s 4ms/step - loss: 0.9739 - acc: 0.6804 - val_loss: 1.3692 - val_acc: 0.5873\n",
      "Epoch 32/50\n",
      "50000/50000 [==============================] - 193s 4ms/step - loss: 0.9652 - acc: 0.6803 - val_loss: 1.3931 - val_acc: 0.5732\n",
      "Epoch 33/50\n",
      "50000/50000 [==============================] - 199s 4ms/step - loss: 0.9454 - acc: 0.6863 - val_loss: 1.3769 - val_acc: 0.5851\n",
      "Epoch 34/50\n",
      "50000/50000 [==============================] - 288s 6ms/step - loss: 0.9228 - acc: 0.6927 - val_loss: 1.3669 - val_acc: 0.5858\n",
      "Epoch 35/50\n",
      "50000/50000 [==============================] - 235s 5ms/step - loss: 0.9067 - acc: 0.7022 - val_loss: 1.3568 - val_acc: 0.5919\n",
      "Epoch 36/50\n",
      "50000/50000 [==============================] - 190s 4ms/step - loss: 0.8943 - acc: 0.7058 - val_loss: 1.3790 - val_acc: 0.5905\n",
      "Epoch 37/50\n",
      "50000/50000 [==============================] - 748s 15ms/step - loss: 0.8732 - acc: 0.7117 - val_loss: 1.3748 - val_acc: 0.5905\n",
      "Epoch 38/50\n",
      "50000/50000 [==============================] - 174s 3ms/step - loss: 0.8712 - acc: 0.7135 - val_loss: 1.3885 - val_acc: 0.5878\n",
      "Epoch 39/50\n",
      "50000/50000 [==============================] - 180s 4ms/step - loss: 0.8481 - acc: 0.7206 - val_loss: 1.3837 - val_acc: 0.5913\n",
      "Epoch 40/50\n",
      "50000/50000 [==============================] - 174s 3ms/step - loss: 0.8322 - acc: 0.7227 - val_loss: 1.4003 - val_acc: 0.5867\n",
      "Epoch 41/50\n",
      "50000/50000 [==============================] - 179s 4ms/step - loss: 0.8331 - acc: 0.7228 - val_loss: 1.3948 - val_acc: 0.5868\n",
      "Epoch 42/50\n",
      "50000/50000 [==============================] - 186s 4ms/step - loss: 0.8122 - acc: 0.7288 - val_loss: 1.3814 - val_acc: 0.5903\n",
      "Epoch 43/50\n",
      "50000/50000 [==============================] - 194s 4ms/step - loss: 0.8021 - acc: 0.7319 - val_loss: 1.4130 - val_acc: 0.5853\n",
      "Epoch 44/50\n",
      "50000/50000 [==============================] - 500s 10ms/step - loss: 0.7919 - acc: 0.7349 - val_loss: 1.4121 - val_acc: 0.5773\n",
      "Epoch 45/50\n",
      "50000/50000 [==============================] - 173s 3ms/step - loss: 0.7834 - acc: 0.7399 - val_loss: 1.3941 - val_acc: 0.5910\n",
      "Epoch 46/50\n",
      "50000/50000 [==============================] - 199s 4ms/step - loss: 0.7709 - acc: 0.7428 - val_loss: 1.4213 - val_acc: 0.5837\n",
      "Epoch 47/50\n",
      "50000/50000 [==============================] - 209s 4ms/step - loss: 0.7731 - acc: 0.7408 - val_loss: 1.3746 - val_acc: 0.5926\n",
      "Epoch 48/50\n",
      "50000/50000 [==============================] - 308s 6ms/step - loss: 0.7613 - acc: 0.7471 - val_loss: 1.4000 - val_acc: 0.5933\n",
      "Epoch 49/50\n",
      "50000/50000 [==============================] - 165s 3ms/step - loss: 0.7485 - acc: 0.7497 - val_loss: 1.4130 - val_acc: 0.5959\n",
      "Epoch 50/50\n",
      "50000/50000 [==============================] - 167s 3ms/step - loss: 0.7338 - acc: 0.7515 - val_loss: 1.4694 - val_acc: 0.5834\n"
     ]
    }
   ],
   "source": [
    "history = model.fit(X_train, Y_train, batch_size=batch_size, nb_epoch=epochs, verbose=1, validation_data=(X_test, Y_test))"
   ]
  },
  {
   "cell_type": "code",
   "execution_count": 8,
   "metadata": {},
   "outputs": [
    {
     "data": {
      "image/png": "[encoded data removed]",
      "text/plain": [
       "<Figure size 432x288 with 1 Axes>"
      ]
     },
     "metadata": {
      "needs_background": "light"
     },
     "output_type": "display_data"
    },
    {
     "data": {
      "image/png": "[encoded data removed]",
      "text/plain": [
       "<Figure size 432x288 with 1 Axes>"
      ]
     },
     "metadata": {
      "needs_background": "light"
     },
     "output_type": "display_data"
    }
   ],
   "source": [
    "# Plot training & validation accuracy values\n",
    "plt.plot(history.history['acc'])\n",
    "plt.plot(history.history['val_acc'])\n",
    "plt.title('Model accuracy')\n",
    "plt.ylabel('Accuracy')\n",
    "plt.xlabel('Epoch')\n",
    "plt.legend(['Train', 'Test'], loc='upper left')\n",
    "plt.savefig('1.png')   # save the figure to file\n",
    "plt.show()\n",
    "plt.close()\n",
    "\n",
    "# Plot training & validation loss values\n",
    "plt.plot(history.history['loss'])\n",
    "plt.plot(history.history['val_loss'])\n",
    "plt.title('Model loss')\n",
    "plt.ylabel('Loss')\n",
    "plt.xlabel('Epoch')\n",
    "plt.legend(['Train', 'Test'], loc='upper left')\n",
    "plt.savefig('2.png')   # save the figure to file\n",
    "plt.show()\n",
    "plt.close()"
   ]
  },
  {
   "cell_type": "code",
   "execution_count": 9,
   "metadata": {},
   "outputs": [
    {
     "name": "stdout",
     "output_type": "stream",
     "text": [
      "Test score: 1.4693667346954347\n",
      "Test accuracy: 0.5834\n"
     ]
    }
   ],
   "source": [
    "scorec = model.evaluate(X_test, Y_test, verbose=0)\n",
    "print('Test score:', scorec[0])\n",
    "print('Test accuracy:', scorec[1])"
   ]
  },
  {
   "cell_type": "code",
   "execution_count": 10,
   "metadata": {},
   "outputs": [
    {
     "name": "stdout",
     "output_type": "stream",
     "text": [
      "_________________________________________________________________\n",
      "Layer (type)                 Output Shape              Param #   \n",
      "=================================================================\n",
      "conv2d_5 (Conv2D)            (None, 32, 32, 32)        896       \n",
      "_________________________________________________________________\n",
      "activation_7 (Activation)    (None, 32, 32, 32)        0         \n",
      "_________________________________________________________________\n",
      "conv2d_6 (Conv2D)            (None, 30, 30, 32)        9248      \n",
      "_________________________________________________________________\n",
      "activation_8 (Activation)    (None, 30, 30, 32)        0         \n",
      "_________________________________________________________________\n",
      "max_pooling2d_3 (MaxPooling2 (None, 15, 15, 32)        0         \n",
      "_________________________________________________________________\n",
      "dropout_4 (Dropout)          (None, 15, 15, 32)        0         \n",
      "_________________________________________________________________\n",
      "conv2d_7 (Conv2D)            (None, 15, 15, 64)        18496     \n",
      "_________________________________________________________________\n",
      "activation_9 (Activation)    (None, 15, 15, 64)        0         \n",
      "_________________________________________________________________\n",
      "conv2d_8 (Conv2D)            (None, 13, 13, 64)        36928     \n",
      "_________________________________________________________________\n",
      "activation_10 (Activation)   (None, 13, 13, 64)        0         \n",
      "_________________________________________________________________\n",
      "max_pooling2d_4 (MaxPooling2 (None, 6, 6, 64)          0         \n",
      "_________________________________________________________________\n",
      "dropout_5 (Dropout)          (None, 6, 6, 64)          0         \n",
      "_________________________________________________________________\n",
      "flatten_2 (Flatten)          (None, 2304)              0         \n",
      "_________________________________________________________________\n",
      "dense_3 (Dense)              (None, 512)               1180160   \n",
      "_________________________________________________________________\n",
      "activation_11 (Activation)   (None, 512)               0         \n",
      "_________________________________________________________________\n",
      "dropout_6 (Dropout)          (None, 512)               0         \n",
      "_________________________________________________________________\n",
      "dense_4 (Dense)              (None, 100)               51300     \n",
      "_________________________________________________________________\n",
      "activation_12 (Activation)   (None, 100)               0         \n",
      "=================================================================\n",
      "Total params: 1,297,028\n",
      "Trainable params: 1,297,028\n",
      "Non-trainable params: 0\n",
      "_________________________________________________________________\n",
      "None\n"
     ]
    },
    {
     "name": "stderr",
     "output_type": "stream",
     "text": [
      "/Users/jayanth/Library/Python/2.7/lib/python/site-packages/ipykernel_launcher.py:4: UserWarning: Update your `Conv2D` call to the Keras 2 API: `Conv2D(32, (3, 3), padding=\"same\", input_shape=(32, 32, 3...)`\n",
      "  after removing the cwd from sys.path.\n",
      "/Users/jayanth/Library/Python/2.7/lib/python/site-packages/ipykernel_launcher.py:6: UserWarning: Update your `Conv2D` call to the Keras 2 API: `Conv2D(32, (3, 3))`\n",
      "  \n",
      "/Users/jayanth/Library/Python/2.7/lib/python/site-packages/ipykernel_launcher.py:11: UserWarning: Update your `Conv2D` call to the Keras 2 API: `Conv2D(64, (3, 3), padding=\"same\")`\n",
      "  # This is added back by InteractiveShellApp.init_path()\n",
      "/Users/jayanth/Library/Python/2.7/lib/python/site-packages/ipykernel_launcher.py:13: UserWarning: Update your `Conv2D` call to the Keras 2 API: `Conv2D(64, (3, 3))`\n",
      "  del sys.path[0]\n"
     ]
    }
   ],
   "source": [
    "# A common Conv2D model\n",
    "model = Sequential()\n",
    "model.add(Convolution2D(32, 3, 3, border_mode='same',\n",
    "                        input_shape=(img_channels, img_rows, img_cols)))\n",
    "model.add(Activation('relu'))\n",
    "model.add(Convolution2D(32, 3, 3))\n",
    "model.add(Activation('relu'))\n",
    "model.add(MaxPooling2D(pool_size=(2, 2)))\n",
    "model.add(Dropout(0.25))\n",
    "\n",
    "model.add(Convolution2D(64, 3, 3, border_mode='same'))\n",
    "model.add(Activation('relu'))\n",
    "model.add(Convolution2D(64, 3, 3))\n",
    "model.add(Activation('relu'))\n",
    "model.add(MaxPooling2D(pool_size=(2, 2)))\n",
    "model.add(Dropout(0.25))\n",
    "\n",
    "model.add(Flatten())\n",
    "model.add(Dense(512))\n",
    "model.add(Activation('relu'))\n",
    "model.add(Dropout(0.5))\n",
    "model.add(Dense(num_classes)) #100 here\n",
    "model.add(Activation('softmax'))\n",
    "\n",
    "\n",
    "print(model.summary())"
   ]
  },
  {
   "cell_type": "code",
   "execution_count": 11,
   "metadata": {},
   "outputs": [
    {
     "data": {
      "image/svg+xml": [
       "<svg height=\"1359pt\" viewBox=\"0.00 0.00 219.61 1359.00\" width=\"220pt\" xmlns=\"http://www.w3.org/2000/svg\" xmlns:xlink=\"http://www.w3.org/1999/xlink\">\n",
       "<g class=\"graph\" id=\"graph0\" transform=\"scale(1 1) rotate(0) translate(4 1355)\">\n",
       "<title>G</title>\n",
       "<polygon fill=\"#ffffff\" points=\"-4,4 -4,-1355 215.6104,-1355 215.6104,4 -4,4\" stroke=\"transparent\"/>\n",
       "<!-- 4949622288 -->\n",
       "<g class=\"node\" id=\"node1\">\n",
       "<title>4949622288</title>\n",
       "<polygon fill=\"none\" points=\"42.7793,-1241.5 42.7793,-1277.5 168.8311,-1277.5 168.8311,-1241.5 42.7793,-1241.5\" stroke=\"#000000\"/>\n",
       "<text fill=\"#000000\" font-family=\"Times,serif\" font-size=\"14.00\" text-anchor=\"middle\" x=\"105.8052\" y=\"-1255.3\">conv2d_5: Conv2D</text>\n",
       "</g>\n",
       "<!-- 4949622224 -->\n",
       "<g class=\"node\" id=\"node2\">\n",
       "<title>4949622224</title>\n",
       "<polygon fill=\"none\" points=\"30.3447,-1168.5 30.3447,-1204.5 181.2656,-1204.5 181.2656,-1168.5 30.3447,-1168.5\" stroke=\"#000000\"/>\n",
       "<text fill=\"#000000\" font-family=\"Times,serif\" font-size=\"14.00\" text-anchor=\"middle\" x=\"105.8052\" y=\"-1182.3\">activation_7: Activation</text>\n",
       "</g>\n",
       "<!-- 4949622288&#45;&gt;4949622224 -->\n",
       "<g class=\"edge\" id=\"edge2\">\n",
       "<title>4949622288-&gt;4949622224</title>\n",
       "<path d=\"M105.8052,-1241.4551C105.8052,-1233.3828 105.8052,-1223.6764 105.8052,-1214.6817\" fill=\"none\" stroke=\"#000000\"/>\n",
       "<polygon fill=\"#000000\" points=\"109.3053,-1214.5903 105.8052,-1204.5904 102.3053,-1214.5904 109.3053,-1214.5903\" stroke=\"#000000\"/>\n",
       "</g>\n",
       "<!-- 4949115472 -->\n",
       "<g class=\"node\" id=\"node3\">\n",
       "<title>4949115472</title>\n",
       "<polygon fill=\"none\" points=\"42.7793,-1095.5 42.7793,-1131.5 168.8311,-1131.5 168.8311,-1095.5 42.7793,-1095.5\" stroke=\"#000000\"/>\n",
       "<text fill=\"#000000\" font-family=\"Times,serif\" font-size=\"14.00\" text-anchor=\"middle\" x=\"105.8052\" y=\"-1109.3\">conv2d_6: Conv2D</text>\n",
       "</g>\n",
       "<!-- 4949622224&#45;&gt;4949115472 -->\n",
       "<g class=\"edge\" id=\"edge3\">\n",
       "<title>4949622224-&gt;4949115472</title>\n",
       "<path d=\"M105.8052,-1168.4551C105.8052,-1160.3828 105.8052,-1150.6764 105.8052,-1141.6817\" fill=\"none\" stroke=\"#000000\"/>\n",
       "<polygon fill=\"#000000\" points=\"109.3053,-1141.5903 105.8052,-1131.5904 102.3053,-1141.5904 109.3053,-1141.5903\" stroke=\"#000000\"/>\n",
       "</g>\n",
       "<!-- 4949118160 -->\n",
       "<g class=\"node\" id=\"node4\">\n",
       "<title>4949118160</title>\n",
       "<polygon fill=\"none\" points=\"30.3447,-1022.5 30.3447,-1058.5 181.2656,-1058.5 181.2656,-1022.5 30.3447,-1022.5\" stroke=\"#000000\"/>\n",
       "<text fill=\"#000000\" font-family=\"Times,serif\" font-size=\"14.00\" text-anchor=\"middle\" x=\"105.8052\" y=\"-1036.3\">activation_8: Activation</text>\n",
       "</g>\n",
       "<!-- 4949115472&#45;&gt;4949118160 -->\n",
       "<g class=\"edge\" id=\"edge4\">\n",
       "<title>4949115472-&gt;4949118160</title>\n",
       "<path d=\"M105.8052,-1095.4551C105.8052,-1087.3828 105.8052,-1077.6764 105.8052,-1068.6817\" fill=\"none\" stroke=\"#000000\"/>\n",
       "<polygon fill=\"#000000\" points=\"109.3053,-1068.5903 105.8052,-1058.5904 102.3053,-1068.5904 109.3053,-1068.5903\" stroke=\"#000000\"/>\n",
       "</g>\n",
       "<!-- 4950491472 -->\n",
       "<g class=\"node\" id=\"node5\">\n",
       "<title>4950491472</title>\n",
       "<polygon fill=\"none\" points=\"0,-949.5 0,-985.5 211.6104,-985.5 211.6104,-949.5 0,-949.5\" stroke=\"#000000\"/>\n",
       "<text fill=\"#000000\" font-family=\"Times,serif\" font-size=\"14.00\" text-anchor=\"middle\" x=\"105.8052\" y=\"-963.3\">max_pooling2d_3: MaxPooling2D</text>\n",
       "</g>\n",
       "<!-- 4949118160&#45;&gt;4950491472 -->\n",
       "<g class=\"edge\" id=\"edge5\">\n",
       "<title>4949118160-&gt;4950491472</title>\n",
       "<path d=\"M105.8052,-1022.4551C105.8052,-1014.3828 105.8052,-1004.6764 105.8052,-995.6817\" fill=\"none\" stroke=\"#000000\"/>\n",
       "<polygon fill=\"#000000\" points=\"109.3053,-995.5903 105.8052,-985.5904 102.3053,-995.5904 109.3053,-995.5903\" stroke=\"#000000\"/>\n",
       "</g>\n",
       "<!-- 4949118800 -->\n",
       "<g class=\"node\" id=\"node6\">\n",
       "<title>4949118800</title>\n",
       "<polygon fill=\"none\" points=\"42.0034,-876.5 42.0034,-912.5 169.6069,-912.5 169.6069,-876.5 42.0034,-876.5\" stroke=\"#000000\"/>\n",
       "<text fill=\"#000000\" font-family=\"Times,serif\" font-size=\"14.00\" text-anchor=\"middle\" x=\"105.8052\" y=\"-890.3\">dropout_4: Dropout</text>\n",
       "</g>\n",
       "<!-- 4950491472&#45;&gt;4949118800 -->\n",
       "<g class=\"edge\" id=\"edge6\">\n",
       "<title>4950491472-&gt;4949118800</title>\n",
       "<path d=\"M105.8052,-949.4551C105.8052,-941.3828 105.8052,-931.6764 105.8052,-922.6817\" fill=\"none\" stroke=\"#000000\"/>\n",
       "<polygon fill=\"#000000\" points=\"109.3053,-922.5903 105.8052,-912.5904 102.3053,-922.5904 109.3053,-922.5903\" stroke=\"#000000\"/>\n",
       "</g>\n",
       "<!-- 4949071952 -->\n",
       "<g class=\"node\" id=\"node7\">\n",
       "<title>4949071952</title>\n",
       "<polygon fill=\"none\" points=\"42.7793,-803.5 42.7793,-839.5 168.8311,-839.5 168.8311,-803.5 42.7793,-803.5\" stroke=\"#000000\"/>\n",
       "<text fill=\"#000000\" font-family=\"Times,serif\" font-size=\"14.00\" text-anchor=\"middle\" x=\"105.8052\" y=\"-817.3\">conv2d_7: Conv2D</text>\n",
       "</g>\n",
       "<!-- 4949118800&#45;&gt;4949071952 -->\n",
       "<g class=\"edge\" id=\"edge7\">\n",
       "<title>4949118800-&gt;4949071952</title>\n",
       "<path d=\"M105.8052,-876.4551C105.8052,-868.3828 105.8052,-858.6764 105.8052,-849.6817\" fill=\"none\" stroke=\"#000000\"/>\n",
       "<polygon fill=\"#000000\" points=\"109.3053,-849.5903 105.8052,-839.5904 102.3053,-849.5904 109.3053,-849.5903\" stroke=\"#000000\"/>\n",
       "</g>\n",
       "<!-- 4959108496 -->\n",
       "<g class=\"node\" id=\"node8\">\n",
       "<title>4959108496</title>\n",
       "<polygon fill=\"none\" points=\"30.3447,-730.5 30.3447,-766.5 181.2656,-766.5 181.2656,-730.5 30.3447,-730.5\" stroke=\"#000000\"/>\n",
       "<text fill=\"#000000\" font-family=\"Times,serif\" font-size=\"14.00\" text-anchor=\"middle\" x=\"105.8052\" y=\"-744.3\">activation_9: Activation</text>\n",
       "</g>\n",
       "<!-- 4949071952&#45;&gt;4959108496 -->\n",
       "<g class=\"edge\" id=\"edge8\">\n",
       "<title>4949071952-&gt;4959108496</title>\n",
       "<path d=\"M105.8052,-803.4551C105.8052,-795.3828 105.8052,-785.6764 105.8052,-776.6817\" fill=\"none\" stroke=\"#000000\"/>\n",
       "<polygon fill=\"#000000\" points=\"109.3053,-776.5903 105.8052,-766.5904 102.3053,-776.5904 109.3053,-776.5903\" stroke=\"#000000\"/>\n",
       "</g>\n",
       "<!-- 4850924240 -->\n",
       "<g class=\"node\" id=\"node9\">\n",
       "<title>4850924240</title>\n",
       "<polygon fill=\"none\" points=\"42.7793,-657.5 42.7793,-693.5 168.8311,-693.5 168.8311,-657.5 42.7793,-657.5\" stroke=\"#000000\"/>\n",
       "<text fill=\"#000000\" font-family=\"Times,serif\" font-size=\"14.00\" text-anchor=\"middle\" x=\"105.8052\" y=\"-671.3\">conv2d_8: Conv2D</text>\n",
       "</g>\n",
       "<!-- 4959108496&#45;&gt;4850924240 -->\n",
       "<g class=\"edge\" id=\"edge9\">\n",
       "<title>4959108496-&gt;4850924240</title>\n",
       "<path d=\"M105.8052,-730.4551C105.8052,-722.3828 105.8052,-712.6764 105.8052,-703.6817\" fill=\"none\" stroke=\"#000000\"/>\n",
       "<polygon fill=\"#000000\" points=\"109.3053,-703.5903 105.8052,-693.5904 102.3053,-703.5904 109.3053,-703.5903\" stroke=\"#000000\"/>\n",
       "</g>\n",
       "<!-- 4850872976 -->\n",
       "<g class=\"node\" id=\"node10\">\n",
       "<title>4850872976</title>\n",
       "<polygon fill=\"none\" points=\"26.8447,-584.5 26.8447,-620.5 184.7656,-620.5 184.7656,-584.5 26.8447,-584.5\" stroke=\"#000000\"/>\n",
       "<text fill=\"#000000\" font-family=\"Times,serif\" font-size=\"14.00\" text-anchor=\"middle\" x=\"105.8052\" y=\"-598.3\">activation_10: Activation</text>\n",
       "</g>\n",
       "<!-- 4850924240&#45;&gt;4850872976 -->\n",
       "<g class=\"edge\" id=\"edge10\">\n",
       "<title>4850924240-&gt;4850872976</title>\n",
       "<path d=\"M105.8052,-657.4551C105.8052,-649.3828 105.8052,-639.6764 105.8052,-630.6817\" fill=\"none\" stroke=\"#000000\"/>\n",
       "<polygon fill=\"#000000\" points=\"109.3053,-630.5903 105.8052,-620.5904 102.3053,-630.5904 109.3053,-630.5903\" stroke=\"#000000\"/>\n",
       "</g>\n",
       "<!-- 4950493072 -->\n",
       "<g class=\"node\" id=\"node11\">\n",
       "<title>4950493072</title>\n",
       "<polygon fill=\"none\" points=\"0,-511.5 0,-547.5 211.6104,-547.5 211.6104,-511.5 0,-511.5\" stroke=\"#000000\"/>\n",
       "<text fill=\"#000000\" font-family=\"Times,serif\" font-size=\"14.00\" text-anchor=\"middle\" x=\"105.8052\" y=\"-525.3\">max_pooling2d_4: MaxPooling2D</text>\n",
       "</g>\n",
       "<!-- 4850872976&#45;&gt;4950493072 -->\n",
       "<g class=\"edge\" id=\"edge11\">\n",
       "<title>4850872976-&gt;4950493072</title>\n",
       "<path d=\"M105.8052,-584.4551C105.8052,-576.3828 105.8052,-566.6764 105.8052,-557.6817\" fill=\"none\" stroke=\"#000000\"/>\n",
       "<polygon fill=\"#000000\" points=\"109.3053,-557.5903 105.8052,-547.5904 102.3053,-557.5904 109.3053,-557.5903\" stroke=\"#000000\"/>\n",
       "</g>\n",
       "<!-- 4949116432 -->\n",
       "<g class=\"node\" id=\"node12\">\n",
       "<title>4949116432</title>\n",
       "<polygon fill=\"none\" points=\"42.0034,-438.5 42.0034,-474.5 169.6069,-474.5 169.6069,-438.5 42.0034,-438.5\" stroke=\"#000000\"/>\n",
       "<text fill=\"#000000\" font-family=\"Times,serif\" font-size=\"14.00\" text-anchor=\"middle\" x=\"105.8052\" y=\"-452.3\">dropout_5: Dropout</text>\n",
       "</g>\n",
       "<!-- 4950493072&#45;&gt;4949116432 -->\n",
       "<g class=\"edge\" id=\"edge12\">\n",
       "<title>4950493072-&gt;4949116432</title>\n",
       "<path d=\"M105.8052,-511.4551C105.8052,-503.3828 105.8052,-493.6764 105.8052,-484.6817\" fill=\"none\" stroke=\"#000000\"/>\n",
       "<polygon fill=\"#000000\" points=\"109.3053,-484.5903 105.8052,-474.5904 102.3053,-484.5904 109.3053,-484.5903\" stroke=\"#000000\"/>\n",
       "</g>\n",
       "<!-- 4850875984 -->\n",
       "<g class=\"node\" id=\"node13\">\n",
       "<title>4850875984</title>\n",
       "<polygon fill=\"none\" points=\"50.1724,-365.5 50.1724,-401.5 161.438,-401.5 161.438,-365.5 50.1724,-365.5\" stroke=\"#000000\"/>\n",
       "<text fill=\"#000000\" font-family=\"Times,serif\" font-size=\"14.00\" text-anchor=\"middle\" x=\"105.8052\" y=\"-379.3\">flatten_2: Flatten</text>\n",
       "</g>\n",
       "<!-- 4949116432&#45;&gt;4850875984 -->\n",
       "<g class=\"edge\" id=\"edge13\">\n",
       "<title>4949116432-&gt;4850875984</title>\n",
       "<path d=\"M105.8052,-438.4551C105.8052,-430.3828 105.8052,-420.6764 105.8052,-411.6817\" fill=\"none\" stroke=\"#000000\"/>\n",
       "<polygon fill=\"#000000\" points=\"109.3053,-411.5903 105.8052,-401.5904 102.3053,-411.5904 109.3053,-411.5903\" stroke=\"#000000\"/>\n",
       "</g>\n",
       "<!-- 4850290896 -->\n",
       "<g class=\"node\" id=\"node14\">\n",
       "<title>4850290896</title>\n",
       "<polygon fill=\"none\" points=\"53.6792,-292.5 53.6792,-328.5 157.9312,-328.5 157.9312,-292.5 53.6792,-292.5\" stroke=\"#000000\"/>\n",
       "<text fill=\"#000000\" font-family=\"Times,serif\" font-size=\"14.00\" text-anchor=\"middle\" x=\"105.8052\" y=\"-306.3\">dense_3: Dense</text>\n",
       "</g>\n",
       "<!-- 4850875984&#45;&gt;4850290896 -->\n",
       "<g class=\"edge\" id=\"edge14\">\n",
       "<title>4850875984-&gt;4850290896</title>\n",
       "<path d=\"M105.8052,-365.4551C105.8052,-357.3828 105.8052,-347.6764 105.8052,-338.6817\" fill=\"none\" stroke=\"#000000\"/>\n",
       "<polygon fill=\"#000000\" points=\"109.3053,-338.5903 105.8052,-328.5904 102.3053,-338.5904 109.3053,-338.5903\" stroke=\"#000000\"/>\n",
       "</g>\n",
       "<!-- 4850258768 -->\n",
       "<g class=\"node\" id=\"node15\">\n",
       "<title>4850258768</title>\n",
       "<polygon fill=\"none\" points=\"27.1011,-219.5 27.1011,-255.5 184.5093,-255.5 184.5093,-219.5 27.1011,-219.5\" stroke=\"#000000\"/>\n",
       "<text fill=\"#000000\" font-family=\"Times,serif\" font-size=\"14.00\" text-anchor=\"middle\" x=\"105.8052\" y=\"-233.3\">activation_11: Activation</text>\n",
       "</g>\n",
       "<!-- 4850290896&#45;&gt;4850258768 -->\n",
       "<g class=\"edge\" id=\"edge15\">\n",
       "<title>4850290896-&gt;4850258768</title>\n",
       "<path d=\"M105.8052,-292.4551C105.8052,-284.3828 105.8052,-274.6764 105.8052,-265.6817\" fill=\"none\" stroke=\"#000000\"/>\n",
       "<polygon fill=\"#000000\" points=\"109.3053,-265.5903 105.8052,-255.5904 102.3053,-265.5904 109.3053,-265.5903\" stroke=\"#000000\"/>\n",
       "</g>\n",
       "<!-- 4949116752 -->\n",
       "<g class=\"node\" id=\"node16\">\n",
       "<title>4949116752</title>\n",
       "<polygon fill=\"none\" points=\"42.0034,-146.5 42.0034,-182.5 169.6069,-182.5 169.6069,-146.5 42.0034,-146.5\" stroke=\"#000000\"/>\n",
       "<text fill=\"#000000\" font-family=\"Times,serif\" font-size=\"14.00\" text-anchor=\"middle\" x=\"105.8052\" y=\"-160.3\">dropout_6: Dropout</text>\n",
       "</g>\n",
       "<!-- 4850258768&#45;&gt;4949116752 -->\n",
       "<g class=\"edge\" id=\"edge16\">\n",
       "<title>4850258768-&gt;4949116752</title>\n",
       "<path d=\"M105.8052,-219.4551C105.8052,-211.3828 105.8052,-201.6764 105.8052,-192.6817\" fill=\"none\" stroke=\"#000000\"/>\n",
       "<polygon fill=\"#000000\" points=\"109.3053,-192.5903 105.8052,-182.5904 102.3053,-192.5904 109.3053,-192.5903\" stroke=\"#000000\"/>\n",
       "</g>\n",
       "<!-- 4850127952 -->\n",
       "<g class=\"node\" id=\"node17\">\n",
       "<title>4850127952</title>\n",
       "<polygon fill=\"none\" points=\"53.6792,-73.5 53.6792,-109.5 157.9312,-109.5 157.9312,-73.5 53.6792,-73.5\" stroke=\"#000000\"/>\n",
       "<text fill=\"#000000\" font-family=\"Times,serif\" font-size=\"14.00\" text-anchor=\"middle\" x=\"105.8052\" y=\"-87.3\">dense_4: Dense</text>\n",
       "</g>\n",
       "<!-- 4949116752&#45;&gt;4850127952 -->\n",
       "<g class=\"edge\" id=\"edge17\">\n",
       "<title>4949116752-&gt;4850127952</title>\n",
       "<path d=\"M105.8052,-146.4551C105.8052,-138.3828 105.8052,-128.6764 105.8052,-119.6817\" fill=\"none\" stroke=\"#000000\"/>\n",
       "<polygon fill=\"#000000\" points=\"109.3053,-119.5903 105.8052,-109.5904 102.3053,-119.5904 109.3053,-119.5903\" stroke=\"#000000\"/>\n",
       "</g>\n",
       "<!-- 4849124112 -->\n",
       "<g class=\"node\" id=\"node18\">\n",
       "<title>4849124112</title>\n",
       "<polygon fill=\"none\" points=\"26.8447,-.5 26.8447,-36.5 184.7656,-36.5 184.7656,-.5 26.8447,-.5\" stroke=\"#000000\"/>\n",
       "<text fill=\"#000000\" font-family=\"Times,serif\" font-size=\"14.00\" text-anchor=\"middle\" x=\"105.8052\" y=\"-14.3\">activation_12: Activation</text>\n",
       "</g>\n",
       "<!-- 4850127952&#45;&gt;4849124112 -->\n",
       "<g class=\"edge\" id=\"edge18\">\n",
       "<title>4850127952-&gt;4849124112</title>\n",
       "<path d=\"M105.8052,-73.4551C105.8052,-65.3828 105.8052,-55.6764 105.8052,-46.6817\" fill=\"none\" stroke=\"#000000\"/>\n",
       "<polygon fill=\"#000000\" points=\"109.3053,-46.5903 105.8052,-36.5904 102.3053,-46.5904 109.3053,-46.5903\" stroke=\"#000000\"/>\n",
       "</g>\n",
       "<!-- 4949118544 -->\n",
       "<g class=\"node\" id=\"node19\">\n",
       "<title>4949118544</title>\n",
       "<polygon fill=\"none\" points=\"63.0615,-1314.5 63.0615,-1350.5 148.5488,-1350.5 148.5488,-1314.5 63.0615,-1314.5\" stroke=\"#000000\"/>\n",
       "<text fill=\"#000000\" font-family=\"Times,serif\" font-size=\"14.00\" text-anchor=\"middle\" x=\"105.8052\" y=\"-1328.3\">4949118544</text>\n",
       "</g>\n",
       "<!-- 4949118544&#45;&gt;4949622288 -->\n",
       "<g class=\"edge\" id=\"edge1\">\n",
       "<title>4949118544-&gt;4949622288</title>\n",
       "<path d=\"M105.8052,-1314.4551C105.8052,-1306.3828 105.8052,-1296.6764 105.8052,-1287.6817\" fill=\"none\" stroke=\"#000000\"/>\n",
       "<polygon fill=\"#000000\" points=\"109.3053,-1287.5903 105.8052,-1277.5904 102.3053,-1287.5904 109.3053,-1287.5903\" stroke=\"#000000\"/>\n",
       "</g>\n",
       "</g>\n",
       "</svg>"
      ],
      "text/plain": [
       "<IPython.core.display.SVG object>"
      ]
     },
     "execution_count": 11,
     "metadata": {},
     "output_type": "execute_result"
    }
   ],
   "source": [
    "plot_model(model, to_file='model2.png')\n",
    "SVG(model_to_dot(model).create(prog='dot', format='svg'))"
   ]
  },
  {
   "cell_type": "code",
   "execution_count": 12,
   "metadata": {},
   "outputs": [],
   "source": [
    "# initiate RMSprop optimizer\n",
    "opt = keras.optimizers.Adam(lr=3e-4)\n",
    "\n",
    "# Let's train the model using RMSprop\n",
    "model.compile(loss='categorical_crossentropy',\n",
    "              optimizer=opt,\n",
    "              metrics=['accuracy'])"
   ]
  },
  {
   "cell_type": "code",
   "execution_count": 13,
   "metadata": {},
   "outputs": [
    {
     "name": "stderr",
     "output_type": "stream",
     "text": [
      "/Users/jayanth/Library/Python/2.7/lib/python/site-packages/ipykernel_launcher.py:1: UserWarning: The `nb_epoch` argument in `fit` has been renamed `epochs`.\n",
      "  \"\"\"Entry point for launching an IPython kernel.\n"
     ]
    },
    {
     "name": "stdout",
     "output_type": "stream",
     "text": [
      "Train on 50000 samples, validate on 10000 samples\n",
      "Epoch 1/50\n",
      "50000/50000 [==============================] - 191s 4ms/step - loss: 15.9545 - acc: 0.0100 - val_loss: 15.9569 - val_acc: 0.0100\n",
      "Epoch 2/50\n",
      "50000/50000 [==============================] - 176s 4ms/step - loss: 15.9569 - acc: 0.0100 - val_loss: 15.9569 - val_acc: 0.0100\n",
      "Epoch 3/50\n",
      "50000/50000 [==============================] - 186s 4ms/step - loss: 15.9519 - acc: 0.0103 - val_loss: 15.9569 - val_acc: 0.0100\n",
      "Epoch 4/50\n",
      "50000/50000 [==============================] - 190s 4ms/step - loss: 15.9569 - acc: 0.0100 - val_loss: 15.9569 - val_acc: 0.0100\n",
      "Epoch 5/50\n",
      "50000/50000 [==============================] - 266s 5ms/step - loss: 15.9569 - acc: 0.0100 - val_loss: 15.9569 - val_acc: 0.0100\n",
      "Epoch 6/50\n",
      "50000/50000 [==============================] - 172s 3ms/step - loss: 15.9569 - acc: 0.0100 - val_loss: 15.9569 - val_acc: 0.0100\n",
      "Epoch 7/50\n",
      "50000/50000 [==============================] - 182s 4ms/step - loss: 15.9569 - acc: 0.0100 - val_loss: 15.9569 - val_acc: 0.0100\n",
      "Epoch 8/50\n",
      "50000/50000 [==============================] - 188s 4ms/step - loss: 15.9569 - acc: 0.0100 - val_loss: 15.9569 - val_acc: 0.0100\n",
      "Epoch 9/50\n",
      "50000/50000 [==============================] - 491s 10ms/step - loss: 15.9569 - acc: 0.0100 - val_loss: 15.9569 - val_acc: 0.0100\n",
      "Epoch 10/50\n",
      "50000/50000 [==============================] - 164s 3ms/step - loss: 15.9569 - acc: 0.0100 - val_loss: 15.9569 - val_acc: 0.0100\n",
      "Epoch 11/50\n",
      "50000/50000 [==============================] - 170s 3ms/step - loss: 15.9569 - acc: 0.0100 - val_loss: 15.9569 - val_acc: 0.0100\n",
      "Epoch 12/50\n",
      "50000/50000 [==============================] - 329s 7ms/step - loss: 15.9569 - acc: 0.0100 - val_loss: 15.9569 - val_acc: 0.0100\n",
      "Epoch 13/50\n",
      "50000/50000 [==============================] - 512s 10ms/step - loss: 15.9569 - acc: 0.0100 - val_loss: 15.9569 - val_acc: 0.0100\n",
      "Epoch 14/50\n",
      "50000/50000 [==============================] - 593s 12ms/step - loss: 15.9569 - acc: 0.0100 - val_loss: 15.9569 - val_acc: 0.0100\n",
      "Epoch 15/50\n",
      "50000/50000 [==============================] - 164s 3ms/step - loss: 15.9569 - acc: 0.0100 - val_loss: 15.9569 - val_acc: 0.0100\n",
      "Epoch 16/50\n",
      "50000/50000 [==============================] - 164s 3ms/step - loss: 15.9569 - acc: 0.0100 - val_loss: 15.9569 - val_acc: 0.0100\n",
      "Epoch 17/50\n",
      "50000/50000 [==============================] - 166s 3ms/step - loss: 15.9569 - acc: 0.0100 - val_loss: 15.9569 - val_acc: 0.0100\n",
      "Epoch 18/50\n",
      "50000/50000 [==============================] - 170s 3ms/step - loss: 15.9569 - acc: 0.0100 - val_loss: 15.9569 - val_acc: 0.0100\n",
      "Epoch 19/50\n",
      "50000/50000 [==============================] - 178s 4ms/step - loss: 15.9569 - acc: 0.0100 - val_loss: 15.9569 - val_acc: 0.0100\n",
      "Epoch 20/50\n",
      "50000/50000 [==============================] - 186s 4ms/step - loss: 15.9569 - acc: 0.0100 - val_loss: 15.9569 - val_acc: 0.0100\n",
      "Epoch 21/50\n",
      "50000/50000 [==============================] - 192s 4ms/step - loss: 15.9569 - acc: 0.0100 - val_loss: 15.9569 - val_acc: 0.0100\n",
      "Epoch 22/50\n",
      "50000/50000 [==============================] - 192s 4ms/step - loss: 15.9569 - acc: 0.0100 - val_loss: 15.9569 - val_acc: 0.0100\n",
      "Epoch 23/50\n",
      "50000/50000 [==============================] - 196s 4ms/step - loss: 15.9569 - acc: 0.0100 - val_loss: 15.9569 - val_acc: 0.0100\n",
      "Epoch 24/50\n",
      "50000/50000 [==============================] - 203s 4ms/step - loss: 15.9569 - acc: 0.0100 - val_loss: 15.9569 - val_acc: 0.0100\n",
      "Epoch 25/50\n",
      "50000/50000 [==============================] - 205s 4ms/step - loss: 15.9569 - acc: 0.0100 - val_loss: 15.9569 - val_acc: 0.0100\n",
      "Epoch 26/50\n",
      "50000/50000 [==============================] - 208s 4ms/step - loss: 15.9569 - acc: 0.0100 - val_loss: 15.9569 - val_acc: 0.0100\n",
      "Epoch 27/50\n",
      "50000/50000 [==============================] - 211s 4ms/step - loss: 15.9569 - acc: 0.0100 - val_loss: 15.9569 - val_acc: 0.0100\n",
      "Epoch 28/50\n",
      "50000/50000 [==============================] - 214s 4ms/step - loss: 15.9569 - acc: 0.0100 - val_loss: 15.9569 - val_acc: 0.0100\n",
      "Epoch 29/50\n",
      "50000/50000 [==============================] - 215s 4ms/step - loss: 15.9569 - acc: 0.0100 - val_loss: 15.9569 - val_acc: 0.0100\n",
      "Epoch 30/50\n",
      "50000/50000 [==============================] - 216s 4ms/step - loss: 15.9569 - acc: 0.0100 - val_loss: 15.9569 - val_acc: 0.0100\n",
      "Epoch 31/50\n",
      "50000/50000 [==============================] - 215s 4ms/step - loss: 15.9569 - acc: 0.0100 - val_loss: 15.9569 - val_acc: 0.0100\n",
      "Epoch 32/50\n",
      "50000/50000 [==============================] - 214s 4ms/step - loss: 15.9569 - acc: 0.0100 - val_loss: 15.9569 - val_acc: 0.0100\n",
      "Epoch 33/50\n",
      "50000/50000 [==============================] - 213s 4ms/step - loss: 15.9569 - acc: 0.0100 - val_loss: 15.9569 - val_acc: 0.0100\n",
      "Epoch 34/50\n",
      "50000/50000 [==============================] - 209s 4ms/step - loss: 15.9569 - acc: 0.0100 - val_loss: 15.9569 - val_acc: 0.0100\n",
      "Epoch 35/50\n",
      "50000/50000 [==============================] - 208s 4ms/step - loss: 15.9569 - acc: 0.0100 - val_loss: 15.9569 - val_acc: 0.0100\n",
      "Epoch 36/50\n",
      "50000/50000 [==============================] - 206s 4ms/step - loss: 15.9569 - acc: 0.0100 - val_loss: 15.9569 - val_acc: 0.0100\n",
      "Epoch 37/50\n",
      "50000/50000 [==============================] - 212s 4ms/step - loss: 15.9569 - acc: 0.0100 - val_loss: 15.9569 - val_acc: 0.0100\n",
      "Epoch 38/50\n",
      "50000/50000 [==============================] - 207s 4ms/step - loss: 15.9569 - acc: 0.0100 - val_loss: 15.9569 - val_acc: 0.0100\n",
      "Epoch 39/50\n",
      "50000/50000 [==============================] - 205s 4ms/step - loss: 15.9569 - acc: 0.0100 - val_loss: 15.9569 - val_acc: 0.0100\n",
      "Epoch 40/50\n",
      "50000/50000 [==============================] - 205s 4ms/step - loss: 15.9569 - acc: 0.0100 - val_loss: 15.9569 - val_acc: 0.0100\n",
      "Epoch 41/50\n",
      "50000/50000 [==============================] - 206s 4ms/step - loss: 15.9569 - acc: 0.0100 - val_loss: 15.9569 - val_acc: 0.0100\n",
      "Epoch 42/50\n",
      "50000/50000 [==============================] - 203s 4ms/step - loss: 15.9569 - acc: 0.0100 - val_loss: 15.9569 - val_acc: 0.0100\n",
      "Epoch 43/50\n",
      "50000/50000 [==============================] - 204s 4ms/step - loss: 15.9569 - acc: 0.0100 - val_loss: 15.9569 - val_acc: 0.0100\n",
      "Epoch 44/50\n",
      "50000/50000 [==============================] - 201s 4ms/step - loss: 15.9569 - acc: 0.0100 - val_loss: 15.9569 - val_acc: 0.0100\n",
      "Epoch 45/50\n",
      "50000/50000 [==============================] - 200s 4ms/step - loss: 15.9569 - acc: 0.0100 - val_loss: 15.9569 - val_acc: 0.0100\n",
      "Epoch 46/50\n",
      "50000/50000 [==============================] - 201s 4ms/step - loss: 15.9569 - acc: 0.0100 - val_loss: 15.9569 - val_acc: 0.0100\n",
      "Epoch 47/50\n",
      "50000/50000 [==============================] - 200s 4ms/step - loss: 15.9569 - acc: 0.0100 - val_loss: 15.9569 - val_acc: 0.0100\n",
      "Epoch 48/50\n",
      "50000/50000 [==============================] - 200s 4ms/step - loss: 15.9569 - acc: 0.0100 - val_loss: 15.9569 - val_acc: 0.0100\n",
      "Epoch 49/50\n",
      "50000/50000 [==============================] - 200s 4ms/step - loss: 15.9569 - acc: 0.0100 - val_loss: 15.9569 - val_acc: 0.0100\n",
      "Epoch 50/50\n",
      "50000/50000 [==============================] - 200s 4ms/step - loss: 15.9569 - acc: 0.0100 - val_loss: 15.9569 - val_acc: 0.0100\n"
     ]
    }
   ],
   "source": [
    "history = model.fit(Xf_train, Yf_train, batch_size=batch_size, nb_epoch=epochs, verbose=1, validation_data=(Xf_test, Yf_test))"
   ]
  },
  {
   "cell_type": "code",
   "execution_count": 14,
   "metadata": {},
   "outputs": [
    {
     "data": {
      "image/png": "[encoded data removed]",
      "text/plain": [
       "<Figure size 432x288 with 1 Axes>"
      ]
     },
     "metadata": {
      "needs_background": "light"
     },
     "output_type": "display_data"
    },
    {
     "data": {
      "image/png": "[encoded data removed]",
      "text/plain": [
       "<Figure size 432x288 with 1 Axes>"
      ]
     },
     "metadata": {
      "needs_background": "light"
     },
     "output_type": "display_data"
    }
   ],
   "source": [
    "# Plot training & validation accuracy values\n",
    "plt.plot(history.history['acc'])\n",
    "plt.plot(history.history['val_acc'])\n",
    "plt.title('Model accuracy')\n",
    "plt.ylabel('Accuracy')\n",
    "plt.xlabel('Epoch')\n",
    "plt.legend(['Train', 'Test'], loc='upper left')\n",
    "plt.savefig('3.png')   # save the figure to file\n",
    "plt.show()\n",
    "plt.close()\n",
    "\n",
    "# Plot training & validation loss values\n",
    "plt.plot(history.history['loss'])\n",
    "plt.plot(history.history['val_loss'])\n",
    "plt.title('Model loss')\n",
    "plt.ylabel('Loss')\n",
    "plt.xlabel('Epoch')\n",
    "plt.legend(['Train', 'Test'], loc='upper left')\n",
    "plt.savefig('4.png')   # save the figure to file\n",
    "plt.show()\n",
    "plt.close()"
   ]
  },
  {
   "cell_type": "code",
   "execution_count": 15,
   "metadata": {},
   "outputs": [
    {
     "name": "stdout",
     "output_type": "stream",
     "text": [
      "Test score: 15.95691436767578\n",
      "Test accuracy: 0.01\n"
     ]
    }
   ],
   "source": [
    "scoref = model.evaluate(Xf_test, Yf_test, verbose=0)\n",
    "print('Test score:', scoref[0])\n",
    "print('Test accuracy:', scoref[1])"
   ]
  },
  {
   "cell_type": "code",
   "execution_count": 16,
   "metadata": {},
   "outputs": [
    {
     "name": "stdout",
     "output_type": "stream",
     "text": [
      "Test score: 8.713140551185608\n",
      "Test accuracy: 0.2967\n"
     ]
    }
   ],
   "source": [
    "print('Test score:', (scorec[0] + scoref[0])/2.0)\n",
    "print('Test accuracy:', (scorec[1] + scoref[1])/2.0)"
   ]
  },
  {
   "cell_type": "markdown",
   "metadata": {},
   "source": [
    "The average accuracy is 28.41% for corase and fine label based seperate neural net model. \n",
    "In next step, we create a single multi-output neural net, which will give better average accuracy."
   ]
  },
  {
   "cell_type": "markdown",
   "metadata": {},
   "source": [
    "## Multiobjective as Multioutput without branching"
   ]
  },
  {
   "cell_type": "code",
   "execution_count": 36,
   "metadata": {},
   "outputs": [],
   "source": [
    "from keras.layers import Input, Embedding, LSTM, Dense\n",
    "from keras.models import Model"
   ]
  },
  {
   "cell_type": "code",
   "execution_count": 37,
   "metadata": {},
   "outputs": [
    {
     "name": "stdout",
     "output_type": "stream",
     "text": [
      "20\n"
     ]
    }
   ],
   "source": [
    "print(nb_classes)"
   ]
  },
  {
   "cell_type": "code",
   "execution_count": 38,
   "metadata": {},
   "outputs": [
    {
     "name": "stdout",
     "output_type": "stream",
     "text": [
      "_________________________________________________________________\n",
      "Layer (type)                 Output Shape              Param #   \n",
      "=================================================================\n",
      "main_input (InputLayer)      (None, 32, 32, 3)         0         \n",
      "_________________________________________________________________\n",
      "conv2d_17 (Conv2D)           (None, 32, 32, 32)        896       \n",
      "_________________________________________________________________\n",
      "conv2d_18 (Conv2D)           (None, 30, 30, 32)        9248      \n",
      "_________________________________________________________________\n",
      "max_pooling2d_9 (MaxPooling2 (None, 15, 15, 32)        0         \n",
      "_________________________________________________________________\n",
      "dropout_13 (Dropout)         (None, 15, 15, 32)        0         \n",
      "_________________________________________________________________\n",
      "conv2d_19 (Conv2D)           (None, 15, 15, 64)        18496     \n",
      "_________________________________________________________________\n",
      "conv2d_20 (Conv2D)           (None, 13, 13, 64)        36928     \n",
      "_________________________________________________________________\n",
      "max_pooling2d_10 (MaxPooling (None, 6, 6, 64)          0         \n",
      "_________________________________________________________________\n",
      "dropout_14 (Dropout)         (None, 6, 6, 64)          0         \n",
      "_________________________________________________________________\n",
      "flatten_5 (Flatten)          (None, 2304)              0         \n",
      "_________________________________________________________________\n",
      "dense_11 (Dense)             (None, 512)               1180160   \n",
      "_________________________________________________________________\n",
      "dropout_15 (Dropout)         (None, 512)               0         \n",
      "_________________________________________________________________\n",
      "dense_12 (Dense)             (None, 100)               51300     \n",
      "_________________________________________________________________\n",
      "dense_13 (Dense)             (None, 20)                2020      \n",
      "=================================================================\n",
      "Total params: 1,299,048\n",
      "Trainable params: 1,299,048\n",
      "Non-trainable params: 0\n",
      "_________________________________________________________________\n",
      "None\n"
     ]
    }
   ],
   "source": [
    "main_input = Input(shape=(img_channels, img_rows, img_cols), name='main_input')\n",
    "x = Conv2D(32, (3, 3), activation='relu', padding='same')(main_input)\n",
    "x = Conv2D(32, (3, 3), activation='relu')(x)\n",
    "x = MaxPooling2D(pool_size=(2, 2))(x)\n",
    "x = Dropout(0.25)(x)\n",
    "x = Conv2D(64, (3, 3), activation='relu', padding='same')(x)\n",
    "x = Conv2D(64, (3, 3), activation='relu')(x)\n",
    "x = MaxPooling2D(pool_size=(2, 2))(x)\n",
    "x = Dropout(0.25)(x)\n",
    "x = Flatten()(x)\n",
    "x = Dense(512, activation = 'relu')(x)\n",
    "x = Dropout(0.5)(x)\n",
    "z = Dense(num_classes, activation = 'softmax')(x)\n",
    "y = Dense(nb_classes, activation = 'softmax')(z)\n",
    "modelmult = Model(inputs=[main_input], outputs=[y,z])\n",
    "\n",
    "print(modelmult.summary())"
   ]
  },
  {
   "cell_type": "code",
   "execution_count": 39,
   "metadata": {},
   "outputs": [
    {
     "data": {
      "image/svg+xml": [
       "<svg height=\"994pt\" viewBox=\"0.00 0.00 226.61 994.00\" width=\"227pt\" xmlns=\"http://www.w3.org/2000/svg\" xmlns:xlink=\"http://www.w3.org/1999/xlink\">\n",
       "<g class=\"graph\" id=\"graph0\" transform=\"scale(1 1) rotate(0) translate(4 990)\">\n",
       "<title>G</title>\n",
       "<polygon fill=\"#ffffff\" points=\"-4,4 -4,-990 222.6104,-990 222.6104,4 -4,4\" stroke=\"transparent\"/>\n",
       "<!-- 5210106512 -->\n",
       "<g class=\"node\" id=\"node1\">\n",
       "<title>5210106512</title>\n",
       "<polygon fill=\"none\" points=\"34.6274,-949.5 34.6274,-985.5 183.9829,-985.5 183.9829,-949.5 34.6274,-949.5\" stroke=\"#000000\"/>\n",
       "<text fill=\"#000000\" font-family=\"Times,serif\" font-size=\"14.00\" text-anchor=\"middle\" x=\"109.3052\" y=\"-963.3\">main_input: InputLayer</text>\n",
       "</g>\n",
       "<!-- 4992853136 -->\n",
       "<g class=\"node\" id=\"node2\">\n",
       "<title>4992853136</title>\n",
       "<polygon fill=\"none\" points=\"42.7793,-876.5 42.7793,-912.5 175.8311,-912.5 175.8311,-876.5 42.7793,-876.5\" stroke=\"#000000\"/>\n",
       "<text fill=\"#000000\" font-family=\"Times,serif\" font-size=\"14.00\" text-anchor=\"middle\" x=\"109.3052\" y=\"-890.3\">conv2d_17: Conv2D</text>\n",
       "</g>\n",
       "<!-- 5210106512&#45;&gt;4992853136 -->\n",
       "<g class=\"edge\" id=\"edge1\">\n",
       "<title>5210106512-&gt;4992853136</title>\n",
       "<path d=\"M109.3052,-949.4551C109.3052,-941.3828 109.3052,-931.6764 109.3052,-922.6817\" fill=\"none\" stroke=\"#000000\"/>\n",
       "<polygon fill=\"#000000\" points=\"112.8053,-922.5903 109.3052,-912.5904 105.8053,-922.5904 112.8053,-922.5903\" stroke=\"#000000\"/>\n",
       "</g>\n",
       "<!-- 4951314896 -->\n",
       "<g class=\"node\" id=\"node3\">\n",
       "<title>4951314896</title>\n",
       "<polygon fill=\"none\" points=\"42.7793,-803.5 42.7793,-839.5 175.8311,-839.5 175.8311,-803.5 42.7793,-803.5\" stroke=\"#000000\"/>\n",
       "<text fill=\"#000000\" font-family=\"Times,serif\" font-size=\"14.00\" text-anchor=\"middle\" x=\"109.3052\" y=\"-817.3\">conv2d_18: Conv2D</text>\n",
       "</g>\n",
       "<!-- 4992853136&#45;&gt;4951314896 -->\n",
       "<g class=\"edge\" id=\"edge2\">\n",
       "<title>4992853136-&gt;4951314896</title>\n",
       "<path d=\"M109.3052,-876.4551C109.3052,-868.3828 109.3052,-858.6764 109.3052,-849.6817\" fill=\"none\" stroke=\"#000000\"/>\n",
       "<polygon fill=\"#000000\" points=\"112.8053,-849.5903 109.3052,-839.5904 105.8053,-849.5904 112.8053,-849.5903\" stroke=\"#000000\"/>\n",
       "</g>\n",
       "<!-- 5210098576 -->\n",
       "<g class=\"node\" id=\"node4\">\n",
       "<title>5210098576</title>\n",
       "<polygon fill=\"none\" points=\"3.5,-730.5 3.5,-766.5 215.1104,-766.5 215.1104,-730.5 3.5,-730.5\" stroke=\"#000000\"/>\n",
       "<text fill=\"#000000\" font-family=\"Times,serif\" font-size=\"14.00\" text-anchor=\"middle\" x=\"109.3052\" y=\"-744.3\">max_pooling2d_9: MaxPooling2D</text>\n",
       "</g>\n",
       "<!-- 4951314896&#45;&gt;5210098576 -->\n",
       "<g class=\"edge\" id=\"edge3\">\n",
       "<title>4951314896-&gt;5210098576</title>\n",
       "<path d=\"M109.3052,-803.4551C109.3052,-795.3828 109.3052,-785.6764 109.3052,-776.6817\" fill=\"none\" stroke=\"#000000\"/>\n",
       "<polygon fill=\"#000000\" points=\"112.8053,-776.5903 109.3052,-766.5904 105.8053,-776.5904 112.8053,-776.5903\" stroke=\"#000000\"/>\n",
       "</g>\n",
       "<!-- 5210106768 -->\n",
       "<g class=\"node\" id=\"node5\">\n",
       "<title>5210106768</title>\n",
       "<polygon fill=\"none\" points=\"42.0034,-657.5 42.0034,-693.5 176.6069,-693.5 176.6069,-657.5 42.0034,-657.5\" stroke=\"#000000\"/>\n",
       "<text fill=\"#000000\" font-family=\"Times,serif\" font-size=\"14.00\" text-anchor=\"middle\" x=\"109.3052\" y=\"-671.3\">dropout_13: Dropout</text>\n",
       "</g>\n",
       "<!-- 5210098576&#45;&gt;5210106768 -->\n",
       "<g class=\"edge\" id=\"edge4\">\n",
       "<title>5210098576-&gt;5210106768</title>\n",
       "<path d=\"M109.3052,-730.4551C109.3052,-722.3828 109.3052,-712.6764 109.3052,-703.6817\" fill=\"none\" stroke=\"#000000\"/>\n",
       "<polygon fill=\"#000000\" points=\"112.8053,-703.5903 109.3052,-693.5904 105.8053,-703.5904 112.8053,-703.5903\" stroke=\"#000000\"/>\n",
       "</g>\n",
       "<!-- 5210095760 -->\n",
       "<g class=\"node\" id=\"node6\">\n",
       "<title>5210095760</title>\n",
       "<polygon fill=\"none\" points=\"42.7793,-584.5 42.7793,-620.5 175.8311,-620.5 175.8311,-584.5 42.7793,-584.5\" stroke=\"#000000\"/>\n",
       "<text fill=\"#000000\" font-family=\"Times,serif\" font-size=\"14.00\" text-anchor=\"middle\" x=\"109.3052\" y=\"-598.3\">conv2d_19: Conv2D</text>\n",
       "</g>\n",
       "<!-- 5210106768&#45;&gt;5210095760 -->\n",
       "<g class=\"edge\" id=\"edge5\">\n",
       "<title>5210106768-&gt;5210095760</title>\n",
       "<path d=\"M109.3052,-657.4551C109.3052,-649.3828 109.3052,-639.6764 109.3052,-630.6817\" fill=\"none\" stroke=\"#000000\"/>\n",
       "<polygon fill=\"#000000\" points=\"112.8053,-630.5903 109.3052,-620.5904 105.8053,-630.5904 112.8053,-630.5903\" stroke=\"#000000\"/>\n",
       "</g>\n",
       "<!-- 5210106896 -->\n",
       "<g class=\"node\" id=\"node7\">\n",
       "<title>5210106896</title>\n",
       "<polygon fill=\"none\" points=\"42.7793,-511.5 42.7793,-547.5 175.8311,-547.5 175.8311,-511.5 42.7793,-511.5\" stroke=\"#000000\"/>\n",
       "<text fill=\"#000000\" font-family=\"Times,serif\" font-size=\"14.00\" text-anchor=\"middle\" x=\"109.3052\" y=\"-525.3\">conv2d_20: Conv2D</text>\n",
       "</g>\n",
       "<!-- 5210095760&#45;&gt;5210106896 -->\n",
       "<g class=\"edge\" id=\"edge6\">\n",
       "<title>5210095760-&gt;5210106896</title>\n",
       "<path d=\"M109.3052,-584.4551C109.3052,-576.3828 109.3052,-566.6764 109.3052,-557.6817\" fill=\"none\" stroke=\"#000000\"/>\n",
       "<polygon fill=\"#000000\" points=\"112.8053,-557.5903 109.3052,-547.5904 105.8053,-557.5904 112.8053,-557.5903\" stroke=\"#000000\"/>\n",
       "</g>\n",
       "<!-- 5208831184 -->\n",
       "<g class=\"node\" id=\"node8\">\n",
       "<title>5208831184</title>\n",
       "<polygon fill=\"none\" points=\"0,-438.5 0,-474.5 218.6104,-474.5 218.6104,-438.5 0,-438.5\" stroke=\"#000000\"/>\n",
       "<text fill=\"#000000\" font-family=\"Times,serif\" font-size=\"14.00\" text-anchor=\"middle\" x=\"109.3052\" y=\"-452.3\">max_pooling2d_10: MaxPooling2D</text>\n",
       "</g>\n",
       "<!-- 5210106896&#45;&gt;5208831184 -->\n",
       "<g class=\"edge\" id=\"edge7\">\n",
       "<title>5210106896-&gt;5208831184</title>\n",
       "<path d=\"M109.3052,-511.4551C109.3052,-503.3828 109.3052,-493.6764 109.3052,-484.6817\" fill=\"none\" stroke=\"#000000\"/>\n",
       "<polygon fill=\"#000000\" points=\"112.8053,-484.5903 109.3052,-474.5904 105.8053,-484.5904 112.8053,-484.5903\" stroke=\"#000000\"/>\n",
       "</g>\n",
       "<!-- 5209081872 -->\n",
       "<g class=\"node\" id=\"node9\">\n",
       "<title>5209081872</title>\n",
       "<polygon fill=\"none\" points=\"42.0034,-365.5 42.0034,-401.5 176.6069,-401.5 176.6069,-365.5 42.0034,-365.5\" stroke=\"#000000\"/>\n",
       "<text fill=\"#000000\" font-family=\"Times,serif\" font-size=\"14.00\" text-anchor=\"middle\" x=\"109.3052\" y=\"-379.3\">dropout_14: Dropout</text>\n",
       "</g>\n",
       "<!-- 5208831184&#45;&gt;5209081872 -->\n",
       "<g class=\"edge\" id=\"edge8\">\n",
       "<title>5208831184-&gt;5209081872</title>\n",
       "<path d=\"M109.3052,-438.4551C109.3052,-430.3828 109.3052,-420.6764 109.3052,-411.6817\" fill=\"none\" stroke=\"#000000\"/>\n",
       "<polygon fill=\"#000000\" points=\"112.8053,-411.5903 109.3052,-401.5904 105.8053,-411.5904 112.8053,-411.5903\" stroke=\"#000000\"/>\n",
       "</g>\n",
       "<!-- 5208831376 -->\n",
       "<g class=\"node\" id=\"node10\">\n",
       "<title>5208831376</title>\n",
       "<polygon fill=\"none\" points=\"53.6724,-292.5 53.6724,-328.5 164.938,-328.5 164.938,-292.5 53.6724,-292.5\" stroke=\"#000000\"/>\n",
       "<text fill=\"#000000\" font-family=\"Times,serif\" font-size=\"14.00\" text-anchor=\"middle\" x=\"109.3052\" y=\"-306.3\">flatten_5: Flatten</text>\n",
       "</g>\n",
       "<!-- 5209081872&#45;&gt;5208831376 -->\n",
       "<g class=\"edge\" id=\"edge9\">\n",
       "<title>5209081872-&gt;5208831376</title>\n",
       "<path d=\"M109.3052,-365.4551C109.3052,-357.3828 109.3052,-347.6764 109.3052,-338.6817\" fill=\"none\" stroke=\"#000000\"/>\n",
       "<polygon fill=\"#000000\" points=\"112.8053,-338.5903 109.3052,-328.5904 105.8053,-338.5904 112.8053,-338.5903\" stroke=\"#000000\"/>\n",
       "</g>\n",
       "<!-- 5209170640 -->\n",
       "<g class=\"node\" id=\"node11\">\n",
       "<title>5209170640</title>\n",
       "<polygon fill=\"none\" points=\"53.9355,-219.5 53.9355,-255.5 164.6748,-255.5 164.6748,-219.5 53.9355,-219.5\" stroke=\"#000000\"/>\n",
       "<text fill=\"#000000\" font-family=\"Times,serif\" font-size=\"14.00\" text-anchor=\"middle\" x=\"109.3052\" y=\"-233.3\">dense_11: Dense</text>\n",
       "</g>\n",
       "<!-- 5208831376&#45;&gt;5209170640 -->\n",
       "<g class=\"edge\" id=\"edge10\">\n",
       "<title>5208831376-&gt;5209170640</title>\n",
       "<path d=\"M109.3052,-292.4551C109.3052,-284.3828 109.3052,-274.6764 109.3052,-265.6817\" fill=\"none\" stroke=\"#000000\"/>\n",
       "<polygon fill=\"#000000\" points=\"112.8053,-265.5903 109.3052,-255.5904 105.8053,-265.5904 112.8053,-265.5903\" stroke=\"#000000\"/>\n",
       "</g>\n",
       "<!-- 5208832720 -->\n",
       "<g class=\"node\" id=\"node12\">\n",
       "<title>5208832720</title>\n",
       "<polygon fill=\"none\" points=\"42.0034,-146.5 42.0034,-182.5 176.6069,-182.5 176.6069,-146.5 42.0034,-146.5\" stroke=\"#000000\"/>\n",
       "<text fill=\"#000000\" font-family=\"Times,serif\" font-size=\"14.00\" text-anchor=\"middle\" x=\"109.3052\" y=\"-160.3\">dropout_15: Dropout</text>\n",
       "</g>\n",
       "<!-- 5209170640&#45;&gt;5208832720 -->\n",
       "<g class=\"edge\" id=\"edge11\">\n",
       "<title>5209170640-&gt;5208832720</title>\n",
       "<path d=\"M109.3052,-219.4551C109.3052,-211.3828 109.3052,-201.6764 109.3052,-192.6817\" fill=\"none\" stroke=\"#000000\"/>\n",
       "<polygon fill=\"#000000\" points=\"112.8053,-192.5903 109.3052,-182.5904 105.8053,-192.5904 112.8053,-192.5903\" stroke=\"#000000\"/>\n",
       "</g>\n",
       "<!-- 5209011472 -->\n",
       "<g class=\"node\" id=\"node13\">\n",
       "<title>5209011472</title>\n",
       "<polygon fill=\"none\" points=\"53.6792,-73.5 53.6792,-109.5 164.9312,-109.5 164.9312,-73.5 53.6792,-73.5\" stroke=\"#000000\"/>\n",
       "<text fill=\"#000000\" font-family=\"Times,serif\" font-size=\"14.00\" text-anchor=\"middle\" x=\"109.3052\" y=\"-87.3\">dense_12: Dense</text>\n",
       "</g>\n",
       "<!-- 5208832720&#45;&gt;5209011472 -->\n",
       "<g class=\"edge\" id=\"edge12\">\n",
       "<title>5208832720-&gt;5209011472</title>\n",
       "<path d=\"M109.3052,-146.4551C109.3052,-138.3828 109.3052,-128.6764 109.3052,-119.6817\" fill=\"none\" stroke=\"#000000\"/>\n",
       "<polygon fill=\"#000000\" points=\"112.8053,-119.5903 109.3052,-109.5904 105.8053,-119.5904 112.8053,-119.5903\" stroke=\"#000000\"/>\n",
       "</g>\n",
       "<!-- 5209502480 -->\n",
       "<g class=\"node\" id=\"node14\">\n",
       "<title>5209502480</title>\n",
       "<polygon fill=\"none\" points=\"53.6792,-.5 53.6792,-36.5 164.9312,-36.5 164.9312,-.5 53.6792,-.5\" stroke=\"#000000\"/>\n",
       "<text fill=\"#000000\" font-family=\"Times,serif\" font-size=\"14.00\" text-anchor=\"middle\" x=\"109.3052\" y=\"-14.3\">dense_13: Dense</text>\n",
       "</g>\n",
       "<!-- 5209011472&#45;&gt;5209502480 -->\n",
       "<g class=\"edge\" id=\"edge13\">\n",
       "<title>5209011472-&gt;5209502480</title>\n",
       "<path d=\"M109.3052,-73.4551C109.3052,-65.3828 109.3052,-55.6764 109.3052,-46.6817\" fill=\"none\" stroke=\"#000000\"/>\n",
       "<polygon fill=\"#000000\" points=\"112.8053,-46.5903 109.3052,-36.5904 105.8053,-46.5904 112.8053,-46.5903\" stroke=\"#000000\"/>\n",
       "</g>\n",
       "</g>\n",
       "</svg>"
      ],
      "text/plain": [
       "<IPython.core.display.SVG object>"
      ]
     },
     "execution_count": 39,
     "metadata": {},
     "output_type": "execute_result"
    }
   ],
   "source": [
    "plot_model(modelmult, to_file='model3.png')\n",
    "SVG(model_to_dot(modelmult).create(prog='dot', format='svg'))"
   ]
  },
  {
   "cell_type": "code",
   "execution_count": 41,
   "metadata": {},
   "outputs": [],
   "source": [
    "# initiate RMSprop optimizer\n",
    "opt = keras.optimizers.Adam(lr=3e-4)\n",
    "\n",
    "modelmult.compile(optimizer=opt, loss='categorical_crossentropy',\n",
    "              loss_weights=[1.,1.])"
   ]
  },
  {
   "cell_type": "code",
   "execution_count": 43,
   "metadata": {},
   "outputs": [
    {
     "name": "stderr",
     "output_type": "stream",
     "text": [
      "/Users/jayanth/Library/Python/2.7/lib/python/site-packages/ipykernel_launcher.py:1: UserWarning: The `nb_epoch` argument in `fit` has been renamed `epochs`.\n",
      "  \"\"\"Entry point for launching an IPython kernel.\n"
     ]
    },
    {
     "name": "stdout",
     "output_type": "stream",
     "text": [
      "Train on 50000 samples, validate on 10000 samples\n",
      "Epoch 1/50\n",
      "50000/50000 [==============================] - 168s 3ms/step - loss: 18.9528 - dense_13_loss: 2.9958 - dense_12_loss: 15.9569 - val_loss: 18.9527 - val_dense_13_loss: 2.9957 - val_dense_12_loss: 15.9569\n",
      "Epoch 2/50\n",
      "50000/50000 [==============================] - 192s 4ms/step - loss: 18.9528 - dense_13_loss: 2.9958 - dense_12_loss: 15.9569 - val_loss: 18.9527 - val_dense_13_loss: 2.9957 - val_dense_12_loss: 15.9569\n",
      "Epoch 3/50\n",
      "50000/50000 [==============================] - 186s 4ms/step - loss: 18.9528 - dense_13_loss: 2.9958 - dense_12_loss: 15.9569 - val_loss: 18.9527 - val_dense_13_loss: 2.9957 - val_dense_12_loss: 15.9569\n",
      "Epoch 4/50\n",
      "50000/50000 [==============================] - 190s 4ms/step - loss: 18.9528 - dense_13_loss: 2.9958 - dense_12_loss: 15.9569 - val_loss: 18.9527 - val_dense_13_loss: 2.9957 - val_dense_12_loss: 15.9569\n",
      "Epoch 5/50\n",
      "50000/50000 [==============================] - 200s 4ms/step - loss: 18.9528 - dense_13_loss: 2.9958 - dense_12_loss: 15.9569 - val_loss: 18.9527 - val_dense_13_loss: 2.9957 - val_dense_12_loss: 15.9569\n",
      "Epoch 6/50\n",
      "50000/50000 [==============================] - 215s 4ms/step - loss: 18.9528 - dense_13_loss: 2.9958 - dense_12_loss: 15.9569 - val_loss: 18.9527 - val_dense_13_loss: 2.9957 - val_dense_12_loss: 15.9569\n",
      "Epoch 7/50\n",
      "50000/50000 [==============================] - 221s 4ms/step - loss: 18.9527 - dense_13_loss: 2.9958 - dense_12_loss: 15.9569 - val_loss: 18.9527 - val_dense_13_loss: 2.9957 - val_dense_12_loss: 15.9569\n",
      "Epoch 8/50\n",
      "12416/50000 [======>.......................] - ETA: 2:37 - loss: 18.9438 - dense_13_loss: 2.9957 - dense_12_loss: 15.9480"
     ]
    },
    {
     "ename": "KeyboardInterrupt",
     "evalue": "",
     "output_type": "error",
     "traceback": [
      "\u001b[0;31m---------------------------------------------------------------------------\u001b[0m",
      "\u001b[0;31mKeyboardInterrupt\u001b[0m                         Traceback (most recent call last)",
      "\u001b[0;32m<ipython-input-43-e8b2d574d15e>\u001b[0m in \u001b[0;36m<module>\u001b[0;34m()\u001b[0m\n\u001b[0;32m----> 1\u001b[0;31m \u001b[0mhistory\u001b[0m \u001b[0;34m=\u001b[0m \u001b[0mmodelmult\u001b[0m\u001b[0;34m.\u001b[0m\u001b[0mfit\u001b[0m\u001b[0;34m(\u001b[0m\u001b[0mX_train\u001b[0m\u001b[0;34m,\u001b[0m \u001b[0;34m[\u001b[0m\u001b[0mY_train\u001b[0m\u001b[0;34m,\u001b[0m \u001b[0mYf_train\u001b[0m\u001b[0;34m]\u001b[0m\u001b[0;34m,\u001b[0m \u001b[0mbatch_size\u001b[0m\u001b[0;34m=\u001b[0m\u001b[0mbatch_size\u001b[0m\u001b[0;34m,\u001b[0m \u001b[0mnb_epoch\u001b[0m\u001b[0;34m=\u001b[0m\u001b[0mepochs\u001b[0m\u001b[0;34m,\u001b[0m \u001b[0mverbose\u001b[0m\u001b[0;34m=\u001b[0m\u001b[0;36m1\u001b[0m\u001b[0;34m,\u001b[0m \u001b[0mvalidation_data\u001b[0m\u001b[0;34m=\u001b[0m\u001b[0;34m(\u001b[0m\u001b[0mX_test\u001b[0m\u001b[0;34m,\u001b[0m \u001b[0;34m[\u001b[0m\u001b[0mY_test\u001b[0m\u001b[0;34m,\u001b[0m\u001b[0mYf_test\u001b[0m\u001b[0;34m]\u001b[0m\u001b[0;34m)\u001b[0m\u001b[0;34m)\u001b[0m\u001b[0;34m\u001b[0m\u001b[0m\n\u001b[0m",
      "\u001b[0;32m/usr/local/lib/python2.7/site-packages/keras/engine/training.pyc\u001b[0m in \u001b[0;36mfit\u001b[0;34m(self, x, y, batch_size, epochs, verbose, callbacks, validation_split, validation_data, shuffle, class_weight, sample_weight, initial_epoch, steps_per_epoch, validation_steps, **kwargs)\u001b[0m\n\u001b[1;32m   1037\u001b[0m                                         \u001b[0minitial_epoch\u001b[0m\u001b[0;34m=\u001b[0m\u001b[0minitial_epoch\u001b[0m\u001b[0;34m,\u001b[0m\u001b[0;34m\u001b[0m\u001b[0m\n\u001b[1;32m   1038\u001b[0m                                         \u001b[0msteps_per_epoch\u001b[0m\u001b[0;34m=\u001b[0m\u001b[0msteps_per_epoch\u001b[0m\u001b[0;34m,\u001b[0m\u001b[0;34m\u001b[0m\u001b[0m\n\u001b[0;32m-> 1039\u001b[0;31m                                         validation_steps=validation_steps)\n\u001b[0m\u001b[1;32m   1040\u001b[0m \u001b[0;34m\u001b[0m\u001b[0m\n\u001b[1;32m   1041\u001b[0m     def evaluate(self, x=None, y=None,\n",
      "\u001b[0;32m/usr/local/lib/python2.7/site-packages/keras/engine/training_arrays.pyc\u001b[0m in \u001b[0;36mfit_loop\u001b[0;34m(model, f, ins, out_labels, batch_size, epochs, verbose, callbacks, val_f, val_ins, shuffle, callback_metrics, initial_epoch, steps_per_epoch, validation_steps)\u001b[0m\n\u001b[1;32m    197\u001b[0m                     \u001b[0mins_batch\u001b[0m\u001b[0;34m[\u001b[0m\u001b[0mi\u001b[0m\u001b[0;34m]\u001b[0m \u001b[0;34m=\u001b[0m \u001b[0mins_batch\u001b[0m\u001b[0;34m[\u001b[0m\u001b[0mi\u001b[0m\u001b[0;34m]\u001b[0m\u001b[0;34m.\u001b[0m\u001b[0mtoarray\u001b[0m\u001b[0;34m(\u001b[0m\u001b[0;34m)\u001b[0m\u001b[0;34m\u001b[0m\u001b[0m\n\u001b[1;32m    198\u001b[0m \u001b[0;34m\u001b[0m\u001b[0m\n\u001b[0;32m--> 199\u001b[0;31m                 \u001b[0mouts\u001b[0m \u001b[0;34m=\u001b[0m \u001b[0mf\u001b[0m\u001b[0;34m(\u001b[0m\u001b[0mins_batch\u001b[0m\u001b[0;34m)\u001b[0m\u001b[0;34m\u001b[0m\u001b[0m\n\u001b[0m\u001b[1;32m    200\u001b[0m                 \u001b[0mouts\u001b[0m \u001b[0;34m=\u001b[0m \u001b[0mto_list\u001b[0m\u001b[0;34m(\u001b[0m\u001b[0mouts\u001b[0m\u001b[0;34m)\u001b[0m\u001b[0;34m\u001b[0m\u001b[0m\n\u001b[1;32m    201\u001b[0m                 \u001b[0;32mfor\u001b[0m \u001b[0ml\u001b[0m\u001b[0;34m,\u001b[0m \u001b[0mo\u001b[0m \u001b[0;32min\u001b[0m \u001b[0mzip\u001b[0m\u001b[0;34m(\u001b[0m\u001b[0mout_labels\u001b[0m\u001b[0;34m,\u001b[0m \u001b[0mouts\u001b[0m\u001b[0;34m)\u001b[0m\u001b[0;34m:\u001b[0m\u001b[0;34m\u001b[0m\u001b[0m\n",
      "\u001b[0;32m/usr/local/lib/python2.7/site-packages/keras/backend/tensorflow_backend.pyc\u001b[0m in \u001b[0;36m__call__\u001b[0;34m(self, inputs)\u001b[0m\n\u001b[1;32m   2713\u001b[0m                 \u001b[0;32mreturn\u001b[0m \u001b[0mself\u001b[0m\u001b[0;34m.\u001b[0m\u001b[0m_legacy_call\u001b[0m\u001b[0;34m(\u001b[0m\u001b[0minputs\u001b[0m\u001b[0;34m)\u001b[0m\u001b[0;34m\u001b[0m\u001b[0m\n\u001b[1;32m   2714\u001b[0m \u001b[0;34m\u001b[0m\u001b[0m\n\u001b[0;32m-> 2715\u001b[0;31m             \u001b[0;32mreturn\u001b[0m \u001b[0mself\u001b[0m\u001b[0;34m.\u001b[0m\u001b[0m_call\u001b[0m\u001b[0;34m(\u001b[0m\u001b[0minputs\u001b[0m\u001b[0;34m)\u001b[0m\u001b[0;34m\u001b[0m\u001b[0m\n\u001b[0m\u001b[1;32m   2716\u001b[0m         \u001b[0;32melse\u001b[0m\u001b[0;34m:\u001b[0m\u001b[0;34m\u001b[0m\u001b[0m\n\u001b[1;32m   2717\u001b[0m             \u001b[0;32mif\u001b[0m \u001b[0mpy_any\u001b[0m\u001b[0;34m(\u001b[0m\u001b[0mis_tensor\u001b[0m\u001b[0;34m(\u001b[0m\u001b[0mx\u001b[0m\u001b[0;34m)\u001b[0m \u001b[0;32mfor\u001b[0m \u001b[0mx\u001b[0m \u001b[0;32min\u001b[0m \u001b[0minputs\u001b[0m\u001b[0;34m)\u001b[0m\u001b[0;34m:\u001b[0m\u001b[0;34m\u001b[0m\u001b[0m\n",
      "\u001b[0;32m/usr/local/lib/python2.7/site-packages/keras/backend/tensorflow_backend.pyc\u001b[0m in \u001b[0;36m_call\u001b[0;34m(self, inputs)\u001b[0m\n\u001b[1;32m   2673\u001b[0m             \u001b[0mfetched\u001b[0m \u001b[0;34m=\u001b[0m \u001b[0mself\u001b[0m\u001b[0;34m.\u001b[0m\u001b[0m_callable_fn\u001b[0m\u001b[0;34m(\u001b[0m\u001b[0;34m*\u001b[0m\u001b[0marray_vals\u001b[0m\u001b[0;34m,\u001b[0m \u001b[0mrun_metadata\u001b[0m\u001b[0;34m=\u001b[0m\u001b[0mself\u001b[0m\u001b[0;34m.\u001b[0m\u001b[0mrun_metadata\u001b[0m\u001b[0;34m)\u001b[0m\u001b[0;34m\u001b[0m\u001b[0m\n\u001b[1;32m   2674\u001b[0m         \u001b[0;32melse\u001b[0m\u001b[0;34m:\u001b[0m\u001b[0;34m\u001b[0m\u001b[0m\n\u001b[0;32m-> 2675\u001b[0;31m             \u001b[0mfetched\u001b[0m \u001b[0;34m=\u001b[0m \u001b[0mself\u001b[0m\u001b[0;34m.\u001b[0m\u001b[0m_callable_fn\u001b[0m\u001b[0;34m(\u001b[0m\u001b[0;34m*\u001b[0m\u001b[0marray_vals\u001b[0m\u001b[0;34m)\u001b[0m\u001b[0;34m\u001b[0m\u001b[0m\n\u001b[0m\u001b[1;32m   2676\u001b[0m         \u001b[0;32mreturn\u001b[0m \u001b[0mfetched\u001b[0m\u001b[0;34m[\u001b[0m\u001b[0;34m:\u001b[0m\u001b[0mlen\u001b[0m\u001b[0;34m(\u001b[0m\u001b[0mself\u001b[0m\u001b[0;34m.\u001b[0m\u001b[0moutputs\u001b[0m\u001b[0;34m)\u001b[0m\u001b[0;34m]\u001b[0m\u001b[0;34m\u001b[0m\u001b[0m\n\u001b[1;32m   2677\u001b[0m \u001b[0;34m\u001b[0m\u001b[0m\n",
      "\u001b[0;32m/usr/local/lib/python2.7/site-packages/tensorflow/python/client/session.pyc\u001b[0m in \u001b[0;36m__call__\u001b[0;34m(self, *args, **kwargs)\u001b[0m\n\u001b[1;32m   1397\u001b[0m           ret = tf_session.TF_SessionRunCallable(\n\u001b[1;32m   1398\u001b[0m               \u001b[0mself\u001b[0m\u001b[0;34m.\u001b[0m\u001b[0m_session\u001b[0m\u001b[0;34m.\u001b[0m\u001b[0m_session\u001b[0m\u001b[0;34m,\u001b[0m \u001b[0mself\u001b[0m\u001b[0;34m.\u001b[0m\u001b[0m_handle\u001b[0m\u001b[0;34m,\u001b[0m \u001b[0margs\u001b[0m\u001b[0;34m,\u001b[0m \u001b[0mstatus\u001b[0m\u001b[0;34m,\u001b[0m\u001b[0;34m\u001b[0m\u001b[0m\n\u001b[0;32m-> 1399\u001b[0;31m               run_metadata_ptr)\n\u001b[0m\u001b[1;32m   1400\u001b[0m         \u001b[0;32mif\u001b[0m \u001b[0mrun_metadata\u001b[0m\u001b[0;34m:\u001b[0m\u001b[0;34m\u001b[0m\u001b[0m\n\u001b[1;32m   1401\u001b[0m           \u001b[0mproto_data\u001b[0m \u001b[0;34m=\u001b[0m \u001b[0mtf_session\u001b[0m\u001b[0;34m.\u001b[0m\u001b[0mTF_GetBuffer\u001b[0m\u001b[0;34m(\u001b[0m\u001b[0mrun_metadata_ptr\u001b[0m\u001b[0;34m)\u001b[0m\u001b[0;34m\u001b[0m\u001b[0m\n",
      "\u001b[0;31mKeyboardInterrupt\u001b[0m: "
     ]
    }
   ],
   "source": [
    "history = modelmult.fit(X_train, [Y_train, Yf_train], batch_size=batch_size, nb_epoch=epochs, verbose=1, validation_data=(X_test, [Y_test,Yf_test]))"
   ]
  },
  {
   "cell_type": "code",
   "execution_count": 46,
   "metadata": {},
   "outputs": [
    {
     "data": {
      "image/png": "[encoded data removed]",
      "text/plain": [
       "<Figure size 432x288 with 1 Axes>"
      ]
     },
     "metadata": {
      "needs_background": "light"
     },
     "output_type": "display_data"
    },
    {
     "data": {
      "image/png": "[encoded data removed]",
      "text/plain": [
       "<Figure size 432x288 with 1 Axes>"
      ]
     },
     "metadata": {
      "needs_background": "light"
     },
     "output_type": "display_data"
    },
    {
     "data": {
      "image/png": "[encoded data removed]",
      "text/plain": [
       "<Figure size 432x288 with 1 Axes>"
      ]
     },
     "metadata": {
      "needs_background": "light"
     },
     "output_type": "display_data"
    }
   ],
   "source": [
    "# Plot training & validation accuracy values\n",
    "fig = plt.plot(history.history['dense_12_loss'])\n",
    "plt.plot(history.history['val_dense_12_loss'])\n",
    "plt.title('Model loss')\n",
    "plt.ylabel('Fine label loss')\n",
    "plt.xlabel('Epoch')\n",
    "plt.legend(['Train', 'Test'], loc='upper left')\n",
    "plt.savefig('11.png')   # save the figure to file\n",
    "plt.show()\n",
    "plt.close()\n",
    "\n",
    "plt.plot(history.history['dense_13_loss'])\n",
    "plt.plot(history.history['val_dense_13_loss'])\n",
    "plt.title('Model loss')\n",
    "plt.ylabel('Coarse label loss')\n",
    "plt.xlabel('Epoch')\n",
    "plt.legend(['Train', 'Test'], loc='upper left')\n",
    "plt.savefig('12.png')   # save the figure to file\n",
    "plt.show()\n",
    "plt.close()\n",
    "\n",
    "# Plot training & validation loss values\n",
    "plt.plot(history.history['loss'])\n",
    "plt.plot(history.history['val_loss'])\n",
    "plt.title('Model loss')\n",
    "plt.ylabel('Loss')\n",
    "plt.xlabel('Epoch')\n",
    "plt.legend(['Train', 'Test'], loc='upper left')\n",
    "plt.savefig('13.png')   # save the figure to file\n",
    "plt.show()\n",
    "plt.close()"
   ]
  },
  {
   "cell_type": "code",
   "execution_count": 47,
   "metadata": {},
   "outputs": [
    {
     "name": "stdout",
     "output_type": "stream",
     "text": [
      "10000/10000 [==============================] - 11s 1ms/step\n",
      "Test score: 18.952663104248046\n"
     ]
    }
   ],
   "source": [
    "scoremult = modelmult.evaluate(X_test, [Y_test, Yf_test])\n",
    "print('Test score:', scoremult[0])"
   ]
  },
  {
   "cell_type": "code",
   "execution_count": 48,
   "metadata": {},
   "outputs": [],
   "source": [
    "l = modelmult.predict(X_test)"
   ]
  },
  {
   "cell_type": "code",
   "execution_count": 49,
   "metadata": {},
   "outputs": [],
   "source": [
    "l_cp = np.argmax(l[0], axis=1)\n",
    "l_fp = np.argmax(l[1], axis=1)"
   ]
  },
  {
   "cell_type": "code",
   "execution_count": 50,
   "metadata": {},
   "outputs": [
    {
     "name": "stdout",
     "output_type": "stream",
     "text": [
      "[6 6 6 ... 6 6 6]\n",
      "[57 57 57 ... 57 57 57]\n"
     ]
    }
   ],
   "source": [
    "print(l_cp)\n",
    "print(l_fp)"
   ]
  },
  {
   "cell_type": "code",
   "execution_count": 51,
   "metadata": {},
   "outputs": [],
   "source": [
    "y_testa = y_test.flatten()\n",
    "yf_testa = yf_test.flatten()\n",
    "scoremultc = 0\n",
    "scoremultf = 0\n",
    "for i in range(10000):\n",
    "    if y_testa[i]== l_cp[i]:\n",
    "        scoremultc+=1\n",
    "    if yf_testa[i]== l_fp[i]:\n",
    "        scoremultf+=1\n",
    "scoremultc = scoremultc/10000.0\n",
    "scoremultf = scoremultf/10000.0"
   ]
  },
  {
   "cell_type": "code",
   "execution_count": 52,
   "metadata": {},
   "outputs": [
    {
     "name": "stdout",
     "output_type": "stream",
     "text": [
      "Coarse accuracy: 0.05\n",
      "Fine accuracy: 0.01\n",
      "Test accuracy: 0.03\n"
     ]
    }
   ],
   "source": [
    "print('Coarse accuracy:', scoremultc)\n",
    "print('Fine accuracy:', scoremultf)\n",
    "print('Test accuracy:', (scoremultf + scoremultc)/2.0)"
   ]
  },
  {
   "cell_type": "markdown",
   "metadata": {},
   "source": [
    "As we can see, the outputs get stagnant at fixed value of 6 for coarse and 57 for fine because we used single neural net without branching."
   ]
  },
  {
   "cell_type": "markdown",
   "metadata": {},
   "source": [
    "# Multiobjective as Multioutput with branching"
   ]
  },
  {
   "cell_type": "code",
   "execution_count": 53,
   "metadata": {},
   "outputs": [],
   "source": [
    "from keras.layers import Input, Embedding, LSTM, Dense\n",
    "from keras.models import Model"
   ]
  },
  {
   "cell_type": "code",
   "execution_count": 54,
   "metadata": {},
   "outputs": [
    {
     "name": "stdout",
     "output_type": "stream",
     "text": [
      "__________________________________________________________________________________________________\n",
      "Layer (type)                    Output Shape         Param #     Connected to                     \n",
      "==================================================================================================\n",
      "main_input (InputLayer)         (None, 32, 32, 3)    0                                            \n",
      "__________________________________________________________________________________________________\n",
      "conv2d_21 (Conv2D)              (None, 32, 32, 32)   896         main_input[0][0]                 \n",
      "__________________________________________________________________________________________________\n",
      "conv2d_22 (Conv2D)              (None, 30, 30, 32)   9248        conv2d_21[0][0]                  \n",
      "__________________________________________________________________________________________________\n",
      "max_pooling2d_11 (MaxPooling2D) (None, 15, 15, 32)   0           conv2d_22[0][0]                  \n",
      "__________________________________________________________________________________________________\n",
      "dropout_16 (Dropout)            (None, 15, 15, 32)   0           max_pooling2d_11[0][0]           \n",
      "__________________________________________________________________________________________________\n",
      "conv2d_23 (Conv2D)              (None, 15, 15, 64)   18496       dropout_16[0][0]                 \n",
      "__________________________________________________________________________________________________\n",
      "conv2d_24 (Conv2D)              (None, 13, 13, 64)   36928       conv2d_23[0][0]                  \n",
      "__________________________________________________________________________________________________\n",
      "max_pooling2d_12 (MaxPooling2D) (None, 6, 6, 64)     0           conv2d_24[0][0]                  \n",
      "__________________________________________________________________________________________________\n",
      "dropout_17 (Dropout)            (None, 6, 6, 64)     0           max_pooling2d_12[0][0]           \n",
      "__________________________________________________________________________________________________\n",
      "flatten_6 (Flatten)             (None, 2304)         0           dropout_17[0][0]                 \n",
      "__________________________________________________________________________________________________\n",
      "dense_14 (Dense)                (None, 512)          1180160     flatten_6[0][0]                  \n",
      "__________________________________________________________________________________________________\n",
      "dropout_18 (Dropout)            (None, 512)          0           dense_14[0][0]                   \n",
      "__________________________________________________________________________________________________\n",
      "dense_15 (Dense)                (None, 20)           10260       dropout_18[0][0]                 \n",
      "__________________________________________________________________________________________________\n",
      "dense_16 (Dense)                (None, 100)          51300       dropout_18[0][0]                 \n",
      "==================================================================================================\n",
      "Total params: 1,307,288\n",
      "Trainable params: 1,307,288\n",
      "Non-trainable params: 0\n",
      "__________________________________________________________________________________________________\n",
      "None\n"
     ]
    }
   ],
   "source": [
    "main_input = Input(shape=(img_channels, img_rows, img_cols), name='main_input')\n",
    "x = Conv2D(32, (3, 3), activation='relu', padding='same')(main_input)\n",
    "x = Conv2D(32, (3, 3), activation='relu')(x)\n",
    "x = MaxPooling2D(pool_size=(2, 2))(x)\n",
    "x = Dropout(0.25)(x)\n",
    "x = Conv2D(64, (3, 3), activation='relu', padding='same')(x)\n",
    "x = Conv2D(64, (3, 3), activation='relu')(x)\n",
    "x = MaxPooling2D(pool_size=(2, 2))(x)\n",
    "x = Dropout(0.25)(x)\n",
    "x = Flatten()(x)\n",
    "x = Dense(512, activation = 'relu')(x)\n",
    "x = Dropout(0.5)(x)\n",
    "y = Dense(nb_classes, activation = 'softmax')(x)\n",
    "z = Dense(num_classes, activation = 'softmax')(x)\n",
    "modelmult = Model(inputs=[main_input], outputs=[y,z])\n",
    "\n",
    "print(modelmult.summary())"
   ]
  },
  {
   "cell_type": "code",
   "execution_count": 55,
   "metadata": {},
   "outputs": [
    {
     "data": {
      "image/svg+xml": [
       "<svg height=\"921pt\" viewBox=\"0.00 0.00 248.25 921.00\" width=\"248pt\" xmlns=\"http://www.w3.org/2000/svg\" xmlns:xlink=\"http://www.w3.org/1999/xlink\">\n",
       "<g class=\"graph\" id=\"graph0\" transform=\"scale(1 1) rotate(0) translate(4 917)\">\n",
       "<title>G</title>\n",
       "<polygon fill=\"#ffffff\" points=\"-4,4 -4,-917 244.252,-917 244.252,4 -4,4\" stroke=\"transparent\"/>\n",
       "<!-- 5251487248 -->\n",
       "<g class=\"node\" id=\"node1\">\n",
       "<title>5251487248</title>\n",
       "<polygon fill=\"none\" points=\"44.9482,-876.5 44.9482,-912.5 194.3037,-912.5 194.3037,-876.5 44.9482,-876.5\" stroke=\"#000000\"/>\n",
       "<text fill=\"#000000\" font-family=\"Times,serif\" font-size=\"14.00\" text-anchor=\"middle\" x=\"119.626\" y=\"-890.3\">main_input: InputLayer</text>\n",
       "</g>\n",
       "<!-- 5251488336 -->\n",
       "<g class=\"node\" id=\"node2\">\n",
       "<title>5251488336</title>\n",
       "<polygon fill=\"none\" points=\"53.1001,-803.5 53.1001,-839.5 186.1519,-839.5 186.1519,-803.5 53.1001,-803.5\" stroke=\"#000000\"/>\n",
       "<text fill=\"#000000\" font-family=\"Times,serif\" font-size=\"14.00\" text-anchor=\"middle\" x=\"119.626\" y=\"-817.3\">conv2d_21: Conv2D</text>\n",
       "</g>\n",
       "<!-- 5251487248&#45;&gt;5251488336 -->\n",
       "<g class=\"edge\" id=\"edge1\">\n",
       "<title>5251487248-&gt;5251488336</title>\n",
       "<path d=\"M119.626,-876.4551C119.626,-868.3828 119.626,-858.6764 119.626,-849.6817\" fill=\"none\" stroke=\"#000000\"/>\n",
       "<polygon fill=\"#000000\" points=\"123.1261,-849.5903 119.626,-839.5904 116.1261,-849.5904 123.1261,-849.5903\" stroke=\"#000000\"/>\n",
       "</g>\n",
       "<!-- 5251486480 -->\n",
       "<g class=\"node\" id=\"node3\">\n",
       "<title>5251486480</title>\n",
       "<polygon fill=\"none\" points=\"53.1001,-730.5 53.1001,-766.5 186.1519,-766.5 186.1519,-730.5 53.1001,-730.5\" stroke=\"#000000\"/>\n",
       "<text fill=\"#000000\" font-family=\"Times,serif\" font-size=\"14.00\" text-anchor=\"middle\" x=\"119.626\" y=\"-744.3\">conv2d_22: Conv2D</text>\n",
       "</g>\n",
       "<!-- 5251488336&#45;&gt;5251486480 -->\n",
       "<g class=\"edge\" id=\"edge2\">\n",
       "<title>5251488336-&gt;5251486480</title>\n",
       "<path d=\"M119.626,-803.4551C119.626,-795.3828 119.626,-785.6764 119.626,-776.6817\" fill=\"none\" stroke=\"#000000\"/>\n",
       "<polygon fill=\"#000000\" points=\"123.1261,-776.5903 119.626,-766.5904 116.1261,-776.5904 123.1261,-776.5903\" stroke=\"#000000\"/>\n",
       "</g>\n",
       "<!-- 5253364112 -->\n",
       "<g class=\"node\" id=\"node4\">\n",
       "<title>5253364112</title>\n",
       "<polygon fill=\"none\" points=\"10.5771,-657.5 10.5771,-693.5 228.6748,-693.5 228.6748,-657.5 10.5771,-657.5\" stroke=\"#000000\"/>\n",
       "<text fill=\"#000000\" font-family=\"Times,serif\" font-size=\"14.00\" text-anchor=\"middle\" x=\"119.626\" y=\"-671.3\">max_pooling2d_11: MaxPooling2D</text>\n",
       "</g>\n",
       "<!-- 5251486480&#45;&gt;5253364112 -->\n",
       "<g class=\"edge\" id=\"edge3\">\n",
       "<title>5251486480-&gt;5253364112</title>\n",
       "<path d=\"M119.626,-730.4551C119.626,-722.3828 119.626,-712.6764 119.626,-703.6817\" fill=\"none\" stroke=\"#000000\"/>\n",
       "<polygon fill=\"#000000\" points=\"123.1261,-703.5903 119.626,-693.5904 116.1261,-703.5904 123.1261,-703.5903\" stroke=\"#000000\"/>\n",
       "</g>\n",
       "<!-- 5251487888 -->\n",
       "<g class=\"node\" id=\"node5\">\n",
       "<title>5251487888</title>\n",
       "<polygon fill=\"none\" points=\"52.3242,-584.5 52.3242,-620.5 186.9277,-620.5 186.9277,-584.5 52.3242,-584.5\" stroke=\"#000000\"/>\n",
       "<text fill=\"#000000\" font-family=\"Times,serif\" font-size=\"14.00\" text-anchor=\"middle\" x=\"119.626\" y=\"-598.3\">dropout_16: Dropout</text>\n",
       "</g>\n",
       "<!-- 5253364112&#45;&gt;5251487888 -->\n",
       "<g class=\"edge\" id=\"edge4\">\n",
       "<title>5253364112-&gt;5251487888</title>\n",
       "<path d=\"M119.626,-657.4551C119.626,-649.3828 119.626,-639.6764 119.626,-630.6817\" fill=\"none\" stroke=\"#000000\"/>\n",
       "<polygon fill=\"#000000\" points=\"123.1261,-630.5903 119.626,-620.5904 116.1261,-630.5904 123.1261,-630.5903\" stroke=\"#000000\"/>\n",
       "</g>\n",
       "<!-- 5253363216 -->\n",
       "<g class=\"node\" id=\"node6\">\n",
       "<title>5253363216</title>\n",
       "<polygon fill=\"none\" points=\"53.1001,-511.5 53.1001,-547.5 186.1519,-547.5 186.1519,-511.5 53.1001,-511.5\" stroke=\"#000000\"/>\n",
       "<text fill=\"#000000\" font-family=\"Times,serif\" font-size=\"14.00\" text-anchor=\"middle\" x=\"119.626\" y=\"-525.3\">conv2d_23: Conv2D</text>\n",
       "</g>\n",
       "<!-- 5251487888&#45;&gt;5253363216 -->\n",
       "<g class=\"edge\" id=\"edge5\">\n",
       "<title>5251487888-&gt;5253363216</title>\n",
       "<path d=\"M119.626,-584.4551C119.626,-576.3828 119.626,-566.6764 119.626,-557.6817\" fill=\"none\" stroke=\"#000000\"/>\n",
       "<polygon fill=\"#000000\" points=\"123.1261,-557.5903 119.626,-547.5904 116.1261,-557.5904 123.1261,-557.5903\" stroke=\"#000000\"/>\n",
       "</g>\n",
       "<!-- 5251486992 -->\n",
       "<g class=\"node\" id=\"node7\">\n",
       "<title>5251486992</title>\n",
       "<polygon fill=\"none\" points=\"53.1001,-438.5 53.1001,-474.5 186.1519,-474.5 186.1519,-438.5 53.1001,-438.5\" stroke=\"#000000\"/>\n",
       "<text fill=\"#000000\" font-family=\"Times,serif\" font-size=\"14.00\" text-anchor=\"middle\" x=\"119.626\" y=\"-452.3\">conv2d_24: Conv2D</text>\n",
       "</g>\n",
       "<!-- 5253363216&#45;&gt;5251486992 -->\n",
       "<g class=\"edge\" id=\"edge6\">\n",
       "<title>5253363216-&gt;5251486992</title>\n",
       "<path d=\"M119.626,-511.4551C119.626,-503.3828 119.626,-493.6764 119.626,-484.6817\" fill=\"none\" stroke=\"#000000\"/>\n",
       "<polygon fill=\"#000000\" points=\"123.1261,-484.5903 119.626,-474.5904 116.1261,-484.5904 123.1261,-484.5903\" stroke=\"#000000\"/>\n",
       "</g>\n",
       "<!-- 5284272144 -->\n",
       "<g class=\"node\" id=\"node8\">\n",
       "<title>5284272144</title>\n",
       "<polygon fill=\"none\" points=\"10.3208,-365.5 10.3208,-401.5 228.9312,-401.5 228.9312,-365.5 10.3208,-365.5\" stroke=\"#000000\"/>\n",
       "<text fill=\"#000000\" font-family=\"Times,serif\" font-size=\"14.00\" text-anchor=\"middle\" x=\"119.626\" y=\"-379.3\">max_pooling2d_12: MaxPooling2D</text>\n",
       "</g>\n",
       "<!-- 5251486992&#45;&gt;5284272144 -->\n",
       "<g class=\"edge\" id=\"edge7\">\n",
       "<title>5251486992-&gt;5284272144</title>\n",
       "<path d=\"M119.626,-438.4551C119.626,-430.3828 119.626,-420.6764 119.626,-411.6817\" fill=\"none\" stroke=\"#000000\"/>\n",
       "<polygon fill=\"#000000\" points=\"123.1261,-411.5903 119.626,-401.5904 116.1261,-411.5904 123.1261,-411.5903\" stroke=\"#000000\"/>\n",
       "</g>\n",
       "<!-- 5253497296 -->\n",
       "<g class=\"node\" id=\"node9\">\n",
       "<title>5253497296</title>\n",
       "<polygon fill=\"none\" points=\"52.3242,-292.5 52.3242,-328.5 186.9277,-328.5 186.9277,-292.5 52.3242,-292.5\" stroke=\"#000000\"/>\n",
       "<text fill=\"#000000\" font-family=\"Times,serif\" font-size=\"14.00\" text-anchor=\"middle\" x=\"119.626\" y=\"-306.3\">dropout_17: Dropout</text>\n",
       "</g>\n",
       "<!-- 5284272144&#45;&gt;5253497296 -->\n",
       "<g class=\"edge\" id=\"edge8\">\n",
       "<title>5284272144-&gt;5253497296</title>\n",
       "<path d=\"M119.626,-365.4551C119.626,-357.3828 119.626,-347.6764 119.626,-338.6817\" fill=\"none\" stroke=\"#000000\"/>\n",
       "<polygon fill=\"#000000\" points=\"123.1261,-338.5903 119.626,-328.5904 116.1261,-338.5904 123.1261,-338.5903\" stroke=\"#000000\"/>\n",
       "</g>\n",
       "<!-- 5284272336 -->\n",
       "<g class=\"node\" id=\"node10\">\n",
       "<title>5284272336</title>\n",
       "<polygon fill=\"none\" points=\"63.9932,-219.5 63.9932,-255.5 175.2588,-255.5 175.2588,-219.5 63.9932,-219.5\" stroke=\"#000000\"/>\n",
       "<text fill=\"#000000\" font-family=\"Times,serif\" font-size=\"14.00\" text-anchor=\"middle\" x=\"119.626\" y=\"-233.3\">flatten_6: Flatten</text>\n",
       "</g>\n",
       "<!-- 5253497296&#45;&gt;5284272336 -->\n",
       "<g class=\"edge\" id=\"edge9\">\n",
       "<title>5253497296-&gt;5284272336</title>\n",
       "<path d=\"M119.626,-292.4551C119.626,-284.3828 119.626,-274.6764 119.626,-265.6817\" fill=\"none\" stroke=\"#000000\"/>\n",
       "<polygon fill=\"#000000\" points=\"123.1261,-265.5903 119.626,-255.5904 116.1261,-265.5904 123.1261,-265.5903\" stroke=\"#000000\"/>\n",
       "</g>\n",
       "<!-- 5253543440 -->\n",
       "<g class=\"node\" id=\"node11\">\n",
       "<title>5253543440</title>\n",
       "<polygon fill=\"none\" points=\"64,-146.5 64,-182.5 175.252,-182.5 175.252,-146.5 64,-146.5\" stroke=\"#000000\"/>\n",
       "<text fill=\"#000000\" font-family=\"Times,serif\" font-size=\"14.00\" text-anchor=\"middle\" x=\"119.626\" y=\"-160.3\">dense_14: Dense</text>\n",
       "</g>\n",
       "<!-- 5284272336&#45;&gt;5253543440 -->\n",
       "<g class=\"edge\" id=\"edge10\">\n",
       "<title>5284272336-&gt;5253543440</title>\n",
       "<path d=\"M119.626,-219.4551C119.626,-211.3828 119.626,-201.6764 119.626,-192.6817\" fill=\"none\" stroke=\"#000000\"/>\n",
       "<polygon fill=\"#000000\" points=\"123.1261,-192.5903 119.626,-182.5904 116.1261,-192.5904 123.1261,-192.5903\" stroke=\"#000000\"/>\n",
       "</g>\n",
       "<!-- 5284271760 -->\n",
       "<g class=\"node\" id=\"node12\">\n",
       "<title>5284271760</title>\n",
       "<polygon fill=\"none\" points=\"52.3242,-73.5 52.3242,-109.5 186.9277,-109.5 186.9277,-73.5 52.3242,-73.5\" stroke=\"#000000\"/>\n",
       "<text fill=\"#000000\" font-family=\"Times,serif\" font-size=\"14.00\" text-anchor=\"middle\" x=\"119.626\" y=\"-87.3\">dropout_18: Dropout</text>\n",
       "</g>\n",
       "<!-- 5253543440&#45;&gt;5284271760 -->\n",
       "<g class=\"edge\" id=\"edge11\">\n",
       "<title>5253543440-&gt;5284271760</title>\n",
       "<path d=\"M119.626,-146.4551C119.626,-138.3828 119.626,-128.6764 119.626,-119.6817\" fill=\"none\" stroke=\"#000000\"/>\n",
       "<polygon fill=\"#000000\" points=\"123.1261,-119.5903 119.626,-109.5904 116.1261,-119.5904 123.1261,-119.5903\" stroke=\"#000000\"/>\n",
       "</g>\n",
       "<!-- 5284499216 -->\n",
       "<g class=\"node\" id=\"node13\">\n",
       "<title>5284499216</title>\n",
       "<polygon fill=\"none\" points=\"0,-.5 0,-36.5 111.252,-36.5 111.252,-.5 0,-.5\" stroke=\"#000000\"/>\n",
       "<text fill=\"#000000\" font-family=\"Times,serif\" font-size=\"14.00\" text-anchor=\"middle\" x=\"55.626\" y=\"-14.3\">dense_15: Dense</text>\n",
       "</g>\n",
       "<!-- 5284271760&#45;&gt;5284499216 -->\n",
       "<g class=\"edge\" id=\"edge12\">\n",
       "<title>5284271760-&gt;5284499216</title>\n",
       "<path d=\"M103.8057,-73.4551C96.1133,-64.6809 86.7282,-53.9759 78.2916,-44.353\" fill=\"none\" stroke=\"#000000\"/>\n",
       "<polygon fill=\"#000000\" points=\"80.7102,-41.8024 71.486,-36.5904 75.4466,-46.4171 80.7102,-41.8024\" stroke=\"#000000\"/>\n",
       "</g>\n",
       "<!-- 5284496656 -->\n",
       "<g class=\"node\" id=\"node14\">\n",
       "<title>5284496656</title>\n",
       "<polygon fill=\"none\" points=\"129,-.5 129,-36.5 240.252,-36.5 240.252,-.5 129,-.5\" stroke=\"#000000\"/>\n",
       "<text fill=\"#000000\" font-family=\"Times,serif\" font-size=\"14.00\" text-anchor=\"middle\" x=\"184.626\" y=\"-14.3\">dense_16: Dense</text>\n",
       "</g>\n",
       "<!-- 5284271760&#45;&gt;5284496656 -->\n",
       "<g class=\"edge\" id=\"edge13\">\n",
       "<title>5284271760-&gt;5284496656</title>\n",
       "<path d=\"M135.6934,-73.4551C143.5841,-64.5932 153.2286,-53.7616 161.8629,-44.0646\" fill=\"none\" stroke=\"#000000\"/>\n",
       "<polygon fill=\"#000000\" points=\"164.4821,-46.3863 168.5181,-36.5904 159.2541,-41.7313 164.4821,-46.3863\" stroke=\"#000000\"/>\n",
       "</g>\n",
       "</g>\n",
       "</svg>"
      ],
      "text/plain": [
       "<IPython.core.display.SVG object>"
      ]
     },
     "execution_count": 55,
     "metadata": {},
     "output_type": "execute_result"
    }
   ],
   "source": [
    "plot_model(modelmult, to_file='model4.png')\n",
    "SVG(model_to_dot(modelmult).create(prog='dot', format='svg'))"
   ]
  },
  {
   "cell_type": "code",
   "execution_count": 56,
   "metadata": {},
   "outputs": [],
   "source": [
    "# initiate RMSprop optimizer\n",
    "opt = keras.optimizers.Adam(lr=3e-4)\n",
    "\n",
    "modelmult.compile(optimizer=opt, loss='categorical_crossentropy',\n",
    "              loss_weights=[1.,1.])"
   ]
  },
  {
   "cell_type": "code",
   "execution_count": 57,
   "metadata": {},
   "outputs": [
    {
     "name": "stderr",
     "output_type": "stream",
     "text": [
      "/Users/jayanth/Library/Python/2.7/lib/python/site-packages/ipykernel_launcher.py:1: UserWarning: The `nb_epoch` argument in `fit` has been renamed `epochs`.\n",
      "  \"\"\"Entry point for launching an IPython kernel.\n"
     ]
    },
    {
     "name": "stdout",
     "output_type": "stream",
     "text": [
      "Train on 50000 samples, validate on 10000 samples\n",
      "Epoch 1/50\n",
      "50000/50000 [==============================] - 201s 4ms/step - loss: 8.9262 - dense_15_loss: 3.6565 - dense_16_loss: 5.2698 - val_loss: 6.7623 - val_dense_15_loss: 2.5805 - val_dense_16_loss: 4.1819\n",
      "Epoch 2/50\n",
      "50000/50000 [==============================] - 215s 4ms/step - loss: 6.5372 - dense_15_loss: 2.5179 - dense_16_loss: 4.0193 - val_loss: 6.1488 - val_dense_15_loss: 2.3528 - val_dense_16_loss: 3.7961\n",
      "Epoch 3/50\n",
      "50000/50000 [==============================] - 198s 4ms/step - loss: 6.0552 - dense_15_loss: 2.3423 - dense_16_loss: 3.7129 - val_loss: 5.6520 - val_dense_15_loss: 2.1736 - val_dense_16_loss: 3.4784\n",
      "Epoch 4/50\n",
      "50000/50000 [==============================] - 234s 5ms/step - loss: 5.7040 - dense_15_loss: 2.2127 - dense_16_loss: 3.4913 - val_loss: 5.3410 - val_dense_15_loss: 2.0545 - val_dense_16_loss: 3.2865\n",
      "Epoch 5/50\n",
      "50000/50000 [==============================] - 211s 4ms/step - loss: 5.4291 - dense_15_loss: 2.1112 - dense_16_loss: 3.3179 - val_loss: 5.1326 - val_dense_15_loss: 1.9872 - val_dense_16_loss: 3.1454\n",
      "Epoch 6/50\n",
      "50000/50000 [==============================] - 228s 5ms/step - loss: 5.1932 - dense_15_loss: 2.0262 - dense_16_loss: 3.1670 - val_loss: 4.9092 - val_dense_15_loss: 1.9097 - val_dense_16_loss: 2.9995\n",
      "Epoch 7/50\n",
      "50000/50000 [==============================] - 217s 4ms/step - loss: 4.9879 - dense_15_loss: 1.9443 - dense_16_loss: 3.0437 - val_loss: 4.8712 - val_dense_15_loss: 1.9141 - val_dense_16_loss: 2.9571\n",
      "Epoch 8/50\n",
      "50000/50000 [==============================] - 231s 5ms/step - loss: 4.8162 - dense_15_loss: 1.8832 - dense_16_loss: 2.9330 - val_loss: 4.5486 - val_dense_15_loss: 1.7754 - val_dense_16_loss: 2.7732\n",
      "Epoch 9/50\n",
      "50000/50000 [==============================] - 219s 4ms/step - loss: 4.6568 - dense_15_loss: 1.8228 - dense_16_loss: 2.8340 - val_loss: 4.4844 - val_dense_15_loss: 1.7552 - val_dense_16_loss: 2.7291\n",
      "Epoch 10/50\n",
      "50000/50000 [==============================] - 214s 4ms/step - loss: 4.5095 - dense_15_loss: 1.7652 - dense_16_loss: 2.7443 - val_loss: 4.3556 - val_dense_15_loss: 1.7031 - val_dense_16_loss: 2.6525\n",
      "Epoch 11/50\n",
      "50000/50000 [==============================] - 209s 4ms/step - loss: 4.3935 - dense_15_loss: 1.7236 - dense_16_loss: 2.6699 - val_loss: 4.2825 - val_dense_15_loss: 1.6788 - val_dense_16_loss: 2.6038\n",
      "Epoch 12/50\n",
      "50000/50000 [==============================] - 209s 4ms/step - loss: 4.2456 - dense_15_loss: 1.6698 - dense_16_loss: 2.5758 - val_loss: 4.1936 - val_dense_15_loss: 1.6449 - val_dense_16_loss: 2.5487\n",
      "Epoch 13/50\n",
      "50000/50000 [==============================] - 214s 4ms/step - loss: 4.1320 - dense_15_loss: 1.6187 - dense_16_loss: 2.5133 - val_loss: 4.0466 - val_dense_15_loss: 1.5866 - val_dense_16_loss: 2.4600\n",
      "Epoch 14/50\n",
      "50000/50000 [==============================] - 209s 4ms/step - loss: 4.0081 - dense_15_loss: 1.5754 - dense_16_loss: 2.4327 - val_loss: 4.0494 - val_dense_15_loss: 1.5889 - val_dense_16_loss: 2.4605\n",
      "Epoch 15/50\n",
      "50000/50000 [==============================] - 210s 4ms/step - loss: 3.9034 - dense_15_loss: 1.5314 - dense_16_loss: 2.3720 - val_loss: 3.9098 - val_dense_15_loss: 1.5287 - val_dense_16_loss: 2.3811\n",
      "Epoch 16/50\n",
      "50000/50000 [==============================] - 210s 4ms/step - loss: 3.8083 - dense_15_loss: 1.4942 - dense_16_loss: 2.3141 - val_loss: 3.9185 - val_dense_15_loss: 1.5359 - val_dense_16_loss: 2.3826\n",
      "Epoch 17/50\n",
      "50000/50000 [==============================] - 211s 4ms/step - loss: 3.7286 - dense_15_loss: 1.4608 - dense_16_loss: 2.2678 - val_loss: 3.9042 - val_dense_15_loss: 1.5326 - val_dense_16_loss: 2.3716\n",
      "Epoch 18/50\n",
      "50000/50000 [==============================] - 216s 4ms/step - loss: 3.6151 - dense_15_loss: 1.4202 - dense_16_loss: 2.1949 - val_loss: 3.7891 - val_dense_15_loss: 1.4821 - val_dense_16_loss: 2.3071\n",
      "Epoch 19/50\n",
      "50000/50000 [==============================] - 235s 5ms/step - loss: 3.5413 - dense_15_loss: 1.3908 - dense_16_loss: 2.1505 - val_loss: 3.8223 - val_dense_15_loss: 1.5011 - val_dense_16_loss: 2.3212\n",
      "Epoch 20/50\n",
      "50000/50000 [==============================] - 235s 5ms/step - loss: 3.4595 - dense_15_loss: 1.3557 - dense_16_loss: 2.1037 - val_loss: 3.8233 - val_dense_15_loss: 1.5000 - val_dense_16_loss: 2.3233\n",
      "Epoch 21/50\n",
      "50000/50000 [==============================] - 233s 5ms/step - loss: 3.3819 - dense_15_loss: 1.3286 - dense_16_loss: 2.0533 - val_loss: 3.7395 - val_dense_15_loss: 1.4617 - val_dense_16_loss: 2.2778\n",
      "Epoch 22/50\n",
      "50000/50000 [==============================] - 233s 5ms/step - loss: 3.3132 - dense_15_loss: 1.3016 - dense_16_loss: 2.0115 - val_loss: 3.6874 - val_dense_15_loss: 1.4428 - val_dense_16_loss: 2.2446\n",
      "Epoch 23/50\n",
      "50000/50000 [==============================] - 234s 5ms/step - loss: 3.2506 - dense_15_loss: 1.2769 - dense_16_loss: 1.9737 - val_loss: 3.6819 - val_dense_15_loss: 1.4402 - val_dense_16_loss: 2.2417\n",
      "Epoch 24/50\n",
      "50000/50000 [==============================] - 224s 4ms/step - loss: 3.1864 - dense_15_loss: 1.2492 - dense_16_loss: 1.9372 - val_loss: 3.5841 - val_dense_15_loss: 1.3963 - val_dense_16_loss: 2.1878\n",
      "Epoch 25/50\n",
      "50000/50000 [==============================] - 244s 5ms/step - loss: 3.1235 - dense_15_loss: 1.2255 - dense_16_loss: 1.8980 - val_loss: 3.6017 - val_dense_15_loss: 1.4025 - val_dense_16_loss: 2.1992\n",
      "Epoch 26/50\n",
      "50000/50000 [==============================] - 244s 5ms/step - loss: 3.0652 - dense_15_loss: 1.2005 - dense_16_loss: 1.8647 - val_loss: 3.5552 - val_dense_15_loss: 1.3822 - val_dense_16_loss: 2.1730\n",
      "Epoch 27/50\n",
      "50000/50000 [==============================] - 237s 5ms/step - loss: 2.9956 - dense_15_loss: 1.1752 - dense_16_loss: 1.8204 - val_loss: 3.4989 - val_dense_15_loss: 1.3619 - val_dense_16_loss: 2.1369\n",
      "Epoch 28/50\n",
      "50000/50000 [==============================] - 233s 5ms/step - loss: 2.9378 - dense_15_loss: 1.1514 - dense_16_loss: 1.7864 - val_loss: 3.5332 - val_dense_15_loss: 1.3730 - val_dense_16_loss: 2.1601\n",
      "Epoch 29/50\n",
      "50000/50000 [==============================] - 232s 5ms/step - loss: 2.8936 - dense_15_loss: 1.1332 - dense_16_loss: 1.7604 - val_loss: 3.5147 - val_dense_15_loss: 1.3709 - val_dense_16_loss: 2.1437\n",
      "Epoch 30/50\n",
      "50000/50000 [==============================] - 229s 5ms/step - loss: 2.8692 - dense_15_loss: 1.1241 - dense_16_loss: 1.7451 - val_loss: 3.5626 - val_dense_15_loss: 1.3899 - val_dense_16_loss: 2.1728\n",
      "Epoch 31/50\n",
      "50000/50000 [==============================] - 215s 4ms/step - loss: 2.8211 - dense_15_loss: 1.1057 - dense_16_loss: 1.7154 - val_loss: 3.5221 - val_dense_15_loss: 1.3729 - val_dense_16_loss: 2.1493\n",
      "Epoch 32/50\n",
      "50000/50000 [==============================] - 209s 4ms/step - loss: 2.7977 - dense_15_loss: 1.0951 - dense_16_loss: 1.7026 - val_loss: 3.5044 - val_dense_15_loss: 1.3630 - val_dense_16_loss: 2.1413\n",
      "Epoch 33/50\n",
      "50000/50000 [==============================] - 209s 4ms/step - loss: 2.7514 - dense_15_loss: 1.0746 - dense_16_loss: 1.6768 - val_loss: 3.4849 - val_dense_15_loss: 1.3551 - val_dense_16_loss: 2.1298\n",
      "Epoch 34/50\n",
      "50000/50000 [==============================] - 209s 4ms/step - loss: 2.7013 - dense_15_loss: 1.0558 - dense_16_loss: 1.6455 - val_loss: 3.4883 - val_dense_15_loss: 1.3525 - val_dense_16_loss: 2.1358\n",
      "Epoch 35/50\n",
      "50000/50000 [==============================] - 211s 4ms/step - loss: 2.6650 - dense_15_loss: 1.0419 - dense_16_loss: 1.6231 - val_loss: 3.4695 - val_dense_15_loss: 1.3495 - val_dense_16_loss: 2.1200\n",
      "Epoch 36/50\n",
      "50000/50000 [==============================] - 212s 4ms/step - loss: 2.6102 - dense_15_loss: 1.0199 - dense_16_loss: 1.5902 - val_loss: 3.4743 - val_dense_15_loss: 1.3522 - val_dense_16_loss: 2.1222\n",
      "Epoch 37/50\n",
      "50000/50000 [==============================] - 215s 4ms/step - loss: 2.6011 - dense_15_loss: 1.0142 - dense_16_loss: 1.5869 - val_loss: 3.5090 - val_dense_15_loss: 1.3648 - val_dense_16_loss: 2.1443\n",
      "Epoch 38/50\n",
      "50000/50000 [==============================] - 218s 4ms/step - loss: 2.5629 - dense_15_loss: 0.9973 - dense_16_loss: 1.5655 - val_loss: 3.5183 - val_dense_15_loss: 1.3643 - val_dense_16_loss: 2.1540\n",
      "Epoch 39/50\n",
      "50000/50000 [==============================] - 218s 4ms/step - loss: 2.5265 - dense_15_loss: 0.9832 - dense_16_loss: 1.5432 - val_loss: 3.5323 - val_dense_15_loss: 1.3742 - val_dense_16_loss: 2.1581\n"
     ]
    },
    {
     "name": "stdout",
     "output_type": "stream",
     "text": [
      "Epoch 40/50\n",
      "50000/50000 [==============================] - 219s 4ms/step - loss: 2.4890 - dense_15_loss: 0.9692 - dense_16_loss: 1.5197 - val_loss: 3.4581 - val_dense_15_loss: 1.3402 - val_dense_16_loss: 2.1179\n",
      "Epoch 41/50\n",
      "50000/50000 [==============================] - 221s 4ms/step - loss: 2.4648 - dense_15_loss: 0.9592 - dense_16_loss: 1.5055 - val_loss: 3.4624 - val_dense_15_loss: 1.3430 - val_dense_16_loss: 2.1194\n",
      "Epoch 42/50\n",
      "50000/50000 [==============================] - 219s 4ms/step - loss: 2.4311 - dense_15_loss: 0.9426 - dense_16_loss: 1.4885 - val_loss: 3.4846 - val_dense_15_loss: 1.3558 - val_dense_16_loss: 2.1288\n",
      "Epoch 43/50\n",
      "50000/50000 [==============================] - 218s 4ms/step - loss: 2.4031 - dense_15_loss: 0.9354 - dense_16_loss: 1.4676 - val_loss: 3.4961 - val_dense_15_loss: 1.3553 - val_dense_16_loss: 2.1408\n",
      "Epoch 44/50\n",
      "50000/50000 [==============================] - 218s 4ms/step - loss: 2.3797 - dense_15_loss: 0.9242 - dense_16_loss: 1.4555 - val_loss: 3.4756 - val_dense_15_loss: 1.3447 - val_dense_16_loss: 2.1310\n",
      "Epoch 45/50\n",
      "50000/50000 [==============================] - 217s 4ms/step - loss: 2.3498 - dense_15_loss: 0.9112 - dense_16_loss: 1.4386 - val_loss: 3.4874 - val_dense_15_loss: 1.3534 - val_dense_16_loss: 2.1341\n",
      "Epoch 46/50\n",
      "50000/50000 [==============================] - 217s 4ms/step - loss: 2.3180 - dense_15_loss: 0.8982 - dense_16_loss: 1.4198 - val_loss: 3.5014 - val_dense_15_loss: 1.3567 - val_dense_16_loss: 2.1447\n",
      "Epoch 47/50\n",
      "50000/50000 [==============================] - 242s 5ms/step - loss: 2.3104 - dense_15_loss: 0.8968 - dense_16_loss: 1.4136 - val_loss: 3.4450 - val_dense_15_loss: 1.3299 - val_dense_16_loss: 2.1151\n",
      "Epoch 48/50\n",
      "50000/50000 [==============================] - 246s 5ms/step - loss: 2.2982 - dense_15_loss: 0.8891 - dense_16_loss: 1.4091 - val_loss: 3.4780 - val_dense_15_loss: 1.3489 - val_dense_16_loss: 2.1291\n",
      "Epoch 49/50\n",
      "50000/50000 [==============================] - 240s 5ms/step - loss: 2.2592 - dense_15_loss: 0.8753 - dense_16_loss: 1.3838 - val_loss: 3.5187 - val_dense_15_loss: 1.3638 - val_dense_16_loss: 2.1548\n",
      "Epoch 50/50\n",
      "50000/50000 [==============================] - 230s 5ms/step - loss: 2.2288 - dense_15_loss: 0.8642 - dense_16_loss: 1.3647 - val_loss: 3.4648 - val_dense_15_loss: 1.3398 - val_dense_16_loss: 2.1249\n"
     ]
    }
   ],
   "source": [
    "history = modelmult.fit(X_train, [Y_train, Yf_train], batch_size=batch_size, nb_epoch=epochs, verbose=1, validation_data=(X_test, [Y_test,Yf_test]))"
   ]
  },
  {
   "cell_type": "code",
   "execution_count": 58,
   "metadata": {},
   "outputs": [
    {
     "data": {
      "image/png": "[encoded data removed]",
      "text/plain": [
       "<Figure size 432x288 with 1 Axes>"
      ]
     },
     "metadata": {
      "needs_background": "light"
     },
     "output_type": "display_data"
    },
    {
     "data": {
      "image/png": "[encoded data removed]",
      "text/plain": [
       "<Figure size 432x288 with 1 Axes>"
      ]
     },
     "metadata": {
      "needs_background": "light"
     },
     "output_type": "display_data"
    },
    {
     "data": {
      "image/png": "[encoded data removed]",
      "text/plain": [
       "<Figure size 432x288 with 1 Axes>"
      ]
     },
     "metadata": {
      "needs_background": "light"
     },
     "output_type": "display_data"
    }
   ],
   "source": [
    "# Plot training & validation accuracy values\n",
    "fig = plt.plot(history.history['dense_16_loss'])\n",
    "plt.plot(history.history['val_dense_16_loss'])\n",
    "plt.title('Model loss')\n",
    "plt.ylabel('Fine label loss')\n",
    "plt.xlabel('Epoch')\n",
    "plt.legend(['Train', 'Test'], loc='upper left')\n",
    "plt.savefig('21.png')   # save the figure to file\n",
    "plt.show()\n",
    "plt.close()\n",
    "\n",
    "plt.plot(history.history['dense_15_loss'])\n",
    "plt.plot(history.history['val_dense_15_loss'])\n",
    "plt.title('Model loss')\n",
    "plt.ylabel('Coarse label loss')\n",
    "plt.xlabel('Epoch')\n",
    "plt.legend(['Train', 'Test'], loc='upper left')\n",
    "plt.savefig('22.png')   # save the figure to file\n",
    "plt.show()\n",
    "plt.close()\n",
    "\n",
    "# Plot training & validation loss values\n",
    "plt.plot(history.history['loss'])\n",
    "plt.plot(history.history['val_loss'])\n",
    "plt.title('Model loss')\n",
    "plt.ylabel('Loss')\n",
    "plt.xlabel('Epoch')\n",
    "plt.legend(['Train', 'Test'], loc='upper left')\n",
    "plt.savefig('23.png')   # save the figure to file\n",
    "plt.show()\n",
    "plt.close()"
   ]
  },
  {
   "cell_type": "code",
   "execution_count": 59,
   "metadata": {},
   "outputs": [
    {
     "name": "stdout",
     "output_type": "stream",
     "text": [
      "10000/10000 [==============================] - 12s 1ms/step\n",
      "Test score: 3.464756929397583\n"
     ]
    }
   ],
   "source": [
    "scoremult = modelmult.evaluate(X_test, [Y_test, Yf_test])\n",
    "print('Test score:', scoremult[0])"
   ]
  },
  {
   "cell_type": "code",
   "execution_count": 60,
   "metadata": {},
   "outputs": [
    {
     "data": {
      "text/plain": [
       "[3.464756929397583, 1.339818218421936, 2.1249387088775635]"
      ]
     },
     "execution_count": 60,
     "metadata": {},
     "output_type": "execute_result"
    }
   ],
   "source": [
    "scoremult"
   ]
  },
  {
   "cell_type": "code",
   "execution_count": 61,
   "metadata": {},
   "outputs": [],
   "source": [
    "l = modelmult.predict(X_test)"
   ]
  },
  {
   "cell_type": "code",
   "execution_count": 62,
   "metadata": {},
   "outputs": [],
   "source": [
    "l_cp = np.argmax(l[0], axis=1)\n",
    "l_fp = np.argmax(l[1], axis=1)"
   ]
  },
  {
   "cell_type": "code",
   "execution_count": 63,
   "metadata": {},
   "outputs": [],
   "source": [
    "y_testa = y_test.flatten()\n",
    "yf_testa = yf_test.flatten()\n",
    "scoremultc = 0\n",
    "scoremultf = 0\n",
    "for i in range(10000):\n",
    "    if y_testa[i]== l_cp[i]:\n",
    "        scoremultc+=1\n",
    "    if yf_testa[i]== l_fp[i]:\n",
    "        scoremultf+=1\n",
    "scoremultc = scoremultc/10000.0\n",
    "scoremultf = scoremultf/10000.0"
   ]
  },
  {
   "cell_type": "code",
   "execution_count": 64,
   "metadata": {},
   "outputs": [
    {
     "name": "stdout",
     "output_type": "stream",
     "text": [
      "Coarse accuracy: 0.592\n",
      "Fine accuracy: 0.4613\n",
      "Test accuracy: 0.52665\n"
     ]
    }
   ],
   "source": [
    "print('Coarse accuracy:', scoremultc)\n",
    "print('Fine accuracy:', scoremultf)\n",
    "print('Test accuracy:', (scoremultf + scoremultc)/2.0)"
   ]
  },
  {
   "cell_type": "markdown",
   "metadata": {},
   "source": [
    "The average accuracy is 52.66% for coarse and fine label based single multi-output neural net model, which is more than single output models by more than 20%."
   ]
  }
 ],
 "metadata": {
  "kernelspec": {
   "display_name": "Python 2",
   "language": "python",
   "name": "python2"
  },
  "language_info": {
   "codemirror_mode": {
    "name": "ipython",
    "version": 2
   },
   "file_extension": ".py",
   "mimetype": "text/x-python",
   "name": "python",
   "nbconvert_exporter": "python",
   "pygments_lexer": "ipython2",
   "version": "2.7.15"
  }
 },
 "nbformat": 4,
 "nbformat_minor": 2
}
